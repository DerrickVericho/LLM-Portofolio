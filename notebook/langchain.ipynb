{
 "cells": [
  {
   "cell_type": "code",
   "execution_count": null,
   "id": "3ca257cb",
   "metadata": {},
   "outputs": [
    {
     "data": {
      "text/plain": [
       "True"
      ]
     },
     "execution_count": 7,
     "metadata": {},
     "output_type": "execute_result"
    }
   ],
   "source": [
    "from dotenv import load_dotenv, find_dotenv\n",
    "from openai import OpenAI\n",
    "import os\n",
    "\n",
    "from langchain_ollama import ChatOllama\n",
    "from langchain_core.prompts import PromptTemplate, ChatPromptTemplate\n",
    "from langchain_core.output_parsers import StrOutputParser\n",
    "from langchain.chains import LLMChain, SimpleSequentialChain, SequentialChain\n",
    "from langchain.memory import ConversationBufferMemory\n",
    "from langchain.schema import HumanMessage, AIMessage, SystemMessage\n",
    "from langchain.chat_models import ChatOpenAI\n",
    "\n",
    "from langchain_community.tools.tavily_search import TavilySearchResults\n",
    "\n",
    "from langsmith import traceable\n",
    "from langsmith.wrappers import wrap_openai\n",
    "\n",
    "\n",
    "load_dotenv(find_dotenv(), override=True)"
   ]
  },
  {
   "cell_type": "markdown",
   "id": "7f721c2a",
   "metadata": {},
   "source": [
    "## QuickStart"
   ]
  },
  {
   "cell_type": "code",
   "execution_count": 66,
   "id": "c73d7449",
   "metadata": {},
   "outputs": [
    {
     "name": "stdout",
     "output_type": "stream",
     "text": [
      "U.S. Treasury securities are debt instruments issued by the Department of the Treasury to finance the federal government's operations. They are considered some of the safest investments because they are backed by the full faith and credit of the United States government. There are several types of Treasury securities, including Treasury bonds and Treasury bills, each with distinct characteristics.\n",
      "\n",
      "### Treasury Bonds\n",
      "\n",
      "- **Maturity**: Treasury bonds have the longest maturity among Treasury securities, typically ranging from 20 to 30 years.\n",
      "- **Interest Payments**: They pay a fixed interest rate, also known as a coupon, every six months until maturity.\n",
      "- **Purpose**: They are often used by investors seeking a long-term, fixed-income investment.\n",
      "- **Risk**: While considered very safe, they carry interest rate risk, meaning their market value can fluctuate with changes in interest rates.\n",
      "\n",
      "### Treasury Bills\n",
      "\n",
      "- **Maturity**: Treasury bills, or T-bills, are short-term securities with maturities ranging from a few days to one year.\n",
      "- **Interest Payments**: Instead of paying periodic interest, T-bills are sold at a discount to their face value, and the investor receives the full face value at maturity. The difference between the purchase price and the face value represents the interest earned.\n",
      "- **Purpose**: They are commonly used by investors looking for a safe place to park cash for short periods.\n",
      "- **Risk**: Due to their short duration, T-bills are subject to less interest rate risk compared to longer-term securities.\n",
      "\n",
      "### Key Differences\n",
      "\n",
      "1. **Maturity**: The primary difference lies in the maturity period—bonds are long-term (20-30 years), while bills are short-term (up to 1 year).\n",
      "2. **Interest Payments**: Bonds pay semi-annual interest, whereas bills are sold at a discount and do not pay periodic interest.\n",
      "3. **Investment Goals**: Bonds are suited for long-term income generation, whereas bills are ideal for short-term liquidity needs.\n",
      "4. **Price Sensitivity**: Bonds are more sensitive to interest rate changes due to their longer duration, while bills are less affected.\n",
      "\n",
      "Both Treasury bonds and bills serve as important tools for different investment strategies and risk management, offering safety and liquidity to varying degrees.\n"
     ]
    }
   ],
   "source": [
    "llm = ChatOpenAI(model_name = \"gpt-4o\")\n",
    "messages = [\n",
    "    SystemMessage(content=\"You are an expert fund manager with a deep understanding of financial instruments and investment strategies.\"),\n",
    "    HumanMessage(content=\"What is US Treasury Bonds? and whats the difference with bills?\"),\n",
    "]\n",
    "\n",
    "response = llm.invoke(messages)\n",
    "print(response.content)"
   ]
  },
  {
   "cell_type": "code",
   "execution_count": 57,
   "id": "37d82f4e",
   "metadata": {},
   "outputs": [
    {
     "name": "stdout",
     "output_type": "stream",
     "text": [
      "Explain the concept of US Treasury Bonds in simply way\n"
     ]
    }
   ],
   "source": [
    "template = \"Explain the concept of {concept} in simply way\"\n",
    "prompt = PromptTemplate(\n",
    "    input_variables=[\"concept\"],\n",
    "    template=template\n",
    ")\n",
    "\n",
    "prompt_messages = prompt.format(concept=\"US Treasury Bonds\")\n",
    "print(prompt_messages)"
   ]
  },
  {
   "cell_type": "code",
   "execution_count": 60,
   "id": "5de6e74f",
   "metadata": {},
   "outputs": [],
   "source": [
    "def chat(message):\n",
    "    llm = ChatOpenAI(model_name=\"gpt-4o-mini\")\n",
    "    messages = [\n",
    "        SystemMessage(content=\"You are an expert fund manager with a deep understanding of financial instruments and investment strategies.\"),\n",
    "        HumanMessage(content=message),\n",
    "    ]\n",
    "\n",
    "    response = llm.invoke(messages)\n",
    "    return response.content   "
   ]
  },
  {
   "cell_type": "code",
   "execution_count": 61,
   "id": "0af98052",
   "metadata": {},
   "outputs": [
    {
     "data": {
      "text/plain": [
       "'Sure! U.S. Treasury Bonds are basically loans that you can give to the U.S. government. Here’s how it works in simple terms:\\n\\n1. **Borrowing Money**: When the government needs money to pay for things like roads, schools, or military, it borrows money by issuing Treasury Bonds.\\n\\n2. **Buying Bonds**: When you buy a Treasury Bond, you are lending money to the government. In return, the government promises to pay you back the amount you lent (the principal) plus interest.\\n\\n3. **Interest Payments**: Treasury Bonds pay interest, called the coupon rate, every six months until the bond matures. This means you get regular payments as a reward for lending your money.\\n\\n4. **Maturity**: Treasury Bonds usually have a long-term maturity, typically ranging from 10 to 30 years. This means the government will return your principal back to you at the end of that period.\\n\\n5. **Safety**: U.S. Treasury Bonds are considered very safe investments because they are backed by the \"full faith and credit\" of the U.S. government. It’s highly unlikely that the government would default on its debt.\\n\\n6. **Market Trading**: You can buy and sell Treasury Bonds in the secondary market, which means their prices can change based on interest rates and other economic factors.\\n\\nIn summary, U.S. Treasury Bonds are a way for the government to borrow money, and they provide investors with a relatively safe investment option that pays interest over time.'"
      ]
     },
     "execution_count": 61,
     "metadata": {},
     "output_type": "execute_result"
    }
   ],
   "source": [
    "chat(prompt_messages)"
   ]
  },
  {
   "cell_type": "code",
   "execution_count": null,
   "id": "3187f683",
   "metadata": {},
   "outputs": [
    {
     "data": {
      "text/plain": [
       "{'concept': 'US Treasury Bonds',\n",
       " 'text': 'US Treasury Bonds are a type of long-term government debt issued by the United States Department of the Treasury. They are essentially loans that investors give to the US government in exchange for periodic interest payments and the return of the bond\\'s face value when it matures. Here\\'s a simple breakdown:\\n\\n1. **Issuer**: The US government issues these bonds to raise money for various expenses, including infrastructure, public services, and paying off existing debt.\\n\\n2. **Maturity**: Treasury Bonds typically have a long maturity period, often 20 to 30 years. This means the government agrees to pay back the full amount borrowed (the principal) after this period.\\n\\n3. **Interest Payments**: Investors receive interest payments, known as coupon payments, every six months. The interest rate is fixed when the bond is issued.\\n\\n4. **Safety**: These bonds are considered one of the safest investments because they are backed by the \"full faith and credit\" of the US government, which has a strong track record of repaying its debts.\\n\\n5. **Market**: While they are initially sold in auctions, Treasury Bonds can also be bought and sold in the secondary market, allowing investors to trade them before maturity.\\n\\nIn summary, US Treasury Bonds are a secure way for individuals and institutions to earn a steady interest income while lending money to the US government over the long term.'}"
      ]
     },
     "execution_count": 68,
     "metadata": {},
     "output_type": "execute_result"
    }
   ],
   "source": [
    "chain = LLMChain(llm=llm, prompt=prompt)\n",
    "chain.invoke(\"US Treasury Bonds\")  # Example usage of the chain"
   ]
  },
  {
   "cell_type": "code",
   "execution_count": 73,
   "id": "4e37e286",
   "metadata": {},
   "outputs": [],
   "source": [
    "second_prompt = PromptTemplate(\n",
    "    input_variables=[\"concept\"],\n",
    "    template=\"Explain the concept of {concept} like im 5\"\n",
    ")\n",
    "\n",
    "chain_2 = LLMChain(llm=llm, prompt=second_prompt)"
   ]
  },
  {
   "cell_type": "code",
   "execution_count": 74,
   "id": "dbf784fe",
   "metadata": {},
   "outputs": [
    {
     "name": "stdout",
     "output_type": "stream",
     "text": [
      "\n",
      "\n",
      "\u001b[1m> Entering new SimpleSequentialChain chain...\u001b[0m\n",
      "\u001b[36;1m\u001b[1;3mU.S. Treasury Bonds are essentially loans that you give to the U.S. government. When you purchase a Treasury Bond, you are lending the government money. In return, the government promises to pay you back the full amount of the loan (the principal) on a specific date in the future, which is usually 20 or 30 years from when the bond is issued.\n",
      "\n",
      "While you hold the bond, the government also pays you interest, usually every six months. This interest is a way to reward you for lending them your money. The rate of this interest is fixed when you buy the bond, meaning it won't change over the life of the bond.\n",
      "\n",
      "Treasury Bonds are considered very safe investments because they are backed by the \"full faith and credit\" of the U.S. government, which has a long history of repaying its debts. Because of their safety, the interest rates on Treasury Bonds are typically lower than those of riskier investments.\u001b[0m\n",
      "\u001b[33;1m\u001b[1;3mSure! Imagine you have a piggy bank, and you decide to let a friend borrow some of your coins. In return, your friend promises to give you all your coins back after a long time, like when you're a much bigger kid. This is kind of like what happens with U.S. Treasury Bonds.\n",
      "\n",
      "When you buy a Treasury Bond, it's like giving your coins to the U.S. government. They promise to give all your coins back after a set time, like 20 or 30 years. While you're waiting, every now and then, they give you a little extra coin as a \"thank you\" for letting them use your coins. This extra coin is called interest, and you get it every six months.\n",
      "\n",
      "People like these bonds because they trust the U.S. government to give their money back. It's a safe way to save coins for the future, even if it doesn't give you as many extra coins as some other places might.\u001b[0m\n",
      "\n",
      "\u001b[1m> Finished chain.\u001b[0m\n"
     ]
    },
    {
     "data": {
      "text/plain": [
       "{'input': 'US Treasury Bonds',\n",
       " 'output': 'Sure! Imagine you have a piggy bank, and you decide to let a friend borrow some of your coins. In return, your friend promises to give you all your coins back after a long time, like when you\\'re a much bigger kid. This is kind of like what happens with U.S. Treasury Bonds.\\n\\nWhen you buy a Treasury Bond, it\\'s like giving your coins to the U.S. government. They promise to give all your coins back after a set time, like 20 or 30 years. While you\\'re waiting, every now and then, they give you a little extra coin as a \"thank you\" for letting them use your coins. This extra coin is called interest, and you get it every six months.\\n\\nPeople like these bonds because they trust the U.S. government to give their money back. It\\'s a safe way to save coins for the future, even if it doesn\\'t give you as many extra coins as some other places might.'}"
      ]
     },
     "execution_count": 74,
     "metadata": {},
     "output_type": "execute_result"
    }
   ],
   "source": [
    "all_chain = SimpleSequentialChain(chains = [chain, chain_2], verbose=True)\n",
    "all_chain.invoke(\"US Treasury Bonds\")  # Example usage of the sequential chain"
   ]
  },
  {
   "cell_type": "code",
   "execution_count": 4,
   "id": "c3334f3a",
   "metadata": {},
   "outputs": [],
   "source": [
    "llm = ChatOllama(model=\"llama3.2\")\n",
    "messages = [\n",
    "    SystemMessage(content=\"You are an expert fund manager with a deep understanding of financial instruments and investment strategies.\"),\n",
    "    HumanMessage(content=\"What is US Treasury Bonds? and whats the difference with bills?\"),\n",
    "]\n",
    "\n",
    "# response = llm.invoke(messages)\n",
    "# print(response.content)"
   ]
  },
  {
   "cell_type": "code",
   "execution_count": null,
   "id": "2ecac684",
   "metadata": {},
   "outputs": [
    {
     "name": "stdout",
     "output_type": "stream",
     "text": [
      "\n",
      "\n",
      "\u001b[1m> Entering new SequentialChain chain...\u001b[0m\n",
      "\n",
      "\n",
      "\u001b[1m> Entering new LLMChain chain...\u001b[0m\n",
      "Prompt after formatting:\n",
      "\u001b[32;1m\u001b[1;3mExplain the concept of Bitcoin in simply way\u001b[0m\n",
      "\n",
      "\u001b[1m> Finished chain.\u001b[0m\n",
      "\n",
      "\n",
      "\u001b[1m> Entering new LLMChain chain...\u001b[0m\n",
      "Prompt after formatting:\n",
      "\u001b[32;1m\u001b[1;3mSummarize the explanation of Bitcoin is a digital currency that uses cryptography (secret codes) to secure and verify transactions. Here's a simplified explanation:\n",
      "\n",
      "**What is Bitcoin?**\n",
      "\n",
      "Bitcoin is a type of money that exists only on computers and phones. It's like the money in your wallet, but instead of physical coins and bills, it's made of computer code.\n",
      "\n",
      "**How does it work?**\n",
      "\n",
      "1. **Mining**: New Bitcoins are created through a process called \"mining,\" which involves solving complex math problems using powerful computers.\n",
      "2. **Transactions**: When someone wants to send Bitcoin to another person, they create a transaction and broadcast it to the entire network of computers that use the Bitcoin system.\n",
      "3. **Verification**: Special nodes on the network verify the transaction to ensure it's legitimate and follow the rules.\n",
      "4. **Blockchain**: The verified transactions are stored in a public ledger called the blockchain, which is like a digital bookkeeping system.\n",
      "\n",
      "**Key characteristics:**\n",
      "\n",
      "1. **Decentralized**: Bitcoin isn't controlled by any government or institution.\n",
      "2. **Digital**: It exists only on computers and phones.\n",
      "3. **Limited supply**: There will never be more than 21 million Bitcoins in existence.\n",
      "4. **Secure**: Transactions are encrypted using complex cryptography.\n",
      "\n",
      "**How is Bitcoin used?**\n",
      "\n",
      "1. **Buying goods**: You can use Bitcoin to buy things online, like products or services from merchants who accept it.\n",
      "2. **Investment**: Some people buy and hold onto Bitcoin hoping its value will increase over time.\n",
      "3. **Payments**: Bitcoin can be used for everyday transactions, like paying bills or sending money to friends.\n",
      "\n",
      "That's a basic overview of Bitcoin! in a concise manner\u001b[0m\n",
      "\n",
      "\u001b[1m> Finished chain.\u001b[0m\n",
      "\n",
      "\u001b[1m> Finished chain.\u001b[0m\n"
     ]
    },
    {
     "data": {
      "text/plain": [
       "{'topic': 'Bitcoin',\n",
       " 'concept': 'Bitcoin is a digital currency that uses cryptography (secret codes) to secure and verify transactions. Here\\'s a simplified explanation:\\n\\n**What is Bitcoin?**\\n\\nBitcoin is a type of money that exists only on computers and phones. It\\'s like the money in your wallet, but instead of physical coins and bills, it\\'s made of computer code.\\n\\n**How does it work?**\\n\\n1. **Mining**: New Bitcoins are created through a process called \"mining,\" which involves solving complex math problems using powerful computers.\\n2. **Transactions**: When someone wants to send Bitcoin to another person, they create a transaction and broadcast it to the entire network of computers that use the Bitcoin system.\\n3. **Verification**: Special nodes on the network verify the transaction to ensure it\\'s legitimate and follow the rules.\\n4. **Blockchain**: The verified transactions are stored in a public ledger called the blockchain, which is like a digital bookkeeping system.\\n\\n**Key characteristics:**\\n\\n1. **Decentralized**: Bitcoin isn\\'t controlled by any government or institution.\\n2. **Digital**: It exists only on computers and phones.\\n3. **Limited supply**: There will never be more than 21 million Bitcoins in existence.\\n4. **Secure**: Transactions are encrypted using complex cryptography.\\n\\n**How is Bitcoin used?**\\n\\n1. **Buying goods**: You can use Bitcoin to buy things online, like products or services from merchants who accept it.\\n2. **Investment**: Some people buy and hold onto Bitcoin hoping its value will increase over time.\\n3. **Payments**: Bitcoin can be used for everyday transactions, like paying bills or sending money to friends.\\n\\nThat\\'s a basic overview of Bitcoin!',\n",
       " 'summary': \"Here is a concise summary:\\n\\nBitcoin is a digital currency that uses cryptography to secure and verify transactions. Key characteristics include:\\n\\n* Decentralized and limited supply (21 million)\\n* Digital existence on computers and phones\\n* Secure with complex encryption\\n* Transactions are verified through the blockchain, a public ledger.\\n\\nUses of Bitcoin include:\\n\\n* Buying goods online\\n* Investment for potential value increase\\n* Everyday transactions like paying bills or sending money\\n\\nLet me know if you'd like any further clarification!\"}"
      ]
     },
     "execution_count": 7,
     "metadata": {},
     "output_type": "execute_result"
    }
   ],
   "source": [
    "topic_memory = ConversationBufferMemory(input_key=\"topic\", memory_key=\"topic_memory\") # We also can use same memory_key\n",
    "concept_memory = ConversationBufferMemory(input_key=\"concept\", memory_key=\"concept_memory\")\n",
    "\n",
    "prompt1 = PromptTemplate(\n",
    "    input_variables=[\"topic\"],\n",
    "    template=\"Explain the concept of {topic} in simply way\"\n",
    ")\n",
    "chain1 = LLMChain(llm=llm, prompt=prompt1, verbose=True, output_key=\"concept\", memory=topic_memory)\n",
    "\n",
    "prompt2 = PromptTemplate(\n",
    "    input_variables=[\"concept\"],\n",
    "    template=\"Summarize the explanation of {concept} in a concise manner\"\n",
    ")\n",
    "chain2 = LLMChain(llm=llm, prompt=prompt2, verbose=True, output_key=\"summary\", memory=concept_memory)\n",
    "\n",
    "parent_chain = SequentialChain(chains=[chain1, chain2], input_variables=[\"topic\"], output_variables=[\"concept\", \"summary\"], verbose=True)\n",
    "parent_chain.invoke({\"topic\": \"Bitcoin\"})"
   ]
  },
  {
   "cell_type": "code",
   "execution_count": 10,
   "id": "43d3140d",
   "metadata": {},
   "outputs": [
    {
     "name": "stdout",
     "output_type": "stream",
     "text": [
      "Human: Bitcoin\n",
      "AI: Bitcoin is a digital currency that uses cryptography (secret codes) to secure and verify transactions. Here's a simplified explanation:\n",
      "\n",
      "**What is Bitcoin?**\n",
      "\n",
      "Bitcoin is a type of money that exists only on computers and phones. It's like the money in your wallet, but instead of physical coins and bills, it's made of computer code.\n",
      "\n",
      "**How does it work?**\n",
      "\n",
      "1. **Mining**: New Bitcoins are created through a process called \"mining,\" which involves solving complex math problems using powerful computers.\n",
      "2. **Transactions**: When someone wants to send Bitcoin to another person, they create a transaction and broadcast it to the entire network of computers that use the Bitcoin system.\n",
      "3. **Verification**: Special nodes on the network verify the transaction to ensure it's legitimate and follow the rules.\n",
      "4. **Blockchain**: The verified transactions are stored in a public ledger called the blockchain, which is like a digital bookkeeping system.\n",
      "\n",
      "**Key characteristics:**\n",
      "\n",
      "1. **Decentralized**: Bitcoin isn't controlled by any government or institution.\n",
      "2. **Digital**: It exists only on computers and phones.\n",
      "3. **Limited supply**: There will never be more than 21 million Bitcoins in existence.\n",
      "4. **Secure**: Transactions are encrypted using complex cryptography.\n",
      "\n",
      "**How is Bitcoin used?**\n",
      "\n",
      "1. **Buying goods**: You can use Bitcoin to buy things online, like products or services from merchants who accept it.\n",
      "2. **Investment**: Some people buy and hold onto Bitcoin hoping its value will increase over time.\n",
      "3. **Payments**: Bitcoin can be used for everyday transactions, like paying bills or sending money to friends.\n",
      "\n",
      "That's a basic overview of Bitcoin!\n",
      "Human: Ethereum\n",
      "AI: Ethereum is a type of computer program called a \"blockchain\" that allows people to create, buy, and sell things online. Here's how it works:\n",
      "\n",
      "**Imagine a digital notebook**\n",
      "\n",
      "Think of Ethereum like a digital notebook where you can write down all sorts of information, such as:\n",
      "\n",
      "* Who owns what\n",
      "* Where something is located\n",
      "* How much something costs\n",
      "\n",
      "But instead of just being a notebook, this digital notebook is special because it's:\n",
      "\n",
      "* **Public**: Anyone can see the information in the notebook.\n",
      "* **Secure**: The notebook is locked with special codes that make it hard to alter or delete anything.\n",
      "* **Decentralized**: There are many notebooks (called \"nodes\") all around the world, and each one has a copy of the notebook.\n",
      "\n",
      "**How do people use Ethereum?**\n",
      "\n",
      "When someone wants to buy something online, like a digital item or a service, they can use Ethereum's \"cryptocurrency\" called Ether. Here's how it works:\n",
      "\n",
      "* When you want to make a purchase, your phone or computer uses some of your Ether money to send the request to the notebook.\n",
      "* The notebook checks if there's enough Ether in your account and if the person selling the item has agreed to sell it to you.\n",
      "* If everything is good, the notebook updates with the new information (like \"you now own this digital item\").\n",
      "* You receive a special code called an \"IPFS hash\" which allows you to access the digital item.\n",
      "\n",
      "**What's Ethereum used for?**\n",
      "\n",
      "Ethereum is used for many things, such as:\n",
      "\n",
      "* Creating digital art and collectibles\n",
      "* Building online games and platforms\n",
      "* Facilitating smart contracts (automatic agreements between two parties)\n",
      "* Enabling decentralized applications (dApps)\n",
      "\n",
      "In short, Ethereum is a powerful tool that allows people to create, buy, sell, and manage digital assets in a secure, public, and decentralized way.\n",
      "Human: Bitcoin is a digital currency that uses cryptography (secret codes) to secure and verify transactions. Here's a simplified explanation:\n",
      "\n",
      "**What is Bitcoin?**\n",
      "\n",
      "Bitcoin is a type of money that exists only on computers and phones. It's like the money in your wallet, but instead of physical coins and bills, it's made of computer code.\n",
      "\n",
      "**How does it work?**\n",
      "\n",
      "1. **Mining**: New Bitcoins are created through a process called \"mining,\" which involves solving complex math problems using powerful computers.\n",
      "2. **Transactions**: When someone wants to send Bitcoin to another person, they create a transaction and broadcast it to the entire network of computers that use the Bitcoin system.\n",
      "3. **Verification**: Special nodes on the network verify the transaction to ensure it's legitimate and follow the rules.\n",
      "4. **Blockchain**: The verified transactions are stored in a public ledger called the blockchain, which is like a digital bookkeeping system.\n",
      "\n",
      "**Key characteristics:**\n",
      "\n",
      "1. **Decentralized**: Bitcoin isn't controlled by any government or institution.\n",
      "2. **Digital**: It exists only on computers and phones.\n",
      "3. **Limited supply**: There will never be more than 21 million Bitcoins in existence.\n",
      "4. **Secure**: Transactions are encrypted using complex cryptography.\n",
      "\n",
      "**How is Bitcoin used?**\n",
      "\n",
      "1. **Buying goods**: You can use Bitcoin to buy things online, like products or services from merchants who accept it.\n",
      "2. **Investment**: Some people buy and hold onto Bitcoin hoping its value will increase over time.\n",
      "3. **Payments**: Bitcoin can be used for everyday transactions, like paying bills or sending money to friends.\n",
      "\n",
      "That's a basic overview of Bitcoin!\n",
      "AI: Here is a concise summary:\n",
      "\n",
      "Bitcoin is a digital currency that uses cryptography to secure and verify transactions. Key characteristics include:\n",
      "\n",
      "* Decentralized and limited supply (21 million)\n",
      "* Digital existence on computers and phones\n",
      "* Secure with complex encryption\n",
      "* Transactions are verified through the blockchain, a public ledger.\n",
      "\n",
      "Uses of Bitcoin include:\n",
      "\n",
      "* Buying goods online\n",
      "* Investment for potential value increase\n",
      "* Everyday transactions like paying bills or sending money\n",
      "\n",
      "Let me know if you'd like any further clarification!\n",
      "Human: Ethereum is a type of computer program called a \"blockchain\" that allows people to create, buy, and sell things online. Here's how it works:\n",
      "\n",
      "**Imagine a digital notebook**\n",
      "\n",
      "Think of Ethereum like a digital notebook where you can write down all sorts of information, such as:\n",
      "\n",
      "* Who owns what\n",
      "* Where something is located\n",
      "* How much something costs\n",
      "\n",
      "But instead of just being a notebook, this digital notebook is special because it's:\n",
      "\n",
      "* **Public**: Anyone can see the information in the notebook.\n",
      "* **Secure**: The notebook is locked with special codes that make it hard to alter or delete anything.\n",
      "* **Decentralized**: There are many notebooks (called \"nodes\") all around the world, and each one has a copy of the notebook.\n",
      "\n",
      "**How do people use Ethereum?**\n",
      "\n",
      "When someone wants to buy something online, like a digital item or a service, they can use Ethereum's \"cryptocurrency\" called Ether. Here's how it works:\n",
      "\n",
      "* When you want to make a purchase, your phone or computer uses some of your Ether money to send the request to the notebook.\n",
      "* The notebook checks if there's enough Ether in your account and if the person selling the item has agreed to sell it to you.\n",
      "* If everything is good, the notebook updates with the new information (like \"you now own this digital item\").\n",
      "* You receive a special code called an \"IPFS hash\" which allows you to access the digital item.\n",
      "\n",
      "**What's Ethereum used for?**\n",
      "\n",
      "Ethereum is used for many things, such as:\n",
      "\n",
      "* Creating digital art and collectibles\n",
      "* Building online games and platforms\n",
      "* Facilitating smart contracts (automatic agreements between two parties)\n",
      "* Enabling decentralized applications (dApps)\n",
      "\n",
      "In short, Ethereum is a powerful tool that allows people to create, buy, sell, and manage digital assets in a secure, public, and decentralized way.\n",
      "AI: Here's a summary:\n",
      "\n",
      "Ethereum is a blockchain-based system that enables the creation, buying, and selling of digital assets online. It works like a digital notebook where information is stored securely, publicly, and across multiple nodes worldwide.\n",
      "\n",
      "Users can purchase Ether cryptocurrency to make online transactions, which are verified by the notebook. Once confirmed, the notebook updates with new information, and users receive an IPFS hash code to access their digital assets.\n",
      "\n",
      "Ethereum is used for various applications, including:\n",
      "\n",
      "* Creating digital art and collectibles\n",
      "* Building online games and platforms\n",
      "* Facilitating smart contracts\n",
      "* Enabling decentralized applications (dApps)\n",
      "\n",
      "In essence, Ethereum provides a secure, public, and decentralized way to manage digital assets.\n"
     ]
    }
   ],
   "source": [
    "print(topic_memory.buffer)\n",
    "print(concept_memory.buffer)"
   ]
  },
  {
   "cell_type": "markdown",
   "id": "186e4dea",
   "metadata": {},
   "source": [
    "## Langsmith"
   ]
  },
  {
   "cell_type": "markdown",
   "id": "d9c19a99",
   "metadata": {},
   "source": [
    "### Quickstart"
   ]
  },
  {
   "cell_type": "code",
   "execution_count": 4,
   "id": "69c8a6e2",
   "metadata": {},
   "outputs": [],
   "source": [
    "prompt = ChatPromptTemplate.from_messages(\n",
    "    [\n",
    "        (\"system\", \"You are a helpful assistant.\"),\n",
    "        (\"human\", \"{question}\"),\n",
    "    ]\n",
    ")"
   ]
  },
  {
   "cell_type": "code",
   "execution_count": 5,
   "id": "1473793f",
   "metadata": {},
   "outputs": [
    {
     "name": "stderr",
     "output_type": "stream",
     "text": [
      "C:\\Users\\asus\\AppData\\Local\\Temp\\ipykernel_31316\\2753955043.py:1: LangChainDeprecationWarning: The class `ChatOpenAI` was deprecated in LangChain 0.0.10 and will be removed in 1.0. An updated version of the class exists in the :class:`~langchain-openai package and should be used instead. To use it run `pip install -U :class:`~langchain-openai` and import as `from :class:`~langchain_openai import ChatOpenAI``.\n",
      "  llm = ChatOpenAI(model_name=\"gpt-4o-mini\")\n"
     ]
    },
    {
     "data": {
      "text/plain": [
       "\"Market makers play a crucial role in providing liquidity to financial markets by being ready to buy and sell assets at any time. While they operate under a regulated framework, there are concerns and accusations regarding their potential to manipulate the order book. Here are some ways that market makers might engage in practices that could be seen as manipulative, although it’s important to note that not all market makers engage in such practices, and many operate within legal and ethical guidelines:\\n\\n1. **Order Spoofing**: Market makers might place large orders that they have no intention of executing to create a false impression of demand or supply. This can mislead other traders about the true market conditions, causing them to react in ways that benefit the market maker.\\n\\n2. **Quote Stuffing**: This involves rapidly placing and canceling orders to create confusion and latency in the market. By overwhelming the order book with orders, a market maker can manipulate the perception of liquidity and price movements.\\n\\n3. **Price Painting**: Market makers may execute trades at specific prices to create the illusion of stability or to influence the closing price of a security. This can impact the valuations of options or other derivatives tied to the stock.\\n\\n4. **Filling Orders at Different Prices**: Market makers may have the ability to fill orders at prices that are not optimal for the original order, especially in fast-moving markets. This can lead to larger spreads and can be seen as a disadvantage to retail traders.\\n\\n5. **Front Running**: If a market maker has access to information about large pending orders from other traders, they might execute their own trades in advance of those orders to profit from the subsequent price movements.\\n\\n6. **Baiting Orders**: Market makers could place orders just below or above the market price to entice other traders to execute their trades, thus allowing the market maker to profit from the subsequent price movements.\\n\\n7. **Controlling the Spread**: By manipulating the bid-ask spread, market makers can influence how much profit they make from trades, potentially at the expense of other traders who may not get the best prices.\\n\\nWhile these practices can be seen as manipulative, it's important to recognize that not all market makers engage in such behavior, and regulatory bodies monitor trading activities to prevent manipulation. Many market makers provide essential liquidity and stability to financial markets, which can benefit all participants. Regulatory measures are in place to detect and penalize manipulative behavior, and firms that engage in such practices risk severe penalties, including fines and bans from trading.\""
      ]
     },
     "execution_count": 5,
     "metadata": {},
     "output_type": "execute_result"
    }
   ],
   "source": [
    "llm = ChatOpenAI(model_name=\"gpt-4o-mini\")\n",
    "chain = prompt | llm | StrOutputParser()\n",
    "chain.invoke({\"question\": \"How do market maker somehow manipulate order bool?\"})"
   ]
  },
  {
   "cell_type": "markdown",
   "id": "caa90ef8",
   "metadata": {},
   "source": [
    "### Traceable"
   ]
  },
  {
   "cell_type": "code",
   "execution_count": 16,
   "id": "a528f757",
   "metadata": {},
   "outputs": [],
   "source": [
    "web_search_tool = TavilySearchResults(max_results=1)\n",
    "openai_client = wrap_openai(OpenAI())"
   ]
  },
  {
   "cell_type": "code",
   "execution_count": 36,
   "id": "504ec347",
   "metadata": {},
   "outputs": [],
   "source": [
    "@traceable\n",
    "def question_context(question: str):\n",
    "    content = web_search_tool.invoke(question)\n",
    "    context = \"\\n\".join([web[\"content\"] for web in content])\n",
    "    return context\n",
    "\n",
    "@traceable\n",
    "def ask_question(question: str):\n",
    "    context = question_context(question)\n",
    "    \n",
    "    system_message = \"\"\"\n",
    "    Give explanation in a simple way to curious high school student in challenging mindset based on the context below.\n",
    "    Context: {context}\n",
    "    \n",
    "    \"\"\"\n",
    "    \n",
    "    prompt = ChatPromptTemplate.from_messages(\n",
    "    [\n",
    "        (\"system\", system_message),\n",
    "        (\"human\", \"{question}\"),\n",
    "    ])\n",
    "    \n",
    "    llm = ChatOpenAI(model_name=\"gpt-4o-mini\")\n",
    "    chain = prompt | llm | StrOutputParser()\n",
    "    \n",
    "    \n",
    "    return chain.invoke({\"question\": question, \"context\": context})\n"
   ]
  },
  {
   "cell_type": "code",
   "execution_count": 37,
   "id": "fd99168b",
   "metadata": {},
   "outputs": [
    {
     "data": {
      "text/plain": [
       "\"Great question! Let’s break it down simply.\\n\\nInterest rates are like the cost of borrowing money. When the Federal Reserve (which is like the bank for banks) changes these rates, it can have a big impact on how people and businesses spend money, which in turn affects the stock market.\\n\\n1. **When Interest Rates Go Down**: If the Federal Reserve lowers interest rates, it becomes cheaper to borrow money. This means that people and businesses are more likely to take out loans to buy things or invest in new projects. As spending increases, businesses can earn more money, which often leads to higher stock prices. So, when interest rates drop, the stock market usually goes up.\\n\\n2. **When Interest Rates Go Up**: On the flip side, when the Federal Reserve raises interest rates, borrowing becomes more expensive. This can make people and businesses think twice about spending money. If they cut back on spending, businesses might make less money, and this can lead to lower stock prices. So, when interest rates rise, the stock market typically goes down.\\n\\n3. **Investor Psychology**: It's also important to know that how investors feel about these changes plays a role. If they think rates will go up, they might get nervous and sell their stocks, causing prices to drop. Conversely, if they feel confident about lower rates, they might buy more stocks, pushing prices higher.\\n\\nSo, in summary: Lower interest rates usually help the stock market go up because people spend more, while higher interest rates tend to push the stock market down because spending slows down. But remember, the relationship isn't perfect, and other factors can also influence the market.\""
      ]
     },
     "execution_count": 37,
     "metadata": {},
     "output_type": "execute_result"
    }
   ],
   "source": [
    "ask_question(\"How do interest rate affect stock market?\")"
   ]
  },
  {
   "cell_type": "code",
   "execution_count": null,
   "id": "d73ba7a4",
   "metadata": {},
   "outputs": [],
   "source": []
  }
 ],
 "metadata": {
  "kernelspec": {
   "display_name": "llms",
   "language": "python",
   "name": "python3"
  },
  "language_info": {
   "codemirror_mode": {
    "name": "ipython",
    "version": 3
   },
   "file_extension": ".py",
   "mimetype": "text/x-python",
   "name": "python",
   "nbconvert_exporter": "python",
   "pygments_lexer": "ipython3",
   "version": "3.11.13"
  }
 },
 "nbformat": 4,
 "nbformat_minor": 5
}
