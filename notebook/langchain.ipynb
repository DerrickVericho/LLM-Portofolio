{
 "cells": [
  {
   "cell_type": "code",
   "execution_count": 1,
   "id": "3ca257cb",
   "metadata": {},
   "outputs": [
    {
     "data": {
      "text/plain": [
       "True"
      ]
     },
     "execution_count": 1,
     "metadata": {},
     "output_type": "execute_result"
    }
   ],
   "source": [
    "from dotenv import load_dotenv, find_dotenv\n",
    "import os\n",
    "\n",
    "from langchain.llms import OpenAI\n",
    "from langchain.schema import HumanMessage, AIMessage, SystemMessage\n",
    "from langchain.chat_models import ChatOpenAI\n",
    "from langchain.prompts import PromptTemplate\n",
    "from langchain.chains import LLMChain, SimpleSequentialChain\n",
    "\n",
    "load_dotenv(find_dotenv(), override=True)"
   ]
  },
  {
   "cell_type": "markdown",
   "id": "7f721c2a",
   "metadata": {},
   "source": [
    "## QuickStart"
   ]
  },
  {
   "cell_type": "code",
   "execution_count": 66,
   "id": "c73d7449",
   "metadata": {},
   "outputs": [
    {
     "name": "stdout",
     "output_type": "stream",
     "text": [
      "U.S. Treasury securities are debt instruments issued by the Department of the Treasury to finance the federal government's operations. They are considered some of the safest investments because they are backed by the full faith and credit of the United States government. There are several types of Treasury securities, including Treasury bonds and Treasury bills, each with distinct characteristics.\n",
      "\n",
      "### Treasury Bonds\n",
      "\n",
      "- **Maturity**: Treasury bonds have the longest maturity among Treasury securities, typically ranging from 20 to 30 years.\n",
      "- **Interest Payments**: They pay a fixed interest rate, also known as a coupon, every six months until maturity.\n",
      "- **Purpose**: They are often used by investors seeking a long-term, fixed-income investment.\n",
      "- **Risk**: While considered very safe, they carry interest rate risk, meaning their market value can fluctuate with changes in interest rates.\n",
      "\n",
      "### Treasury Bills\n",
      "\n",
      "- **Maturity**: Treasury bills, or T-bills, are short-term securities with maturities ranging from a few days to one year.\n",
      "- **Interest Payments**: Instead of paying periodic interest, T-bills are sold at a discount to their face value, and the investor receives the full face value at maturity. The difference between the purchase price and the face value represents the interest earned.\n",
      "- **Purpose**: They are commonly used by investors looking for a safe place to park cash for short periods.\n",
      "- **Risk**: Due to their short duration, T-bills are subject to less interest rate risk compared to longer-term securities.\n",
      "\n",
      "### Key Differences\n",
      "\n",
      "1. **Maturity**: The primary difference lies in the maturity period—bonds are long-term (20-30 years), while bills are short-term (up to 1 year).\n",
      "2. **Interest Payments**: Bonds pay semi-annual interest, whereas bills are sold at a discount and do not pay periodic interest.\n",
      "3. **Investment Goals**: Bonds are suited for long-term income generation, whereas bills are ideal for short-term liquidity needs.\n",
      "4. **Price Sensitivity**: Bonds are more sensitive to interest rate changes due to their longer duration, while bills are less affected.\n",
      "\n",
      "Both Treasury bonds and bills serve as important tools for different investment strategies and risk management, offering safety and liquidity to varying degrees.\n"
     ]
    }
   ],
   "source": [
    "llm = ChatOpenAI(model_name = \"gpt-4o\")\n",
    "messages = [\n",
    "    SystemMessage(content=\"You are an expert fund manager with a deep understanding of financial instruments and investment strategies.\"),\n",
    "    HumanMessage(content=\"What is US Treasury Bonds? and whats the difference with bills?\"),\n",
    "]\n",
    "\n",
    "response = llm.invoke(messages)\n",
    "print(response.content)"
   ]
  },
  {
   "cell_type": "code",
   "execution_count": 57,
   "id": "37d82f4e",
   "metadata": {},
   "outputs": [
    {
     "name": "stdout",
     "output_type": "stream",
     "text": [
      "Explain the concept of US Treasury Bonds in simply way\n"
     ]
    }
   ],
   "source": [
    "template = \"Explain the concept of {concept} in simply way\"\n",
    "prompt = PromptTemplate(\n",
    "    input_variables=[\"concept\"],\n",
    "    template=template\n",
    ")\n",
    "\n",
    "prompt_messages = prompt.format(concept=\"US Treasury Bonds\")\n",
    "print(prompt_messages)"
   ]
  },
  {
   "cell_type": "code",
   "execution_count": 60,
   "id": "5de6e74f",
   "metadata": {},
   "outputs": [],
   "source": [
    "def chat(message):\n",
    "    llm = ChatOpenAI(model_name=\"gpt-4o-mini\")\n",
    "    messages = [\n",
    "        SystemMessage(content=\"You are an expert fund manager with a deep understanding of financial instruments and investment strategies.\"),\n",
    "        HumanMessage(content=message),\n",
    "    ]\n",
    "\n",
    "    response = llm.invoke(messages)\n",
    "    return response.content   "
   ]
  },
  {
   "cell_type": "code",
   "execution_count": 61,
   "id": "0af98052",
   "metadata": {},
   "outputs": [
    {
     "data": {
      "text/plain": [
       "'Sure! U.S. Treasury Bonds are basically loans that you can give to the U.S. government. Here’s how it works in simple terms:\\n\\n1. **Borrowing Money**: When the government needs money to pay for things like roads, schools, or military, it borrows money by issuing Treasury Bonds.\\n\\n2. **Buying Bonds**: When you buy a Treasury Bond, you are lending money to the government. In return, the government promises to pay you back the amount you lent (the principal) plus interest.\\n\\n3. **Interest Payments**: Treasury Bonds pay interest, called the coupon rate, every six months until the bond matures. This means you get regular payments as a reward for lending your money.\\n\\n4. **Maturity**: Treasury Bonds usually have a long-term maturity, typically ranging from 10 to 30 years. This means the government will return your principal back to you at the end of that period.\\n\\n5. **Safety**: U.S. Treasury Bonds are considered very safe investments because they are backed by the \"full faith and credit\" of the U.S. government. It’s highly unlikely that the government would default on its debt.\\n\\n6. **Market Trading**: You can buy and sell Treasury Bonds in the secondary market, which means their prices can change based on interest rates and other economic factors.\\n\\nIn summary, U.S. Treasury Bonds are a way for the government to borrow money, and they provide investors with a relatively safe investment option that pays interest over time.'"
      ]
     },
     "execution_count": 61,
     "metadata": {},
     "output_type": "execute_result"
    }
   ],
   "source": [
    "chat(prompt_messages)"
   ]
  },
  {
   "cell_type": "code",
   "execution_count": null,
   "id": "3187f683",
   "metadata": {},
   "outputs": [
    {
     "data": {
      "text/plain": [
       "{'concept': 'US Treasury Bonds',\n",
       " 'text': 'US Treasury Bonds are a type of long-term government debt issued by the United States Department of the Treasury. They are essentially loans that investors give to the US government in exchange for periodic interest payments and the return of the bond\\'s face value when it matures. Here\\'s a simple breakdown:\\n\\n1. **Issuer**: The US government issues these bonds to raise money for various expenses, including infrastructure, public services, and paying off existing debt.\\n\\n2. **Maturity**: Treasury Bonds typically have a long maturity period, often 20 to 30 years. This means the government agrees to pay back the full amount borrowed (the principal) after this period.\\n\\n3. **Interest Payments**: Investors receive interest payments, known as coupon payments, every six months. The interest rate is fixed when the bond is issued.\\n\\n4. **Safety**: These bonds are considered one of the safest investments because they are backed by the \"full faith and credit\" of the US government, which has a strong track record of repaying its debts.\\n\\n5. **Market**: While they are initially sold in auctions, Treasury Bonds can also be bought and sold in the secondary market, allowing investors to trade them before maturity.\\n\\nIn summary, US Treasury Bonds are a secure way for individuals and institutions to earn a steady interest income while lending money to the US government over the long term.'}"
      ]
     },
     "execution_count": 68,
     "metadata": {},
     "output_type": "execute_result"
    }
   ],
   "source": [
    "chain = LLMChain(llm=llm, prompt=prompt)\n",
    "chain.invoke(\"US Treasury Bonds\")  # Example usage of the chain"
   ]
  },
  {
   "cell_type": "code",
   "execution_count": 73,
   "id": "4e37e286",
   "metadata": {},
   "outputs": [],
   "source": [
    "second_prompt = PromptTemplate(\n",
    "    input_variables=[\"concept\"],\n",
    "    template=\"Explain the concept of {concept} like im 5\"\n",
    ")\n",
    "\n",
    "chain_2 = LLMChain(llm=llm, prompt=second_prompt)"
   ]
  },
  {
   "cell_type": "code",
   "execution_count": 74,
   "id": "dbf784fe",
   "metadata": {},
   "outputs": [
    {
     "name": "stdout",
     "output_type": "stream",
     "text": [
      "\n",
      "\n",
      "\u001b[1m> Entering new SimpleSequentialChain chain...\u001b[0m\n",
      "\u001b[36;1m\u001b[1;3mU.S. Treasury Bonds are essentially loans that you give to the U.S. government. When you purchase a Treasury Bond, you are lending the government money. In return, the government promises to pay you back the full amount of the loan (the principal) on a specific date in the future, which is usually 20 or 30 years from when the bond is issued.\n",
      "\n",
      "While you hold the bond, the government also pays you interest, usually every six months. This interest is a way to reward you for lending them your money. The rate of this interest is fixed when you buy the bond, meaning it won't change over the life of the bond.\n",
      "\n",
      "Treasury Bonds are considered very safe investments because they are backed by the \"full faith and credit\" of the U.S. government, which has a long history of repaying its debts. Because of their safety, the interest rates on Treasury Bonds are typically lower than those of riskier investments.\u001b[0m\n",
      "\u001b[33;1m\u001b[1;3mSure! Imagine you have a piggy bank, and you decide to let a friend borrow some of your coins. In return, your friend promises to give you all your coins back after a long time, like when you're a much bigger kid. This is kind of like what happens with U.S. Treasury Bonds.\n",
      "\n",
      "When you buy a Treasury Bond, it's like giving your coins to the U.S. government. They promise to give all your coins back after a set time, like 20 or 30 years. While you're waiting, every now and then, they give you a little extra coin as a \"thank you\" for letting them use your coins. This extra coin is called interest, and you get it every six months.\n",
      "\n",
      "People like these bonds because they trust the U.S. government to give their money back. It's a safe way to save coins for the future, even if it doesn't give you as many extra coins as some other places might.\u001b[0m\n",
      "\n",
      "\u001b[1m> Finished chain.\u001b[0m\n"
     ]
    },
    {
     "data": {
      "text/plain": [
       "{'input': 'US Treasury Bonds',\n",
       " 'output': 'Sure! Imagine you have a piggy bank, and you decide to let a friend borrow some of your coins. In return, your friend promises to give you all your coins back after a long time, like when you\\'re a much bigger kid. This is kind of like what happens with U.S. Treasury Bonds.\\n\\nWhen you buy a Treasury Bond, it\\'s like giving your coins to the U.S. government. They promise to give all your coins back after a set time, like 20 or 30 years. While you\\'re waiting, every now and then, they give you a little extra coin as a \"thank you\" for letting them use your coins. This extra coin is called interest, and you get it every six months.\\n\\nPeople like these bonds because they trust the U.S. government to give their money back. It\\'s a safe way to save coins for the future, even if it doesn\\'t give you as many extra coins as some other places might.'}"
      ]
     },
     "execution_count": 74,
     "metadata": {},
     "output_type": "execute_result"
    }
   ],
   "source": [
    "all_chain = SimpleSequentialChain(chains = [chain, chain_2], verbose=True)\n",
    "all_chain.invoke(\"US Treasury Bonds\")  # Example usage of the sequential chain"
   ]
  },
  {
   "cell_type": "code",
   "execution_count": null,
   "id": "c3334f3a",
   "metadata": {},
   "outputs": [],
   "source": []
  },
  {
   "cell_type": "code",
   "execution_count": null,
   "id": "2ecac684",
   "metadata": {},
   "outputs": [],
   "source": []
  }
 ],
 "metadata": {
  "kernelspec": {
   "display_name": "llms",
   "language": "python",
   "name": "python3"
  },
  "language_info": {
   "codemirror_mode": {
    "name": "ipython",
    "version": 3
   },
   "file_extension": ".py",
   "mimetype": "text/x-python",
   "name": "python",
   "nbconvert_exporter": "python",
   "pygments_lexer": "ipython3",
   "version": "3.11.13"
  }
 },
 "nbformat": 4,
 "nbformat_minor": 5
}
