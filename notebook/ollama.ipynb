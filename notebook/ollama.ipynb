{
 "cells": [
  {
   "cell_type": "markdown",
   "id": "91bcb3b3",
   "metadata": {},
   "source": [
    "## Library and Environment"
   ]
  },
  {
   "cell_type": "code",
   "execution_count": 4,
   "id": "dcd2f05d",
   "metadata": {},
   "outputs": [
    {
     "data": {
      "text/plain": [
       "True"
      ]
     },
     "execution_count": 4,
     "metadata": {},
     "output_type": "execute_result"
    }
   ],
   "source": [
    "from openai import OpenAI\n",
    "import gradio as gr\n",
    "import os\n",
    "import re\n",
    "import json\n",
    "from dotenv import load_dotenv\n",
    "from IPython.display import display, Markdown, update_display\n",
    "load_dotenv()"
   ]
  },
  {
   "cell_type": "markdown",
   "id": "79e26c23",
   "metadata": {},
   "source": [
    "## GPT-Model"
   ]
  },
  {
   "cell_type": "code",
   "execution_count": null,
   "id": "584fe16a",
   "metadata": {},
   "outputs": [
    {
     "name": "stdout",
     "output_type": "stream",
     "text": [
      "OpenAI tidak “diciptakan” oleh satu orang saja, melainkan didirikan bersama pada Desember 2015 oleh sekelompok pengusaha dan peneliti, antara lain:  \n",
      "• Elon Musk  \n",
      "• Sam Altman  \n",
      "• Greg Brockman  \n",
      "• Ilya Sutskever  \n",
      "• Wojciech Zaremba  \n",
      "• John Schulman  \n",
      "\n",
      "Misi awal mereka: mengembangkan kecerdasan buatan (AI) dengan cara terbuka dan bertanggung jawab demi manfaat seluas-luasnya bagi umat manusia.\n"
     ]
    }
   ],
   "source": [
    "openai = OpenAI()\n",
    "\n",
    "response = openai.chat.completions.create(\n",
    "    model=\"o4-mini\",  # atau gunakan model lain seperti gpt-3.5\n",
    "    messages=[\n",
    "        {\"role\": \"system\", \"content\": \"Anda adalah asisten yang sangat membantu.\"},\n",
    "        {\"role\": \"user\", \"content\": \"Siapa yang menciptakan OpenAI?\"},\n",
    "    ]\n",
    ")\n",
    "\n",
    "# Menampilkan hasil respon\n",
    "print(response.choices[0].message.content)"
   ]
  },
  {
   "cell_type": "markdown",
   "id": "3ea884c3",
   "metadata": {},
   "source": [
    "## Normal chat models LLM"
   ]
  },
  {
   "cell_type": "code",
   "execution_count": 7,
   "id": "80581865",
   "metadata": {},
   "outputs": [
    {
     "name": "stdout",
     "output_type": "stream",
     "text": [
      "Using model: llama3.2\n"
     ]
    }
   ],
   "source": [
    "client = OpenAI(base_url=\"http://localhost:11434/v1\", api_key=\"ollama\")\n",
    "messages = [\n",
    "    {\"role\": \"system\", \"content\": \"Your are senior hedge fund analyst investment on stock market, you know the dark side of you like to think wisely before make any decision.\"},\n",
    "    {\"role\": \"user\", \"content\": \"What do you think about stock? Is it zero sum game?\"},\n",
    "]\n",
    "\n",
    "model = os.getenv(\"OLLAMA_MODEL\")\n",
    "# model = \"llama3.2\"\n",
    "\n",
    "print(f\"Using model: {model}\")\n",
    "\n",
    "response = client.chat.completions.create(\n",
    "    model = model,\n",
    "    messages = messages,\n",
    "    temperature = 0.7\n",
    ")\n",
    "\n",
    "# for stream\n",
    "# text = \"\"\n",
    "# for chunk in response:\n",
    "#     text += chunk.choices[0].delta.content or \"\"\n",
    "#     print(text)\n",
    "# result = response.choices[0].message.content"
   ]
  },
  {
   "cell_type": "code",
   "execution_count": 8,
   "id": "4dbe5f91",
   "metadata": {},
   "outputs": [
    {
     "data": {
      "text/plain": [
       "\"The age-old question: is the stock market a zero-sum game?\\n\\nAs a seasoned hedge fund analyst, I've given this topic plenty of thought. While it's not entirely accurate to label the stock market as a zero-sum game, there are certainly elements that suggest a zero-sum mentality can be prevalent.\\n\\nHere's my take:\\n\\n**The Zero-Sum Illusion:**\\n\\nIn a zero-sum game, one person's gain is always exactly balanced by another person's loss. The total value of the game remains constant, with no additional value being created or destroyed. In the context of the stock market, this might lead you to believe that someone's winning is inherently tied to someone else's losing.\\n\\nHowever, the reality is more nuanced:\\n\\n1. **Value creation:** While it's true that profits are often made by exploiting mispricings in the market (i.e., buying low and selling high), new businesses and innovations can create value that increases overall wealth.\\n2. **Growth and diversification:** The stock market allows for growth and diversification, enabling investors to allocate their capital across various asset classes, sectors, and geographies. This can lead to increased prosperity for all participants, not just the winners.\\n3. **Risk management:** A well-diversified portfolio can also serve as a risk management tool, reducing the likelihood that any one individual or entity will experience significant losses.\\n\\n**The Reality of Risk and Uncertainty:**\\n\\nWhile it's true that some investors may engage in high-risk, high-reward strategies that can lead to winners and losers, this doesn't necessarily mean that the market itself is a zero-sum game. The reality is:\\n\\n1. **Risk and uncertainty:** Investing always involves risk and uncertainty, which means there's no guarantee of success or failure.\\n2. **Market inefficiencies:** Markets are not perfect, and inefficiencies can create opportunities for smart investors to profit from mispricings.\\n3. **Regulatory environments:** Governments and regulatory bodies can influence market dynamics through policies and laws that aim to promote fairness, stability, and growth.\\n\\n**A More Accurate Perspective:**\\n\\nIn reality, the stock market is a complex system where:\\n\\n1. **Returns are distributed:** Profits and losses are not always evenly distributed; some investors may experience significant gains, while others may face substantial losses.\\n2. **Value creation is possible:** New businesses, innovations, and investments can create value that benefits all stakeholders.\\n3. **Risk management is essential:** Diversification, hedging, and other risk management strategies can help mitigate potential losses and increase overall stability.\\n\\nIn conclusion, while there are certainly elements of the stock market that suggest a zero-sum mentality (e.g., profiting from others' losses), it's not entirely accurate to label the market as such. The reality is more complex, with opportunities for value creation, growth, and diversification, all within a framework of risk management and regulatory oversight.\\n\\nHow about you? Do you see the stock market as a zero-sum game or a complex system with numerous variables at play?\""
      ]
     },
     "execution_count": 8,
     "metadata": {},
     "output_type": "execute_result"
    }
   ],
   "source": [
    "response.choices[0].message.content"
   ]
  },
  {
   "cell_type": "code",
   "execution_count": 16,
   "id": "d7ce2536",
   "metadata": {},
   "outputs": [],
   "source": [
    "class Model():\n",
    "    BASE_URL = \"http://localhost:11434/v1\"\n",
    "    API_KEY = \"ollama\"\n",
    "    \n",
    "    def __init__(self, model):\n",
    "        self.model = model\n",
    "        self.client = OpenAI(base_url=self.BASE_URL, api_key=self.API_KEY)\n",
    "        \n",
    "    def chat(self, prompt):\n",
    "        stream = self.client.chat.completions.create(\n",
    "            model=self.model,\n",
    "            messages=[\n",
    "                {\"role\": \"system\", \"content\": \"You are a helpful assistant.\"},\n",
    "                {\"role\": \"user\",\"content\": prompt}\n",
    "            ],\n",
    "            stream = True\n",
    "        )\n",
    "        response = \"\"\n",
    "        display_handle = display(Markdown(\"\"), display_id=True)\n",
    "        for chunk in stream:\n",
    "            response += chunk.choices[0].delta.content or ''\n",
    "            update_display(Markdown(response), display_id=display_handle.display_id)\n",
    "            "
   ]
  },
  {
   "cell_type": "code",
   "execution_count": 17,
   "id": "bc987ec8",
   "metadata": {},
   "outputs": [],
   "source": [
    "tes = Model(model=\"llama3.2\")"
   ]
  },
  {
   "cell_type": "code",
   "execution_count": 19,
   "id": "3cd8af83",
   "metadata": {},
   "outputs": [
    {
     "data": {
      "text/markdown": [
       "I was trained on a large dataset that was cut off at a certain point in time, but I don't have access to real-time information. My training data is from 2022, but it may not be up-to-date on very recent events or developments.\n",
       "\n",
       "That being said, my knowledge cutoff is December 2023, and I can provide information and answer questions based on the data available to me up until that point. If you have any specific questions or topics you'd like to discuss, I'll do my best to help!"
      ],
      "text/plain": [
       "<IPython.core.display.Markdown object>"
      ]
     },
     "metadata": {},
     "output_type": "display_data"
    }
   ],
   "source": [
    "tes.chat(\"What is the most recent date in the training data\")"
   ]
  },
  {
   "cell_type": "markdown",
   "id": "36483757",
   "metadata": {},
   "source": [
    "## Contrarian Models"
   ]
  },
  {
   "cell_type": "code",
   "execution_count": null,
   "id": "018a504d",
   "metadata": {},
   "outputs": [],
   "source": [
    "class ContrarianModel():\n",
    "    BASE_URL = \"http://localhost:11434/v1/\"\n",
    "    API_KEY = \"ollama\"\n",
    "    def __init__(self, model=\"llama3.2\"):\n",
    "        self.model = model\n",
    "        self.client = OpenAI(base_url=self.BASE_URL, api_key=self.API_KEY)\n",
    "        \n",
    "    \n",
    "    def stream_chat(self, prompt):\n",
    "        assistant_system = \"Your are senior hedge fund analyst investment on stock market, you know the dark side of you like to think wisely before make any decision.\"\n",
    "        contrarian_system = \"You are a contrarian investor, you like to think differently, look at suspicious argument and challenge the mainstream opinion from previous chat.\"\n",
    "        \n",
    "        messages = [\n",
    "            {\"role\": \"system\", \"content\": assistant_system},\n",
    "            {\"role\": \"user\", \"content\": prompt}\n",
    "        ]\n",
    "        \n",
    "        stream = self.client.chat.completions.create(\n",
    "            model=self.model,\n",
    "            messages=messages,\n",
    "            stream = True\n",
    "        )\n",
    "        response = \"\"\n",
    "        display_handle = display(Markdown(\"Assistant turn\"), display_id=True)\n",
    "        for chunk in stream:\n",
    "            response += chunk.choices[0].delta.content or ''\n",
    "            cleaned_response = re.sub(r\"```(?:markdown)?|```\", \"\", response)\n",
    "            update_display(Markdown(response), display_id=display_handle.display_id)\n",
    "            \n",
    "        messages.append({\"role\": \"assistant\", \"content\": cleaned_response})\n",
    "        \n",
    "        contrarian_messages = [\n",
    "            {\"role\": \"system\", \"content\": contrarian_system},\n",
    "            {\"role\": \"user\", \"content\": f\"{cleaned_response} \\n Do you feel anything suspicious or maybe something miss information? please provide your contrarian thinking\"}\n",
    "        ]\n",
    "        \n",
    "        contrarian_stream = self.client.chat.completions.create(\n",
    "            model=self.model,\n",
    "            messages=contrarian_messages,\n",
    "            stream = True\n",
    "        )\n",
    "        contrarian_response = \"\"\n",
    "        display_handle = display(Markdown(\"Contrarian turn\"), display_id=True)\n",
    "        for chunk in contrarian_stream:\n",
    "            contrarian_response += chunk.choices[0].delta.content or ''\n",
    "            cleaned_response = re.sub(r\"```(?:markdown)?|```\", \"\", contrarian_response)\n",
    "            update_display(Markdown(contrarian_response), display_id=display_handle.display_id)\n",
    "            \n",
    "        messages.append({\"role\": \"user\", \"content\": contrarian_response})\n",
    "        \n",
    "        return messages\n",
    "        "
   ]
  },
  {
   "cell_type": "code",
   "execution_count": null,
   "id": "a54b8661",
   "metadata": {},
   "outputs": [],
   "source": [
    "Contrarian = ContrarianModel()"
   ]
  },
  {
   "cell_type": "code",
   "execution_count": null,
   "id": "8e526fe6",
   "metadata": {},
   "outputs": [
    {
     "data": {
      "text/markdown": [
       "Apple Inc. (AAPL). One of the most valuable and influential companies in the world. As a seasoned hedge fund analyst, I'll provide you with an analysis of AAPL using heuristics that consider both positive and negative factors.\n",
       "\n",
       "**Heuristic 1: Hubris and Overvaluation**\n",
       "\n",
       "* The current market valuation of AAPL is approximately $2 trillion, making it one of the most valuable companies globally. This could indicate hubris or overconfidence among investors.\n",
       "* Historical data shows that the company's market value tends to be high relative to its earnings, which might lead to overpricing.\n",
       "\n",
       "**Heuristic 2: Diversification**\n",
       "\n",
       "* AAPL has a diversified product portfolio, including:\n",
       "\t+ iOS devices\n",
       "\t+ macOS and Linux desktops\n",
       "\t+ Apple Music and iCloud services\n",
       "\t+ Wearables (Apple Watch)\n",
       "\t+ Home and automotive technologies (HomePod, CarPlay)\n",
       "* However, this diversification also increases the company's exposure to various risks, such as consumer trends and emerging technology adoption.\n",
       "\n",
       "**Heuristic 3: Supply Chain Risk**\n",
       "\n",
       "* AAPL relies heavily on its global supply chain for manufacturing, which can be vulnerable to disruptions caused by:\n",
       "\t+ Component shortages (e.g., chips, displays)\n",
       "\t+ Trade policies (e.g., tariffs, import restrictions)\n",
       "\t+ Manufacturing capacity constraints\n",
       "* Any significant disruption in the supply chain could impact AAPL's ability to meet demand and maintain profit margins.\n",
       "\n",
       "**Heuristic 4: Competition**\n",
       "\n",
       "* The tech industry is highly competitive, with many established players (Google, Amazon, Facebook, Tesla) competing for market share.\n",
       "* New entrants like Huawei, Xiaomi, and Samsung are also gaining ground in various markets.\n",
       "* AAPL's pricing strategy and brand loyalty will be crucial factors in differentiating itself from competitors.\n",
       "\n",
       "**Heuristic 5: Innovation**\n",
       "\n",
       "* Apple has a strong track record of innovation, with recent innovations like:\n",
       "\t+ Face ID and biometric security\n",
       "\t+ Advanced camera systems (e.g., Night mode)\n",
       "\t+ Augmented reality capabilities (ARKit)\n",
       "* However, staying ahead of the competition requires continuous investment in R&D, which can be capital-intensive.\n",
       "\n",
       "**Heuristic 6: Global Demand**\n",
       "\n",
       "* AAPL's products are popular worldwide, but global demand is subject to various factors like:\n",
       "\t+ Economic conditions\n",
       "\t+ Regulatory risks (e.g., tariffs, export restrictions)\n",
       "\t+ Competition from emerging markets (e.g., China)\n",
       "\n",
       "Considering these heuristics, the overall assessment of AAPL can be:\n",
       "\n",
       "Strengths:\n",
       "\n",
       "* Diversified product portfolio\n",
       "* Strong innovation capabilities\n",
       "* Brand loyalty and customer retention\n",
       "\n",
       "Weaknesses:\n",
       "\n",
       "* High valuation relative to earnings\n",
       "* Exposure to supply chain risks and global demand fluctuations\n",
       "* Competition from established players and new entrants in various markets\n",
       "\n",
       "Opportunities:\n",
       "\n",
       "* Growing demand for mobile devices, cloud services, and wearables\n",
       "* Increasing adoption of Apple's ecosystem features (e.g., Apple Pay, iCloud)\n",
       "\n",
       "Threats:\n",
       "\n",
       "* Regulatory risks and trade policies\n",
       "* Competition from emerging technologies (e.g., 5G, AR)\n",
       "* Economic downturns affecting consumer spending and market demand\n",
       "\n",
       "In conclusion, while AAPL has many strengths, it also faces significant challenges in maintaining its competitive edge. As a hedge fund analyst, I would recommend a cautious approach when considering investing in AAPL, taking into account the heuristics outlined above."
      ],
      "text/plain": [
       "<IPython.core.display.Markdown object>"
      ]
     },
     "metadata": {},
     "output_type": "display_data"
    },
    {
     "data": {
      "text/markdown": [
       "At first glance, this analysis seems quite thorough and conservative, but as a contrarian investor, I would argue that it missed some crucial points and has an overly pessimistic view of Apple Inc.'s (AAPL) prospects.\n",
       "\n",
       "**Heuristic revision: The underappreciation of AAPL's ecosystem advantages**\n",
       "\n",
       "The most glaring omission is the failure to acknowledge AAPL's incredible value proposition in its self-sustaining ecosystem, which is unparalleled in the tech industry. This benefits customers with seamless integration across devices, services (e.g., Apple Music), and wearables, creating a loyal user base. The underappreciation of this ecosystem advantage might be due to Apple's historically cautious approach to innovation, leading investors to overlook its long-term strategic advantages.\n",
       "\n",
       "**Global supply chain risk: Overhyped concerns**\n",
       "\n",
       "The risks associated with AAPL's global supply chain are exaggerated, given the company's size, market share, and negotiating power. The overreliance on a few primary suppliers can disrupt production, but Apple has already shown it can mitigate such disruptions through its own manufacturing capabilities in key regions (e.g., China, US) or diversification of suppliers.\n",
       "\n",
       "**Competition: Misleading narratives about Chinese companies**\n",
       "\n",
       "The notion that emerging companies like Huawei and Xiaomi pose significant threats to AAPL is overstated. These firms have indeed risen in market share but still trail behind established players like Apple in the premium segment. Moreover, regulatory pressures have severely hampered their ability to grow rapidly.\n",
       "\n",
       "**Innovation: Focus on incremental rather than revolutionary innovations**\n",
       "\n",
       "AAPL's track record speaks for itself – innovation has driven massive growth without being overly R&D-intensive. Recent advancements (e.g., Face ID) are testament to its ongoing emphasis on improving existing technologies, a more agile approach that might benefit investors in the long run.\n",
       "\n",
       "**Global demand: More focus on core markets rather than emerging ones**\n",
       "\n",
       "AAPL's primary customers reside in mature markets like North America and Europe, which remain relatively stable. While expanding into emerging markets is important, prioritizing these traditional territories can prove financially more lucrative.\n",
       "\n",
       "**Critique of conclusions: Balanced perspective missed**\n",
       "\n",
       "While acknowledging AAPL's challenges is warranted, a balanced evaluation might suggest opportunities arising from its long-term competitive advantages (its ecosystem), strategic resilience to supply chain disruptions, and market positioning gains in key regions over its competitors. An overly cautious approach neglects AAPL's historical track record of managing competition, expanding through successful marketing campaigns, and maintaining loyalty among customers.\n",
       "\n",
       "So, in my view, a contrarian perspective toward AAPL might acknowledge some acknowledged challenges but also recognize that:\n",
       "1)  Apple has leveraged its strategic advantages to build up its ecosystem, reducing vulnerability relative to competitors.\n",
       "2) Competition from newer entrants is slowing down given the sheer size of market shares other tech stocks already have (e.g., Google's Android dominance).\n",
       "3) Economic performance will play a greater role on overall profits than previously predicted.\n",
       "\n",
       "In conclusion, considering all of this would suggest investing in AAPL."
      ],
      "text/plain": [
       "<IPython.core.display.Markdown object>"
      ]
     },
     "metadata": {},
     "output_type": "display_data"
    },
    {
     "data": {
      "text/plain": [
       "[{'role': 'system',\n",
       "  'content': 'Your are senior hedge fund analyst investment on stock market, you know the dark side of you like to think wisely before make any decision.'},\n",
       " {'role': 'user', 'content': 'Tell me about AAPL company by heuristic'},\n",
       " {'role': 'assistant',\n",
       "  'content': \"Apple Inc. (AAPL). One of the most valuable and influential companies in the world. As a seasoned hedge fund analyst, I'll provide you with an analysis of AAPL using heuristics that consider both positive and negative factors.\\n\\n**Heuristic 1: Hubris and Overvaluation**\\n\\n* The current market valuation of AAPL is approximately $2 trillion, making it one of the most valuable companies globally. This could indicate hubris or overconfidence among investors.\\n* Historical data shows that the company's market value tends to be high relative to its earnings, which might lead to overpricing.\\n\\n**Heuristic 2: Diversification**\\n\\n* AAPL has a diversified product portfolio, including:\\n\\t+ iOS devices\\n\\t+ macOS and Linux desktops\\n\\t+ Apple Music and iCloud services\\n\\t+ Wearables (Apple Watch)\\n\\t+ Home and automotive technologies (HomePod, CarPlay)\\n* However, this diversification also increases the company's exposure to various risks, such as consumer trends and emerging technology adoption.\\n\\n**Heuristic 3: Supply Chain Risk**\\n\\n* AAPL relies heavily on its global supply chain for manufacturing, which can be vulnerable to disruptions caused by:\\n\\t+ Component shortages (e.g., chips, displays)\\n\\t+ Trade policies (e.g., tariffs, import restrictions)\\n\\t+ Manufacturing capacity constraints\\n* Any significant disruption in the supply chain could impact AAPL's ability to meet demand and maintain profit margins.\\n\\n**Heuristic 4: Competition**\\n\\n* The tech industry is highly competitive, with many established players (Google, Amazon, Facebook, Tesla) competing for market share.\\n* New entrants like Huawei, Xiaomi, and Samsung are also gaining ground in various markets.\\n* AAPL's pricing strategy and brand loyalty will be crucial factors in differentiating itself from competitors.\\n\\n**Heuristic 5: Innovation**\\n\\n* Apple has a strong track record of innovation, with recent innovations like:\\n\\t+ Face ID and biometric security\\n\\t+ Advanced camera systems (e.g., Night mode)\\n\\t+ Augmented reality capabilities (ARKit)\\n* However, staying ahead of the competition requires continuous investment in R&D, which can be capital-intensive.\\n\\n**Heuristic 6: Global Demand**\\n\\n* AAPL's products are popular worldwide, but global demand is subject to various factors like:\\n\\t+ Economic conditions\\n\\t+ Regulatory risks (e.g., tariffs, export restrictions)\\n\\t+ Competition from emerging markets (e.g., China)\\n\\nConsidering these heuristics, the overall assessment of AAPL can be:\\n\\nStrengths:\\n\\n* Diversified product portfolio\\n* Strong innovation capabilities\\n* Brand loyalty and customer retention\\n\\nWeaknesses:\\n\\n* High valuation relative to earnings\\n* Exposure to supply chain risks and global demand fluctuations\\n* Competition from established players and new entrants in various markets\\n\\nOpportunities:\\n\\n* Growing demand for mobile devices, cloud services, and wearables\\n* Increasing adoption of Apple's ecosystem features (e.g., Apple Pay, iCloud)\\n\\nThreats:\\n\\n* Regulatory risks and trade policies\\n* Competition from emerging technologies (e.g., 5G, AR)\\n* Economic downturns affecting consumer spending and market demand\\n\\nIn conclusion, while AAPL has many strengths, it also faces significant challenges in maintaining its competitive edge. As a hedge fund analyst, I would recommend a cautious approach when considering investing in AAPL, taking into account the heuristics outlined above.\"},\n",
       " {'role': 'user',\n",
       "  'content': \"At first glance, this analysis seems quite thorough and conservative, but as a contrarian investor, I would argue that it missed some crucial points and has an overly pessimistic view of Apple Inc.'s (AAPL) prospects.\\n\\n**Heuristic revision: The underappreciation of AAPL's ecosystem advantages**\\n\\nThe most glaring omission is the failure to acknowledge AAPL's incredible value proposition in its self-sustaining ecosystem, which is unparalleled in the tech industry. This benefits customers with seamless integration across devices, services (e.g., Apple Music), and wearables, creating a loyal user base. The underappreciation of this ecosystem advantage might be due to Apple's historically cautious approach to innovation, leading investors to overlook its long-term strategic advantages.\\n\\n**Global supply chain risk: Overhyped concerns**\\n\\nThe risks associated with AAPL's global supply chain are exaggerated, given the company's size, market share, and negotiating power. The overreliance on a few primary suppliers can disrupt production, but Apple has already shown it can mitigate such disruptions through its own manufacturing capabilities in key regions (e.g., China, US) or diversification of suppliers.\\n\\n**Competition: Misleading narratives about Chinese companies**\\n\\nThe notion that emerging companies like Huawei and Xiaomi pose significant threats to AAPL is overstated. These firms have indeed risen in market share but still trail behind established players like Apple in the premium segment. Moreover, regulatory pressures have severely hampered their ability to grow rapidly.\\n\\n**Innovation: Focus on incremental rather than revolutionary innovations**\\n\\nAAPL's track record speaks for itself – innovation has driven massive growth without being overly R&D-intensive. Recent advancements (e.g., Face ID) are testament to its ongoing emphasis on improving existing technologies, a more agile approach that might benefit investors in the long run.\\n\\n**Global demand: More focus on core markets rather than emerging ones**\\n\\nAAPL's primary customers reside in mature markets like North America and Europe, which remain relatively stable. While expanding into emerging markets is important, prioritizing these traditional territories can prove financially more lucrative.\\n\\n**Critique of conclusions: Balanced perspective missed**\\n\\nWhile acknowledging AAPL's challenges is warranted, a balanced evaluation might suggest opportunities arising from its long-term competitive advantages (its ecosystem), strategic resilience to supply chain disruptions, and market positioning gains in key regions over its competitors. An overly cautious approach neglects AAPL's historical track record of managing competition, expanding through successful marketing campaigns, and maintaining loyalty among customers.\\n\\nSo, in my view, a contrarian perspective toward AAPL might acknowledge some acknowledged challenges but also recognize that:\\n1)  Apple has leveraged its strategic advantages to build up its ecosystem, reducing vulnerability relative to competitors.\\n2) Competition from newer entrants is slowing down given the sheer size of market shares other tech stocks already have (e.g., Google's Android dominance).\\n3) Economic performance will play a greater role on overall profits than previously predicted.\\n\\nIn conclusion, considering all of this would suggest investing in AAPL.\"}]"
      ]
     },
     "execution_count": 14,
     "metadata": {},
     "output_type": "execute_result"
    }
   ],
   "source": [
    "Contrarian.stream_chat(\"Tell me about AAPL company by heuristic\")"
   ]
  },
  {
   "cell_type": "markdown",
   "id": "83d21568",
   "metadata": {},
   "source": [
    "## Tools and MCP (TBD)"
   ]
  },
  {
   "cell_type": "code",
   "execution_count": 98,
   "id": "7146ad1d",
   "metadata": {},
   "outputs": [],
   "source": [
    "example_price = {\n",
    "    \"AAPL\": 150,\n",
    "    \"GOOGL\": 2800,\n",
    "    \"AMZN\": 3400,\n",
    "    \"MSFT\": 300,\n",
    "    \"TSLA\": 700,\n",
    "}"
   ]
  },
  {
   "cell_type": "code",
   "execution_count": 99,
   "id": "e12d5680",
   "metadata": {},
   "outputs": [],
   "source": [
    "tools_function = {\n",
    "    \"name\": \"get_stock_info\",\n",
    "    \"description\": \"Get the stock information, user can ask for stock price by company, stock ticker by exact price or between price range.\",\n",
    "    \"parameters\": {\n",
    "        \"type\": \"object\",\n",
    "        \"properties\": {\n",
    "            # \"price\": {\n",
    "            #     \"type\": \"number\",\n",
    "            #     \"description\": \"The stock price of the company\"\n",
    "            # },\n",
    "            \"company\": {\n",
    "                \"type\": \"string\",\n",
    "                \"description\": \"The stock ticker symbol of the company (e.g., AAPL, GOOGL, AMZN)\"\n",
    "            },\n",
    "            # \"min_price\":{\n",
    "            #     \"type\": \"number\",\n",
    "            #     \"description\": \"The minimum stock price to filter the results\"\n",
    "            # },\n",
    "            # \"max_price\":{\n",
    "            #     \"type\": \"number\",\n",
    "            #     \"description\": \"The maximum stock price to filter the results\"\n",
    "            # }\n",
    "        }\n",
    "    },\n",
    "    \"required\": [\"company\"]\n",
    "}"
   ]
  },
  {
   "cell_type": "code",
   "execution_count": 100,
   "id": "ddc298f3",
   "metadata": {},
   "outputs": [],
   "source": [
    "def get_price_by_ticker(ticker: str) -> float:\n",
    "    ticker = ticker.upper()\n",
    "    return example_price.get(ticker, \"Unknown\")\n",
    "\n",
    "# def get_ticker_by_price(price: float) -> str:\n",
    "#     return example_price.get(price, \"Unknown\")\n",
    "\n",
    "# def get_ticker_by_range(min_price: float, max_price: float) -> list:\n",
    "#     if min_price is not None and max_price is not None:\n",
    "#         return [ticker for ticker, price in example_price.items() if min_price <= price <= max_price]\n",
    "#     if min_price is not None:\n",
    "#         return [ticker for ticker, price in example_price.items() if min_price <= price]\n",
    "#     if max_price is not None:\n",
    "#         return [ticker for ticker, price in example_price.items() if price <= max_price]\n",
    "\n",
    "# def get_stock_info(company: str = None, price: float = None, min_price: float = None, max_price: float = None) -> str:\n",
    "#     if company and company in example_price:\n",
    "#         return json.dumps({\"company\": company, \"price\": get_price_by_ticker(company)})\n",
    "#     elif price:\n",
    "#         return json.dumps({\"company\": get_ticker_by_price(price), \"price\": price})\n",
    "#     elif min_price is not None or max_price is not None:\n",
    "#         get_ticker_by_range(min_price, max_price)\n",
    "#         return json.dumps({\"tickers\": get_ticker_by_range(min_price, max_price)})\n",
    "        \n",
    "def get_stock_info(company: str) -> str:\n",
    "    if company and company in example_price:\n",
    "        print(f\"Getting information for {company}\")\n",
    "        return json.dumps({\"company\": company, \"price\": get_price_by_ticker(company)})     "
   ]
  },
  {
   "cell_type": "code",
   "execution_count": 101,
   "id": "f96b93ff",
   "metadata": {},
   "outputs": [],
   "source": [
    "model = \"gpt-4o-mini\"\n",
    "openai_api_key = os.getenv(\"OPENAI_API_KEY\")\n",
    "client = OpenAI()\n",
    "\n",
    "# client = OpenAI(base_url=\"http://localhost:11434/v1\", api_key=\"ollama\")\n",
    "# model = os.getenv(\"OLLAMA_MODEL\")"
   ]
  },
  {
   "cell_type": "code",
   "execution_count": 112,
   "id": "83c8141c",
   "metadata": {},
   "outputs": [],
   "source": [
    "def chat(message):\n",
    "    tools = [{\"type\": \"function\",\"function\": tools_function}]\n",
    "    messages = [{\n",
    "        \"role\": \"system\",\n",
    "        \"content\": \"You are stock assistant, you can help user to get stock information,. if user ask for price you can use tools, otherwise you can answer directly.\"\n",
    "    }] + [{\n",
    "        \"role\": \"user\",\n",
    "        \"content\": message\n",
    "    }]\n",
    "    \n",
    "    response = client.chat.completions.create(\n",
    "        model=model,\n",
    "        messages=messages,\n",
    "        tools=tools,\n",
    "        tool_choice=\"auto\",\n",
    "    )\n",
    "    \n",
    "    response_message = response.choices[0].message\n",
    "    \n",
    "    if response_message.tool_calls:\n",
    "        messages.append(response_message)\n",
    "        for tool_call in response_message.tool_calls:\n",
    "            if tool_call.function.name == \"stock_info\":\n",
    "\n",
    "                args = json.loads(tool_call.function.arguments)\n",
    "                company = args.get(\"company\")\n",
    "                stock_result = get_stock_info(company)\n",
    "\n",
    "                messages.append({\n",
    "                    \"role\": \"tool\",\n",
    "                    \"tool_call_id\": tool_call.id,\n",
    "                    \"name\": \"stock_info\",\n",
    "                    \"content\": stock_result\n",
    "                })\n",
    "        second_response = client.chat.completions.create(\n",
    "            model=model,\n",
    "            messages=messages\n",
    "        )\n",
    "        return second_response.choices[0].message.content\n",
    "    \n",
    "    else:\n",
    "        return response_message.content"
   ]
  },
  {
   "cell_type": "code",
   "execution_count": 113,
   "id": "815690ae",
   "metadata": {},
   "outputs": [
    {
     "ename": "BadRequestError",
     "evalue": "Error code: 400 - {'error': {'message': \"An assistant message with 'tool_calls' must be followed by tool messages responding to each 'tool_call_id'. The following tool_call_ids did not have response messages: call_CT6TIFGqwMKWApLlZiOQue49, call_ne3vtZos9pdylGmepqynuqOk\", 'type': 'invalid_request_error', 'param': 'messages', 'code': None}}",
     "output_type": "error",
     "traceback": [
      "\u001b[31m---------------------------------------------------------------------------\u001b[39m",
      "\u001b[31mBadRequestError\u001b[39m                           Traceback (most recent call last)",
      "\u001b[36mCell\u001b[39m\u001b[36m \u001b[39m\u001b[32mIn[113]\u001b[39m\u001b[32m, line 1\u001b[39m\n\u001b[32m----> \u001b[39m\u001b[32m1\u001b[39m \u001b[43mchat\u001b[49m\u001b[43m(\u001b[49m\u001b[33;43m\"\u001b[39;49m\u001b[33;43mWhat is the price of AAPL and AMZN? You can use tools to get price\u001b[39;49m\u001b[33;43m\"\u001b[39;49m\u001b[43m)\u001b[49m\n",
      "\u001b[36mCell\u001b[39m\u001b[36m \u001b[39m\u001b[32mIn[112]\u001b[39m\u001b[32m, line 35\u001b[39m, in \u001b[36mchat\u001b[39m\u001b[34m(message)\u001b[39m\n\u001b[32m     27\u001b[39m             stock_result = get_stock_info(company)\n\u001b[32m     29\u001b[39m             messages.append({\n\u001b[32m     30\u001b[39m                 \u001b[33m\"\u001b[39m\u001b[33mrole\u001b[39m\u001b[33m\"\u001b[39m: \u001b[33m\"\u001b[39m\u001b[33mtool\u001b[39m\u001b[33m\"\u001b[39m,\n\u001b[32m     31\u001b[39m                 \u001b[33m\"\u001b[39m\u001b[33mtool_call_id\u001b[39m\u001b[33m\"\u001b[39m: tool_call.id,\n\u001b[32m     32\u001b[39m                 \u001b[33m\"\u001b[39m\u001b[33mname\u001b[39m\u001b[33m\"\u001b[39m: \u001b[33m\"\u001b[39m\u001b[33mstock_info\u001b[39m\u001b[33m\"\u001b[39m,\n\u001b[32m     33\u001b[39m                 \u001b[33m\"\u001b[39m\u001b[33mcontent\u001b[39m\u001b[33m\"\u001b[39m: stock_result\n\u001b[32m     34\u001b[39m             })\n\u001b[32m---> \u001b[39m\u001b[32m35\u001b[39m     second_response = \u001b[43mclient\u001b[49m\u001b[43m.\u001b[49m\u001b[43mchat\u001b[49m\u001b[43m.\u001b[49m\u001b[43mcompletions\u001b[49m\u001b[43m.\u001b[49m\u001b[43mcreate\u001b[49m\u001b[43m(\u001b[49m\n\u001b[32m     36\u001b[39m \u001b[43m        \u001b[49m\u001b[43mmodel\u001b[49m\u001b[43m=\u001b[49m\u001b[43mmodel\u001b[49m\u001b[43m,\u001b[49m\n\u001b[32m     37\u001b[39m \u001b[43m        \u001b[49m\u001b[43mmessages\u001b[49m\u001b[43m=\u001b[49m\u001b[43mmessages\u001b[49m\n\u001b[32m     38\u001b[39m \u001b[43m    \u001b[49m\u001b[43m)\u001b[49m\n\u001b[32m     39\u001b[39m     \u001b[38;5;28;01mreturn\u001b[39;00m second_response.choices[\u001b[32m0\u001b[39m].message.content\n\u001b[32m     41\u001b[39m \u001b[38;5;28;01melse\u001b[39;00m:\n",
      "\u001b[36mFile \u001b[39m\u001b[32mc:\\Users\\asus\\anaconda3\\envs\\llms\\Lib\\site-packages\\openai\\_utils\\_utils.py:287\u001b[39m, in \u001b[36mrequired_args.<locals>.inner.<locals>.wrapper\u001b[39m\u001b[34m(*args, **kwargs)\u001b[39m\n\u001b[32m    285\u001b[39m             msg = \u001b[33mf\u001b[39m\u001b[33m\"\u001b[39m\u001b[33mMissing required argument: \u001b[39m\u001b[38;5;132;01m{\u001b[39;00mquote(missing[\u001b[32m0\u001b[39m])\u001b[38;5;132;01m}\u001b[39;00m\u001b[33m\"\u001b[39m\n\u001b[32m    286\u001b[39m     \u001b[38;5;28;01mraise\u001b[39;00m \u001b[38;5;167;01mTypeError\u001b[39;00m(msg)\n\u001b[32m--> \u001b[39m\u001b[32m287\u001b[39m \u001b[38;5;28;01mreturn\u001b[39;00m \u001b[43mfunc\u001b[49m\u001b[43m(\u001b[49m\u001b[43m*\u001b[49m\u001b[43margs\u001b[49m\u001b[43m,\u001b[49m\u001b[43m \u001b[49m\u001b[43m*\u001b[49m\u001b[43m*\u001b[49m\u001b[43mkwargs\u001b[49m\u001b[43m)\u001b[49m\n",
      "\u001b[36mFile \u001b[39m\u001b[32mc:\\Users\\asus\\anaconda3\\envs\\llms\\Lib\\site-packages\\openai\\resources\\chat\\completions\\completions.py:1087\u001b[39m, in \u001b[36mCompletions.create\u001b[39m\u001b[34m(self, messages, model, audio, frequency_penalty, function_call, functions, logit_bias, logprobs, max_completion_tokens, max_tokens, metadata, modalities, n, parallel_tool_calls, prediction, presence_penalty, reasoning_effort, response_format, seed, service_tier, stop, store, stream, stream_options, temperature, tool_choice, tools, top_logprobs, top_p, user, web_search_options, extra_headers, extra_query, extra_body, timeout)\u001b[39m\n\u001b[32m   1044\u001b[39m \u001b[38;5;129m@required_args\u001b[39m([\u001b[33m\"\u001b[39m\u001b[33mmessages\u001b[39m\u001b[33m\"\u001b[39m, \u001b[33m\"\u001b[39m\u001b[33mmodel\u001b[39m\u001b[33m\"\u001b[39m], [\u001b[33m\"\u001b[39m\u001b[33mmessages\u001b[39m\u001b[33m\"\u001b[39m, \u001b[33m\"\u001b[39m\u001b[33mmodel\u001b[39m\u001b[33m\"\u001b[39m, \u001b[33m\"\u001b[39m\u001b[33mstream\u001b[39m\u001b[33m\"\u001b[39m])\n\u001b[32m   1045\u001b[39m \u001b[38;5;28;01mdef\u001b[39;00m\u001b[38;5;250m \u001b[39m\u001b[34mcreate\u001b[39m(\n\u001b[32m   1046\u001b[39m     \u001b[38;5;28mself\u001b[39m,\n\u001b[32m   (...)\u001b[39m\u001b[32m   1084\u001b[39m     timeout: \u001b[38;5;28mfloat\u001b[39m | httpx.Timeout | \u001b[38;5;28;01mNone\u001b[39;00m | NotGiven = NOT_GIVEN,\n\u001b[32m   1085\u001b[39m ) -> ChatCompletion | Stream[ChatCompletionChunk]:\n\u001b[32m   1086\u001b[39m     validate_response_format(response_format)\n\u001b[32m-> \u001b[39m\u001b[32m1087\u001b[39m     \u001b[38;5;28;01mreturn\u001b[39;00m \u001b[38;5;28;43mself\u001b[39;49m\u001b[43m.\u001b[49m\u001b[43m_post\u001b[49m\u001b[43m(\u001b[49m\n\u001b[32m   1088\u001b[39m \u001b[43m        \u001b[49m\u001b[33;43m\"\u001b[39;49m\u001b[33;43m/chat/completions\u001b[39;49m\u001b[33;43m\"\u001b[39;49m\u001b[43m,\u001b[49m\n\u001b[32m   1089\u001b[39m \u001b[43m        \u001b[49m\u001b[43mbody\u001b[49m\u001b[43m=\u001b[49m\u001b[43mmaybe_transform\u001b[49m\u001b[43m(\u001b[49m\n\u001b[32m   1090\u001b[39m \u001b[43m            \u001b[49m\u001b[43m{\u001b[49m\n\u001b[32m   1091\u001b[39m \u001b[43m                \u001b[49m\u001b[33;43m\"\u001b[39;49m\u001b[33;43mmessages\u001b[39;49m\u001b[33;43m\"\u001b[39;49m\u001b[43m:\u001b[49m\u001b[43m \u001b[49m\u001b[43mmessages\u001b[49m\u001b[43m,\u001b[49m\n\u001b[32m   1092\u001b[39m \u001b[43m                \u001b[49m\u001b[33;43m\"\u001b[39;49m\u001b[33;43mmodel\u001b[39;49m\u001b[33;43m\"\u001b[39;49m\u001b[43m:\u001b[49m\u001b[43m \u001b[49m\u001b[43mmodel\u001b[49m\u001b[43m,\u001b[49m\n\u001b[32m   1093\u001b[39m \u001b[43m                \u001b[49m\u001b[33;43m\"\u001b[39;49m\u001b[33;43maudio\u001b[39;49m\u001b[33;43m\"\u001b[39;49m\u001b[43m:\u001b[49m\u001b[43m \u001b[49m\u001b[43maudio\u001b[49m\u001b[43m,\u001b[49m\n\u001b[32m   1094\u001b[39m \u001b[43m                \u001b[49m\u001b[33;43m\"\u001b[39;49m\u001b[33;43mfrequency_penalty\u001b[39;49m\u001b[33;43m\"\u001b[39;49m\u001b[43m:\u001b[49m\u001b[43m \u001b[49m\u001b[43mfrequency_penalty\u001b[49m\u001b[43m,\u001b[49m\n\u001b[32m   1095\u001b[39m \u001b[43m                \u001b[49m\u001b[33;43m\"\u001b[39;49m\u001b[33;43mfunction_call\u001b[39;49m\u001b[33;43m\"\u001b[39;49m\u001b[43m:\u001b[49m\u001b[43m \u001b[49m\u001b[43mfunction_call\u001b[49m\u001b[43m,\u001b[49m\n\u001b[32m   1096\u001b[39m \u001b[43m                \u001b[49m\u001b[33;43m\"\u001b[39;49m\u001b[33;43mfunctions\u001b[39;49m\u001b[33;43m\"\u001b[39;49m\u001b[43m:\u001b[49m\u001b[43m \u001b[49m\u001b[43mfunctions\u001b[49m\u001b[43m,\u001b[49m\n\u001b[32m   1097\u001b[39m \u001b[43m                \u001b[49m\u001b[33;43m\"\u001b[39;49m\u001b[33;43mlogit_bias\u001b[39;49m\u001b[33;43m\"\u001b[39;49m\u001b[43m:\u001b[49m\u001b[43m \u001b[49m\u001b[43mlogit_bias\u001b[49m\u001b[43m,\u001b[49m\n\u001b[32m   1098\u001b[39m \u001b[43m                \u001b[49m\u001b[33;43m\"\u001b[39;49m\u001b[33;43mlogprobs\u001b[39;49m\u001b[33;43m\"\u001b[39;49m\u001b[43m:\u001b[49m\u001b[43m \u001b[49m\u001b[43mlogprobs\u001b[49m\u001b[43m,\u001b[49m\n\u001b[32m   1099\u001b[39m \u001b[43m                \u001b[49m\u001b[33;43m\"\u001b[39;49m\u001b[33;43mmax_completion_tokens\u001b[39;49m\u001b[33;43m\"\u001b[39;49m\u001b[43m:\u001b[49m\u001b[43m \u001b[49m\u001b[43mmax_completion_tokens\u001b[49m\u001b[43m,\u001b[49m\n\u001b[32m   1100\u001b[39m \u001b[43m                \u001b[49m\u001b[33;43m\"\u001b[39;49m\u001b[33;43mmax_tokens\u001b[39;49m\u001b[33;43m\"\u001b[39;49m\u001b[43m:\u001b[49m\u001b[43m \u001b[49m\u001b[43mmax_tokens\u001b[49m\u001b[43m,\u001b[49m\n\u001b[32m   1101\u001b[39m \u001b[43m                \u001b[49m\u001b[33;43m\"\u001b[39;49m\u001b[33;43mmetadata\u001b[39;49m\u001b[33;43m\"\u001b[39;49m\u001b[43m:\u001b[49m\u001b[43m \u001b[49m\u001b[43mmetadata\u001b[49m\u001b[43m,\u001b[49m\n\u001b[32m   1102\u001b[39m \u001b[43m                \u001b[49m\u001b[33;43m\"\u001b[39;49m\u001b[33;43mmodalities\u001b[39;49m\u001b[33;43m\"\u001b[39;49m\u001b[43m:\u001b[49m\u001b[43m \u001b[49m\u001b[43mmodalities\u001b[49m\u001b[43m,\u001b[49m\n\u001b[32m   1103\u001b[39m \u001b[43m                \u001b[49m\u001b[33;43m\"\u001b[39;49m\u001b[33;43mn\u001b[39;49m\u001b[33;43m\"\u001b[39;49m\u001b[43m:\u001b[49m\u001b[43m \u001b[49m\u001b[43mn\u001b[49m\u001b[43m,\u001b[49m\n\u001b[32m   1104\u001b[39m \u001b[43m                \u001b[49m\u001b[33;43m\"\u001b[39;49m\u001b[33;43mparallel_tool_calls\u001b[39;49m\u001b[33;43m\"\u001b[39;49m\u001b[43m:\u001b[49m\u001b[43m \u001b[49m\u001b[43mparallel_tool_calls\u001b[49m\u001b[43m,\u001b[49m\n\u001b[32m   1105\u001b[39m \u001b[43m                \u001b[49m\u001b[33;43m\"\u001b[39;49m\u001b[33;43mprediction\u001b[39;49m\u001b[33;43m\"\u001b[39;49m\u001b[43m:\u001b[49m\u001b[43m \u001b[49m\u001b[43mprediction\u001b[49m\u001b[43m,\u001b[49m\n\u001b[32m   1106\u001b[39m \u001b[43m                \u001b[49m\u001b[33;43m\"\u001b[39;49m\u001b[33;43mpresence_penalty\u001b[39;49m\u001b[33;43m\"\u001b[39;49m\u001b[43m:\u001b[49m\u001b[43m \u001b[49m\u001b[43mpresence_penalty\u001b[49m\u001b[43m,\u001b[49m\n\u001b[32m   1107\u001b[39m \u001b[43m                \u001b[49m\u001b[33;43m\"\u001b[39;49m\u001b[33;43mreasoning_effort\u001b[39;49m\u001b[33;43m\"\u001b[39;49m\u001b[43m:\u001b[49m\u001b[43m \u001b[49m\u001b[43mreasoning_effort\u001b[49m\u001b[43m,\u001b[49m\n\u001b[32m   1108\u001b[39m \u001b[43m                \u001b[49m\u001b[33;43m\"\u001b[39;49m\u001b[33;43mresponse_format\u001b[39;49m\u001b[33;43m\"\u001b[39;49m\u001b[43m:\u001b[49m\u001b[43m \u001b[49m\u001b[43mresponse_format\u001b[49m\u001b[43m,\u001b[49m\n\u001b[32m   1109\u001b[39m \u001b[43m                \u001b[49m\u001b[33;43m\"\u001b[39;49m\u001b[33;43mseed\u001b[39;49m\u001b[33;43m\"\u001b[39;49m\u001b[43m:\u001b[49m\u001b[43m \u001b[49m\u001b[43mseed\u001b[49m\u001b[43m,\u001b[49m\n\u001b[32m   1110\u001b[39m \u001b[43m                \u001b[49m\u001b[33;43m\"\u001b[39;49m\u001b[33;43mservice_tier\u001b[39;49m\u001b[33;43m\"\u001b[39;49m\u001b[43m:\u001b[49m\u001b[43m \u001b[49m\u001b[43mservice_tier\u001b[49m\u001b[43m,\u001b[49m\n\u001b[32m   1111\u001b[39m \u001b[43m                \u001b[49m\u001b[33;43m\"\u001b[39;49m\u001b[33;43mstop\u001b[39;49m\u001b[33;43m\"\u001b[39;49m\u001b[43m:\u001b[49m\u001b[43m \u001b[49m\u001b[43mstop\u001b[49m\u001b[43m,\u001b[49m\n\u001b[32m   1112\u001b[39m \u001b[43m                \u001b[49m\u001b[33;43m\"\u001b[39;49m\u001b[33;43mstore\u001b[39;49m\u001b[33;43m\"\u001b[39;49m\u001b[43m:\u001b[49m\u001b[43m \u001b[49m\u001b[43mstore\u001b[49m\u001b[43m,\u001b[49m\n\u001b[32m   1113\u001b[39m \u001b[43m                \u001b[49m\u001b[33;43m\"\u001b[39;49m\u001b[33;43mstream\u001b[39;49m\u001b[33;43m\"\u001b[39;49m\u001b[43m:\u001b[49m\u001b[43m \u001b[49m\u001b[43mstream\u001b[49m\u001b[43m,\u001b[49m\n\u001b[32m   1114\u001b[39m \u001b[43m                \u001b[49m\u001b[33;43m\"\u001b[39;49m\u001b[33;43mstream_options\u001b[39;49m\u001b[33;43m\"\u001b[39;49m\u001b[43m:\u001b[49m\u001b[43m \u001b[49m\u001b[43mstream_options\u001b[49m\u001b[43m,\u001b[49m\n\u001b[32m   1115\u001b[39m \u001b[43m                \u001b[49m\u001b[33;43m\"\u001b[39;49m\u001b[33;43mtemperature\u001b[39;49m\u001b[33;43m\"\u001b[39;49m\u001b[43m:\u001b[49m\u001b[43m \u001b[49m\u001b[43mtemperature\u001b[49m\u001b[43m,\u001b[49m\n\u001b[32m   1116\u001b[39m \u001b[43m                \u001b[49m\u001b[33;43m\"\u001b[39;49m\u001b[33;43mtool_choice\u001b[39;49m\u001b[33;43m\"\u001b[39;49m\u001b[43m:\u001b[49m\u001b[43m \u001b[49m\u001b[43mtool_choice\u001b[49m\u001b[43m,\u001b[49m\n\u001b[32m   1117\u001b[39m \u001b[43m                \u001b[49m\u001b[33;43m\"\u001b[39;49m\u001b[33;43mtools\u001b[39;49m\u001b[33;43m\"\u001b[39;49m\u001b[43m:\u001b[49m\u001b[43m \u001b[49m\u001b[43mtools\u001b[49m\u001b[43m,\u001b[49m\n\u001b[32m   1118\u001b[39m \u001b[43m                \u001b[49m\u001b[33;43m\"\u001b[39;49m\u001b[33;43mtop_logprobs\u001b[39;49m\u001b[33;43m\"\u001b[39;49m\u001b[43m:\u001b[49m\u001b[43m \u001b[49m\u001b[43mtop_logprobs\u001b[49m\u001b[43m,\u001b[49m\n\u001b[32m   1119\u001b[39m \u001b[43m                \u001b[49m\u001b[33;43m\"\u001b[39;49m\u001b[33;43mtop_p\u001b[39;49m\u001b[33;43m\"\u001b[39;49m\u001b[43m:\u001b[49m\u001b[43m \u001b[49m\u001b[43mtop_p\u001b[49m\u001b[43m,\u001b[49m\n\u001b[32m   1120\u001b[39m \u001b[43m                \u001b[49m\u001b[33;43m\"\u001b[39;49m\u001b[33;43muser\u001b[39;49m\u001b[33;43m\"\u001b[39;49m\u001b[43m:\u001b[49m\u001b[43m \u001b[49m\u001b[43muser\u001b[49m\u001b[43m,\u001b[49m\n\u001b[32m   1121\u001b[39m \u001b[43m                \u001b[49m\u001b[33;43m\"\u001b[39;49m\u001b[33;43mweb_search_options\u001b[39;49m\u001b[33;43m\"\u001b[39;49m\u001b[43m:\u001b[49m\u001b[43m \u001b[49m\u001b[43mweb_search_options\u001b[49m\u001b[43m,\u001b[49m\n\u001b[32m   1122\u001b[39m \u001b[43m            \u001b[49m\u001b[43m}\u001b[49m\u001b[43m,\u001b[49m\n\u001b[32m   1123\u001b[39m \u001b[43m            \u001b[49m\u001b[43mcompletion_create_params\u001b[49m\u001b[43m.\u001b[49m\u001b[43mCompletionCreateParamsStreaming\u001b[49m\n\u001b[32m   1124\u001b[39m \u001b[43m            \u001b[49m\u001b[38;5;28;43;01mif\u001b[39;49;00m\u001b[43m \u001b[49m\u001b[43mstream\u001b[49m\n\u001b[32m   1125\u001b[39m \u001b[43m            \u001b[49m\u001b[38;5;28;43;01melse\u001b[39;49;00m\u001b[43m \u001b[49m\u001b[43mcompletion_create_params\u001b[49m\u001b[43m.\u001b[49m\u001b[43mCompletionCreateParamsNonStreaming\u001b[49m\u001b[43m,\u001b[49m\n\u001b[32m   1126\u001b[39m \u001b[43m        \u001b[49m\u001b[43m)\u001b[49m\u001b[43m,\u001b[49m\n\u001b[32m   1127\u001b[39m \u001b[43m        \u001b[49m\u001b[43moptions\u001b[49m\u001b[43m=\u001b[49m\u001b[43mmake_request_options\u001b[49m\u001b[43m(\u001b[49m\n\u001b[32m   1128\u001b[39m \u001b[43m            \u001b[49m\u001b[43mextra_headers\u001b[49m\u001b[43m=\u001b[49m\u001b[43mextra_headers\u001b[49m\u001b[43m,\u001b[49m\u001b[43m \u001b[49m\u001b[43mextra_query\u001b[49m\u001b[43m=\u001b[49m\u001b[43mextra_query\u001b[49m\u001b[43m,\u001b[49m\u001b[43m \u001b[49m\u001b[43mextra_body\u001b[49m\u001b[43m=\u001b[49m\u001b[43mextra_body\u001b[49m\u001b[43m,\u001b[49m\u001b[43m \u001b[49m\u001b[43mtimeout\u001b[49m\u001b[43m=\u001b[49m\u001b[43mtimeout\u001b[49m\n\u001b[32m   1129\u001b[39m \u001b[43m        \u001b[49m\u001b[43m)\u001b[49m\u001b[43m,\u001b[49m\n\u001b[32m   1130\u001b[39m \u001b[43m        \u001b[49m\u001b[43mcast_to\u001b[49m\u001b[43m=\u001b[49m\u001b[43mChatCompletion\u001b[49m\u001b[43m,\u001b[49m\n\u001b[32m   1131\u001b[39m \u001b[43m        \u001b[49m\u001b[43mstream\u001b[49m\u001b[43m=\u001b[49m\u001b[43mstream\u001b[49m\u001b[43m \u001b[49m\u001b[38;5;129;43;01mor\u001b[39;49;00m\u001b[43m \u001b[49m\u001b[38;5;28;43;01mFalse\u001b[39;49;00m\u001b[43m,\u001b[49m\n\u001b[32m   1132\u001b[39m \u001b[43m        \u001b[49m\u001b[43mstream_cls\u001b[49m\u001b[43m=\u001b[49m\u001b[43mStream\u001b[49m\u001b[43m[\u001b[49m\u001b[43mChatCompletionChunk\u001b[49m\u001b[43m]\u001b[49m\u001b[43m,\u001b[49m\n\u001b[32m   1133\u001b[39m \u001b[43m    \u001b[49m\u001b[43m)\u001b[49m\n",
      "\u001b[36mFile \u001b[39m\u001b[32mc:\\Users\\asus\\anaconda3\\envs\\llms\\Lib\\site-packages\\openai\\_base_client.py:1256\u001b[39m, in \u001b[36mSyncAPIClient.post\u001b[39m\u001b[34m(self, path, cast_to, body, options, files, stream, stream_cls)\u001b[39m\n\u001b[32m   1242\u001b[39m \u001b[38;5;28;01mdef\u001b[39;00m\u001b[38;5;250m \u001b[39m\u001b[34mpost\u001b[39m(\n\u001b[32m   1243\u001b[39m     \u001b[38;5;28mself\u001b[39m,\n\u001b[32m   1244\u001b[39m     path: \u001b[38;5;28mstr\u001b[39m,\n\u001b[32m   (...)\u001b[39m\u001b[32m   1251\u001b[39m     stream_cls: \u001b[38;5;28mtype\u001b[39m[_StreamT] | \u001b[38;5;28;01mNone\u001b[39;00m = \u001b[38;5;28;01mNone\u001b[39;00m,\n\u001b[32m   1252\u001b[39m ) -> ResponseT | _StreamT:\n\u001b[32m   1253\u001b[39m     opts = FinalRequestOptions.construct(\n\u001b[32m   1254\u001b[39m         method=\u001b[33m\"\u001b[39m\u001b[33mpost\u001b[39m\u001b[33m\"\u001b[39m, url=path, json_data=body, files=to_httpx_files(files), **options\n\u001b[32m   1255\u001b[39m     )\n\u001b[32m-> \u001b[39m\u001b[32m1256\u001b[39m     \u001b[38;5;28;01mreturn\u001b[39;00m cast(ResponseT, \u001b[38;5;28;43mself\u001b[39;49m\u001b[43m.\u001b[49m\u001b[43mrequest\u001b[49m\u001b[43m(\u001b[49m\u001b[43mcast_to\u001b[49m\u001b[43m,\u001b[49m\u001b[43m \u001b[49m\u001b[43mopts\u001b[49m\u001b[43m,\u001b[49m\u001b[43m \u001b[49m\u001b[43mstream\u001b[49m\u001b[43m=\u001b[49m\u001b[43mstream\u001b[49m\u001b[43m,\u001b[49m\u001b[43m \u001b[49m\u001b[43mstream_cls\u001b[49m\u001b[43m=\u001b[49m\u001b[43mstream_cls\u001b[49m\u001b[43m)\u001b[49m)\n",
      "\u001b[36mFile \u001b[39m\u001b[32mc:\\Users\\asus\\anaconda3\\envs\\llms\\Lib\\site-packages\\openai\\_base_client.py:1044\u001b[39m, in \u001b[36mSyncAPIClient.request\u001b[39m\u001b[34m(self, cast_to, options, stream, stream_cls)\u001b[39m\n\u001b[32m   1041\u001b[39m             err.response.read()\n\u001b[32m   1043\u001b[39m         log.debug(\u001b[33m\"\u001b[39m\u001b[33mRe-raising status error\u001b[39m\u001b[33m\"\u001b[39m)\n\u001b[32m-> \u001b[39m\u001b[32m1044\u001b[39m         \u001b[38;5;28;01mraise\u001b[39;00m \u001b[38;5;28mself\u001b[39m._make_status_error_from_response(err.response) \u001b[38;5;28;01mfrom\u001b[39;00m\u001b[38;5;250m \u001b[39m\u001b[38;5;28;01mNone\u001b[39;00m\n\u001b[32m   1046\u001b[39m     \u001b[38;5;28;01mbreak\u001b[39;00m\n\u001b[32m   1048\u001b[39m \u001b[38;5;28;01massert\u001b[39;00m response \u001b[38;5;129;01mis\u001b[39;00m \u001b[38;5;129;01mnot\u001b[39;00m \u001b[38;5;28;01mNone\u001b[39;00m, \u001b[33m\"\u001b[39m\u001b[33mcould not resolve response (should never happen)\u001b[39m\u001b[33m\"\u001b[39m\n",
      "\u001b[31mBadRequestError\u001b[39m: Error code: 400 - {'error': {'message': \"An assistant message with 'tool_calls' must be followed by tool messages responding to each 'tool_call_id'. The following tool_call_ids did not have response messages: call_CT6TIFGqwMKWApLlZiOQue49, call_ne3vtZos9pdylGmepqynuqOk\", 'type': 'invalid_request_error', 'param': 'messages', 'code': None}}"
     ]
    }
   ],
   "source": [
    "chat(\"What is the price of AAPL and AMZN? You can use tools to get price\")"
   ]
  },
  {
   "cell_type": "markdown",
   "id": "de075bb0",
   "metadata": {},
   "source": [
    "## New "
   ]
  }
 ],
 "metadata": {
  "kernelspec": {
   "display_name": "llms",
   "language": "python",
   "name": "python3"
  },
  "language_info": {
   "codemirror_mode": {
    "name": "ipython",
    "version": 3
   },
   "file_extension": ".py",
   "mimetype": "text/x-python",
   "name": "python",
   "nbconvert_exporter": "python",
   "pygments_lexer": "ipython3",
   "version": "3.11.13"
  }
 },
 "nbformat": 4,
 "nbformat_minor": 5
}
