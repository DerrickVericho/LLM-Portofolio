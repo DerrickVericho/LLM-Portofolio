{
 "cells": [
  {
   "cell_type": "markdown",
   "id": "9817a7d4",
   "metadata": {},
   "source": [
    "## Import Libraries"
   ]
  },
  {
   "cell_type": "markdown",
   "id": "45363c4f",
   "metadata": {},
   "source": [
    "Code reference from langchain academy course"
   ]
  },
  {
   "cell_type": "code",
   "execution_count": 4,
   "id": "24971ccd",
   "metadata": {},
   "outputs": [
    {
     "data": {
      "text/plain": [
       "True"
      ]
     },
     "execution_count": 4,
     "metadata": {},
     "output_type": "execute_result"
    }
   ],
   "source": [
    "from typing_extensions import TypedDict\n",
    "from typing import Literal, Annotated\n",
    "\n",
    "from langchain_core.messages import AIMessage, HumanMessage, SystemMessage, RemoveMessage, trim_messages, convert_to_messages\n",
    "from langchain_core.pydantic_v1 import BaseModel, validator, ValidationError\n",
    "from langchain_openai import ChatOpenAI\n",
    "from langgraph.graph import StateGraph, START, END, MessagesState\n",
    "from langgraph.graph.message import add_messages\n",
    "from langgraph.checkpoint.memory import MemorySaver\n",
    "from langgraph.checkpoint.sqlite import SqliteSaver\n",
    "from langgraph.prebuilt import ToolNode, tools_condition\n",
    "from langgraph_sdk import get_client\n",
    "\n",
    "import sqlite3\n",
    "import random\n",
    "from operator import add\n",
    "from dataclasses import dataclass\n",
    "from IPython.display import display, Image\n",
    "from dotenv import load_dotenv\n",
    "\n",
    "load_dotenv(override=True)"
   ]
  },
  {
   "cell_type": "markdown",
   "id": "66bacc40",
   "metadata": {},
   "source": [
    "# Intro"
   ]
  },
  {
   "cell_type": "markdown",
   "id": "f69492ae",
   "metadata": {},
   "source": [
    "## Simple Graph"
   ]
  },
  {
   "cell_type": "markdown",
   "id": "9acda7d4",
   "metadata": {},
   "source": [
    "### State"
   ]
  },
  {
   "cell_type": "markdown",
   "id": "b9946745",
   "metadata": {},
   "source": [
    "State are structured data flowing between edges\n",
    "Nodes are function that process and change state"
   ]
  },
  {
   "cell_type": "code",
   "execution_count": 8,
   "id": "f8c4233f",
   "metadata": {},
   "outputs": [],
   "source": [
    "class State(TypedDict):\n",
    "    graph_state: str"
   ]
  },
  {
   "cell_type": "code",
   "execution_count": 4,
   "id": "3f5f209f",
   "metadata": {},
   "outputs": [],
   "source": [
    "def node1(state: State) -> str:\n",
    "    print(\"=== Node 1 ===\")\n",
    "    return {\"graph_state\": state['graph_state'] + \" I invest in\"}\n",
    "\n",
    "def node2(state: State) -> str:\n",
    "    print(\"=== Node 2 ===\")\n",
    "    return {\"graph_state\": state['graph_state'] + \" Stocks\"}\n",
    "\n",
    "def node3(state: State) -> str:\n",
    "    print(\"=== Node 3 ===\")\n",
    "    return {\"graph_state\": state['graph_state'] + \" Crypto\"}"
   ]
  },
  {
   "cell_type": "markdown",
   "id": "ee75ddd5",
   "metadata": {},
   "source": [
    "### Edge"
   ]
  },
  {
   "cell_type": "markdown",
   "id": "1715e56f",
   "metadata": {},
   "source": [
    "Connecting state"
   ]
  },
  {
   "cell_type": "code",
   "execution_count": 5,
   "id": "374488bb",
   "metadata": {},
   "outputs": [],
   "source": [
    "# Conditional edge\n",
    "\n",
    "def decide_investment(state: State) -> Literal[\"node2\", \"node3\"]:\n",
    "    print(\"=== Decision Node ===\")\n",
    "    \n",
    "    input = state['graph_state']\n",
    "    \n",
    "    if random.random() < 0.5:\n",
    "        return \"node2\"\n",
    "    else:\n",
    "        return \"node3\""
   ]
  },
  {
   "cell_type": "markdown",
   "id": "67e4c0d2",
   "metadata": {},
   "source": [
    "### Graph"
   ]
  },
  {
   "cell_type": "code",
   "execution_count": 6,
   "id": "91e23a7c",
   "metadata": {},
   "outputs": [
    {
     "data": {
      "image/png": "[encoded data removed]",
      "text/plain": [
       "<IPython.core.display.Image object>"
      ]
     },
     "metadata": {},
     "output_type": "display_data"
    }
   ],
   "source": [
    "# Define the graph\n",
    "builder = StateGraph(State)\n",
    "builder.add_node(\"node1\", node1)\n",
    "builder.add_node(\"node2\", node2)\n",
    "builder.add_node(\"node3\", node3)\n",
    "\n",
    "# Set entrypoint\n",
    "# builder.set_entry_point(\"node1\")\n",
    "\n",
    "# Logic\n",
    "builder.add_edge(START, \"node1\")\n",
    "builder.add_conditional_edges(\"node1\", decide_investment)\n",
    "builder.add_edge(\"node2\", END)\n",
    "builder.add_edge(\"node3\", END)\n",
    "\n",
    "graph = builder.compile()\n",
    "display(Image(graph.get_graph().draw_mermaid_png()))"
   ]
  },
  {
   "cell_type": "code",
   "execution_count": 7,
   "id": "e0833615",
   "metadata": {},
   "outputs": [
    {
     "name": "stdout",
     "output_type": "stream",
     "text": [
      "=== Node 1 ===\n",
      "=== Decision Node ===\n",
      "=== Node 3 ===\n"
     ]
    },
    {
     "data": {
      "text/plain": [
       "{'graph_state': 'Hello,  I invest in Crypto'}"
      ]
     },
     "execution_count": 7,
     "metadata": {},
     "output_type": "execute_result"
    }
   ],
   "source": [
    "graph.invoke({\"graph_state\": \"Hello, \"})"
   ]
  },
  {
   "cell_type": "markdown",
   "id": "b8a1cebd",
   "metadata": {},
   "source": [
    "## Chain"
   ]
  },
  {
   "cell_type": "markdown",
   "id": "e1abac33",
   "metadata": {},
   "source": [
    "### Messages"
   ]
  },
  {
   "cell_type": "code",
   "execution_count": 2,
   "id": "70b250e3",
   "metadata": {},
   "outputs": [
    {
     "name": "stdout",
     "output_type": "stream",
     "text": [
      "==================================\u001b[1m Ai Message \u001b[0m==================================\n",
      "Name: Model\n",
      "\n",
      "Do you invest in Stock Market?\n",
      "================================\u001b[1m Human Message \u001b[0m=================================\n",
      "Name: Human\n",
      "\n",
      "Yes, that's right\n",
      "==================================\u001b[1m Ai Message \u001b[0m==================================\n",
      "Name: Model\n",
      "\n",
      "Nice, what would you like to learn\n",
      "================================\u001b[1m Human Message \u001b[0m=================================\n",
      "Name: Human\n",
      "\n",
      "I would like to learn about financial statement\n"
     ]
    }
   ],
   "source": [
    "messages = [\n",
    "    AIMessage(content=\"Do you invest in Stock Market?\", name=\"Model\"),\n",
    "    HumanMessage(content=\"Yes, that's right\", name=\"Human\"),\n",
    "    AIMessage(content=\"Nice, what would you like to learn\", name=\"Model\"),\n",
    "    HumanMessage(content=\"I would like to learn about financial statement\", name=\"Human\"),   \n",
    "]\n",
    "\n",
    "for m in messages:\n",
    "    m.pretty_print()"
   ]
  },
  {
   "cell_type": "markdown",
   "id": "d2f21328",
   "metadata": {},
   "source": [
    "### Chat Models"
   ]
  },
  {
   "cell_type": "code",
   "execution_count": 3,
   "id": "783c5c01",
   "metadata": {},
   "outputs": [
    {
     "data": {
      "text/plain": [
       "langchain_core.messages.ai.AIMessage"
      ]
     },
     "execution_count": 3,
     "metadata": {},
     "output_type": "execute_result"
    }
   ],
   "source": [
    "llm = ChatOpenAI(model=\"gpt-4o-mini\")\n",
    "result = llm.invoke(messages)\n",
    "type(result)"
   ]
  },
  {
   "cell_type": "code",
   "execution_count": 4,
   "id": "6b4fc41b",
   "metadata": {},
   "outputs": [
    {
     "name": "stdout",
     "output_type": "stream",
     "text": [
      "Financial statements are crucial for understanding a company's financial health and making informed investment decisions. Here are the three primary financial statements you should be familiar with:\n",
      "\n",
      "1. **Income Statement**: \n",
      "   - Also known as the profit and loss statement, it summarizes a company's revenues and expenses over a specific period, usually a quarter or a year.\n",
      "   - Key components:\n",
      "     - **Revenue**: The total income generated from sales of goods or services.\n",
      "     - **Cost of Goods Sold (COGS)**: The direct costs attributable to the production of the goods sold by the company.\n",
      "     - **Gross Profit**: Revenue minus COGS.\n",
      "     - **Operating Expenses**: Costs required to run the business (such as selling, general, and administrative expenses).\n",
      "     - **Net Income**: The profit after all expenses, taxes, and costs have been deducted from total revenue.\n",
      "\n",
      "2. **Balance Sheet**: \n",
      "   - A snapshot of a company's financial position at a specific point in time, detailing assets, liabilities, and equity.\n",
      "   - Key components:\n",
      "     - **Assets**: Resources owned by the company, categorized as current (cash, inventory) and non-current (property, equipment).\n",
      "     - **Liabilities**: Obligations the company owes to outside parties, also categorized as current (short-term debt) and long-term (bonds payable).\n",
      "     - **Equity**: The residual interest in the assets of the company after deducting liabilities, representing ownership (common stock, retained earnings).\n",
      "\n",
      "3. **Cash Flow Statement**: \n",
      "   - This statement shows how cash moves in and out of the company over a certain period and is divided into three sections: operating, investing, and financing activities.\n",
      "   - Key components:\n",
      "     - **Operating Activities**: Cash flows from the core business operations, including receipts from sales and payments for expenses.\n",
      "     - **Investing Activities**: Cash flows from buying or selling physical or financial assets, like purchasing equipment or investments.\n",
      "     - **Financing Activities**: Cash flows related to borrowing or repaying debt, and issuing or buying back stock.\n",
      "\n",
      "**Understanding Financial Ratios**: \n",
      "\n",
      "Once you have a grip on the financial statements, analyzing key ratios can give you insights into the company's performance:\n",
      "- **Profitability Ratios** (e.g., return on equity, net profit margin)\n",
      "- **Liquidity Ratios** (e.g., current ratio, quick ratio)\n",
      "- **Leverage Ratios** (e.g., debt-to-equity ratio)\n",
      "- **Efficiency Ratios** (e.g., inventory turnover, accounts receivable turnover)\n",
      "\n",
      "Would you like to explore any particular aspect of financial statements or ratios further?\n"
     ]
    }
   ],
   "source": [
    "print(result.content)"
   ]
  },
  {
   "cell_type": "code",
   "execution_count": 5,
   "id": "6275b080",
   "metadata": {},
   "outputs": [
    {
     "data": {
      "text/plain": [
       "{'token_usage': {'completion_tokens': 541,\n",
       "  'prompt_tokens': 54,\n",
       "  'total_tokens': 595,\n",
       "  'completion_tokens_details': {'accepted_prediction_tokens': 0,\n",
       "   'audio_tokens': 0,\n",
       "   'reasoning_tokens': 0,\n",
       "   'rejected_prediction_tokens': 0},\n",
       "  'prompt_tokens_details': {'audio_tokens': 0, 'cached_tokens': 0}},\n",
       " 'model_name': 'gpt-4o-mini-2024-07-18',\n",
       " 'system_fingerprint': 'fp_51db84afab',\n",
       " 'id': 'chatcmpl-C8ILNZYubVGo9zLQTmvZHVQ3NkHBf',\n",
       " 'service_tier': 'default',\n",
       " 'finish_reason': 'stop',\n",
       " 'logprobs': None}"
      ]
     },
     "execution_count": 5,
     "metadata": {},
     "output_type": "execute_result"
    }
   ],
   "source": [
    "result.response_metadata"
   ]
  },
  {
   "cell_type": "markdown",
   "id": "cbd73749",
   "metadata": {},
   "source": [
    "### Tools"
   ]
  },
  {
   "cell_type": "code",
   "execution_count": 6,
   "id": "63de5fa3",
   "metadata": {},
   "outputs": [],
   "source": [
    "# Simple tool function\n",
    "def multiply(a: int, b: int) -> int:\n",
    "    return a * b\n",
    "\n",
    "llm_tool = llm.bind_tools([multiply])"
   ]
  },
  {
   "cell_type": "code",
   "execution_count": 7,
   "id": "6ea47e68",
   "metadata": {},
   "outputs": [],
   "source": [
    "tool_call = llm_tool.invoke([HumanMessage(content=\"What is 50 x 12?\")])"
   ]
  },
  {
   "cell_type": "code",
   "execution_count": 8,
   "id": "a25578fe",
   "metadata": {},
   "outputs": [
    {
     "data": {
      "text/plain": [
       "[{'id': 'call_OfUsCwhME1AfcE4qfXgDAZXK',\n",
       "  'function': {'arguments': '{\"a\":50,\"b\":12}', 'name': 'multiply'},\n",
       "  'type': 'function'}]"
      ]
     },
     "execution_count": 8,
     "metadata": {},
     "output_type": "execute_result"
    }
   ],
   "source": [
    "tool_call.additional_kwargs['tool_calls']"
   ]
  },
  {
   "cell_type": "code",
   "execution_count": 9,
   "id": "2e98a068",
   "metadata": {},
   "outputs": [
    {
     "data": {
      "text/plain": [
       "[{'name': 'multiply',\n",
       "  'args': {'a': 50, 'b': 12},\n",
       "  'id': 'call_OfUsCwhME1AfcE4qfXgDAZXK',\n",
       "  'type': 'tool_call'}]"
      ]
     },
     "execution_count": 9,
     "metadata": {},
     "output_type": "execute_result"
    }
   ],
   "source": [
    "tool_call.tool_calls"
   ]
  },
  {
   "cell_type": "markdown",
   "id": "a589188d",
   "metadata": {},
   "source": [
    "### MessagesState + MemorySaver checkpoint"
   ]
  },
  {
   "cell_type": "code",
   "execution_count": null,
   "id": "73f8347c",
   "metadata": {},
   "outputs": [
    {
     "data": {
      "text/plain": [
       "[AIMessage(content='Hello! How can I assist you?', additional_kwargs={}, response_metadata={}, name='Model', id='e278be8e-e4a8-48a5-bc93-48e12712f88d'),\n",
       " HumanMessage(content=\"I'm looking for information on marine biology.\", additional_kwargs={}, response_metadata={}, name='Lance', id='8c3d28f0-73e1-402b-aff1-71dd2b38242e'),\n",
       " AIMessage(content='Sure, I can help with that. What specifically are you interested in?', additional_kwargs={}, response_metadata={}, name='Model', id='6882c5b8-e92a-4158-8039-1c48ec52d96c')]"
      ]
     },
     "execution_count": 10,
     "metadata": {},
     "output_type": "execute_result"
    }
   ],
   "source": [
    "# Example add_messages with langgraph.graph.messages\n",
    "initial_messages = [AIMessage(content=\"Hello! How can I assist you?\", name=\"Model\"),\n",
    "                    HumanMessage(content=\"I'm looking for information on marine biology.\", name=\"Lance\")]\n",
    "\n",
    "# New message to add\n",
    "new_message = AIMessage(content=\"Sure, I can help with that. What specifically are you interested in?\", name=\"Model\")\n",
    "\n",
    "# Test\n",
    "add_messages(initial_messages , new_message)"
   ]
  },
  {
   "cell_type": "code",
   "execution_count": 12,
   "id": "ddc5ecad",
   "metadata": {},
   "outputs": [],
   "source": [
    "class MessageState(MessagesState):\n",
    "    pass"
   ]
  },
  {
   "cell_type": "code",
   "execution_count": 30,
   "id": "1ed008b0",
   "metadata": {},
   "outputs": [
    {
     "data": {
      "image/png": "[encoded data removed]",
      "text/plain": [
       "<IPython.core.display.Image object>"
      ]
     },
     "metadata": {},
     "output_type": "display_data"
    }
   ],
   "source": [
    "memory = MemorySaver()\n",
    "\n",
    "def tooling_llm(state: MessageState):\n",
    "    return {\"messages\": [llm_tool.invoke(state[\"messages\"])]}\n",
    "\n",
    "builder = StateGraph(MessageState)\n",
    "builder.add_node(\"llm_tool\", tooling_llm)\n",
    "builder.add_edge(START, \"llm_tool\")\n",
    "builder.add_edge(\"llm_tool\", END)\n",
    "\n",
    "graph = builder.compile(checkpointer=memory)\n",
    "display(Image(graph.get_graph().draw_mermaid_png()))"
   ]
  },
  {
   "cell_type": "code",
   "execution_count": 31,
   "id": "37fe03f3",
   "metadata": {},
   "outputs": [],
   "source": [
    "config = {\"configurable\": {\"thread_id\": \"BangDer\"}}"
   ]
  },
  {
   "cell_type": "code",
   "execution_count": 32,
   "id": "24233a4a",
   "metadata": {},
   "outputs": [],
   "source": [
    "message = graph.invoke({\"messages\": [HumanMessage(content=\"Hello\")]}, config=config)"
   ]
  },
  {
   "cell_type": "code",
   "execution_count": 33,
   "id": "fc162180",
   "metadata": {},
   "outputs": [
    {
     "name": "stdout",
     "output_type": "stream",
     "text": [
      "Hello\n",
      "Hello! How can I assist you today?\n"
     ]
    }
   ],
   "source": [
    "for m in message['messages']:\n",
    "    print(m.content)"
   ]
  },
  {
   "cell_type": "code",
   "execution_count": 34,
   "id": "e07743ac",
   "metadata": {},
   "outputs": [],
   "source": [
    "message = graph.invoke({\"messages\": [HumanMessage(content=\"What is Jakarta most visited mall\")]}, config=config)"
   ]
  },
  {
   "cell_type": "code",
   "execution_count": 35,
   "id": "1b6f286a",
   "metadata": {},
   "outputs": [
    {
     "name": "stdout",
     "output_type": "stream",
     "text": [
      "Hello\n",
      "Hello! How can I assist you today?\n",
      "What is Jakarta most visited mall\n",
      "The most visited mall in Jakarta is often considered to be \"Grand Indonesia.\" It is a large shopping complex that offers a wide range of shopping, dining, and entertainment options. Grand Indonesia is known for its upscale brands, diverse food choices, and vibrant atmosphere, making it a popular destination for both locals and tourists. Other notable malls in Jakarta include Plaza Indonesia and Mall Taman Anggrek.\n"
     ]
    }
   ],
   "source": [
    "for m in message['messages']:\n",
    "    print(m.content)"
   ]
  },
  {
   "cell_type": "code",
   "execution_count": 46,
   "id": "3284e4ea",
   "metadata": {},
   "outputs": [
    {
     "name": "stdout",
     "output_type": "stream",
     "text": [
      "Hello\n",
      "Hello! How can I assist you today?\n",
      "What is Jakarta most visited mall\n",
      "The most visited mall in Jakarta is often considered to be \"Grand Indonesia.\" It is a large shopping complex that offers a wide range of shopping, dining, and entertainment options. Grand Indonesia is known for its upscale brands, diverse food choices, and vibrant atmosphere, making it a popular destination for both locals and tourists. Other notable malls in Jakarta include Plaza Indonesia and Mall Taman Anggrek.\n"
     ]
    }
   ],
   "source": [
    "state = graph.get_state(config=config)\n",
    "for message in state.values['messages']:\n",
    "    print(message.content)"
   ]
  },
  {
   "cell_type": "markdown",
   "id": "589eb836",
   "metadata": {},
   "source": [
    "## Router"
   ]
  },
  {
   "cell_type": "code",
   "execution_count": 19,
   "id": "fae96972",
   "metadata": {},
   "outputs": [],
   "source": [
    "class MessageState(MessagesState):\n",
    "    pass\n",
    "\n",
    "def multiply(a: int, b: int) -> int:\n",
    "    \"\"\"Multiply a and b\"\"\"\n",
    "    return a * b\n",
    "\n",
    "llm = ChatOpenAI(model=\"gpt-4o-mini\")\n",
    "llm_tool = llm.bind_tools([multiply])"
   ]
  },
  {
   "cell_type": "code",
   "execution_count": 27,
   "id": "58b13cc0",
   "metadata": {},
   "outputs": [
    {
     "data": {
      "image/png": "[encoded data removed]",
      "text/plain": [
       "<IPython.core.display.Image object>"
      ]
     },
     "metadata": {},
     "output_type": "display_data"
    }
   ],
   "source": [
    "def tool_with_llm(state: MessageState):\n",
    "    return {\"messages\": [llm_tool.invoke(state[\"messages\"])]}\n",
    "\n",
    "memory = MemorySaver()\n",
    "builder = StateGraph(MessageState)\n",
    "builder.add_node(\"llm_tool\", tool_with_llm)\n",
    "builder.add_node(\"tools\", ToolNode([multiply]))\n",
    "\n",
    "builder.add_edge(START, \"llm_tool\")\n",
    "builder.add_conditional_edges(\"llm_tool\", tools_condition)\n",
    "builder.add_edge(\"tools\", END)\n",
    "\n",
    "graph = builder.compile(checkpointer=memory)\n",
    "display(Image(graph.get_graph().draw_mermaid_png()))"
   ]
  },
  {
   "cell_type": "code",
   "execution_count": 32,
   "id": "37adf08d",
   "metadata": {},
   "outputs": [],
   "source": [
    "config = {\"configurable\": {\"thread_id\": \"User2\"}}"
   ]
  },
  {
   "cell_type": "code",
   "execution_count": null,
   "id": "32252797",
   "metadata": {},
   "outputs": [],
   "source": [
    "messages = [HumanMessage(content=\"What is 50 x 12?\")]\n",
    "result = graph.invoke({\"messages\": messages}, config=config)"
   ]
  },
  {
   "cell_type": "code",
   "execution_count": 36,
   "id": "64f97ba5",
   "metadata": {},
   "outputs": [],
   "source": [
    "messages = [HumanMessage(content=\"Explain multiplier for 5 years kids\")]\n",
    "result = graph.invoke({\"messages\": messages}, config=config)"
   ]
  },
  {
   "cell_type": "code",
   "execution_count": null,
   "id": "27a038a9",
   "metadata": {},
   "outputs": [
    {
     "name": "stdout",
     "output_type": "stream",
     "text": [
      "What is 50 x 12?\n",
      "\n",
      "600\n",
      "Explain multiplier for 5 years kids\n",
      "A multiplier is like a magic number that helps us add the same number many times. \n",
      "\n",
      "Imagine you have 5 groups of 2 apples. Instead of counting each apple one by one, you can use a multiplier to make it faster. If you say \"2 apples\" and then \"5 groups,\" you can find out how many apples there are in total by multiplying:\n",
      "\n",
      "- So, 2 apples in each group × 5 groups = 10 apples.\n",
      "\n",
      "This way, multiplying helps us find big numbers quickly without counting everything one by one!\n"
     ]
    }
   ],
   "source": [
    "for m in result['messages']:\n",
    "    print(m.content) "
   ]
  },
  {
   "cell_type": "markdown",
   "id": "616f264d",
   "metadata": {},
   "source": [
    "## Agent"
   ]
  },
  {
   "cell_type": "code",
   "execution_count": 5,
   "id": "856cec12",
   "metadata": {},
   "outputs": [],
   "source": [
    "def multiply(a: int, b: int) -> int:\n",
    "    \"\"\"Multiply a and b.\n",
    "\n",
    "    Args:\n",
    "        a: first int\n",
    "        b: second int\n",
    "    \"\"\"\n",
    "    return a * b\n",
    "\n",
    "# This will be a tool\n",
    "def add(a: int, b: int) -> int:\n",
    "    \"\"\"Adds a and b.\n",
    "\n",
    "    Args:\n",
    "        a: first int\n",
    "        b: second int\n",
    "    \"\"\"\n",
    "    return a + b\n",
    "\n",
    "def divide(a: int, b: int) -> float:\n",
    "    \"\"\"Divide a and b.\n",
    "\n",
    "    Args:\n",
    "        a: first int\n",
    "        b: second int\n",
    "    \"\"\"\n",
    "    return a / b\n",
    "\n",
    "tools = [add, multiply, divide]\n",
    "llm = ChatOpenAI(model=\"gpt-4o\")\n",
    "llm_tools = llm.bind_tools(tools)"
   ]
  },
  {
   "cell_type": "code",
   "execution_count": 7,
   "id": "7b1d4ab8",
   "metadata": {},
   "outputs": [],
   "source": [
    "sys_prompt = SystemMessage(content=\"You are a helpful assistant tasked with writing performing arithmetic on a set of inputs.\")\n",
    "def assistant(state: MessagesState):\n",
    "    return {\"messages\": [llm_tools.invoke([sys_prompt] + state[\"messages\"])]}"
   ]
  },
  {
   "cell_type": "markdown",
   "id": "17ab148a",
   "metadata": {},
   "source": [
    "The main idea of agent is we can node back to assistant node to process next tool if needed"
   ]
  },
  {
   "cell_type": "code",
   "execution_count": 33,
   "id": "d3c55eb1",
   "metadata": {},
   "outputs": [
    {
     "data": {
      "image/png": "[encoded data removed]",
      "text/plain": [
       "<IPython.core.display.Image object>"
      ]
     },
     "metadata": {},
     "output_type": "display_data"
    }
   ],
   "source": [
    "memory = MemorySaver()\n",
    "\n",
    "builder = StateGraph(MessagesState)\n",
    "builder.add_node(\"calculator\", assistant)\n",
    "builder.add_node(\"tools\", ToolNode(tools))\n",
    "\n",
    "builder.add_edge(START, \"calculator\")\n",
    "builder.add_conditional_edges(\"calculator\", tools_condition)\n",
    "builder.add_edge(\"tools\", \"calculator\")\n",
    "graph = builder.compile(checkpointer=memory)\n",
    "display(Image(graph.get_graph().draw_mermaid_png()))"
   ]
  },
  {
   "cell_type": "code",
   "execution_count": 34,
   "id": "e550f792",
   "metadata": {},
   "outputs": [],
   "source": [
    "config = {\"configurable\": {\"thread_id\": \"User3\"}}\n",
    "messages = [HumanMessage(content=\"Add 10 and 50 then multiply with 5 then divide with 2\")]\n",
    "result = graph.invoke({\"messages\": messages}, config=config)"
   ]
  },
  {
   "cell_type": "code",
   "execution_count": 35,
   "id": "10057c53",
   "metadata": {},
   "outputs": [
    {
     "name": "stdout",
     "output_type": "stream",
     "text": [
      "================================\u001b[1m Human Message \u001b[0m=================================\n",
      "\n",
      "Add 10 and 50 then multiply with 5 then divide with 2\n",
      "==================================\u001b[1m Ai Message \u001b[0m==================================\n",
      "Tool Calls:\n",
      "  add (call_OqduzNisLVGplpHUbkQKiR99)\n",
      " Call ID: call_OqduzNisLVGplpHUbkQKiR99\n",
      "  Args:\n",
      "    a: 10\n",
      "    b: 50\n",
      "  multiply (call_6mqcYBm7rjb6sTt2ZoDkHnUm)\n",
      " Call ID: call_6mqcYBm7rjb6sTt2ZoDkHnUm\n",
      "  Args:\n",
      "    a: 60\n",
      "    b: 5\n",
      "  divide (call_3pKIzfrWwRgcx4SYejpPh4fV)\n",
      " Call ID: call_3pKIzfrWwRgcx4SYejpPh4fV\n",
      "  Args:\n",
      "    a: 300\n",
      "    b: 2\n",
      "=================================\u001b[1m Tool Message \u001b[0m=================================\n",
      "Name: add\n",
      "\n",
      "60\n",
      "=================================\u001b[1m Tool Message \u001b[0m=================================\n",
      "Name: multiply\n",
      "\n",
      "300\n",
      "=================================\u001b[1m Tool Message \u001b[0m=================================\n",
      "Name: divide\n",
      "\n",
      "150.0\n",
      "==================================\u001b[1m Ai Message \u001b[0m==================================\n",
      "\n",
      "Here's the step-by-step calculation:\n",
      "\n",
      "1. Add 10 and 50: \\(10 + 50 = 60\\)\n",
      "2. Multiply the result by 5: \\(60 \\times 5 = 300\\)\n",
      "3. Divide the result by 2: \\(300 \\div 2 = 150.0\\)\n",
      "\n",
      "So the final result is \\(150.0\\).\n"
     ]
    }
   ],
   "source": [
    "for message in result[\"messages\"]:\n",
    "    message.pretty_print()"
   ]
  },
  {
   "cell_type": "code",
   "execution_count": 37,
   "id": "8347ad04",
   "metadata": {},
   "outputs": [],
   "source": [
    "messages = [HumanMessage(content=\"Give me some fact based on that number\")]\n",
    "result = graph.invoke({\"messages\": messages}, config=config)"
   ]
  },
  {
   "cell_type": "code",
   "execution_count": 38,
   "id": "76011e20",
   "metadata": {},
   "outputs": [
    {
     "name": "stdout",
     "output_type": "stream",
     "text": [
      "================================\u001b[1m Human Message \u001b[0m=================================\n",
      "\n",
      "Add 10 and 50 then multiply with 5 then divide with 2\n",
      "==================================\u001b[1m Ai Message \u001b[0m==================================\n",
      "Tool Calls:\n",
      "  add (call_OqduzNisLVGplpHUbkQKiR99)\n",
      " Call ID: call_OqduzNisLVGplpHUbkQKiR99\n",
      "  Args:\n",
      "    a: 10\n",
      "    b: 50\n",
      "  multiply (call_6mqcYBm7rjb6sTt2ZoDkHnUm)\n",
      " Call ID: call_6mqcYBm7rjb6sTt2ZoDkHnUm\n",
      "  Args:\n",
      "    a: 60\n",
      "    b: 5\n",
      "  divide (call_3pKIzfrWwRgcx4SYejpPh4fV)\n",
      " Call ID: call_3pKIzfrWwRgcx4SYejpPh4fV\n",
      "  Args:\n",
      "    a: 300\n",
      "    b: 2\n",
      "=================================\u001b[1m Tool Message \u001b[0m=================================\n",
      "Name: add\n",
      "\n",
      "60\n",
      "=================================\u001b[1m Tool Message \u001b[0m=================================\n",
      "Name: multiply\n",
      "\n",
      "300\n",
      "=================================\u001b[1m Tool Message \u001b[0m=================================\n",
      "Name: divide\n",
      "\n",
      "150.0\n",
      "==================================\u001b[1m Ai Message \u001b[0m==================================\n",
      "\n",
      "Here's the step-by-step calculation:\n",
      "\n",
      "1. Add 10 and 50: \\(10 + 50 = 60\\)\n",
      "2. Multiply the result by 5: \\(60 \\times 5 = 300\\)\n",
      "3. Divide the result by 2: \\(300 \\div 2 = 150.0\\)\n",
      "\n",
      "So the final result is \\(150.0\\).\n",
      "================================\u001b[1m Human Message \u001b[0m=================================\n",
      "\n",
      "Add with 5\n",
      "==================================\u001b[1m Ai Message \u001b[0m==================================\n",
      "Tool Calls:\n",
      "  add (call_2M0N9CBUD3MKYbBzlehTxMFw)\n",
      " Call ID: call_2M0N9CBUD3MKYbBzlehTxMFw\n",
      "  Args:\n",
      "    a: 150\n",
      "    b: 5\n",
      "=================================\u001b[1m Tool Message \u001b[0m=================================\n",
      "Name: add\n",
      "\n",
      "155\n",
      "================================\u001b[1m Human Message \u001b[0m=================================\n",
      "\n",
      "Give me some fact based on that number\n",
      "==================================\u001b[1m Ai Message \u001b[0m==================================\n",
      "\n",
      "Sure! Here are some interesting facts about the number 155:\n",
      "\n",
      "1. **Mathematical Properties:**\n",
      "   - **Odd Number**: 155 is an odd number.\n",
      "   - **Composite Number**: It is a composite number with divisors 1, 5, 31, and 155.\n",
      "   - **Prime Factorization**: The prime factorization of 155 is \\(5 \\times 31\\).\n",
      "\n",
      "2. **In History:**\n",
      "   - The year 155 AD was a common year starting on Thursday of the Julian calendar. This year marked the consulship of Verus and Quadratus in the Roman Empire.\n",
      "\n",
      "3. **In Geography:**\n",
      "   - In certain areas, the number 155 may be used as part of phone numbers or emergency services (though not universally).\n",
      "\n",
      "4. **In Technology:**\n",
      "   - Some internet routers or systems might use 155 as part of an IP address for specific subnetworks.\n",
      "\n",
      "5. **Interesting Tidbit:**\n",
      "   - If you sum the digits of 155 (1 + 5 + 5), you get 11, which is a prime number.\n",
      "\n",
      "These are just a few interesting insights regarding the number 155!\n"
     ]
    }
   ],
   "source": [
    "for message in result[\"messages\"]:\n",
    "    message.pretty_print()"
   ]
  },
  {
   "cell_type": "markdown",
   "id": "f5f677ec",
   "metadata": {},
   "source": [
    "## Deployment"
   ]
  },
  {
   "cell_type": "code",
   "execution_count": 45,
   "id": "85636ad4",
   "metadata": {},
   "outputs": [
    {
     "data": {
      "text/plain": [
       "[{'assistant_id': 'fe096781-5601-53d2-b2f6-0d3403f7e9ca',\n",
       "  'graph_id': 'agent',\n",
       "  'config': {},\n",
       "  'context': {},\n",
       "  'metadata': {'created_by': 'system'},\n",
       "  'name': 'agent',\n",
       "  'created_at': '2025-08-26T09:51:25.429747+00:00',\n",
       "  'updated_at': '2025-08-26T09:51:25.429747+00:00',\n",
       "  'version': 1,\n",
       "  'description': None},\n",
       " {'assistant_id': '228f9934-0cdd-5383-92c8-ee8422522cc2',\n",
       "  'graph_id': 'router',\n",
       "  'config': {},\n",
       "  'context': {},\n",
       "  'metadata': {'created_by': 'system'},\n",
       "  'name': 'router',\n",
       "  'created_at': '2025-08-26T09:51:25.402920+00:00',\n",
       "  'updated_at': '2025-08-26T09:51:25.402920+00:00',\n",
       "  'version': 1,\n",
       "  'description': None},\n",
       " {'assistant_id': '28d99cab-ad6c-5342-aee5-400bd8dc9b8b',\n",
       "  'graph_id': 'simple_graph',\n",
       "  'config': {},\n",
       "  'context': {},\n",
       "  'metadata': {'created_by': 'system'},\n",
       "  'name': 'simple_graph',\n",
       "  'created_at': '2025-08-26T09:51:24.294212+00:00',\n",
       "  'updated_at': '2025-08-26T09:51:24.294212+00:00',\n",
       "  'version': 1,\n",
       "  'description': None}]"
      ]
     },
     "execution_count": 45,
     "metadata": {},
     "output_type": "execute_result"
    }
   ],
   "source": [
    "URL = \"http://127.0.0.1:2024\"\n",
    "client = get_client(url=URL)\n",
    "\n",
    "# Search all hosted graphs\n",
    "assistant = await client.assistants.search()\n",
    "assistant"
   ]
  },
  {
   "cell_type": "code",
   "execution_count": 48,
   "id": "3ef68b7e",
   "metadata": {},
   "outputs": [],
   "source": [
    "# We create a thread for tracking the state of our run\n",
    "thread = await client.threads.create()\n",
    "\n",
    "# Define the agent\n",
    "agent = assistant[0]"
   ]
  },
  {
   "cell_type": "code",
   "execution_count": 56,
   "id": "fcc43cd2",
   "metadata": {},
   "outputs": [
    {
     "name": "stdout",
     "output_type": "stream",
     "text": [
      "Add 5 and 50 then multiply by 3\n",
      "\n",
      "165\n",
      "The result of adding \\(5\\) and \\(50\\) is \\(55\\), and then multiplying that by \\(3\\) results in \\(165\\).\n"
     ]
    }
   ],
   "source": [
    "input = {\"messages\": [HumanMessage(content=\"Add 5 and 50 then multiply by 3\")]}\n",
    "\n",
    "# Stream\n",
    "async for chunk in client.runs.stream(\n",
    "        thread['thread_id'],\n",
    "        agent[\"assistant_id\"],\n",
    "        input=input,\n",
    "        stream_mode=\"values\",\n",
    "    ):\n",
    "    if chunk.data and chunk.event != \"metadata\":\n",
    "        print(chunk.data['messages'][-1]['content'])"
   ]
  },
  {
   "cell_type": "markdown",
   "id": "27c867c2",
   "metadata": {},
   "source": [
    "# State and Memory"
   ]
  },
  {
   "cell_type": "markdown",
   "id": "2f2b0c2e",
   "metadata": {},
   "source": [
    "## State Schema"
   ]
  },
  {
   "cell_type": "markdown",
   "id": "0eee8423",
   "metadata": {},
   "source": [
    "### Typed Dict"
   ]
  },
  {
   "cell_type": "code",
   "execution_count": 2,
   "id": "ae038a1a",
   "metadata": {},
   "outputs": [
    {
     "data": {
      "image/png": "[encoded data removed]",
      "text/plain": [
       "<IPython.core.display.Image object>"
      ]
     },
     "metadata": {},
     "output_type": "display_data"
    }
   ],
   "source": [
    "class TypedState(TypedDict):\n",
    "    name: str\n",
    "    asset: Literal[\"Stock\", \"Bonds\", \"Crypto\"]\n",
    "    \n",
    "def node1(state: TypedState):\n",
    "    print(\"===Node 1===\")\n",
    "    return {\"name\": state['name']}\n",
    "\n",
    "def node2(state: TypedState):\n",
    "    print(\"===Node 2===\")\n",
    "    return {\"asset\": \"Stock\"}\n",
    "\n",
    "def node3(state: TypedState):\n",
    "    print(\"===Node 2===\")\n",
    "    return {\"asset\": \"Bonds\"}\n",
    "\n",
    "def node4(state: TypedState):\n",
    "    print(\"===Node 3===\")\n",
    "    return {\"asset\": \"Crypto\"}\n",
    "\n",
    "\n",
    "def decide_asset(state: TypedState) -> Literal[\"node2\", \"node3\", \"node4\"]:\n",
    "    prob = random.random()\n",
    "    \n",
    "    if prob < 0.33:\n",
    "        return \"node2\"\n",
    "    \n",
    "    if prob < 0.67:\n",
    "        return \"node3\"\n",
    "    \n",
    "    return \"node4\"\n",
    "\n",
    "builder = StateGraph(TypedState)\n",
    "builder.add_node(\"node1\", node1)\n",
    "builder.add_node(\"node2\", node2)\n",
    "builder.add_node(\"node3\", node3)\n",
    "builder.add_node(\"node4\", node4)\n",
    "\n",
    "builder.add_edge(START, \"node1\")\n",
    "builder.add_conditional_edges(\"node1\", decide_asset)\n",
    "builder.add_edge(\"node2\", END)\n",
    "builder.add_edge(\"node3\", END)\n",
    "builder.add_edge(\"node4\", END)\n",
    "\n",
    "graph = builder.compile()\n",
    "display(Image(graph.get_graph().draw_mermaid_png()))"
   ]
  },
  {
   "cell_type": "code",
   "execution_count": 3,
   "id": "4531297c",
   "metadata": {},
   "outputs": [
    {
     "name": "stdout",
     "output_type": "stream",
     "text": [
      "===Node 1===\n",
      "===Node 2===\n"
     ]
    },
    {
     "data": {
      "text/plain": [
       "{'name': 'Bangder', 'asset': 'Stock'}"
      ]
     },
     "execution_count": 3,
     "metadata": {},
     "output_type": "execute_result"
    }
   ],
   "source": [
    "graph.invoke({\"name\": \"Bangder\"})"
   ]
  },
  {
   "cell_type": "markdown",
   "id": "500b7d63",
   "metadata": {},
   "source": [
    "### Dataclass"
   ]
  },
  {
   "cell_type": "code",
   "execution_count": 4,
   "id": "0b6dbc62",
   "metadata": {},
   "outputs": [
    {
     "data": {
      "image/png": "[encoded data removed]",
      "text/plain": [
       "<IPython.core.display.Image object>"
      ]
     },
     "metadata": {},
     "output_type": "display_data"
    }
   ],
   "source": [
    "@dataclass\n",
    "class ClassState:\n",
    "    name: str\n",
    "    asset: Literal[\"Stock\", \"Bonds\", \"Crypto\"] = \"Stock\"\n",
    "\n",
    "def node1(state: ClassState):\n",
    "    print(\"===Node 1===\")\n",
    "    return {\"name\": state.name}\n",
    "\n",
    "def node2(state: ClassState):\n",
    "    print(\"===Node 2===\")\n",
    "    return {\"asset\": \"Stock\"}\n",
    "\n",
    "def node3(state: ClassState):\n",
    "    print(\"===Node 2===\")\n",
    "    return {\"asset\": \"Bonds\"}\n",
    "\n",
    "def node4(state: ClassState):\n",
    "    print(\"===Node 3===\")\n",
    "    return {\"asset\": \"Crypto\"}\n",
    "\n",
    "\n",
    "def decide_asset(state: ClassState) -> Literal[\"node2\", \"node3\", \"node4\"]:\n",
    "    prob = random.random()\n",
    "    \n",
    "    if prob < 0.33:\n",
    "        return \"node2\"\n",
    "    \n",
    "    if prob < 0.67:\n",
    "        return \"node3\"\n",
    "    \n",
    "    return \"node4\"\n",
    "\n",
    "builder = StateGraph(ClassState)\n",
    "builder.add_node(\"node1\", node1)\n",
    "builder.add_node(\"node2\", node2)\n",
    "builder.add_node(\"node3\", node3)\n",
    "builder.add_node(\"node4\", node4)\n",
    "\n",
    "builder.add_edge(START, \"node1\")\n",
    "builder.add_conditional_edges(\"node1\", decide_asset)\n",
    "builder.add_edge(\"node2\", END)\n",
    "builder.add_edge(\"node3\", END)\n",
    "builder.add_edge(\"node4\", END)\n",
    "\n",
    "graph = builder.compile()\n",
    "display(Image(graph.get_graph().draw_mermaid_png()))"
   ]
  },
  {
   "cell_type": "code",
   "execution_count": 5,
   "id": "a69cc8c8",
   "metadata": {},
   "outputs": [
    {
     "name": "stdout",
     "output_type": "stream",
     "text": [
      "===Node 1===\n",
      "===Node 2===\n"
     ]
    },
    {
     "data": {
      "text/plain": [
       "{'name': 'Bangder', 'asset': 'Stock'}"
      ]
     },
     "execution_count": 5,
     "metadata": {},
     "output_type": "execute_result"
    }
   ],
   "source": [
    "graph.invoke({\"name\": \"Bangder\", \"asset\": \"Any\"})"
   ]
  },
  {
   "cell_type": "markdown",
   "id": "6a196faf",
   "metadata": {},
   "source": [
    "Dataclass provide type hint but they dont enforce type"
   ]
  },
  {
   "cell_type": "markdown",
   "id": "fe51cfa8",
   "metadata": {},
   "source": [
    "### Pydantic"
   ]
  },
  {
   "cell_type": "code",
   "execution_count": 6,
   "id": "5f32ea2f",
   "metadata": {},
   "outputs": [
    {
     "name": "stdout",
     "output_type": "stream",
     "text": [
      "Error:  1 validation error for PydanticState\n",
      "asset\n",
      "  unexpected value; permitted: 'Stock', 'Bonds', 'Crypto' (type=value_error.const; given=Any; permitted=('Stock', 'Bonds', 'Crypto'))\n"
     ]
    }
   ],
   "source": [
    "class PydanticState(BaseModel):\n",
    "    name: str\n",
    "    asset: Literal[\"Stock\", \"Bonds\", \"Crypto\"] = \"Stock\"\n",
    "    \n",
    "    @validator(\"asset\")\n",
    "    def validate_asset(cls, val):\n",
    "       if val not in [\"Stock\", \"Bonds\", \"Crypto\"]:\n",
    "           raise ValueError(\"Asset must be Stock, Bonds, or Crypto\") \n",
    "       return val\n",
    "   \n",
    "try:\n",
    "    state = PydanticState(name=\"Bangder\", asset=\"Any\")\n",
    "except Exception as e:\n",
    "    print(\"Error: \",e)"
   ]
  },
  {
   "cell_type": "code",
   "execution_count": 7,
   "id": "198c8d6f",
   "metadata": {},
   "outputs": [
    {
     "data": {
      "image/png": "[encoded data removed]",
      "text/plain": [
       "<IPython.core.display.Image object>"
      ]
     },
     "metadata": {},
     "output_type": "display_data"
    }
   ],
   "source": [
    "def node1(state: PydanticState):\n",
    "    print(\"===Node 1===\")\n",
    "    return {\"name\": state.name}\n",
    "\n",
    "def node2(state: PydanticState):\n",
    "    print(\"===Node 2===\")\n",
    "    return {\"asset\": \"Stock\"}\n",
    "\n",
    "def node3(state: PydanticState):\n",
    "    print(\"===Node 2===\")\n",
    "    return {\"asset\": \"Bonds\"}\n",
    "\n",
    "def node4(state: PydanticState):\n",
    "    print(\"===Node 3===\")\n",
    "    return {\"asset\": \"Crypto\"}\n",
    "\n",
    "\n",
    "def decide_asset(state: PydanticState) -> Literal[\"node2\", \"node3\", \"node4\"]:\n",
    "    prob = random.random()\n",
    "    \n",
    "    if prob < 0.33:\n",
    "        return \"node2\"\n",
    "    \n",
    "    if prob < 0.67:\n",
    "        return \"node3\"\n",
    "    \n",
    "    return \"node4\"\n",
    "\n",
    "builder = StateGraph(PydanticState)\n",
    "builder.add_node(\"node1\", node1)\n",
    "builder.add_node(\"node2\", node2)\n",
    "builder.add_node(\"node3\", node3)\n",
    "builder.add_node(\"node4\", node4)\n",
    "\n",
    "builder.add_edge(START, \"node1\")\n",
    "builder.add_conditional_edges(\"node1\", decide_asset)\n",
    "builder.add_edge(\"node2\", END)\n",
    "builder.add_edge(\"node3\", END)\n",
    "builder.add_edge(\"node4\", END)\n",
    "\n",
    "graph = builder.compile()\n",
    "display(Image(graph.get_graph().draw_mermaid_png()))"
   ]
  },
  {
   "cell_type": "code",
   "execution_count": 8,
   "id": "936b3337",
   "metadata": {},
   "outputs": [
    {
     "name": "stdout",
     "output_type": "stream",
     "text": [
      "===Node 1===\n",
      "===Node 2===\n"
     ]
    },
    {
     "data": {
      "text/plain": [
       "{'name': 'Bangder', 'asset': 'Bonds'}"
      ]
     },
     "execution_count": 8,
     "metadata": {},
     "output_type": "execute_result"
    }
   ],
   "source": [
    "graph.invoke({\"name\": \"Bangder\", \"asset\": \"Stock\"})"
   ]
  },
  {
   "cell_type": "markdown",
   "id": "f87fa320",
   "metadata": {},
   "source": [
    "## State Reducer"
   ]
  },
  {
   "cell_type": "markdown",
   "id": "7a0a8f2c",
   "metadata": {},
   "source": [
    "When a node branch into > 1 node and run in parallel, which means they run in the same step of graph, they both attempt to overwrite the state on the same step, this is why state reducer came"
   ]
  },
  {
   "cell_type": "markdown",
   "id": "d5cf9b73",
   "metadata": {},
   "source": [
    "### Reducer"
   ]
  },
  {
   "cell_type": "code",
   "execution_count": 9,
   "id": "6fb190bc",
   "metadata": {},
   "outputs": [
    {
     "data": {
      "image/png": "[encoded data removed]",
      "text/plain": [
       "<IPython.core.display.Image object>"
      ]
     },
     "metadata": {},
     "output_type": "display_data"
    }
   ],
   "source": [
    "# Example Branching graph\n",
    "class ReducerState(TypedDict):\n",
    "    counter: Annotated[list[int], add]\n",
    "    \n",
    "def node_1(state: ReducerState):\n",
    "    print(\"---Node 1---\")\n",
    "    return {\"counter\": [state['counter'][-1] + 1]}\n",
    "\n",
    "def node_2(state: ReducerState):\n",
    "    print(\"---Node 2---\")\n",
    "    return {\"counter\": [state['counter'][-1] + 2]}\n",
    "\n",
    "def node_3(state: ReducerState):\n",
    "    print(\"---Node 3---\")\n",
    "    return {\"counter\": [state['counter'][-1] + 3]}\n",
    "\n",
    "\n",
    "builder = StateGraph(ReducerState)\n",
    "builder.add_node(\"node_1\", node_1)\n",
    "builder.add_node(\"node_2\", node_2)\n",
    "builder.add_node(\"node_3\", node_3)\n",
    "\n",
    "builder.add_edge(START, \"node_1\")\n",
    "builder.add_edge(\"node_1\", \"node_2\")\n",
    "builder.add_edge(\"node_1\", \"node_3\")\n",
    "builder.add_edge(\"node_2\", END)\n",
    "builder.add_edge(\"node_3\", END)\n",
    "\n",
    "graph = builder.compile()\n",
    "display(Image(graph.get_graph().draw_mermaid_png()))"
   ]
  },
  {
   "cell_type": "code",
   "execution_count": 10,
   "id": "b61b2e38",
   "metadata": {},
   "outputs": [
    {
     "name": "stdout",
     "output_type": "stream",
     "text": [
      "---Node 1---\n",
      "---Node 2---\n",
      "---Node 3---\n"
     ]
    },
    {
     "data": {
      "text/plain": [
       "{'counter': [1, 2, 4, 5]}"
      ]
     },
     "execution_count": 10,
     "metadata": {},
     "output_type": "execute_result"
    }
   ],
   "source": [
    "graph.invoke({\"counter\": [1]})"
   ]
  },
  {
   "cell_type": "code",
   "execution_count": 11,
   "id": "2b46c28e",
   "metadata": {},
   "outputs": [
    {
     "name": "stdout",
     "output_type": "stream",
     "text": [
      "Error:  can only concatenate list (not \"NoneType\") to list\n"
     ]
    }
   ],
   "source": [
    "try:\n",
    "    graph.invoke({\"counter\": None})\n",
    "except Exception as e:\n",
    "    print(\"Error: \",e)"
   ]
  },
  {
   "cell_type": "markdown",
   "id": "4ac883b0",
   "metadata": {},
   "source": [
    "Sometimes we need to input None to the node but it leave with error, so we have to make custom reducer instead of using add"
   ]
  },
  {
   "cell_type": "markdown",
   "id": "562dfc5c",
   "metadata": {},
   "source": [
    "### Custom Reducer"
   ]
  },
  {
   "cell_type": "code",
   "execution_count": 16,
   "id": "196ee144",
   "metadata": {},
   "outputs": [],
   "source": [
    "def reduce_list(old_state: list | None, new_state: list | None) -> list:\n",
    "    \"\"\"Safely combine two lists, handling cases where either or both inputs might be None.\n",
    "\n",
    "    Args:\n",
    "        old_state (list | None): The first list to combine, or None.\n",
    "        new_state (list | None): The second list to combine, or None.\n",
    "\n",
    "    Returns:\n",
    "        list: A new list containing all elements from both input lists.\n",
    "               If an input is None, it's treated as an empty list.\n",
    "    \"\"\"\n",
    "    if not old_state:\n",
    "        old_state = []\n",
    "    if not new_state:\n",
    "        new_state = []\n",
    "    return old_state + new_state\n",
    "\n",
    "class DefaultState(TypedDict):\n",
    "    counter: Annotated[list[int], add]\n",
    "\n",
    "class CustomReducerState(TypedDict):\n",
    "    counter: Annotated[list[int], reduce_list]\n",
    "    messages: Annotated[list[str], reduce_list]"
   ]
  },
  {
   "cell_type": "code",
   "execution_count": 13,
   "id": "da4eb82c",
   "metadata": {},
   "outputs": [
    {
     "data": {
      "image/png": "[encoded data removed]",
      "text/plain": [
       "<IPython.core.display.Image object>"
      ]
     },
     "metadata": {},
     "output_type": "display_data"
    },
    {
     "name": "stdout",
     "output_type": "stream",
     "text": [
      "TypeError occurred: can only concatenate list (not \"NoneType\") to list\n"
     ]
    }
   ],
   "source": [
    "def node_1(state: DefaultState):\n",
    "    print(\"---Node 1---\")\n",
    "    return {\"counter\": [2]}\n",
    "\n",
    "# Build graph\n",
    "builder = StateGraph(DefaultState)\n",
    "builder.add_node(\"node_1\", node_1)\n",
    "\n",
    "# Logic\n",
    "builder.add_edge(START, \"node_1\")\n",
    "builder.add_edge(\"node_1\", END)\n",
    "\n",
    "# Add\n",
    "graph = builder.compile()\n",
    "\n",
    "# View\n",
    "display(Image(graph.get_graph().draw_mermaid_png()))\n",
    "\n",
    "try:\n",
    "    print(graph.invoke({\"counter\" : None}))\n",
    "except TypeError as e:\n",
    "    print(f\"TypeError occurred: {e}\")"
   ]
  },
  {
   "cell_type": "code",
   "execution_count": 22,
   "id": "2ff428db",
   "metadata": {},
   "outputs": [
    {
     "data": {
      "image/png": "[encoded data removed]",
      "text/plain": [
       "<IPython.core.display.Image object>"
      ]
     },
     "metadata": {},
     "output_type": "display_data"
    },
    {
     "name": "stdout",
     "output_type": "stream",
     "text": [
      "---Node 1---\n",
      "{'counter': [2], 'messages': ['Bro', 'hi']}\n"
     ]
    }
   ],
   "source": [
    "# Build graph\n",
    "def node_1(state: CustomReducerState):\n",
    "    print(\"---Node 1---\")\n",
    "    return {\"counter\": [2], \"messages\": [\"hi\"]}\n",
    "\n",
    "builder = StateGraph(CustomReducerState)\n",
    "builder.add_node(\"node_1\", node_1)\n",
    "\n",
    "# Logic\n",
    "builder.add_edge(START, \"node_1\")\n",
    "builder.add_edge(\"node_1\", END)\n",
    "\n",
    "# Add\n",
    "graph = builder.compile()\n",
    "\n",
    "# View\n",
    "display(Image(graph.get_graph().draw_mermaid_png()))\n",
    "\n",
    "try:\n",
    "    print(graph.invoke({\"counter\" : None, \"messages\": [\"Bro\"]}))\n",
    "except TypeError as e:\n",
    "    print(f\"TypeError occurred: {e}\")"
   ]
  },
  {
   "cell_type": "markdown",
   "id": "4427e6b1",
   "metadata": {},
   "source": [
    "### Messages"
   ]
  },
  {
   "cell_type": "code",
   "execution_count": null,
   "id": "8233a9f5",
   "metadata": {},
   "outputs": [],
   "source": [
    "# Both work the same things, add_messages works as reducer for messages\n",
    "class CustomMessagesState(TypedDict):\n",
    "    messages: Annotated[list[str], add_messages]\n",
    "    key_1: str\n",
    "    key_2: str\n",
    "    \n",
    "class ExtendedMessagesState(MessagesState):\n",
    "    key_1: str\n",
    "    key_2: str\n"
   ]
  },
  {
   "cell_type": "code",
   "execution_count": 24,
   "id": "ab23b770",
   "metadata": {},
   "outputs": [
    {
     "data": {
      "text/plain": [
       "[AIMessage(content='Hello! How can I assist you?', additional_kwargs={}, response_metadata={}, name='Model', id='2f3b1c40-f235-4cfd-bdd4-af2db7e16427'),\n",
       " HumanMessage(content=\"I'm looking for information on marine biology.\", additional_kwargs={}, response_metadata={}, name='Lance', id='5107b1bd-6334-4fc7-99c6-608bea39f6a2'),\n",
       " AIMessage(content='Sure, I can help with that. What specifically are you interested in?', additional_kwargs={}, response_metadata={}, name='Model', id='1c68186b-178f-4e65-84fb-791f2b2460a8')]"
      ]
     },
     "execution_count": 24,
     "metadata": {},
     "output_type": "execute_result"
    }
   ],
   "source": [
    "# add messages example\n",
    "initial_messages = [AIMessage(content=\"Hello! How can I assist you?\", name=\"Model\"),\n",
    "                    HumanMessage(content=\"I'm looking for information on US Stock Market.\", name=\"User\")]\n",
    "\n",
    "new_message = AIMessage(content=\"Sure, I can help with that. Which asset are you interested in?\", name=\"Model\")\n",
    "add_messages(initial_messages , new_message)"
   ]
  },
  {
   "cell_type": "code",
   "execution_count": 25,
   "id": "3e6069ff",
   "metadata": {},
   "outputs": [
    {
     "data": {
      "text/plain": [
       "[AIMessage(content='Hello! How can I assist you?', additional_kwargs={}, response_metadata={}, name='Model', id='1'),\n",
       " HumanMessage(content=\"I'm looking for information on Indo Stockk\", additional_kwargs={}, response_metadata={}, name='User', id='2')]"
      ]
     },
     "execution_count": 25,
     "metadata": {},
     "output_type": "execute_result"
    }
   ],
   "source": [
    "# We also can overwrite the message with ID\n",
    "initial_messages = [AIMessage(content=\"Hello! How can I assist you?\", name=\"Model\", id=\"1\"),\n",
    "                    HumanMessage(content=\"I'm looking for information on US Stock.\", name=\"User\", id=\"2\")]\n",
    "\n",
    "# New message to add\n",
    "new_message = HumanMessage(content=\"I'm looking for information on Indo Stockk\", name=\"User\", id=\"2\")\n",
    "\n",
    "# Test\n",
    "add_messages(initial_messages , new_message)"
   ]
  },
  {
   "cell_type": "code",
   "execution_count": null,
   "id": "7d3d815d",
   "metadata": {},
   "outputs": [
    {
     "name": "stdout",
     "output_type": "stream",
     "text": [
      "content='Do you invest in Stock Market?' additional_kwargs={} response_metadata={} name='Model' id='1'\n",
      "content=\"Yes, that's right\" additional_kwargs={} response_metadata={} name='Human' id='2'\n",
      "content='Nice, what would you like to learn' additional_kwargs={} response_metadata={} name='Model' id='3'\n",
      "content='I would like to learn about financial statement' additional_kwargs={} response_metadata={} name='Human' id='4'\n",
      "\n",
      "\n",
      "================================================================================================================================================================\n",
      "\n",
      "\n",
      "content='Nice, what would you like to learn' additional_kwargs={} response_metadata={} name='Model' id='3'\n",
      "content='I would like to learn about financial statement' additional_kwargs={} response_metadata={} name='Human' id='4'\n"
     ]
    }
   ],
   "source": [
    "messages = [\n",
    "    AIMessage(content=\"Do you invest in Stock Market?\", name=\"Model\", id=\"1\"),\n",
    "    HumanMessage(content=\"Yes, that's right\", name=\"Human\", id=\"2\"),\n",
    "    AIMessage(content=\"Nice, what would you like to learn\", name=\"Model\", id=\"3\"),\n",
    "    HumanMessage(content=\"I would like to learn about financial statement\", name=\"Human\", id=\"4\"),\n",
    "]\n",
    "\n",
    "# Delete 2 recent message\n",
    "delete_messages = [RemoveMessage(id = message.id) for message in messages[:-2]]\n",
    "\n",
    "for m in messages:\n",
    "    print(m)\n",
    "    \n",
    "print(\"\\n\")\n",
    "print(\"====\" * 40)\n",
    "print(\"\\n\")\n",
    "\n",
    "deleted_message = add_messages(messages, delete_messages)\n",
    "for d in deleted_message:\n",
    "    print(d)"
   ]
  },
  {
   "cell_type": "markdown",
   "id": "1a346a60",
   "metadata": {},
   "source": [
    "## Multiple Schemas"
   ]
  },
  {
   "cell_type": "markdown",
   "id": "865f97a7",
   "metadata": {},
   "source": [
    "**Private State & Input Output Schema**\n",
    "\n",
    "Somehow our data only accessible for some nodes (not for client side nor output node), think about internal nodes that pass information that isn't required in input / output nodes\n",
    "\n",
    "Sometimes we also want to use different schemas for input and output"
   ]
  },
  {
   "cell_type": "code",
   "execution_count": 5,
   "id": "838837f9",
   "metadata": {},
   "outputs": [
    {
     "data": {
      "image/png": "[encoded data removed]",
      "text/plain": [
       "<IPython.core.display.Image object>"
      ]
     },
     "metadata": {},
     "output_type": "display_data"
    }
   ],
   "source": [
    "# Private State\n",
    "\n",
    "class PublicState(TypedDict):\n",
    "    public_num: int\n",
    "    \n",
    "class PrivateState(TypedDict):\n",
    "    _private_num: int\n",
    "    \n",
    "def public_node(state: PublicState) -> PrivateState:\n",
    "    return {\"_private_num\": state[\"public_num\"] * 2}\n",
    "\n",
    "def private_node(state: PrivateState) -> PublicState:\n",
    "    return {\"public_num\": state[\"_private_num\"] + 1}\n",
    "\n",
    "builder = StateGraph(PublicState)\n",
    "builder.add_node(\"public_node\", public_node)\n",
    "builder.add_node(\"private_node\", private_node)\n",
    "\n",
    "builder.add_edge(START, \"public_node\")\n",
    "builder.add_edge(\"public_node\", \"private_node\")\n",
    "builder.add_edge(\"private_node\", END)\n",
    "\n",
    "graph = builder.compile()\n",
    "display(Image(graph.get_graph().draw_mermaid_png()))"
   ]
  },
  {
   "cell_type": "code",
   "execution_count": 4,
   "id": "38666423",
   "metadata": {},
   "outputs": [
    {
     "data": {
      "text/plain": [
       "{'public_num': 5}"
      ]
     },
     "execution_count": 4,
     "metadata": {},
     "output_type": "execute_result"
    }
   ],
   "source": [
    "graph.invoke({\"public_num\": 2})"
   ]
  },
  {
   "cell_type": "markdown",
   "id": "b03a2e80",
   "metadata": {},
   "source": [
    "Only public data expose outside graph, private num don't expose outsite graph unless we return it to public"
   ]
  },
  {
   "cell_type": "code",
   "execution_count": 8,
   "id": "de7abdf3",
   "metadata": {},
   "outputs": [
    {
     "data": {
      "image/png": "[encoded data removed]",
      "text/plain": [
       "<IPython.core.display.Image object>"
      ]
     },
     "metadata": {},
     "output_type": "display_data"
    }
   ],
   "source": [
    "class InputState(TypedDict):\n",
    "    question: str\n",
    "    \n",
    "class OutputState(TypedDict):\n",
    "    answer: str\n",
    "    \n",
    "class InternalState(TypedDict):\n",
    "    question: str\n",
    "    answer: str\n",
    "    notes: str\n",
    "    \n",
    "def thinking_node(state: InputState) -> InternalState:\n",
    "    return {\"question\": state[\"question\"], \"answer\": \"Hi, may i help you?\", \"notes\": \"... thinking\"}\n",
    "\n",
    "def output_node(state: InternalState) -> OutputState:\n",
    "    return {\"answer\": state[\"answer\"]}\n",
    "\n",
    "builder = StateGraph(InternalState, input_schema=InputState, output_schema=OutputState)\n",
    "builder.add_node(\"thinking_node\", thinking_node)\n",
    "builder.add_node(\"output_node\", output_node)\n",
    "\n",
    "builder.add_edge(START, \"thinking_node\")\n",
    "builder.add_edge(\"thinking_node\", \"output_node\")\n",
    "builder.add_edge(\"output_node\", END)\n",
    "\n",
    "graph = builder.compile()\n",
    "display(Image(graph.get_graph().draw_mermaid_png()))"
   ]
  },
  {
   "cell_type": "code",
   "execution_count": 9,
   "id": "9a2c1351",
   "metadata": {},
   "outputs": [
    {
     "data": {
      "text/plain": [
       "{'answer': 'Hi, may i help you?'}"
      ]
     },
     "execution_count": 9,
     "metadata": {},
     "output_type": "execute_result"
    }
   ],
   "source": [
    "graph.invoke({\"question\": \"Hi, how are you?\"})"
   ]
  },
  {
   "cell_type": "markdown",
   "id": "814283b8",
   "metadata": {},
   "source": [
    "Here we can customize input and output format and protect the internal state from being expose"
   ]
  },
  {
   "cell_type": "markdown",
   "id": "7ee00c4e",
   "metadata": {},
   "source": [
    "## Trim and Filter Messages"
   ]
  },
  {
   "cell_type": "code",
   "execution_count": 3,
   "id": "4f05fe5f",
   "metadata": {},
   "outputs": [],
   "source": [
    "llm = ChatOpenAI(model=\"gpt-4o-mini\")"
   ]
  },
  {
   "cell_type": "markdown",
   "id": "6e57fe31",
   "metadata": {},
   "source": [
    "### Reducer"
   ]
  },
  {
   "cell_type": "markdown",
   "id": "2ab5d836",
   "metadata": {},
   "source": [
    "A challenge when working with messages is managing long conversation, which result in high token usage because we pass a growing list of messages to the model. This is why we need to filter our input messages"
   ]
  },
  {
   "cell_type": "code",
   "execution_count": 4,
   "id": "32a13b51",
   "metadata": {},
   "outputs": [
    {
     "data": {
      "image/png": "[encoded data removed]",
      "text/plain": [
       "<IPython.core.display.Image object>"
      ]
     },
     "metadata": {},
     "output_type": "display_data"
    }
   ],
   "source": [
    "def filter_messages(state: MessagesState):\n",
    "    # Delete all but the 2 most recent messages (Reference from reducer)\n",
    "    delete_messages = [RemoveMessage(id=m.id) for m in state[\"messages\"][:-2]]\n",
    "    return {\"messages\": delete_messages}\n",
    "\n",
    "def chat_model_node(state: MessagesState):    \n",
    "    return {\"messages\": [llm.invoke(state[\"messages\"])]}\n",
    "\n",
    "# Build graph\n",
    "builder = StateGraph(MessagesState)\n",
    "builder.add_node(\"filter\", filter_messages)\n",
    "builder.add_node(\"chat_model\", chat_model_node)\n",
    "builder.add_edge(START, \"filter\")\n",
    "builder.add_edge(\"filter\", \"chat_model\")\n",
    "builder.add_edge(\"chat_model\", END)\n",
    "graph = builder.compile()\n",
    "\n",
    "# View\n",
    "display(Image(graph.get_graph().draw_mermaid_png()))"
   ]
  },
  {
   "cell_type": "code",
   "execution_count": 5,
   "id": "58b3136b",
   "metadata": {},
   "outputs": [
    {
     "name": "stdout",
     "output_type": "stream",
     "text": [
      "==================================\u001b[1m Ai Message \u001b[0m==================================\n",
      "Name: Model\n",
      "\n",
      "Nice, what would you like to learn\n",
      "================================\u001b[1m Human Message \u001b[0m=================================\n",
      "Name: Human\n",
      "\n",
      "I would like to learn about financial statement\n",
      "==================================\u001b[1m Ai Message \u001b[0m==================================\n",
      "\n",
      "Financial statements are formal records of the financial activities and position of a business, organization, or individual. They provide a summary of the financial transactions over a specific period and are used to make informed decisions. The four main types of financial statements are:\n",
      "\n",
      "1. **Balance Sheet**: This statement provides a snapshot of an entity's assets, liabilities, and equity at a specific point in time. It follows the accounting equation:\n",
      "   \\[\n",
      "   \\text{Assets} = \\text{Liabilities} + \\text{Equity}\n",
      "   \\]\n",
      "   - **Assets** include anything of value that the company owns—cash, inventory, property, equipment, etc.\n",
      "   - **Liabilities** are obligations that the company owes to outsiders—loans, accounts payable, mortgages, etc.\n",
      "   - **Equity** represents the owner's claims after liabilities have been subtracted from assets, often referred to as net assets.\n",
      "\n",
      "2. **Income Statement** (or Profit and Loss Statement): This statement summarizes revenues, costs, and expenses over a specific period (usually quarterly or annually) to assess the entity's financial performance. The key components include:\n",
      "   - **Revenue (Sales)**: Income earned from normal business operations.\n",
      "   - **Cost of Goods Sold (COGS)**: Direct costs attributable to the production of the goods sold.\n",
      "   - **Operating Expenses**: Indirect costs not directly tied to production, such as salaries and rent.\n",
      "   - **Net Income**: The profit or loss after all revenues and expenses have been accounted for.\n",
      "\n",
      "3. **Cash Flow Statement**: This document illustrates how cash flows in and out of the business over a specific period. It helps identify the liquidity position and sources of cash. It is divided into three sections:\n",
      "   - **Operating Activities**: Cash generated or used in the course of normal business operations.\n",
      "   - **Investing Activities**: Cash used for investments in long-term assets (e.g., property, equipment) or received from the sale of these assets.\n",
      "   - **Financing Activities**: Cash received from or paid to investors and creditors, like issuing shares or taking on debt.\n",
      "\n",
      "4. **Statement of Changes in Equity** (or Statement of Retained Earnings): This shows the movement in equity from the end of one period to the end of the next. It includes profits or losses from operations, dividends paid, and other changes such as stock issuance.\n",
      "\n",
      "These statements are crucial for stakeholders, including management, investors, creditors, and regulators, as they provide insight into financial health, performance, and future potential. Regularly reviewing these statements can help make informed financial decisions and strategies.\n"
     ]
    }
   ],
   "source": [
    "messages = [\n",
    "    AIMessage(content=\"Do you invest in Stock Market?\", name=\"Model\", id=\"1\"),\n",
    "    HumanMessage(content=\"Yes, that's right\", name=\"Human\", id=\"2\"),\n",
    "    AIMessage(content=\"Nice, what would you like to learn\", name=\"Model\", id=\"3\"),\n",
    "    HumanMessage(content=\"I would like to learn about financial statement\", name=\"Human\", id=\"4\"),\n",
    "]\n",
    "\n",
    "result = graph.invoke({\"messages\": messages})\n",
    "for message in result['messages']:\n",
    "    message.pretty_print()"
   ]
  },
  {
   "cell_type": "markdown",
   "id": "44ca0082",
   "metadata": {},
   "source": [
    "### Filtering Message"
   ]
  },
  {
   "cell_type": "code",
   "execution_count": 7,
   "id": "9a17059e",
   "metadata": {},
   "outputs": [
    {
     "data": {
      "image/png": "[encoded data removed]",
      "text/plain": [
       "<IPython.core.display.Image object>"
      ]
     },
     "metadata": {},
     "output_type": "display_data"
    }
   ],
   "source": [
    "def last_chat_node(state: MessagesState):\n",
    "    return {\"messages\": llm.invoke(state[\"messages\"][-1:])}\n",
    "\n",
    "builder = StateGraph(MessagesState)\n",
    "builder.add_node(\"last_chat\", last_chat_node)\n",
    "builder.add_edge(START, \"last_chat\")\n",
    "builder.add_edge(\"last_chat\", END)\n",
    "graph = builder.compile()\n",
    "\n",
    "display(Image(graph.get_graph().draw_mermaid_png()))"
   ]
  },
  {
   "cell_type": "code",
   "execution_count": 8,
   "id": "68fcf84d",
   "metadata": {},
   "outputs": [],
   "source": [
    "messages.append(result['messages'][-1])\n",
    "messages.append(HumanMessage(content=\"Tell me more about Statement of changes in equity\", name=\"Human\"))"
   ]
  },
  {
   "cell_type": "code",
   "execution_count": 9,
   "id": "3a1a4a11",
   "metadata": {},
   "outputs": [
    {
     "name": "stdout",
     "output_type": "stream",
     "text": [
      "==================================\u001b[1m Ai Message \u001b[0m==================================\n",
      "Name: Model\n",
      "\n",
      "Do you invest in Stock Market?\n",
      "================================\u001b[1m Human Message \u001b[0m=================================\n",
      "Name: Human\n",
      "\n",
      "Yes, that's right\n",
      "==================================\u001b[1m Ai Message \u001b[0m==================================\n",
      "Name: Model\n",
      "\n",
      "Nice, what would you like to learn\n",
      "================================\u001b[1m Human Message \u001b[0m=================================\n",
      "Name: Human\n",
      "\n",
      "I would like to learn about financial statement\n",
      "==================================\u001b[1m Ai Message \u001b[0m==================================\n",
      "\n",
      "Financial statements are formal records of the financial activities and position of a business, organization, or individual. They provide a summary of the financial transactions over a specific period and are used to make informed decisions. The four main types of financial statements are:\n",
      "\n",
      "1. **Balance Sheet**: This statement provides a snapshot of an entity's assets, liabilities, and equity at a specific point in time. It follows the accounting equation:\n",
      "   \\[\n",
      "   \\text{Assets} = \\text{Liabilities} + \\text{Equity}\n",
      "   \\]\n",
      "   - **Assets** include anything of value that the company owns—cash, inventory, property, equipment, etc.\n",
      "   - **Liabilities** are obligations that the company owes to outsiders—loans, accounts payable, mortgages, etc.\n",
      "   - **Equity** represents the owner's claims after liabilities have been subtracted from assets, often referred to as net assets.\n",
      "\n",
      "2. **Income Statement** (or Profit and Loss Statement): This statement summarizes revenues, costs, and expenses over a specific period (usually quarterly or annually) to assess the entity's financial performance. The key components include:\n",
      "   - **Revenue (Sales)**: Income earned from normal business operations.\n",
      "   - **Cost of Goods Sold (COGS)**: Direct costs attributable to the production of the goods sold.\n",
      "   - **Operating Expenses**: Indirect costs not directly tied to production, such as salaries and rent.\n",
      "   - **Net Income**: The profit or loss after all revenues and expenses have been accounted for.\n",
      "\n",
      "3. **Cash Flow Statement**: This document illustrates how cash flows in and out of the business over a specific period. It helps identify the liquidity position and sources of cash. It is divided into three sections:\n",
      "   - **Operating Activities**: Cash generated or used in the course of normal business operations.\n",
      "   - **Investing Activities**: Cash used for investments in long-term assets (e.g., property, equipment) or received from the sale of these assets.\n",
      "   - **Financing Activities**: Cash received from or paid to investors and creditors, like issuing shares or taking on debt.\n",
      "\n",
      "4. **Statement of Changes in Equity** (or Statement of Retained Earnings): This shows the movement in equity from the end of one period to the end of the next. It includes profits or losses from operations, dividends paid, and other changes such as stock issuance.\n",
      "\n",
      "These statements are crucial for stakeholders, including management, investors, creditors, and regulators, as they provide insight into financial health, performance, and future potential. Regularly reviewing these statements can help make informed financial decisions and strategies.\n",
      "================================\u001b[1m Human Message \u001b[0m=================================\n",
      "Name: Human\n",
      "\n",
      "Tell me more about Statement of changes in equity\n"
     ]
    }
   ],
   "source": [
    "for message in messages:\n",
    "    message.pretty_print()"
   ]
  },
  {
   "cell_type": "code",
   "execution_count": 10,
   "id": "396e58f9",
   "metadata": {},
   "outputs": [
    {
     "name": "stdout",
     "output_type": "stream",
     "text": [
      "==================================\u001b[1m Ai Message \u001b[0m==================================\n",
      "Name: Model\n",
      "\n",
      "Do you invest in Stock Market?\n",
      "================================\u001b[1m Human Message \u001b[0m=================================\n",
      "Name: Human\n",
      "\n",
      "Yes, that's right\n",
      "==================================\u001b[1m Ai Message \u001b[0m==================================\n",
      "Name: Model\n",
      "\n",
      "Nice, what would you like to learn\n",
      "================================\u001b[1m Human Message \u001b[0m=================================\n",
      "Name: Human\n",
      "\n",
      "I would like to learn about financial statement\n",
      "==================================\u001b[1m Ai Message \u001b[0m==================================\n",
      "\n",
      "Financial statements are formal records of the financial activities and position of a business, organization, or individual. They provide a summary of the financial transactions over a specific period and are used to make informed decisions. The four main types of financial statements are:\n",
      "\n",
      "1. **Balance Sheet**: This statement provides a snapshot of an entity's assets, liabilities, and equity at a specific point in time. It follows the accounting equation:\n",
      "   \\[\n",
      "   \\text{Assets} = \\text{Liabilities} + \\text{Equity}\n",
      "   \\]\n",
      "   - **Assets** include anything of value that the company owns—cash, inventory, property, equipment, etc.\n",
      "   - **Liabilities** are obligations that the company owes to outsiders—loans, accounts payable, mortgages, etc.\n",
      "   - **Equity** represents the owner's claims after liabilities have been subtracted from assets, often referred to as net assets.\n",
      "\n",
      "2. **Income Statement** (or Profit and Loss Statement): This statement summarizes revenues, costs, and expenses over a specific period (usually quarterly or annually) to assess the entity's financial performance. The key components include:\n",
      "   - **Revenue (Sales)**: Income earned from normal business operations.\n",
      "   - **Cost of Goods Sold (COGS)**: Direct costs attributable to the production of the goods sold.\n",
      "   - **Operating Expenses**: Indirect costs not directly tied to production, such as salaries and rent.\n",
      "   - **Net Income**: The profit or loss after all revenues and expenses have been accounted for.\n",
      "\n",
      "3. **Cash Flow Statement**: This document illustrates how cash flows in and out of the business over a specific period. It helps identify the liquidity position and sources of cash. It is divided into three sections:\n",
      "   - **Operating Activities**: Cash generated or used in the course of normal business operations.\n",
      "   - **Investing Activities**: Cash used for investments in long-term assets (e.g., property, equipment) or received from the sale of these assets.\n",
      "   - **Financing Activities**: Cash received from or paid to investors and creditors, like issuing shares or taking on debt.\n",
      "\n",
      "4. **Statement of Changes in Equity** (or Statement of Retained Earnings): This shows the movement in equity from the end of one period to the end of the next. It includes profits or losses from operations, dividends paid, and other changes such as stock issuance.\n",
      "\n",
      "These statements are crucial for stakeholders, including management, investors, creditors, and regulators, as they provide insight into financial health, performance, and future potential. Regularly reviewing these statements can help make informed financial decisions and strategies.\n",
      "================================\u001b[1m Human Message \u001b[0m=================================\n",
      "Name: Human\n",
      "\n",
      "Tell me more about Statement of changes in equity\n",
      "==================================\u001b[1m Ai Message \u001b[0m==================================\n",
      "\n",
      "The Statement of Changes in Equity is a financial statement that provides a detailed summary of the changes in an entity's equity during a specific period. It forms part of a company's financial reports and complements the balance sheet, income statement, and cash flow statement. This statement is important for stakeholders, as it gives insights into how various factors have influenced the equity position of the business.\n",
      "\n",
      "Here are the key components and details typically included in the Statement of Changes in Equity:\n",
      "\n",
      "1. **Components of Equity**: The statement usually breaks down the equity section into several components, which may include:\n",
      "   - **Share Capital**: The amount invested by shareholders in exchange for shares.\n",
      "   - **Retained Earnings**: Profits that have been retained in the company rather than distributed as dividends.\n",
      "   - **Other Reserves**: These could include items like revaluation reserves, foreign currency translation reserves, and other comprehensive income items.\n",
      "\n",
      "2. **Beginning Balance**: The statement starts with the equity balances at the beginning of the reporting period.\n",
      "\n",
      "3. **Changes During the Period**: The statement captures all changes that have occurred during the period, such as:\n",
      "   - Issuance of new shares or repurchase of shares.\n",
      "   - Profits or losses for the period (transferred from the income statement).\n",
      "   - Dividends declared and paid to shareholders.\n",
      "   - Adjustments for changes in accounting policies or corrections of prior period errors.\n",
      "   - Other comprehensive income items (e.g., gains or losses on financial instruments, foreign operations, etc.).\n",
      "\n",
      "4. **Ending Balance**: The statement concludes with the total equity balance at the end of the reporting period, which reflects all the changes that occurred.\n",
      "\n",
      "5. **Usefulness**: The Statement of Changes in Equity helps stakeholders:\n",
      "   - Understand the impact of company operations and financial decisions on overall equity.\n",
      "   - Assess the financial health and sustainability of the business.\n",
      "   - Evaluate management performance concerning equity financing and profit retention.\n",
      "   - Analyze trends related to dividends and capital structure.\n",
      "\n",
      "6. **Format**: The presentation format may vary, but it typically consists of a table that lists the different components of equity and the respective amounts for each period (beginning, changes during the period, and ending).\n",
      "\n",
      "Understanding the Statement of Changes in Equity is critical for investors, analysts, and other stakeholders looking to gauge a company's financial strategies and health over time.\n"
     ]
    }
   ],
   "source": [
    "result = graph.invoke({\"messages\": messages})\n",
    "for message in result['messages']:\n",
    "    message.pretty_print()"
   ]
  },
  {
   "cell_type": "markdown",
   "id": "c0cdf3cb",
   "metadata": {},
   "source": [
    "### Trimming messages"
   ]
  },
  {
   "cell_type": "markdown",
   "id": "31d1b756",
   "metadata": {},
   "source": [
    "With trimming, we can set number of token needed"
   ]
  },
  {
   "cell_type": "code",
   "execution_count": 26,
   "id": "a1f6c093",
   "metadata": {},
   "outputs": [
    {
     "data": {
      "image/png": "[encoded data removed]",
      "text/plain": [
       "<IPython.core.display.Image object>"
      ]
     },
     "metadata": {},
     "output_type": "display_data"
    }
   ],
   "source": [
    "def chat_node(state: MessagesState):\n",
    "    messages = trim_messages(\n",
    "        state[\"messages\"],\n",
    "        max_tokens=100,\n",
    "        strategy=\"last\",\n",
    "        token_counter=ChatOpenAI(model=\"gpt-4o\"),\n",
    "        allow_partial=False\n",
    "    )\n",
    "    return {\"messages\": llm.invoke(messages)}\n",
    "\n",
    "builder = StateGraph(MessagesState)\n",
    "builder.add_node(\"chat\", chat_node)\n",
    "builder.add_edge(START, \"chat\")\n",
    "builder.add_edge(\"chat\", END)\n",
    "graph = builder.compile()\n",
    "\n",
    "display(Image(graph.get_graph().draw_mermaid_png()))"
   ]
  },
  {
   "cell_type": "code",
   "execution_count": 27,
   "id": "2ef6a08c",
   "metadata": {},
   "outputs": [
    {
     "data": {
      "text/plain": [
       "[AIMessage(content='Do you invest in Stock Market?', additional_kwargs={}, response_metadata={}, name='Model', id='1'),\n",
       " HumanMessage(content=\"Yes, that's right\", additional_kwargs={}, response_metadata={}, name='Human', id='2'),\n",
       " AIMessage(content='Nice, what would you like to learn', additional_kwargs={}, response_metadata={}, name='Model', id='3'),\n",
       " HumanMessage(content='I would like to learn about financial statement', additional_kwargs={}, response_metadata={}, name='Human', id='4'),\n",
       " AIMessage(content=\"Financial statements are formal records of the financial activities and position of a business, organization, or individual. They provide a summary of the financial transactions over a specific period and are used to make informed decisions. The four main types of financial statements are:\\n\\n1. **Balance Sheet**: This statement provides a snapshot of an entity's assets, liabilities, and equity at a specific point in time. It follows the accounting equation:\\n   \\\\[\\n   \\\\text{Assets} = \\\\text{Liabilities} + \\\\text{Equity}\\n   \\\\]\\n   - **Assets** include anything of value that the company owns—cash, inventory, property, equipment, etc.\\n   - **Liabilities** are obligations that the company owes to outsiders—loans, accounts payable, mortgages, etc.\\n   - **Equity** represents the owner's claims after liabilities have been subtracted from assets, often referred to as net assets.\\n\\n2. **Income Statement** (or Profit and Loss Statement): This statement summarizes revenues, costs, and expenses over a specific period (usually quarterly or annually) to assess the entity's financial performance. The key components include:\\n   - **Revenue (Sales)**: Income earned from normal business operations.\\n   - **Cost of Goods Sold (COGS)**: Direct costs attributable to the production of the goods sold.\\n   - **Operating Expenses**: Indirect costs not directly tied to production, such as salaries and rent.\\n   - **Net Income**: The profit or loss after all revenues and expenses have been accounted for.\\n\\n3. **Cash Flow Statement**: This document illustrates how cash flows in and out of the business over a specific period. It helps identify the liquidity position and sources of cash. It is divided into three sections:\\n   - **Operating Activities**: Cash generated or used in the course of normal business operations.\\n   - **Investing Activities**: Cash used for investments in long-term assets (e.g., property, equipment) or received from the sale of these assets.\\n   - **Financing Activities**: Cash received from or paid to investors and creditors, like issuing shares or taking on debt.\\n\\n4. **Statement of Changes in Equity** (or Statement of Retained Earnings): This shows the movement in equity from the end of one period to the end of the next. It includes profits or losses from operations, dividends paid, and other changes such as stock issuance.\\n\\nThese statements are crucial for stakeholders, including management, investors, creditors, and regulators, as they provide insight into financial health, performance, and future potential. Regularly reviewing these statements can help make informed financial decisions and strategies.\", additional_kwargs={'refusal': None}, response_metadata={'token_usage': {'completion_tokens': 532, 'prompt_tokens': 31, 'total_tokens': 563, 'completion_tokens_details': {'accepted_prediction_tokens': 0, 'audio_tokens': 0, 'reasoning_tokens': 0, 'rejected_prediction_tokens': 0}, 'prompt_tokens_details': {'audio_tokens': 0, 'cached_tokens': 0}}, 'model_name': 'gpt-4o-mini-2024-07-18', 'system_fingerprint': 'fp_560af6e559', 'id': 'chatcmpl-C9YPwHJwLmi1PNKWlWgGlZZ0Jgdi1', 'service_tier': 'default', 'finish_reason': 'stop', 'logprobs': None}, id='run--1515742d-8d22-420c-b0f6-533ac277732e-0', usage_metadata={'input_tokens': 31, 'output_tokens': 532, 'total_tokens': 563, 'input_token_details': {'audio': 0, 'cache_read': 0}, 'output_token_details': {'audio': 0, 'reasoning': 0}}),\n",
       " HumanMessage(content='Tell me more about Statement of changes in equity', additional_kwargs={}, response_metadata={}, name='Human', id='9ac7edf0-c84a-430b-b598-02897e707319'),\n",
       " AIMessage(content=\"The Statement of Changes in Equity is a financial statement that provides a detailed summary of the changes in an entity's equity during a specific period. It forms part of a company's financial reports and complements the balance sheet, income statement, and cash flow statement. This statement is important for stakeholders, as it gives insights into how various factors have influenced the equity position of the business.\\n\\nHere are the key components and details typically included in the Statement of Changes in Equity:\\n\\n1. **Components of Equity**: The statement usually breaks down the equity section into several components, which may include:\\n   - **Share Capital**: The amount invested by shareholders in exchange for shares.\\n   - **Retained Earnings**: Profits that have been retained in the company rather than distributed as dividends.\\n   - **Other Reserves**: These could include items like revaluation reserves, foreign currency translation reserves, and other comprehensive income items.\\n\\n2. **Beginning Balance**: The statement starts with the equity balances at the beginning of the reporting period.\\n\\n3. **Changes During the Period**: The statement captures all changes that have occurred during the period, such as:\\n   - Issuance of new shares or repurchase of shares.\\n   - Profits or losses for the period (transferred from the income statement).\\n   - Dividends declared and paid to shareholders.\\n   - Adjustments for changes in accounting policies or corrections of prior period errors.\\n   - Other comprehensive income items (e.g., gains or losses on financial instruments, foreign operations, etc.).\\n\\n4. **Ending Balance**: The statement concludes with the total equity balance at the end of the reporting period, which reflects all the changes that occurred.\\n\\n5. **Usefulness**: The Statement of Changes in Equity helps stakeholders:\\n   - Understand the impact of company operations and financial decisions on overall equity.\\n   - Assess the financial health and sustainability of the business.\\n   - Evaluate management performance concerning equity financing and profit retention.\\n   - Analyze trends related to dividends and capital structure.\\n\\n6. **Format**: The presentation format may vary, but it typically consists of a table that lists the different components of equity and the respective amounts for each period (beginning, changes during the period, and ending).\\n\\nUnderstanding the Statement of Changes in Equity is critical for investors, analysts, and other stakeholders looking to gauge a company's financial strategies and health over time.\", additional_kwargs={'refusal': None}, response_metadata={'token_usage': {'completion_tokens': 480, 'prompt_tokens': 18, 'total_tokens': 498, 'completion_tokens_details': {'accepted_prediction_tokens': 0, 'audio_tokens': 0, 'reasoning_tokens': 0, 'rejected_prediction_tokens': 0}, 'prompt_tokens_details': {'audio_tokens': 0, 'cached_tokens': 0}}, 'model_name': 'gpt-4o-mini-2024-07-18', 'system_fingerprint': 'fp_51db84afab', 'id': 'chatcmpl-C9YsnNbG7FwPg2d75JYDmcguGMQ22', 'service_tier': 'default', 'finish_reason': 'stop', 'logprobs': None}, id='run--6706d2fd-4861-41ad-b66d-1108e0b4744c-0', usage_metadata={'input_tokens': 18, 'output_tokens': 480, 'total_tokens': 498, 'input_token_details': {'audio': 0, 'cache_read': 0}, 'output_token_details': {'audio': 0, 'reasoning': 0}}),\n",
       " HumanMessage(content='What mistake do people usually did while analyze Income Statement', additional_kwargs={}, response_metadata={}, id='925041bb-2ffc-4ac5-a649-1a78b7e8fb77'),\n",
       " AIMessage(content=\"When analyzing an Income Statement, people often make several common mistakes that can lead to misunderstandings about a company's financial performance. Here are some of those pitfalls:\\n\\n1. **Focusing Solely on Net Income**: Many analysts look only at the bottom line (net income) without considering other important metrics, such as gross profit margin, operating income, and EBITDA, which can provide a broader view of operational efficiency and profitability.\\n\\n2. **Ignoring Trends Over Time**: Analyzing a single period’s income statement without comparing it to previous periods can lead to misleading conclusions. Understanding trends in revenue, expenses, and profitability is crucial for assessing a company's performance.\\n\\n3. **Neglecting to Adjust for Non-Recurring Items**: Analysts may overlook one-time gains or losses (such as asset sales or restructuring costs) that can distort the true operating performance. Adjusting for these items can provide a clearer picture of ongoing profitability.\\n\\n4. **Misinterpreting Revenue Recognition**: Assumptions about when and how revenue is recognized can lead to confusion. Some companies may recognize revenue at different times based on their accounting policies, such as accrual vs. cash accounting.\\n\\n5. **Ignoring Seasonality or Cyclical Factors**: Many businesses experience seasonal fluctuations in revenue and expenses. Failing to account for these factors can skew analysis and lead to erroneous conclusions about a company’s performance.\\n\\n6. **Overlooking Expense Categories**: Not breaking down operating expenses into fixed and variable costs can lead to a misunderstanding of cost structure and potential areas for future cost management or efficiency improvements.\\n\\n7. **Not Considering Competitors or Industry Context**: Focusing solely on a company's income statement without context can lead to misguided assessments. Comparing performance against peers in the same industry is essential for relative valuation and performance evaluation.\\n\\n8. **Disregarding Cash Flow Considerations**: Profitability as shown in the income statement does not always equate to cash flow. Analysts should refer to the cash flow statement to understand the actual cash generated from operations.\\n\\n9. **Failing to Analyze Earnings Quality**: Assessing the quality of earnings—how much of the earnings come from core operations versus accounting adjustments or non-operational sources—is critical for understanding sustainability.\\n\\n10. **Ignoring Management Commentary**: Analysts often overlook the management discussion and analysis (MD&A) section, where company leaders provide context and explanations regarding performance, risks, and strategies, which can be valuable for understanding the numbers.\\n\\nBy being aware of these common mistakes, analysts can approach the Income Statement with a more critical and comprehensive perspective, leading to better-informed decisions and insights.\", additional_kwargs={'refusal': None}, response_metadata={'token_usage': {'completion_tokens': 524, 'prompt_tokens': 96, 'total_tokens': 620, 'completion_tokens_details': {'accepted_prediction_tokens': 0, 'audio_tokens': 0, 'reasoning_tokens': 0, 'rejected_prediction_tokens': 0}, 'prompt_tokens_details': {'audio_tokens': 0, 'cached_tokens': 0}}, 'model_name': 'gpt-4o-mini-2024-07-18', 'system_fingerprint': 'fp_560af6e559', 'id': 'chatcmpl-C9a99TP3tYCmtHc3cVluklbfRqAFZ', 'service_tier': 'default', 'finish_reason': 'stop', 'logprobs': None}, id='run--90c41c62-cb74-4a57-b799-c6040f781ced-0', usage_metadata={'input_tokens': 96, 'output_tokens': 524, 'total_tokens': 620, 'input_token_details': {'audio': 0, 'cache_read': 0}, 'output_token_details': {'audio': 0, 'reasoning': 0}}),\n",
       " HumanMessage(content='What mistake do people usually did while analyze Income Statement', additional_kwargs={}, response_metadata={}, id='d5602305-1b36-441e-9006-20bc37571f06'),\n",
       " AIMessage(content=\"When analyzing an Income Statement, people commonly make several mistakes, including:\\n\\n1. **Focusing Solely on Net Income**: Many analysts concentrate only on the bottom line (net income) without considering the components that contribute to it, such as revenue, expenses, and non-operating items.\\n\\n2. **Neglecting Year-over-Year Comparisons**: Failing to compare current results with previous periods can lead to a misunderstanding of trends and performance. Year-over-year analysis helps identify growth patterns and seasonal effects.\\n\\n3. **Ignoring Context**: Analysts sometimes overlook the context in which financial performance occurs. Economic conditions, industry dynamics, and company-specific events can significantly impact results.\\n\\n4. **Misinterpreting Revenue Recognition**: Different companies may use various revenue recognition policies. Misunderstanding these can lead to incorrect assessments of a company’s growth and profitability.\\n\\n5. **Underestimating Operating Expenses**: Some may not analyze operating expenses in detail, missing insights into cost structure, efficiency, and potential areas for improvement.\\n\\n6. **Overlooking Non-Recurring Items**: Analysts may fail to adjust for one-time gains or losses, which can distort the true performance of the business. Adjusted metrics that exclude such items can provide a clearer picture.\\n\\n7. **Ignoring Gross Margin Analysis**: A focus on net income can lead to neglecting gross margin trends, which are crucial for understanding the core profitability of a company’s products or services.\\n\\n8. **Not Considering EPS Adjustments**: Analysts sometimes miss adjustments made to earnings per share (EPS) due to stock splits, buybacks, or other factors, which can significantly affect perceptions of profitability.\\n\\n9. **Disregarding Cash Flow Implications**: Failing to connect the Income Statement with the Cash Flow Statement can result in overlooking the importance of cash generation relative to accounting profits.\\n\\n10. **Ignoring Management Commentary**: The management discussion and analysis (MD&A) can provide crucial context and insights into performance, risks, and future strategies that analysts may overlook.\\n\\nBy recognizing and avoiding these common pitfalls, analysts can gain a more accurate and comprehensive understanding of a company's financial health.\", additional_kwargs={'refusal': None}, response_metadata={'token_usage': {'completion_tokens': 429, 'prompt_tokens': 98, 'total_tokens': 527, 'completion_tokens_details': {'accepted_prediction_tokens': 0, 'audio_tokens': 0, 'reasoning_tokens': 0, 'rejected_prediction_tokens': 0}, 'prompt_tokens_details': {'audio_tokens': 0, 'cached_tokens': 0}}, 'model_name': 'gpt-4o-mini-2024-07-18', 'system_fingerprint': 'fp_560af6e559', 'id': 'chatcmpl-C9aN7PjiBUfnaJfOHrOJMJ2R71mL8', 'service_tier': 'default', 'finish_reason': 'stop', 'logprobs': None}, id='run--65705b4a-2b09-4698-a929-63b0ac0641eb-0', usage_metadata={'input_tokens': 98, 'output_tokens': 429, 'total_tokens': 527, 'input_token_details': {'audio': 0, 'cache_read': 0}, 'output_token_details': {'audio': 0, 'reasoning': 0}}),\n",
       " HumanMessage(content='What mistake do people usually did while analyze Income Statement', additional_kwargs={}, response_metadata={})]"
      ]
     },
     "execution_count": 27,
     "metadata": {},
     "output_type": "execute_result"
    }
   ],
   "source": [
    "messages.append(result['messages'][-1])\n",
    "messages.append(HumanMessage(content=\"What mistake do people usually did while analyze Income Statement\"))\n",
    "messages"
   ]
  },
  {
   "cell_type": "code",
   "execution_count": 24,
   "id": "cc02a4a2",
   "metadata": {},
   "outputs": [
    {
     "data": {
      "text/plain": [
       "[HumanMessage(content='What mistake do people usually did while analyze Income Statement', additional_kwargs={}, response_metadata={})]"
      ]
     },
     "execution_count": 24,
     "metadata": {},
     "output_type": "execute_result"
    }
   ],
   "source": [
    "trim_messages(\n",
    "    messages,\n",
    "    max_tokens=100,\n",
    "    strategy=\"last\",\n",
    "    token_counter=ChatOpenAI(model=\"gpt-4o\"),\n",
    "    allow_partial=False\n",
    ")"
   ]
  },
  {
   "cell_type": "code",
   "execution_count": 28,
   "id": "35037002",
   "metadata": {},
   "outputs": [
    {
     "name": "stdout",
     "output_type": "stream",
     "text": [
      "==================================\u001b[1m Ai Message \u001b[0m==================================\n",
      "Name: Model\n",
      "\n",
      "Do you invest in Stock Market?\n",
      "================================\u001b[1m Human Message \u001b[0m=================================\n",
      "Name: Human\n",
      "\n",
      "Yes, that's right\n",
      "==================================\u001b[1m Ai Message \u001b[0m==================================\n",
      "Name: Model\n",
      "\n",
      "Nice, what would you like to learn\n",
      "================================\u001b[1m Human Message \u001b[0m=================================\n",
      "Name: Human\n",
      "\n",
      "I would like to learn about financial statement\n",
      "==================================\u001b[1m Ai Message \u001b[0m==================================\n",
      "\n",
      "Financial statements are formal records of the financial activities and position of a business, organization, or individual. They provide a summary of the financial transactions over a specific period and are used to make informed decisions. The four main types of financial statements are:\n",
      "\n",
      "1. **Balance Sheet**: This statement provides a snapshot of an entity's assets, liabilities, and equity at a specific point in time. It follows the accounting equation:\n",
      "   \\[\n",
      "   \\text{Assets} = \\text{Liabilities} + \\text{Equity}\n",
      "   \\]\n",
      "   - **Assets** include anything of value that the company owns—cash, inventory, property, equipment, etc.\n",
      "   - **Liabilities** are obligations that the company owes to outsiders—loans, accounts payable, mortgages, etc.\n",
      "   - **Equity** represents the owner's claims after liabilities have been subtracted from assets, often referred to as net assets.\n",
      "\n",
      "2. **Income Statement** (or Profit and Loss Statement): This statement summarizes revenues, costs, and expenses over a specific period (usually quarterly or annually) to assess the entity's financial performance. The key components include:\n",
      "   - **Revenue (Sales)**: Income earned from normal business operations.\n",
      "   - **Cost of Goods Sold (COGS)**: Direct costs attributable to the production of the goods sold.\n",
      "   - **Operating Expenses**: Indirect costs not directly tied to production, such as salaries and rent.\n",
      "   - **Net Income**: The profit or loss after all revenues and expenses have been accounted for.\n",
      "\n",
      "3. **Cash Flow Statement**: This document illustrates how cash flows in and out of the business over a specific period. It helps identify the liquidity position and sources of cash. It is divided into three sections:\n",
      "   - **Operating Activities**: Cash generated or used in the course of normal business operations.\n",
      "   - **Investing Activities**: Cash used for investments in long-term assets (e.g., property, equipment) or received from the sale of these assets.\n",
      "   - **Financing Activities**: Cash received from or paid to investors and creditors, like issuing shares or taking on debt.\n",
      "\n",
      "4. **Statement of Changes in Equity** (or Statement of Retained Earnings): This shows the movement in equity from the end of one period to the end of the next. It includes profits or losses from operations, dividends paid, and other changes such as stock issuance.\n",
      "\n",
      "These statements are crucial for stakeholders, including management, investors, creditors, and regulators, as they provide insight into financial health, performance, and future potential. Regularly reviewing these statements can help make informed financial decisions and strategies.\n",
      "================================\u001b[1m Human Message \u001b[0m=================================\n",
      "Name: Human\n",
      "\n",
      "Tell me more about Statement of changes in equity\n",
      "==================================\u001b[1m Ai Message \u001b[0m==================================\n",
      "\n",
      "The Statement of Changes in Equity is a financial statement that provides a detailed summary of the changes in an entity's equity during a specific period. It forms part of a company's financial reports and complements the balance sheet, income statement, and cash flow statement. This statement is important for stakeholders, as it gives insights into how various factors have influenced the equity position of the business.\n",
      "\n",
      "Here are the key components and details typically included in the Statement of Changes in Equity:\n",
      "\n",
      "1. **Components of Equity**: The statement usually breaks down the equity section into several components, which may include:\n",
      "   - **Share Capital**: The amount invested by shareholders in exchange for shares.\n",
      "   - **Retained Earnings**: Profits that have been retained in the company rather than distributed as dividends.\n",
      "   - **Other Reserves**: These could include items like revaluation reserves, foreign currency translation reserves, and other comprehensive income items.\n",
      "\n",
      "2. **Beginning Balance**: The statement starts with the equity balances at the beginning of the reporting period.\n",
      "\n",
      "3. **Changes During the Period**: The statement captures all changes that have occurred during the period, such as:\n",
      "   - Issuance of new shares or repurchase of shares.\n",
      "   - Profits or losses for the period (transferred from the income statement).\n",
      "   - Dividends declared and paid to shareholders.\n",
      "   - Adjustments for changes in accounting policies or corrections of prior period errors.\n",
      "   - Other comprehensive income items (e.g., gains or losses on financial instruments, foreign operations, etc.).\n",
      "\n",
      "4. **Ending Balance**: The statement concludes with the total equity balance at the end of the reporting period, which reflects all the changes that occurred.\n",
      "\n",
      "5. **Usefulness**: The Statement of Changes in Equity helps stakeholders:\n",
      "   - Understand the impact of company operations and financial decisions on overall equity.\n",
      "   - Assess the financial health and sustainability of the business.\n",
      "   - Evaluate management performance concerning equity financing and profit retention.\n",
      "   - Analyze trends related to dividends and capital structure.\n",
      "\n",
      "6. **Format**: The presentation format may vary, but it typically consists of a table that lists the different components of equity and the respective amounts for each period (beginning, changes during the period, and ending).\n",
      "\n",
      "Understanding the Statement of Changes in Equity is critical for investors, analysts, and other stakeholders looking to gauge a company's financial strategies and health over time.\n",
      "================================\u001b[1m Human Message \u001b[0m=================================\n",
      "\n",
      "What mistake do people usually did while analyze Income Statement\n",
      "==================================\u001b[1m Ai Message \u001b[0m==================================\n",
      "\n",
      "When analyzing an Income Statement, people often make several common mistakes that can lead to misunderstandings about a company's financial performance. Here are some of those pitfalls:\n",
      "\n",
      "1. **Focusing Solely on Net Income**: Many analysts look only at the bottom line (net income) without considering other important metrics, such as gross profit margin, operating income, and EBITDA, which can provide a broader view of operational efficiency and profitability.\n",
      "\n",
      "2. **Ignoring Trends Over Time**: Analyzing a single period’s income statement without comparing it to previous periods can lead to misleading conclusions. Understanding trends in revenue, expenses, and profitability is crucial for assessing a company's performance.\n",
      "\n",
      "3. **Neglecting to Adjust for Non-Recurring Items**: Analysts may overlook one-time gains or losses (such as asset sales or restructuring costs) that can distort the true operating performance. Adjusting for these items can provide a clearer picture of ongoing profitability.\n",
      "\n",
      "4. **Misinterpreting Revenue Recognition**: Assumptions about when and how revenue is recognized can lead to confusion. Some companies may recognize revenue at different times based on their accounting policies, such as accrual vs. cash accounting.\n",
      "\n",
      "5. **Ignoring Seasonality or Cyclical Factors**: Many businesses experience seasonal fluctuations in revenue and expenses. Failing to account for these factors can skew analysis and lead to erroneous conclusions about a company’s performance.\n",
      "\n",
      "6. **Overlooking Expense Categories**: Not breaking down operating expenses into fixed and variable costs can lead to a misunderstanding of cost structure and potential areas for future cost management or efficiency improvements.\n",
      "\n",
      "7. **Not Considering Competitors or Industry Context**: Focusing solely on a company's income statement without context can lead to misguided assessments. Comparing performance against peers in the same industry is essential for relative valuation and performance evaluation.\n",
      "\n",
      "8. **Disregarding Cash Flow Considerations**: Profitability as shown in the income statement does not always equate to cash flow. Analysts should refer to the cash flow statement to understand the actual cash generated from operations.\n",
      "\n",
      "9. **Failing to Analyze Earnings Quality**: Assessing the quality of earnings—how much of the earnings come from core operations versus accounting adjustments or non-operational sources—is critical for understanding sustainability.\n",
      "\n",
      "10. **Ignoring Management Commentary**: Analysts often overlook the management discussion and analysis (MD&A) section, where company leaders provide context and explanations regarding performance, risks, and strategies, which can be valuable for understanding the numbers.\n",
      "\n",
      "By being aware of these common mistakes, analysts can approach the Income Statement with a more critical and comprehensive perspective, leading to better-informed decisions and insights.\n",
      "================================\u001b[1m Human Message \u001b[0m=================================\n",
      "\n",
      "What mistake do people usually did while analyze Income Statement\n",
      "==================================\u001b[1m Ai Message \u001b[0m==================================\n",
      "\n",
      "When analyzing an Income Statement, people commonly make several mistakes, including:\n",
      "\n",
      "1. **Focusing Solely on Net Income**: Many analysts concentrate only on the bottom line (net income) without considering the components that contribute to it, such as revenue, expenses, and non-operating items.\n",
      "\n",
      "2. **Neglecting Year-over-Year Comparisons**: Failing to compare current results with previous periods can lead to a misunderstanding of trends and performance. Year-over-year analysis helps identify growth patterns and seasonal effects.\n",
      "\n",
      "3. **Ignoring Context**: Analysts sometimes overlook the context in which financial performance occurs. Economic conditions, industry dynamics, and company-specific events can significantly impact results.\n",
      "\n",
      "4. **Misinterpreting Revenue Recognition**: Different companies may use various revenue recognition policies. Misunderstanding these can lead to incorrect assessments of a company’s growth and profitability.\n",
      "\n",
      "5. **Underestimating Operating Expenses**: Some may not analyze operating expenses in detail, missing insights into cost structure, efficiency, and potential areas for improvement.\n",
      "\n",
      "6. **Overlooking Non-Recurring Items**: Analysts may fail to adjust for one-time gains or losses, which can distort the true performance of the business. Adjusted metrics that exclude such items can provide a clearer picture.\n",
      "\n",
      "7. **Ignoring Gross Margin Analysis**: A focus on net income can lead to neglecting gross margin trends, which are crucial for understanding the core profitability of a company’s products or services.\n",
      "\n",
      "8. **Not Considering EPS Adjustments**: Analysts sometimes miss adjustments made to earnings per share (EPS) due to stock splits, buybacks, or other factors, which can significantly affect perceptions of profitability.\n",
      "\n",
      "9. **Disregarding Cash Flow Implications**: Failing to connect the Income Statement with the Cash Flow Statement can result in overlooking the importance of cash generation relative to accounting profits.\n",
      "\n",
      "10. **Ignoring Management Commentary**: The management discussion and analysis (MD&A) can provide crucial context and insights into performance, risks, and future strategies that analysts may overlook.\n",
      "\n",
      "By recognizing and avoiding these common pitfalls, analysts can gain a more accurate and comprehensive understanding of a company's financial health.\n",
      "================================\u001b[1m Human Message \u001b[0m=================================\n",
      "\n",
      "What mistake do people usually did while analyze Income Statement\n",
      "==================================\u001b[1m Ai Message \u001b[0m==================================\n",
      "\n",
      "When analyzing an Income Statement, several common mistakes can lead to misinterpretation of a company's financial health. Here are some of those mistakes:\n",
      "\n",
      "1. **Ignoring Context**: Analyzing the Income Statement without considering the broader economic environment, industry trends, or company-specific factors can lead to misleading conclusions.\n",
      "\n",
      "2. **Focusing Solely on Net Income**: Many analysts fixate on net income without looking at other important metrics, such as gross profit, operating income, and EBITDA, which provide better insights into a company's operational efficiency.\n",
      "\n",
      "3. **Neglecting Revenue Quality**: Not distinguishing between recurring and non-recurring revenue can misrepresent a company’s sustainability. A company may show high revenues, but if they're from one-off transactions, the growth might not be sustainable.\n",
      "\n",
      "4. **Overlooking Non-Operating Items**: Failing to account for non-operating items (like one-time gains or losses) can distort the understanding of the company's core business performance.\n",
      "\n",
      "5. **Ignoring Trends Over Time**: Analyzing only a single period’s Income Statement without looking at trends over multiple periods can lead to incorrect conclusions about performance and growth.\n",
      "\n",
      "6. **Forgetting About Seasonality**: Some companies experience seasonal variations in revenue and expenses. Analyzing an income statement during peak or off-peak periods without adjusting for seasonality can lead to erroneous conclusions.\n",
      "\n",
      "7. **Relying Too Heavily on Percentages**: While ratio analysis (like profit margins) is useful, focusing only on percentage figures without understanding the underlying dollar values can be misleading.\n",
      "\n",
      "8. **Not Considering Comparisons**: Failing to compare financial performance with peers in the industry can hinder understanding. The same numbers might indicate different performance levels in different contexts.\n",
      "\n",
      "9. **Neglecting Expenses**: Not analyzing expenses in detail can conceal issues related to cost management. Understanding fixed vs. variable costs is crucial for assessing operational efficiency.\n",
      "\n",
      "10. **Ignoring Footnotes and Disclosures**: Important details in the footnotes and disclosures of financial statements often contain vital information about accounting policies, estimates, and other factors affecting the Income Statement.\n",
      "\n",
      "11. **Misunderstanding Accounting Principles**: Confusion regarding the impact of different accounting methods (e.g., accrual vs. cash accounting) can lead to inaccurate conclusions about revenue and expenses.\n",
      "\n",
      "12. **Lack of Understanding of Changes in Accounting Standards**: New accounting standards can affect the presentation of financial statements. Not being aware of these changes can lead to misinterpretation.\n",
      "\n",
      "By avoiding these common pitfalls and adopting a comprehensive approach to financial statement analysis, individuals can gain a more accurate understanding of a company’s performance and financial health.\n"
     ]
    }
   ],
   "source": [
    "result = graph.invoke({\"messages\": messages})\n",
    "for message in result['messages']:\n",
    "    message.pretty_print()"
   ]
  },
  {
   "cell_type": "markdown",
   "id": "35508510",
   "metadata": {},
   "source": [
    "## Chatbot + Memory"
   ]
  },
  {
   "cell_type": "markdown",
   "id": "885dca43",
   "metadata": {},
   "source": [
    "We will create an chatbot agent which can summarize conversation if there are lots of message to save up tokens, after summarizing, we can delete previous message (it's like compress a lot of token messages)"
   ]
  },
  {
   "cell_type": "code",
   "execution_count": null,
   "id": "fade7242",
   "metadata": {},
   "outputs": [],
   "source": [
    "# Usecase for RAM memory, auto delete when program is finished or connection is closed\n",
    "conn = sqlite3.connect(\":memory:\")\n",
    "\n",
    "# Connect to local database\n",
    "conn = sqlite3.connect(\"db/memory.db\", check_same_thread=False)\n",
    "\n",
    "# Checkpointer\n",
    "memory = MemorySaver() # -> No database, purely using python dict\n",
    "memory = SqliteSaver(conn)"
   ]
  },
  {
   "cell_type": "code",
   "execution_count": 4,
   "id": "b8c56d31",
   "metadata": {},
   "outputs": [],
   "source": [
    "model = ChatOpenAI(model=\"gpt-4o-mini\", temperature=0)\n",
    "\n",
    "class State(MessagesState):\n",
    "    summary: str\n",
    "    \n",
    "\n",
    "def call_model(state: State):\n",
    "    summary = state.get(\"summary\", \"\")\n",
    "    \n",
    "    if summary:\n",
    "        system_message = f\"Summary from previous conversation : {summary}\"\n",
    "        messages = [SystemMessage(content=system_message)] + state[\"messages\"]\n",
    "    else:   \n",
    "        messages = state[\"messages\"]\n",
    "    \n",
    "    response = model.invoke(messages)\n",
    "    return {\"messages\": response}\n",
    "\n",
    "def summarize_conversation(state: State):\n",
    "    \"\"\"Summarize the conversation and delete previous messages only left 2 newest messages\"\"\"\n",
    "    summary = state.get(\"summary\", \"\")\n",
    "    \n",
    "    if summary: \n",
    "        # if summary exist we extend the conversation\n",
    "        summary_message = (\n",
    "            f\"This is summary of previous conversation : {summary}\\n\"\n",
    "            \"Extend those summary with new messages below: \"\n",
    "        )\n",
    "    else: \n",
    "        summary_message = \"\\nCreate summary of this conversation above: \"\n",
    "        \n",
    "    messages = state[\"messages\"] + [HumanMessage(content=summary_message)]\n",
    "    response = model.invoke(messages)\n",
    "    \n",
    "    deleted_messages = [RemoveMessage(id=m.id) for m in state[\"messages\"][:-2]]\n",
    "    return {\"summary\": response.content, \"messages\": deleted_messages}\n",
    "\n",
    "def should_summarize(state: State) -> Literal[\"summarize_conversation\", END]: # type: ignore\n",
    "    \"\"\"When the message get longer (more than 4) it should summarize the conversation\"\"\"\n",
    "    messages = state[\"messages\"]\n",
    "\n",
    "    if len(messages) > 4:\n",
    "        return \"summarize_conversation\"\n",
    "     \n",
    "    return END"
   ]
  },
  {
   "cell_type": "code",
   "execution_count": 30,
   "id": "046b1800",
   "metadata": {},
   "outputs": [
    {
     "data": {
      "image/png": "[encoded data removed]",
      "text/plain": [
       "<IPython.core.display.Image object>"
      ]
     },
     "metadata": {},
     "output_type": "display_data"
    }
   ],
   "source": [
    "builder = StateGraph(State)\n",
    "builder.add_node(\"call_model\", call_model)\n",
    "builder.add_node(\"summarize_conversation\", summarize_conversation)\n",
    "\n",
    "builder.add_edge(START, \"call_model\")\n",
    "builder.add_conditional_edges(\"call_model\", should_summarize)\n",
    "builder.add_edge(\"summarize_conversation\", END)\n",
    "\n",
    "graph = builder.compile(checkpointer=memory)\n",
    "display(Image(graph.get_graph().draw_mermaid_png()))"
   ]
  },
  {
   "cell_type": "code",
   "execution_count": 7,
   "id": "7a18fd4a",
   "metadata": {},
   "outputs": [],
   "source": [
    "config = {\"configurable\": {\"thread_id\": \"TestBot\"}}"
   ]
  },
  {
   "cell_type": "code",
   "execution_count": null,
   "id": "74ee3f92",
   "metadata": {},
   "outputs": [
    {
     "name": "stdout",
     "output_type": "stream",
     "text": [
      "================================\u001b[1m Human Message \u001b[0m=================================\n",
      "\n",
      "I want to learn about flow and orderbook analysis on stock\n",
      "==================================\u001b[1m Ai Message \u001b[0m==================================\n",
      "\n",
      "Flow and order book analysis are important concepts in trading and investing, particularly in the context of stocks and other financial instruments. Here’s a breakdown of both concepts:\n",
      "\n",
      "### Flow Analysis\n",
      "\n",
      "**Flow analysis** refers to the study of the buying and selling activity in the market. It involves understanding the volume and direction of trades to gauge market sentiment and potential price movements. Here are some key components:\n",
      "\n",
      "1. **Volume**: The number of shares traded over a specific period. High volume can indicate strong interest in a stock, while low volume may suggest a lack of interest.\n",
      "\n",
      "2. **Order Flow**: This refers to the actual buy and sell orders that are being placed in the market. Analyzing order flow can help traders understand the intentions of market participants.\n",
      "\n",
      "3. **Market Sentiment**: Flow analysis can help gauge whether the market is bullish (buying pressure) or bearish (selling pressure). This can be inferred from the balance of buy and sell orders.\n",
      "\n",
      "4. **Liquidity**: Understanding how easily a stock can be bought or sold without affecting its price is crucial. High liquidity generally means that there are many buyers and sellers, which can lead to more stable prices.\n",
      "\n",
      "5. **Trade Execution**: Analyzing how trades are executed can provide insights into market dynamics. For example, if a large order is executed at a certain price, it may indicate strong support or resistance levels.\n",
      "\n",
      "### Order Book Analysis\n",
      "\n",
      "The **order book** is a real-time list of buy and sell orders for a particular stock. It provides a detailed view of market depth and liquidity. Here are the main components of order book analysis:\n",
      "\n",
      "1. **Bid and Ask Prices**: The bid price is the highest price a buyer is willing to pay, while the ask price is the lowest price a seller is willing to accept. The difference between these two prices is known as the spread.\n",
      "\n",
      "2. **Order Book Depth**: This shows the number of buy and sell orders at various price levels. A deeper order book indicates more liquidity, while a shallow order book may lead to higher volatility.\n",
      "\n",
      "3. **Level 2 Data**: This provides more detailed information about the order book, including the number of shares available at each price level. Traders often use Level 2 data to identify potential support and resistance levels.\n",
      "\n",
      "4. **Market Orders vs. Limit Orders**: Market orders are executed immediately at the current market price, while limit orders are set at a specific price. Analyzing the ratio of market to limit orders can provide insights into market sentiment.\n",
      "\n",
      "5. **Order Flow Imbalance**: This occurs when there are significantly more buy orders than sell orders (or vice versa). An imbalance can indicate potential price movements, as it may lead to upward or downward pressure on the stock price.\n",
      "\n",
      "### Practical Application\n",
      "\n",
      "1. **Trading Strategies**: Traders often use flow and order book analysis to develop strategies. For example, they may look for signs of accumulation (buying) or distribution (selling) based on order flow.\n",
      "\n",
      "2. **Scalping and Day Trading**: These trading styles rely heavily on real-time order book data to make quick decisions based on short-term price movements.\n",
      "\n",
      "3. **Risk Management**: Understanding the order book can help traders set stop-loss orders and take-profit levels more effectively.\n",
      "\n",
      "4. **Market Events**: Major news events can significantly impact order flow and the order book. Traders often monitor these events to anticipate market reactions.\n",
      "\n",
      "### Tools and Resources\n",
      "\n",
      "- **Trading Platforms**: Many trading platforms provide access to order book data and flow analysis tools. Examples include Thinkorswim, Interactive Brokers, and TradingView.\n",
      "\n",
      "- **Market Data Providers**: Services like Bloomberg, Reuters, and others offer comprehensive market data, including order book information.\n",
      "\n",
      "- **Educational Resources**: Books, online courses, and webinars can provide deeper insights into flow and order book analysis.\n",
      "\n",
      "### Conclusion\n",
      "\n",
      "Flow and order book analysis are essential for understanding market dynamics and making informed trading decisions. By analyzing order flow and the order book, traders can gain insights into market sentiment, liquidity, and potential price movements. As with any trading strategy, it's important to combine these analyses with other forms of research and risk management practices.\n",
      "================================\u001b[1m Human Message \u001b[0m=================================\n",
      "\n",
      "Does those method has relationship with smart money concept?\n",
      "==================================\u001b[1m Ai Message \u001b[0m==================================\n",
      "\n",
      "Yes, flow and order book analysis are closely related to the concept of \"smart money.\" The term \"smart money\" refers to the capital that is controlled by institutional investors, hedge funds, and other financial professionals who are believed to have a better understanding of the market and access to more information than the average retail investor. Here’s how these concepts interrelate:\n",
      "\n",
      "### Smart Money and Flow Analysis\n",
      "\n",
      "1. **Identifying Institutional Activity**: Flow analysis can help traders identify when smart money is entering or exiting a stock. For example, a sudden increase in buying volume may indicate that institutional investors are accumulating shares, which could lead to upward price pressure.\n",
      "\n",
      "2. **Market Sentiment**: Smart money often has a significant influence on market sentiment. By analyzing order flow, traders can gauge whether the sentiment is shifting due to the actions of these larger players.\n",
      "\n",
      "3. **Trend Confirmation**: When retail investors see increased buying activity (flow) from smart money, they may be more inclined to follow that trend, further reinforcing the price movement.\n",
      "\n",
      "### Smart Money and Order Book Analysis\n",
      "\n",
      "1. **Order Book Dynamics**: The order book provides a real-time view of buy and sell orders, which can reveal the intentions of smart money. For instance, if there are large limit orders at specific price levels, it may indicate that institutional investors are trying to accumulate or distribute shares.\n",
      "\n",
      "2. **Liquidity and Support/Resistance Levels**: Smart money often places large orders that can create significant support or resistance levels in the order book. By analyzing these levels, traders can make more informed decisions about entry and exit points.\n",
      "\n",
      "3. **Imbalances**: Smart money can create order flow imbalances. For example, if there is a large influx of buy orders from institutional investors, it may lead to a rapid price increase, signaling to retail traders that they should consider entering the market.\n",
      "\n",
      "### Practical Implications\n",
      "\n",
      "1. **Following Smart Money**: Many traders use flow and order book analysis to \"follow\" smart money. By identifying patterns in order flow and large trades, they can align their strategies with those of institutional investors.\n",
      "\n",
      "2. **Market Manipulation Awareness**: Understanding smart money behavior can also help traders recognize potential market manipulation. For example, if a large player is trying to push a stock price down to accumulate shares, savvy traders can use order book analysis to spot this behavior.\n",
      "\n",
      "3. **Risk Management**: By being aware of where smart money is positioned in the order book, traders can better manage their risk. For instance, if they see significant buy orders at a certain price level, they might set their stop-loss orders just below that level.\n",
      "\n",
      "### Conclusion\n",
      "\n",
      "Flow and order book analysis are valuable tools for understanding the behavior of smart money in the market. By analyzing the buying and selling activity of institutional investors, traders can gain insights into market trends, sentiment, and potential price movements. This understanding can enhance trading strategies and improve decision-making, allowing traders to align themselves with the actions of more informed market participants.\n"
     ]
    }
   ],
   "source": [
    "input_message = HumanMessage(content=\"I want to learn about flow and orderbook analysis on stock\")\n",
    "response = graph.invoke({\"messages\": [input_message]}, config=config)\n",
    "\n",
    "input_message = HumanMessage(content=\"Does those method has relationship with smart money concept?\")\n",
    "response = graph.invoke({\"messages\": [input_message]}, config=config)\n",
    "\n",
    "for message in response['messages']:\n",
    "    message.pretty_print()"
   ]
  },
  {
   "cell_type": "code",
   "execution_count": 42,
   "id": "b673c0a4",
   "metadata": {},
   "outputs": [
    {
     "data": {
      "text/plain": [
       "''"
      ]
     },
     "execution_count": 42,
     "metadata": {},
     "output_type": "execute_result"
    }
   ],
   "source": [
    "graph.get_state(config = config).values.get(\"summary\", \"\")"
   ]
  },
  {
   "cell_type": "code",
   "execution_count": 43,
   "id": "c7163a0e",
   "metadata": {},
   "outputs": [],
   "source": [
    "input_message = HumanMessage(content=\"Do you think risk management is important?\")\n",
    "response = graph.invoke({\"messages\": [input_message]}, config=config)"
   ]
  },
  {
   "cell_type": "code",
   "execution_count": 44,
   "id": "0ce042ca",
   "metadata": {},
   "outputs": [
    {
     "name": "stdout",
     "output_type": "stream",
     "text": [
      "In this conversation, we discussed the concepts of flow and order book analysis in stock trading, highlighting their importance in understanding market dynamics and the behavior of \"smart money\" (institutional investors). Flow analysis involves studying buying and selling activity to gauge market sentiment, while order book analysis provides a real-time view of buy and sell orders, revealing liquidity and potential support/resistance levels.\n",
      "\n",
      "We also explored the relationship between these analyses and smart money, emphasizing how traders can use flow and order book data to align their strategies with institutional investors. Additionally, we underscored the critical importance of risk management in trading and investing. Effective risk management helps preserve capital, maintain emotional control, ensure consistency, and adapt to market volatility. It involves techniques such as position sizing, setting stop-loss orders, and diversifying investments, all aimed at minimizing losses and enhancing long-term success in the financial markets.\n"
     ]
    }
   ],
   "source": [
    "print(graph.get_state(config = config).values.get(\"summary\", \"\"))"
   ]
  },
  {
   "cell_type": "code",
   "execution_count": 8,
   "id": "5035aa53",
   "metadata": {},
   "outputs": [
    {
     "data": {
      "text/plain": [
       "StateSnapshot(values={'messages': [HumanMessage(content='Do you think risk management is important?', additional_kwargs={}, response_metadata={}, id='0e815ca3-bda6-4b00-a8f1-0cc74ee418fb'), AIMessage(content='Yes, risk management is critically important in trading and investing. It serves as a foundational element for long-term success in the financial markets. Here are several reasons why risk management is essential:\\n\\n### 1. **Preservation of Capital**\\n   - The primary goal of risk management is to protect your capital. By implementing effective risk management strategies, you can minimize losses and ensure that you have enough capital to continue trading or investing over the long term.\\n\\n### 2. **Emotional Control**\\n   - Trading can be emotionally taxing, especially during periods of high volatility. A solid risk management plan helps traders stick to their strategies and avoid making impulsive decisions based on fear or greed.\\n\\n### 3. **Consistency**\\n   - Effective risk management allows traders to maintain consistency in their trading performance. By controlling risk, traders can avoid large drawdowns that can derail their trading plans and lead to inconsistent results.\\n\\n### 4. **Position Sizing**\\n   - Risk management involves determining the appropriate position size for each trade based on your risk tolerance and the specific trade setup. This helps ensure that no single trade can significantly impact your overall portfolio.\\n\\n### 5. **Long-Term Success**\\n   - Successful trading is not just about making profits; it’s also about surviving the inevitable losses. A well-structured risk management strategy can help traders stay in the game long enough to capitalize on profitable opportunities.\\n\\n### 6. **Market Volatility**\\n   - Financial markets can be unpredictable and volatile. Risk management helps traders prepare for adverse market conditions and unexpected events, such as economic news releases or geopolitical developments.\\n\\n### 7. **Setting Stop-Loss Orders**\\n   - One of the most common risk management techniques is the use of stop-loss orders. These orders automatically close a position at a predetermined price, limiting potential losses and helping traders manage their risk exposure.\\n\\n### 8. **Diversification**\\n   - Risk management often involves diversifying investments across different asset classes, sectors, or geographic regions. This can help reduce the overall risk of a portfolio by spreading exposure to various market factors.\\n\\n### 9. **Risk-Reward Ratio**\\n   - A key aspect of risk management is evaluating the risk-reward ratio of each trade. Traders should aim for trades where the potential reward outweighs the risk, which can lead to more favorable long-term outcomes.\\n\\n### 10. **Adaptability**\\n   - Markets are constantly changing, and effective risk management allows traders to adapt their strategies based on current market conditions. This flexibility can be crucial for navigating different market environments.\\n\\n### Conclusion\\n\\nIn summary, risk management is a vital component of successful trading and investing. It helps protect capital, maintain emotional control, and ensure long-term sustainability in the markets. By implementing sound risk management practices, traders can improve their chances of achieving consistent profits while minimizing the potential for significant losses. Whether you are a novice trader or an experienced investor, prioritizing risk management is essential for navigating the complexities of the financial markets.', additional_kwargs={'refusal': None}, response_metadata={'token_usage': {'completion_tokens': 597, 'prompt_tokens': 1509, 'total_tokens': 2106, 'completion_tokens_details': {'accepted_prediction_tokens': 0, 'audio_tokens': 0, 'reasoning_tokens': 0, 'rejected_prediction_tokens': 0}, 'prompt_tokens_details': {'audio_tokens': 0, 'cached_tokens': 1408}}, 'model_name': 'gpt-4o-mini-2024-07-18', 'system_fingerprint': 'fp_560af6e559', 'id': 'chatcmpl-C9tM09IkIQ7oI6WZAdSUQjZJTngmV', 'service_tier': 'default', 'finish_reason': 'stop', 'logprobs': None}, id='run--fd6a64fc-b6b6-43f2-8ef8-107d6fb99b2f-0', usage_metadata={'input_tokens': 1509, 'output_tokens': 597, 'total_tokens': 2106, 'input_token_details': {'audio': 0, 'cache_read': 1408}, 'output_token_details': {'audio': 0, 'reasoning': 0}})], 'summary': 'In this conversation, we discussed the concepts of flow and order book analysis in stock trading, highlighting their importance in understanding market dynamics and the behavior of \"smart money\" (institutional investors). Flow analysis involves studying buying and selling activity to gauge market sentiment, while order book analysis provides a real-time view of buy and sell orders, revealing liquidity and potential support/resistance levels.\\n\\nWe also explored the relationship between these analyses and smart money, emphasizing how traders can use flow and order book data to align their strategies with institutional investors. Additionally, we underscored the critical importance of risk management in trading and investing. Effective risk management helps preserve capital, maintain emotional control, ensure consistency, and adapt to market volatility. It involves techniques such as position sizing, setting stop-loss orders, and diversifying investments, all aimed at minimizing losses and enhancing long-term success in the financial markets.'}, next=(), config={'configurable': {'thread_id': 'TestBot', 'checkpoint_ns': '', 'checkpoint_id': '1f084db4-8c29-60b8-8008-a450dcf3f611'}}, metadata={'source': 'loop', 'step': 8, 'parents': {}}, created_at='2025-08-29T13:23:00.190021+00:00', parent_config={'configurable': {'thread_id': 'TestBot', 'checkpoint_ns': '', 'checkpoint_id': '1f084db4-7782-6ae7-8007-1b58fdefa5fa'}}, tasks=(), interrupts=())"
      ]
     },
     "execution_count": 8,
     "metadata": {},
     "output_type": "execute_result"
    }
   ],
   "source": [
    "graph.get_state(config = config)"
   ]
  },
  {
   "cell_type": "markdown",
   "id": "33ba94fe",
   "metadata": {},
   "source": [
    "# UX + Human in the Loop"
   ]
  },
  {
   "cell_type": "markdown",
   "id": "98346bab",
   "metadata": {},
   "source": [
    "## Streaming"
   ]
  },
  {
   "cell_type": "markdown",
   "id": "55b7f9f4",
   "metadata": {},
   "source": [
    "Using chatbot graph"
   ]
  },
  {
   "cell_type": "markdown",
   "id": "bf28069f",
   "metadata": {},
   "source": [
    "Notes:\n",
    "\n",
    "There are 2 ways of streaming `.stream` and `.astream` are sync and async method for streaming result\n",
    "\n",
    "Langgraph also support 2 streaming mode for state:\n",
    "- `values`: return full state of the graph each time the node called\n",
    "- `update`: update the state of the graph after each time the node called\n",
    "\n"
   ]
  },
  {
   "cell_type": "markdown",
   "id": "b567761a",
   "metadata": {},
   "source": [
    "![values_vs_updates.png](https://cdn.prod.website-files.com/65b8cd72835ceeacd4449a53/66dbaf892d24625a201744e5_streaming1.png)"
   ]
  },
  {
   "cell_type": "markdown",
   "id": "165d701c",
   "metadata": {},
   "source": [
    "### Example .stream"
   ]
  },
  {
   "cell_type": "code",
   "execution_count": 11,
   "id": "608fce77",
   "metadata": {},
   "outputs": [],
   "source": [
    "config = {\"configurable\": {\"thread_id\": \"Streaming\"}}"
   ]
  },
  {
   "cell_type": "code",
   "execution_count": 12,
   "id": "07d909e7",
   "metadata": {},
   "outputs": [
    {
     "name": "stdout",
     "output_type": "stream",
     "text": [
      "{'call_model': {'messages': AIMessage(content='Exchange-Traded Funds (ETFs) are investment funds that are traded on stock exchanges, similar to individual stocks. They are designed to track the performance of a specific index, commodity, currency, or a mix of various asset classes. Here’s how they work:\\n\\n### 1. Structure of ETFs\\n- **Composition**: An ETF holds a collection of assets, such as stocks, bonds, or commodities. For example, a stock ETF might track the S&P 500 index by holding shares of the companies that make up that index.\\n- **Shares**: Investors buy shares of the ETF, which represent a proportional ownership of the underlying assets.\\n\\n### 2. Trading\\n- **Exchange-Traded**: ETFs are bought and sold on stock exchanges throughout the trading day, just like individual stocks. This allows for real-time pricing and liquidity.\\n- **Market Price**: The price of an ETF share fluctuates throughout the day based on supply and demand, but it generally stays close to the net asset value (NAV) of the underlying assets.\\n\\n### 3. Creation and Redemption\\n- **Authorized Participants (APs)**: Large financial institutions known as authorized participants can create or redeem ETF shares. They do this by exchanging a basket of the underlying assets for ETF shares (creation) or exchanging ETF shares for the underlying assets (redemption).\\n- **In-Kind Transactions**: This process often occurs \"in-kind,\" meaning that the actual securities are exchanged rather than cash. This helps keep the ETF\\'s market price close to its NAV and can also provide tax efficiency.\\n\\n### 4. Types of ETFs\\n- **Equity ETFs**: Track stock indices or sectors.\\n- **Bond ETFs**: Invest in fixed-income securities.\\n- **Commodity ETFs**: Track the price of commodities like gold or oil.\\n- **Sector and Industry ETFs**: Focus on specific sectors of the economy.\\n- **International ETFs**: Invest in foreign markets or regions.\\n- **Thematic ETFs**: Focus on specific investment themes or trends.\\n\\n### 5. Advantages of ETFs\\n- **Diversification**: By investing in an ETF, investors can gain exposure to a broad range of assets, reducing individual stock risk.\\n- **Liquidity**: ETFs can be bought and sold throughout the trading day, providing flexibility.\\n- **Cost-Effective**: Generally, ETFs have lower expense ratios compared to mutual funds, and the in-kind creation/redemption process can help minimize capital gains distributions.\\n- **Transparency**: Most ETFs regularly disclose their holdings, allowing investors to see what they own.\\n\\n### 6. Disadvantages of ETFs\\n- **Trading Costs**: While ETFs generally have lower fees, buying and selling them incurs brokerage commissions, which can add up for frequent traders.\\n- **Market Risk**: Like all investments, ETFs are subject to market risk, and their value can fluctuate.\\n- **Tracking Error**: An ETF may not perfectly track its underlying index due to fees, expenses, and other factors.\\n\\n### Conclusion\\nETFs are a versatile investment vehicle that can be used for various strategies, from long-term investing to short-term trading. They offer a way to gain exposure to a wide range of assets with the benefits of liquidity and cost efficiency. However, investors should carefully consider their investment goals and the specific characteristics of the ETFs they choose.', additional_kwargs={'refusal': None}, response_metadata={'token_usage': {'completion_tokens': 674, 'prompt_tokens': 12, 'total_tokens': 686, 'completion_tokens_details': {'accepted_prediction_tokens': 0, 'audio_tokens': 0, 'reasoning_tokens': 0, 'rejected_prediction_tokens': 0}, 'prompt_tokens_details': {'audio_tokens': 0, 'cached_tokens': 0}}, 'model_name': 'gpt-4o-mini-2024-07-18', 'system_fingerprint': 'fp_560af6e559', 'id': 'chatcmpl-C9uiTkh95wG41aLohh1qu1RqJBPlH', 'service_tier': 'default', 'finish_reason': 'stop', 'logprobs': None}, id='run--10fab811-f96f-4d3f-8bdd-dc9a2259721f-0', usage_metadata={'input_tokens': 12, 'output_tokens': 674, 'total_tokens': 686, 'input_token_details': {'audio': 0, 'cache_read': 0}, 'output_token_details': {'audio': 0, 'reasoning': 0}})}}\n"
     ]
    }
   ],
   "source": [
    "input = HumanMessage(content=\"How do ETF works?\")\n",
    "for message in graph.stream({\"messages\": [input]}, config=config, stream_mode=\"updates\"):\n",
    "    print(message)"
   ]
  },
  {
   "cell_type": "code",
   "execution_count": 25,
   "id": "baffa7ba",
   "metadata": {},
   "outputs": [
    {
     "data": {
      "text/plain": [
       "{'content': 'Exchange-Traded Funds (ETFs) are investment funds that are traded on stock exchanges, similar to individual stocks. They are designed to track the performance of a specific index, commodity, currency, or a mix of various asset classes. Here’s how they work:\\n\\n### 1. Structure of ETFs\\n- **Composition**: An ETF holds a collection of assets, such as stocks, bonds, or commodities. For example, a stock ETF might track the S&P 500 index by holding shares of the companies that make up that index.\\n- **Shares**: Investors buy shares of the ETF, which represent a proportional ownership of the underlying assets.\\n\\n### 2. Trading\\n- **Exchange-Traded**: ETFs are bought and sold on stock exchanges throughout the trading day, just like individual stocks. This allows for real-time pricing and liquidity.\\n- **Market Price**: The price of an ETF share fluctuates throughout the day based on supply and demand, but it generally stays close to the net asset value (NAV) of the underlying assets.\\n\\n### 3. Creation and Redemption\\n- **Authorized Participants (APs)**: Large financial institutions known as authorized participants can create or redeem ETF shares. They do this by exchanging a basket of the underlying assets for ETF shares (creation) or exchanging ETF shares for the underlying assets (redemption).\\n- **In-Kind Transactions**: This process often occurs \"in-kind,\" meaning that the actual securities are exchanged rather than cash. This helps keep the ETF\\'s market price close to its NAV and can also provide tax efficiency.\\n\\n### 4. Types of ETFs\\n- **Equity ETFs**: Track stock indices or sectors.\\n- **Bond ETFs**: Invest in fixed-income securities.\\n- **Commodity ETFs**: Track the price of commodities like gold or oil.\\n- **Sector and Industry ETFs**: Focus on specific sectors of the economy.\\n- **International ETFs**: Invest in foreign markets or regions.\\n- **Thematic ETFs**: Focus on specific investment themes or trends.\\n\\n### 5. Advantages of ETFs\\n- **Diversification**: By investing in an ETF, investors can gain exposure to a broad range of assets, reducing individual stock risk.\\n- **Liquidity**: ETFs can be bought and sold throughout the trading day, providing flexibility.\\n- **Cost-Effective**: Generally, ETFs have lower expense ratios compared to mutual funds, and the in-kind creation/redemption process can help minimize capital gains distributions.\\n- **Transparency**: Most ETFs regularly disclose their holdings, allowing investors to see what they own.\\n\\n### 6. Disadvantages of ETFs\\n- **Trading Costs**: While ETFs generally have lower fees, buying and selling them incurs brokerage commissions, which can add up for frequent traders.\\n- **Market Risk**: Like all investments, ETFs are subject to market risk, and their value can fluctuate.\\n- **Tracking Error**: An ETF may not perfectly track its underlying index due to fees, expenses, and other factors.\\n\\n### Conclusion\\nETFs are a versatile investment vehicle that can be used for various strategies, from long-term investing to short-term trading. They offer a way to gain exposure to a wide range of assets with the benefits of liquidity and cost efficiency. However, investors should carefully consider their investment goals and the specific characteristics of the ETFs they choose.',\n",
       " 'additional_kwargs': {'refusal': None},\n",
       " 'response_metadata': {'token_usage': {'completion_tokens': 674,\n",
       "   'prompt_tokens': 12,\n",
       "   'total_tokens': 686,\n",
       "   'completion_tokens_details': {'accepted_prediction_tokens': 0,\n",
       "    'audio_tokens': 0,\n",
       "    'reasoning_tokens': 0,\n",
       "    'rejected_prediction_tokens': 0},\n",
       "   'prompt_tokens_details': {'audio_tokens': 0, 'cached_tokens': 0}},\n",
       "  'model_name': 'gpt-4o-mini-2024-07-18',\n",
       "  'system_fingerprint': 'fp_560af6e559',\n",
       "  'id': 'chatcmpl-C9uiTkh95wG41aLohh1qu1RqJBPlH',\n",
       "  'service_tier': 'default',\n",
       "  'finish_reason': 'stop',\n",
       "  'logprobs': None},\n",
       " 'type': 'ai',\n",
       " 'name': None,\n",
       " 'id': 'run--10fab811-f96f-4d3f-8bdd-dc9a2259721f-0',\n",
       " 'example': False,\n",
       " 'tool_calls': [],\n",
       " 'invalid_tool_calls': [],\n",
       " 'usage_metadata': {'input_tokens': 12,\n",
       "  'output_tokens': 674,\n",
       "  'total_tokens': 686,\n",
       "  'input_token_details': {'audio': 0, 'cache_read': 0},\n",
       "  'output_token_details': {'audio': 0, 'reasoning': 0}}}"
      ]
     },
     "execution_count": 25,
     "metadata": {},
     "output_type": "execute_result"
    }
   ],
   "source": [
    "message[\"call_model\"]['messages'].model_dump()"
   ]
  },
  {
   "cell_type": "markdown",
   "id": "d0514257",
   "metadata": {},
   "source": [
    "### Streaming Token"
   ]
  },
  {
   "cell_type": "code",
   "execution_count": 26,
   "id": "c7d005e5",
   "metadata": {},
   "outputs": [],
   "source": [
    "config = {\"configurable\": {\"thread_id\": \"Streaming_token\"}}"
   ]
  },
  {
   "cell_type": "code",
   "execution_count": 40,
   "id": "27220dcd",
   "metadata": {},
   "outputs": [
    {
     "name": "stdout",
     "output_type": "stream",
     "text": [
      "Node: . Type: on_chain_start. Name: LangGraph\n",
      "Node: call_model. Type: on_chain_start. Name: call_model\n",
      "Node: call_model. Type: on_chat_model_start. Name: ChatOpenAI\n",
      "Node: call_model. Type: on_chat_model_stream. Name: ChatOpenAI\n",
      "Node: call_model. Type: on_chat_model_stream. Name: ChatOpenAI\n",
      "Node: call_model. Type: on_chat_model_stream. Name: ChatOpenAI\n",
      "Node: call_model. Type: on_chat_model_stream. Name: ChatOpenAI\n",
      "Node: call_model. Type: on_chat_model_stream. Name: ChatOpenAI\n",
      "Node: call_model. Type: on_chat_model_stream. Name: ChatOpenAI\n",
      "Node: call_model. Type: on_chat_model_stream. Name: ChatOpenAI\n",
      "Node: call_model. Type: on_chat_model_stream. Name: ChatOpenAI\n",
      "Node: call_model. Type: on_chat_model_stream. Name: ChatOpenAI\n",
      "Node: call_model. Type: on_chat_model_stream. Name: ChatOpenAI\n",
      "Node: call_model. Type: on_chat_model_stream. Name: ChatOpenAI\n",
      "Node: call_model. Type: on_chat_model_stream. Name: ChatOpenAI\n",
      "Node: call_model. Type: on_chat_model_stream. Name: ChatOpenAI\n",
      "Node: call_model. Type: on_chat_model_stream. Name: ChatOpenAI\n",
      "Node: call_model. Type: on_chat_model_stream. Name: ChatOpenAI\n",
      "Node: call_model. Type: on_chat_model_stream. Name: ChatOpenAI\n",
      "Node: call_model. Type: on_chat_model_stream. Name: ChatOpenAI\n",
      "Node: call_model. Type: on_chat_model_stream. Name: ChatOpenAI\n",
      "Node: call_model. Type: on_chat_model_stream. Name: ChatOpenAI\n",
      "Node: call_model. Type: on_chat_model_stream. Name: ChatOpenAI\n",
      "Node: call_model. Type: on_chat_model_stream. Name: ChatOpenAI\n",
      "Node: call_model. Type: on_chat_model_stream. Name: ChatOpenAI\n",
      "Node: call_model. Type: on_chat_model_stream. Name: ChatOpenAI\n",
      "Node: call_model. Type: on_chat_model_stream. Name: ChatOpenAI\n",
      "Node: call_model. Type: on_chat_model_stream. Name: ChatOpenAI\n",
      "Node: call_model. Type: on_chat_model_stream. Name: ChatOpenAI\n",
      "Node: call_model. Type: on_chat_model_stream. Name: ChatOpenAI\n",
      "Node: call_model. Type: on_chat_model_stream. Name: ChatOpenAI\n",
      "Node: call_model. Type: on_chat_model_stream. Name: ChatOpenAI\n",
      "Node: call_model. Type: on_chat_model_stream. Name: ChatOpenAI\n",
      "Node: call_model. Type: on_chat_model_stream. Name: ChatOpenAI\n",
      "Node: call_model. Type: on_chat_model_stream. Name: ChatOpenAI\n",
      "Node: call_model. Type: on_chat_model_stream. Name: ChatOpenAI\n",
      "Node: call_model. Type: on_chat_model_stream. Name: ChatOpenAI\n",
      "Node: call_model. Type: on_chat_model_stream. Name: ChatOpenAI\n",
      "Node: call_model. Type: on_chat_model_stream. Name: ChatOpenAI\n",
      "Node: call_model. Type: on_chat_model_stream. Name: ChatOpenAI\n",
      "Node: call_model. Type: on_chat_model_stream. Name: ChatOpenAI\n",
      "Node: call_model. Type: on_chat_model_stream. Name: ChatOpenAI\n",
      "Node: call_model. Type: on_chat_model_stream. Name: ChatOpenAI\n",
      "Node: call_model. Type: on_chat_model_stream. Name: ChatOpenAI\n",
      "Node: call_model. Type: on_chat_model_stream. Name: ChatOpenAI\n",
      "Node: call_model. Type: on_chat_model_stream. Name: ChatOpenAI\n",
      "Node: call_model. Type: on_chat_model_stream. Name: ChatOpenAI\n",
      "Node: call_model. Type: on_chat_model_stream. Name: ChatOpenAI\n",
      "Node: call_model. Type: on_chat_model_stream. Name: ChatOpenAI\n",
      "Node: call_model. Type: on_chat_model_stream. Name: ChatOpenAI\n",
      "Node: call_model. Type: on_chat_model_stream. Name: ChatOpenAI\n",
      "Node: call_model. Type: on_chat_model_stream. Name: ChatOpenAI\n",
      "Node: call_model. Type: on_chat_model_stream. Name: ChatOpenAI\n",
      "Node: call_model. Type: on_chat_model_stream. Name: ChatOpenAI\n",
      "Node: call_model. Type: on_chat_model_stream. Name: ChatOpenAI\n",
      "Node: call_model. Type: on_chat_model_stream. Name: ChatOpenAI\n",
      "Node: call_model. Type: on_chat_model_stream. Name: ChatOpenAI\n",
      "Node: call_model. Type: on_chat_model_stream. Name: ChatOpenAI\n",
      "Node: call_model. Type: on_chat_model_stream. Name: ChatOpenAI\n",
      "Node: call_model. Type: on_chat_model_stream. Name: ChatOpenAI\n",
      "Node: call_model. Type: on_chat_model_stream. Name: ChatOpenAI\n",
      "Node: call_model. Type: on_chat_model_stream. Name: ChatOpenAI\n",
      "Node: call_model. Type: on_chat_model_stream. Name: ChatOpenAI\n",
      "Node: call_model. Type: on_chat_model_stream. Name: ChatOpenAI\n",
      "Node: call_model. Type: on_chat_model_stream. Name: ChatOpenAI\n",
      "Node: call_model. Type: on_chat_model_stream. Name: ChatOpenAI\n",
      "Node: call_model. Type: on_chat_model_stream. Name: ChatOpenAI\n",
      "Node: call_model. Type: on_chat_model_stream. Name: ChatOpenAI\n",
      "Node: call_model. Type: on_chat_model_stream. Name: ChatOpenAI\n",
      "Node: call_model. Type: on_chat_model_stream. Name: ChatOpenAI\n",
      "Node: call_model. Type: on_chat_model_stream. Name: ChatOpenAI\n",
      "Node: call_model. Type: on_chat_model_stream. Name: ChatOpenAI\n",
      "Node: call_model. Type: on_chat_model_stream. Name: ChatOpenAI\n",
      "Node: call_model. Type: on_chat_model_stream. Name: ChatOpenAI\n",
      "Node: call_model. Type: on_chat_model_stream. Name: ChatOpenAI\n",
      "Node: call_model. Type: on_chat_model_stream. Name: ChatOpenAI\n",
      "Node: call_model. Type: on_chat_model_stream. Name: ChatOpenAI\n",
      "Node: call_model. Type: on_chat_model_stream. Name: ChatOpenAI\n",
      "Node: call_model. Type: on_chat_model_stream. Name: ChatOpenAI\n",
      "Node: call_model. Type: on_chat_model_stream. Name: ChatOpenAI\n",
      "Node: call_model. Type: on_chat_model_stream. Name: ChatOpenAI\n",
      "Node: call_model. Type: on_chat_model_stream. Name: ChatOpenAI\n",
      "Node: call_model. Type: on_chat_model_stream. Name: ChatOpenAI\n",
      "Node: call_model. Type: on_chat_model_stream. Name: ChatOpenAI\n",
      "Node: call_model. Type: on_chat_model_stream. Name: ChatOpenAI\n",
      "Node: call_model. Type: on_chat_model_stream. Name: ChatOpenAI\n",
      "Node: call_model. Type: on_chat_model_stream. Name: ChatOpenAI\n",
      "Node: call_model. Type: on_chat_model_stream. Name: ChatOpenAI\n",
      "Node: call_model. Type: on_chat_model_stream. Name: ChatOpenAI\n",
      "Node: call_model. Type: on_chat_model_stream. Name: ChatOpenAI\n",
      "Node: call_model. Type: on_chat_model_stream. Name: ChatOpenAI\n",
      "Node: call_model. Type: on_chat_model_stream. Name: ChatOpenAI\n",
      "Node: call_model. Type: on_chat_model_stream. Name: ChatOpenAI\n",
      "Node: call_model. Type: on_chat_model_stream. Name: ChatOpenAI\n",
      "Node: call_model. Type: on_chat_model_stream. Name: ChatOpenAI\n",
      "Node: call_model. Type: on_chat_model_stream. Name: ChatOpenAI\n",
      "Node: call_model. Type: on_chat_model_stream. Name: ChatOpenAI\n",
      "Node: call_model. Type: on_chat_model_stream. Name: ChatOpenAI\n",
      "Node: call_model. Type: on_chat_model_stream. Name: ChatOpenAI\n",
      "Node: call_model. Type: on_chat_model_stream. Name: ChatOpenAI\n",
      "Node: call_model. Type: on_chat_model_stream. Name: ChatOpenAI\n",
      "Node: call_model. Type: on_chat_model_stream. Name: ChatOpenAI\n",
      "Node: call_model. Type: on_chat_model_stream. Name: ChatOpenAI\n",
      "Node: call_model. Type: on_chat_model_stream. Name: ChatOpenAI\n",
      "Node: call_model. Type: on_chat_model_stream. Name: ChatOpenAI\n",
      "Node: call_model. Type: on_chat_model_stream. Name: ChatOpenAI\n",
      "Node: call_model. Type: on_chat_model_stream. Name: ChatOpenAI\n",
      "Node: call_model. Type: on_chat_model_stream. Name: ChatOpenAI\n",
      "Node: call_model. Type: on_chat_model_stream. Name: ChatOpenAI\n",
      "Node: call_model. Type: on_chat_model_stream. Name: ChatOpenAI\n",
      "Node: call_model. Type: on_chat_model_stream. Name: ChatOpenAI\n",
      "Node: call_model. Type: on_chat_model_stream. Name: ChatOpenAI\n",
      "Node: call_model. Type: on_chat_model_stream. Name: ChatOpenAI\n",
      "Node: call_model. Type: on_chat_model_stream. Name: ChatOpenAI\n",
      "Node: call_model. Type: on_chat_model_stream. Name: ChatOpenAI\n",
      "Node: call_model. Type: on_chat_model_stream. Name: ChatOpenAI\n",
      "Node: call_model. Type: on_chat_model_stream. Name: ChatOpenAI\n",
      "Node: call_model. Type: on_chat_model_stream. Name: ChatOpenAI\n",
      "Node: call_model. Type: on_chat_model_stream. Name: ChatOpenAI\n",
      "Node: call_model. Type: on_chat_model_stream. Name: ChatOpenAI\n",
      "Node: call_model. Type: on_chat_model_stream. Name: ChatOpenAI\n",
      "Node: call_model. Type: on_chat_model_stream. Name: ChatOpenAI\n",
      "Node: call_model. Type: on_chat_model_stream. Name: ChatOpenAI\n",
      "Node: call_model. Type: on_chat_model_stream. Name: ChatOpenAI\n",
      "Node: call_model. Type: on_chat_model_stream. Name: ChatOpenAI\n",
      "Node: call_model. Type: on_chat_model_stream. Name: ChatOpenAI\n",
      "Node: call_model. Type: on_chat_model_stream. Name: ChatOpenAI\n",
      "Node: call_model. Type: on_chat_model_stream. Name: ChatOpenAI\n",
      "Node: call_model. Type: on_chat_model_stream. Name: ChatOpenAI\n",
      "Node: call_model. Type: on_chat_model_stream. Name: ChatOpenAI\n",
      "Node: call_model. Type: on_chat_model_stream. Name: ChatOpenAI\n",
      "Node: call_model. Type: on_chat_model_stream. Name: ChatOpenAI\n",
      "Node: call_model. Type: on_chat_model_stream. Name: ChatOpenAI\n",
      "Node: call_model. Type: on_chat_model_stream. Name: ChatOpenAI\n",
      "Node: call_model. Type: on_chat_model_stream. Name: ChatOpenAI\n",
      "Node: call_model. Type: on_chat_model_stream. Name: ChatOpenAI\n",
      "Node: call_model. Type: on_chat_model_stream. Name: ChatOpenAI\n",
      "Node: call_model. Type: on_chat_model_stream. Name: ChatOpenAI\n",
      "Node: call_model. Type: on_chat_model_stream. Name: ChatOpenAI\n",
      "Node: call_model. Type: on_chat_model_stream. Name: ChatOpenAI\n",
      "Node: call_model. Type: on_chat_model_stream. Name: ChatOpenAI\n",
      "Node: call_model. Type: on_chat_model_stream. Name: ChatOpenAI\n",
      "Node: call_model. Type: on_chat_model_stream. Name: ChatOpenAI\n",
      "Node: call_model. Type: on_chat_model_stream. Name: ChatOpenAI\n",
      "Node: call_model. Type: on_chat_model_stream. Name: ChatOpenAI\n",
      "Node: call_model. Type: on_chat_model_stream. Name: ChatOpenAI\n",
      "Node: call_model. Type: on_chat_model_stream. Name: ChatOpenAI\n",
      "Node: call_model. Type: on_chat_model_stream. Name: ChatOpenAI\n",
      "Node: call_model. Type: on_chat_model_stream. Name: ChatOpenAI\n",
      "Node: call_model. Type: on_chat_model_stream. Name: ChatOpenAI\n",
      "Node: call_model. Type: on_chat_model_stream. Name: ChatOpenAI\n",
      "Node: call_model. Type: on_chat_model_stream. Name: ChatOpenAI\n",
      "Node: call_model. Type: on_chat_model_stream. Name: ChatOpenAI\n",
      "Node: call_model. Type: on_chat_model_stream. Name: ChatOpenAI\n",
      "Node: call_model. Type: on_chat_model_stream. Name: ChatOpenAI\n",
      "Node: call_model. Type: on_chat_model_stream. Name: ChatOpenAI\n",
      "Node: call_model. Type: on_chat_model_stream. Name: ChatOpenAI\n",
      "Node: call_model. Type: on_chat_model_stream. Name: ChatOpenAI\n",
      "Node: call_model. Type: on_chat_model_stream. Name: ChatOpenAI\n",
      "Node: call_model. Type: on_chat_model_stream. Name: ChatOpenAI\n",
      "Node: call_model. Type: on_chat_model_stream. Name: ChatOpenAI\n",
      "Node: call_model. Type: on_chat_model_stream. Name: ChatOpenAI\n",
      "Node: call_model. Type: on_chat_model_stream. Name: ChatOpenAI\n",
      "Node: call_model. Type: on_chat_model_stream. Name: ChatOpenAI\n",
      "Node: call_model. Type: on_chat_model_stream. Name: ChatOpenAI\n",
      "Node: call_model. Type: on_chat_model_stream. Name: ChatOpenAI\n",
      "Node: call_model. Type: on_chat_model_stream. Name: ChatOpenAI\n",
      "Node: call_model. Type: on_chat_model_stream. Name: ChatOpenAI\n",
      "Node: call_model. Type: on_chat_model_stream. Name: ChatOpenAI\n",
      "Node: call_model. Type: on_chat_model_stream. Name: ChatOpenAI\n",
      "Node: call_model. Type: on_chat_model_stream. Name: ChatOpenAI\n",
      "Node: call_model. Type: on_chat_model_stream. Name: ChatOpenAI\n",
      "Node: call_model. Type: on_chat_model_stream. Name: ChatOpenAI\n",
      "Node: call_model. Type: on_chat_model_stream. Name: ChatOpenAI\n",
      "Node: call_model. Type: on_chat_model_stream. Name: ChatOpenAI\n",
      "Node: call_model. Type: on_chat_model_stream. Name: ChatOpenAI\n",
      "Node: call_model. Type: on_chat_model_stream. Name: ChatOpenAI\n",
      "Node: call_model. Type: on_chat_model_stream. Name: ChatOpenAI\n",
      "Node: call_model. Type: on_chat_model_stream. Name: ChatOpenAI\n",
      "Node: call_model. Type: on_chat_model_stream. Name: ChatOpenAI\n",
      "Node: call_model. Type: on_chat_model_stream. Name: ChatOpenAI\n",
      "Node: call_model. Type: on_chat_model_stream. Name: ChatOpenAI\n",
      "Node: call_model. Type: on_chat_model_stream. Name: ChatOpenAI\n",
      "Node: call_model. Type: on_chat_model_stream. Name: ChatOpenAI\n",
      "Node: call_model. Type: on_chat_model_stream. Name: ChatOpenAI\n",
      "Node: call_model. Type: on_chat_model_stream. Name: ChatOpenAI\n",
      "Node: call_model. Type: on_chat_model_stream. Name: ChatOpenAI\n",
      "Node: call_model. Type: on_chat_model_stream. Name: ChatOpenAI\n",
      "Node: call_model. Type: on_chat_model_stream. Name: ChatOpenAI\n",
      "Node: call_model. Type: on_chat_model_stream. Name: ChatOpenAI\n",
      "Node: call_model. Type: on_chat_model_stream. Name: ChatOpenAI\n",
      "Node: call_model. Type: on_chat_model_stream. Name: ChatOpenAI\n",
      "Node: call_model. Type: on_chat_model_stream. Name: ChatOpenAI\n",
      "Node: call_model. Type: on_chat_model_stream. Name: ChatOpenAI\n",
      "Node: call_model. Type: on_chat_model_end. Name: ChatOpenAI\n",
      "Node: call_model. Type: on_chain_start. Name: should_summarize\n",
      "Node: call_model. Type: on_chain_end. Name: should_summarize\n",
      "Node: call_model. Type: on_chain_stream. Name: call_model\n",
      "Node: call_model. Type: on_chain_end. Name: call_model\n",
      "Node: . Type: on_chain_stream. Name: LangGraph\n",
      "Node: . Type: on_chain_end. Name: LangGraph\n"
     ]
    }
   ],
   "source": [
    "input_message = HumanMessage(content=\"Tell me about sesquehanna capital management\")\n",
    "async for event in graph.astream_events({\"messages\": [input_message]}, config, version=\"v2\"):\n",
    "    print(f\"Node: {event['metadata'].get('langgraph_node','')}. Type: {event['event']}. Name: {event['name']}\")"
   ]
  },
  {
   "cell_type": "code",
   "execution_count": 44,
   "id": "d1a6cddb",
   "metadata": {},
   "outputs": [
    {
     "name": "stdout",
     "output_type": "stream",
     "text": [
      "Goldman Sachs Group, Inc. is a leading global investment banking, securities, and investment management firm headquartered in New York City. Founded in 1869 by Marcus Goldman, the firm has established itself as one of the most influential financial institutions in the world.\n",
      "\n",
      "### Key Areas of Business:\n",
      "\n",
      "1. **Investment Banking**: Goldman Sachs provides advisory services for mergers and acquisitions (M&A), restructurings, and capital raising. The firm is known for its expertise in underwriting and facilitating complex financial transactions for corporations, governments, and institutions.\n",
      "\n",
      "2. **Securities**: The firm engages in trading and market-making across various asset classes, including equities, fixed income, currencies, and commodities. Goldman Sachs plays a significant role in the global securities markets, providing liquidity and facilitating transactions.\n",
      "\n",
      "3. **Investment Management**: Goldman Sachs offers a wide range of investment management services to institutional and individual clients. This includes asset management, private wealth management, and investment funds, catering to diverse investment needs.\n",
      "\n",
      "4. **Consumer and Wealth Management**: In recent years, Goldman Sachs has expanded its focus on consumer banking and wealth management. The firm launched Marcus by Goldman Sachs, which provides personal loans and high-yield savings accounts, aiming to attract retail customers.\n",
      "\n",
      "### Global Presence:\n",
      "Goldman Sachs operates in major financial centers around the world, including New York, London, Hong Kong, and Tokyo. The firm serves a diverse client base, including corporations, financial institutions, governments, and high-net-worth individuals.\n",
      "\n",
      "### Reputation and Influence:\n",
      "Goldman Sachs is often regarded as one of the most prestigious investment banks globally, known for attracting top talent from leading universities and business schools. The firm has been involved in numerous high-profile financial transactions and has played a significant role in shaping financial markets.\n",
      "\n",
      "### Challenges and Criticism:\n",
      "Goldman Sachs has faced various controversies and criticisms, particularly during and after the 2008 financial crisis. Issues related to conflicts of interest, regulatory scrutiny, and its role in the financial system have been points of discussion and concern.\n",
      "\n",
      "### Recent Developments:\n",
      "In recent years, Goldman Sachs has been focusing on technology and innovation, investing in fintech and digital banking solutions to adapt to changing market dynamics and consumer preferences. The firm is also exploring sustainable finance and environmental, social, and governance (ESG) investing.\n",
      "\n",
      "If you have specific questions or would like more detailed information about a particular aspect of Goldman Sachs, feel free to ask!"
     ]
    }
   ],
   "source": [
    "# To stream only the content\n",
    "stream_node = \"call_model\"\n",
    "\n",
    "input_message = HumanMessage(content=\"Tell me about goldman sachs\")\n",
    "async for event in graph.astream_events({\"messages\": [input_message]}, config, version=\"v2\"):\n",
    "    if event['event'] == \"on_chat_model_stream\" and event['metadata'].get(\"langgraph_node\", \"\") == stream_node:\n",
    "        print(event['data']['chunk'].content, end=\"\")"
   ]
  },
  {
   "cell_type": "markdown",
   "id": "82a74aab",
   "metadata": {},
   "source": [
    "### Langgraph API"
   ]
  },
  {
   "cell_type": "code",
   "execution_count": null,
   "id": "5db6da9f",
   "metadata": {},
   "outputs": [
    {
     "data": {
      "text/plain": [
       "[{'assistant_id': '8a4ac7a4-50eb-5206-98cc-4a72345cb1f7',\n",
       "  'graph_id': 'chatbot',\n",
       "  'config': {},\n",
       "  'context': {},\n",
       "  'metadata': {'created_by': 'system'},\n",
       "  'name': 'chatbot',\n",
       "  'created_at': '2025-08-29T16:29:23.455873+00:00',\n",
       "  'updated_at': '2025-08-29T16:29:23.455873+00:00',\n",
       "  'version': 1,\n",
       "  'description': None},\n",
       " {'assistant_id': 'fe096781-5601-53d2-b2f6-0d3403f7e9ca',\n",
       "  'graph_id': 'agent',\n",
       "  'config': {},\n",
       "  'context': {},\n",
       "  'metadata': {'created_by': 'system'},\n",
       "  'name': 'agent',\n",
       "  'created_at': '2025-08-29T16:29:23.451011+00:00',\n",
       "  'updated_at': '2025-08-29T16:29:23.451011+00:00',\n",
       "  'version': 1,\n",
       "  'description': None},\n",
       " {'assistant_id': '228f9934-0cdd-5383-92c8-ee8422522cc2',\n",
       "  'graph_id': 'router',\n",
       "  'config': {},\n",
       "  'context': {},\n",
       "  'metadata': {'created_by': 'system'},\n",
       "  'name': 'router',\n",
       "  'created_at': '2025-08-29T16:29:23.429329+00:00',\n",
       "  'updated_at': '2025-08-29T16:29:23.429329+00:00',\n",
       "  'version': 1,\n",
       "  'description': None},\n",
       " {'assistant_id': '28d99cab-ad6c-5342-aee5-400bd8dc9b8b',\n",
       "  'graph_id': 'simple_graph',\n",
       "  'config': {},\n",
       "  'context': {},\n",
       "  'metadata': {'created_by': 'system'},\n",
       "  'name': 'simple_graph',\n",
       "  'created_at': '2025-08-29T16:29:21.859477+00:00',\n",
       "  'updated_at': '2025-08-29T16:29:21.859477+00:00',\n",
       "  'version': 1,\n",
       "  'description': None}]"
      ]
     },
     "execution_count": 50,
     "metadata": {},
     "output_type": "execute_result"
    }
   ],
   "source": [
    "URL = \"http://127.0.0.1:2024\"\n",
    "client = get_client(url=URL)\n",
    "\n",
    "# Search all hosted graphs\n",
    "assistants = await client.assistants.search()"
   ]
  },
  {
   "cell_type": "code",
   "execution_count": null,
   "id": "84dc9369",
   "metadata": {},
   "outputs": [
    {
     "name": "stdout",
     "output_type": "stream",
     "text": [
      "StreamPart(event='metadata', data={'run_id': '0198f6aa-5c73-726a-b0dd-bcd464c7cbe5', 'attempt': 1})\n",
      "StreamPart(event='values', data={'messages': [{'content': 'Multiply 2 and 3', 'additional_kwargs': {}, 'response_metadata': {}, 'type': 'human', 'name': None, 'id': 'a1f5d93c-93bb-4875-af27-b1f13d4cf45a', 'example': False}]})\n",
      "StreamPart(event='values', data={'messages': [{'content': 'Multiply 2 and 3', 'additional_kwargs': {}, 'response_metadata': {}, 'type': 'human', 'name': None, 'id': 'a1f5d93c-93bb-4875-af27-b1f13d4cf45a', 'example': False}, {'content': '', 'additional_kwargs': {'tool_calls': [{'id': 'call_uwAnAAK5UXZpABa23q37s6Tt', 'function': {'arguments': '{\"a\":2,\"b\":3}', 'name': 'multiply'}, 'type': 'function'}], 'refusal': None}, 'response_metadata': {'token_usage': {'completion_tokens': 17, 'prompt_tokens': 134, 'total_tokens': 151, 'completion_tokens_details': {'accepted_prediction_tokens': 0, 'audio_tokens': 0, 'reasoning_tokens': 0, 'rejected_prediction_tokens': 0}, 'prompt_tokens_details': {'audio_tokens': 0, 'cached_tokens': 0}}, 'model_name': 'gpt-4o-2024-08-06', 'system_fingerprint': 'fp_46bff0e0c8', 'id': 'chatcmpl-C9wHTYaC4i7tBJzDbSepAaBGekTwG', 'service_tier': 'default', 'finish_reason': 'tool_calls', 'logprobs': None}, 'type': 'ai', 'name': None, 'id': 'run--3fe5e857-516c-468e-b0fe-4849dcc8b974-0', 'example': False, 'tool_calls': [{'name': 'multiply', 'args': {'a': 2, 'b': 3}, 'id': 'call_uwAnAAK5UXZpABa23q37s6Tt', 'type': 'tool_call'}], 'invalid_tool_calls': [], 'usage_metadata': {'input_tokens': 134, 'output_tokens': 17, 'total_tokens': 151, 'input_token_details': {'audio': 0, 'cache_read': 0}, 'output_token_details': {'audio': 0, 'reasoning': 0}}}]})\n",
      "StreamPart(event='values', data={'messages': [{'content': 'Multiply 2 and 3', 'additional_kwargs': {}, 'response_metadata': {}, 'type': 'human', 'name': None, 'id': 'a1f5d93c-93bb-4875-af27-b1f13d4cf45a', 'example': False}, {'content': '', 'additional_kwargs': {'tool_calls': [{'id': 'call_uwAnAAK5UXZpABa23q37s6Tt', 'function': {'arguments': '{\"a\":2,\"b\":3}', 'name': 'multiply'}, 'type': 'function'}], 'refusal': None}, 'response_metadata': {'token_usage': {'completion_tokens': 17, 'prompt_tokens': 134, 'total_tokens': 151, 'completion_tokens_details': {'accepted_prediction_tokens': 0, 'audio_tokens': 0, 'reasoning_tokens': 0, 'rejected_prediction_tokens': 0}, 'prompt_tokens_details': {'audio_tokens': 0, 'cached_tokens': 0}}, 'model_name': 'gpt-4o-2024-08-06', 'system_fingerprint': 'fp_46bff0e0c8', 'id': 'chatcmpl-C9wHTYaC4i7tBJzDbSepAaBGekTwG', 'service_tier': 'default', 'finish_reason': 'tool_calls', 'logprobs': None}, 'type': 'ai', 'name': None, 'id': 'run--3fe5e857-516c-468e-b0fe-4849dcc8b974-0', 'example': False, 'tool_calls': [{'name': 'multiply', 'args': {'a': 2, 'b': 3}, 'id': 'call_uwAnAAK5UXZpABa23q37s6Tt', 'type': 'tool_call'}], 'invalid_tool_calls': [], 'usage_metadata': {'input_tokens': 134, 'output_tokens': 17, 'total_tokens': 151, 'input_token_details': {'audio': 0, 'cache_read': 0}, 'output_token_details': {'audio': 0, 'reasoning': 0}}}, {'content': '6', 'additional_kwargs': {}, 'response_metadata': {}, 'type': 'tool', 'name': 'multiply', 'id': 'b8fddc82-a9ef-45d4-a32a-d2237d576636', 'tool_call_id': 'call_uwAnAAK5UXZpABa23q37s6Tt', 'artifact': None, 'status': 'success'}]})\n",
      "StreamPart(event='values', data={'messages': [{'content': 'Multiply 2 and 3', 'additional_kwargs': {}, 'response_metadata': {}, 'type': 'human', 'name': None, 'id': 'a1f5d93c-93bb-4875-af27-b1f13d4cf45a', 'example': False}, {'content': '', 'additional_kwargs': {'tool_calls': [{'id': 'call_uwAnAAK5UXZpABa23q37s6Tt', 'function': {'arguments': '{\"a\":2,\"b\":3}', 'name': 'multiply'}, 'type': 'function'}], 'refusal': None}, 'response_metadata': {'token_usage': {'completion_tokens': 17, 'prompt_tokens': 134, 'total_tokens': 151, 'completion_tokens_details': {'accepted_prediction_tokens': 0, 'audio_tokens': 0, 'reasoning_tokens': 0, 'rejected_prediction_tokens': 0}, 'prompt_tokens_details': {'audio_tokens': 0, 'cached_tokens': 0}}, 'model_name': 'gpt-4o-2024-08-06', 'system_fingerprint': 'fp_46bff0e0c8', 'id': 'chatcmpl-C9wHTYaC4i7tBJzDbSepAaBGekTwG', 'service_tier': 'default', 'finish_reason': 'tool_calls', 'logprobs': None}, 'type': 'ai', 'name': None, 'id': 'run--3fe5e857-516c-468e-b0fe-4849dcc8b974-0', 'example': False, 'tool_calls': [{'name': 'multiply', 'args': {'a': 2, 'b': 3}, 'id': 'call_uwAnAAK5UXZpABa23q37s6Tt', 'type': 'tool_call'}], 'invalid_tool_calls': [], 'usage_metadata': {'input_tokens': 134, 'output_tokens': 17, 'total_tokens': 151, 'input_token_details': {'audio': 0, 'cache_read': 0}, 'output_token_details': {'audio': 0, 'reasoning': 0}}}, {'content': '6', 'additional_kwargs': {}, 'response_metadata': {}, 'type': 'tool', 'name': 'multiply', 'id': 'b8fddc82-a9ef-45d4-a32a-d2237d576636', 'tool_call_id': 'call_uwAnAAK5UXZpABa23q37s6Tt', 'artifact': None, 'status': 'success'}, {'content': 'The result of multiplying 2 and 3 is 6.', 'additional_kwargs': {'refusal': None}, 'response_metadata': {'token_usage': {'completion_tokens': 14, 'prompt_tokens': 159, 'total_tokens': 173, 'completion_tokens_details': {'accepted_prediction_tokens': 0, 'audio_tokens': 0, 'reasoning_tokens': 0, 'rejected_prediction_tokens': 0}, 'prompt_tokens_details': {'audio_tokens': 0, 'cached_tokens': 0}}, 'model_name': 'gpt-4o-2024-08-06', 'system_fingerprint': 'fp_46bff0e0c8', 'id': 'chatcmpl-C9wHUPwlxppIQRGcOzpvuHcpAm57K', 'service_tier': 'default', 'finish_reason': 'stop', 'logprobs': None}, 'type': 'ai', 'name': None, 'id': 'run--f4a8fa69-3d4a-48d9-b79a-5d6e03024759-0', 'example': False, 'tool_calls': [], 'invalid_tool_calls': [], 'usage_metadata': {'input_tokens': 159, 'output_tokens': 14, 'total_tokens': 173, 'input_token_details': {'audio': 0, 'cache_read': 0}, 'output_token_details': {'audio': 0, 'reasoning': 0}}}]})\n"
     ]
    }
   ],
   "source": [
    "thread = await client.threads.create()\n",
    "\n",
    "# Input message\n",
    "input_message = HumanMessage(content=\"Multiply 2 and 3\")\n",
    "async for event in client.runs.stream(thread[\"thread_id\"], assistant_id=\"agent\", input={\"messages\": [input_message]}, stream_mode=\"values\"):\n",
    "    print(event)"
   ]
  },
  {
   "cell_type": "code",
   "execution_count": 56,
   "id": "76ab76a2",
   "metadata": {},
   "outputs": [
    {
     "name": "stdout",
     "output_type": "stream",
     "text": [
      "==================================================\n",
      "content='Multiply 2 and 3' additional_kwargs={} response_metadata={} id='141f742b-ec28-47c4-9b42-01d4946f0810'\n",
      "==================================================\n",
      "content='' additional_kwargs={'invalid_tool_calls': [], 'usage_metadata': {'input_tokens': 238, 'output_tokens': 17, 'total_tokens': 255, 'input_token_details': {'audio': 0, 'cache_read': 0}, 'output_token_details': {'audio': 0, 'reasoning': 0}}, 'tool_calls': [{'id': 'call_9lZe5xs1fM3C37fdCf1WMA1P', 'function': {'arguments': '{\"a\":2,\"b\":3}', 'name': 'multiply'}, 'type': 'function'}], 'refusal': None} response_metadata={'token_usage': {'completion_tokens': 17, 'prompt_tokens': 238, 'total_tokens': 255, 'completion_tokens_details': {'accepted_prediction_tokens': 0, 'audio_tokens': 0, 'reasoning_tokens': 0, 'rejected_prediction_tokens': 0}, 'prompt_tokens_details': {'audio_tokens': 0, 'cached_tokens': 0}}, 'model_name': 'gpt-4o-2024-08-06', 'system_fingerprint': 'fp_46bff0e0c8', 'id': 'chatcmpl-C9whtuBN5sMDW2XIDqnMSdLxHhYFj', 'service_tier': 'default', 'finish_reason': 'tool_calls', 'logprobs': None} id='run--5b60e668-e46f-4c41-a9f0-5f0b9f4e2cb1-0' tool_calls=[{'name': 'multiply', 'args': {'a': 2, 'b': 3}, 'id': 'call_9lZe5xs1fM3C37fdCf1WMA1P', 'type': 'tool_call'}]\n",
      "==================================================\n",
      "content='6' name='multiply' id='0ba4c771-d35b-46e4-b6ab-ff2168ad1b45' tool_call_id='call_9lZe5xs1fM3C37fdCf1WMA1P'\n",
      "==================================================\n",
      "content='The result of multiplying 2 and 3 is 6.' additional_kwargs={'invalid_tool_calls': [], 'usage_metadata': {'input_tokens': 263, 'output_tokens': 14, 'total_tokens': 277, 'input_token_details': {'audio': 0, 'cache_read': 0}, 'output_token_details': {'audio': 0, 'reasoning': 0}}, 'refusal': None} response_metadata={'token_usage': {'completion_tokens': 14, 'prompt_tokens': 263, 'total_tokens': 277, 'completion_tokens_details': {'accepted_prediction_tokens': 0, 'audio_tokens': 0, 'reasoning_tokens': 0, 'rejected_prediction_tokens': 0}, 'prompt_tokens_details': {'audio_tokens': 0, 'cached_tokens': 0}}, 'model_name': 'gpt-4o-2024-08-06', 'system_fingerprint': 'fp_80956533cb', 'id': 'chatcmpl-C9whvMoT6d4V86DZext57yrO0brUP', 'service_tier': 'default', 'finish_reason': 'stop', 'logprobs': None} id='run--2f44581e-1b78-407d-84ac-bbc77493112c-0'\n",
      "==================================================\n"
     ]
    }
   ],
   "source": [
    "async for event in client.runs.stream(thread[\"thread_id\"], assistant_id=\"agent\", input={\"messages\": [input_message]}, stream_mode=\"values\"):\n",
    "    messages = event.data.get(\"messages\", None)\n",
    "    if messages:\n",
    "        print(convert_to_messages(messages)[-1])\n",
    "    print(\"=====\" * 10)"
   ]
  },
  {
   "cell_type": "code",
   "execution_count": 70,
   "id": "4e2e2050",
   "metadata": {},
   "outputs": [
    {
     "name": "stdout",
     "output_type": "stream",
     "text": [
      "StreamPart(event='metadata', data={'run_id': '0198f6de-4380-74b4-a667-649a57dfa392', 'attempt': 1})\n",
      "StreamPart(event='messages/metadata', data={'run--77cbfeec-ff23-4e7a-a0da-cffb75897f9e': {'metadata': {'created_by': 'system', 'graph_id': 'agent', 'assistant_id': 'fe096781-5601-53d2-b2f6-0d3403f7e9ca', 'run_attempt': 1, 'langgraph_version': '0.6.6', 'langgraph_api_version': '0.3.0', 'langgraph_plan': 'developer', 'langgraph_host': 'self-hosted', 'langgraph_api_url': 'http://127.0.0.1:2024', 'host': '127.0.0.1:2024', 'accept-encoding': 'gzip, deflate, br, zstd', 'connection': 'keep-alive', 'user-agent': 'langgraph-sdk-py/0.2.2', 'x-api-key': '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', 'content-length': '285', 'content-type': 'application/json', 'accept': 'text/event-stream', 'cache-control': 'no-store', 'x-request-id': '7140f6be-098c-4366-99e0-9e348f46c92d', 'langgraph_auth_user_id': '', 'langgraph_request_id': '7140f6be-098c-4366-99e0-9e348f46c92d', 'run_id': '0198f6de-4380-74b4-a667-649a57dfa392', 'thread_id': '1e880710-82e0-4001-b15d-47b158f81d93', 'user_id': '', 'langgraph_step': 1, 'langgraph_node': 'assistant', 'langgraph_triggers': ['branch:to:assistant'], 'langgraph_path': ['__pregel_pull', 'assistant'], 'langgraph_checkpoint_ns': 'assistant:52d8fa38-efb6-3d49-00f9-bf2ad32b3682', 'checkpoint_ns': 'assistant:52d8fa38-efb6-3d49-00f9-bf2ad32b3682', 'ls_provider': 'openai', 'ls_model_name': 'gpt-4o', 'ls_model_type': 'chat', 'ls_temperature': None}}})\n",
      "StreamPart(event='messages/partial', data=[{'content': '', 'additional_kwargs': {}, 'response_metadata': {}, 'type': 'ai', 'name': None, 'id': 'run--77cbfeec-ff23-4e7a-a0da-cffb75897f9e', 'example': False, 'tool_calls': [], 'invalid_tool_calls': [], 'usage_metadata': None}])\n",
      "StreamPart(event='messages/partial', data=[{'content': '', 'additional_kwargs': {'tool_calls': [{'index': 0, 'id': 'call_1x7ZAmnlexQ2FjAZB02gLidg', 'function': {'arguments': '', 'name': 'multiply'}, 'type': 'function'}]}, 'response_metadata': {}, 'type': 'ai', 'name': None, 'id': 'run--77cbfeec-ff23-4e7a-a0da-cffb75897f9e', 'example': False, 'tool_calls': [{'name': 'multiply', 'args': {}, 'id': 'call_1x7ZAmnlexQ2FjAZB02gLidg', 'type': 'tool_call'}], 'invalid_tool_calls': [], 'usage_metadata': None}])\n",
      "StreamPart(event='messages/partial', data=[{'content': '', 'additional_kwargs': {'tool_calls': [{'index': 0, 'id': 'call_1x7ZAmnlexQ2FjAZB02gLidg', 'function': {'arguments': '{\"a\"', 'name': 'multiply'}, 'type': 'function'}]}, 'response_metadata': {}, 'type': 'ai', 'name': None, 'id': 'run--77cbfeec-ff23-4e7a-a0da-cffb75897f9e', 'example': False, 'tool_calls': [{'name': 'multiply', 'args': {}, 'id': 'call_1x7ZAmnlexQ2FjAZB02gLidg', 'type': 'tool_call'}], 'invalid_tool_calls': [], 'usage_metadata': None}])\n",
      "StreamPart(event='messages/partial', data=[{'content': '', 'additional_kwargs': {'tool_calls': [{'index': 0, 'id': 'call_1x7ZAmnlexQ2FjAZB02gLidg', 'function': {'arguments': '{\"a\": 2, ', 'name': 'multiply'}, 'type': 'function'}]}, 'response_metadata': {}, 'type': 'ai', 'name': None, 'id': 'run--77cbfeec-ff23-4e7a-a0da-cffb75897f9e', 'example': False, 'tool_calls': [{'name': 'multiply', 'args': {'a': 2}, 'id': 'call_1x7ZAmnlexQ2FjAZB02gLidg', 'type': 'tool_call'}], 'invalid_tool_calls': [], 'usage_metadata': None}])\n",
      "StreamPart(event='messages/partial', data=[{'content': '', 'additional_kwargs': {'tool_calls': [{'index': 0, 'id': 'call_1x7ZAmnlexQ2FjAZB02gLidg', 'function': {'arguments': '{\"a\": 2, \"b\": 3', 'name': 'multiply'}, 'type': 'function'}]}, 'response_metadata': {}, 'type': 'ai', 'name': None, 'id': 'run--77cbfeec-ff23-4e7a-a0da-cffb75897f9e', 'example': False, 'tool_calls': [{'name': 'multiply', 'args': {'a': 2, 'b': 3}, 'id': 'call_1x7ZAmnlexQ2FjAZB02gLidg', 'type': 'tool_call'}], 'invalid_tool_calls': [], 'usage_metadata': None}])\n",
      "StreamPart(event='messages/partial', data=[{'content': '', 'additional_kwargs': {'tool_calls': [{'index': 0, 'id': 'call_1x7ZAmnlexQ2FjAZB02gLidg', 'function': {'arguments': '{\"a\": 2, \"b\": 3}', 'name': 'multiply'}, 'type': 'function'}]}, 'response_metadata': {}, 'type': 'ai', 'name': None, 'id': 'run--77cbfeec-ff23-4e7a-a0da-cffb75897f9e', 'example': False, 'tool_calls': [{'name': 'multiply', 'args': {'a': 2, 'b': 3}, 'id': 'call_1x7ZAmnlexQ2FjAZB02gLidg', 'type': 'tool_call'}], 'invalid_tool_calls': [], 'usage_metadata': None}])\n",
      "StreamPart(event='messages/partial', data=[{'content': '', 'additional_kwargs': {'tool_calls': [{'index': 0, 'id': 'call_1x7ZAmnlexQ2FjAZB02gLidg', 'function': {'arguments': '{\"a\": 2, \"b\": 3}', 'name': 'multiply'}, 'type': 'function'}, {'index': 1, 'id': 'call_BtxgCgKIV5YSae5hZj11AikN', 'function': {'arguments': '', 'name': 'add'}, 'type': 'function'}]}, 'response_metadata': {}, 'type': 'ai', 'name': None, 'id': 'run--77cbfeec-ff23-4e7a-a0da-cffb75897f9e', 'example': False, 'tool_calls': [{'name': 'multiply', 'args': {'a': 2, 'b': 3}, 'id': 'call_1x7ZAmnlexQ2FjAZB02gLidg', 'type': 'tool_call'}, {'name': 'add', 'args': {}, 'id': 'call_BtxgCgKIV5YSae5hZj11AikN', 'type': 'tool_call'}], 'invalid_tool_calls': [], 'usage_metadata': None}])\n",
      "StreamPart(event='messages/partial', data=[{'content': '', 'additional_kwargs': {'tool_calls': [{'index': 0, 'id': 'call_1x7ZAmnlexQ2FjAZB02gLidg', 'function': {'arguments': '{\"a\": 2, \"b\": 3}', 'name': 'multiply'}, 'type': 'function'}, {'index': 1, 'id': 'call_BtxgCgKIV5YSae5hZj11AikN', 'function': {'arguments': '{\"a\"', 'name': 'add'}, 'type': 'function'}]}, 'response_metadata': {}, 'type': 'ai', 'name': None, 'id': 'run--77cbfeec-ff23-4e7a-a0da-cffb75897f9e', 'example': False, 'tool_calls': [{'name': 'multiply', 'args': {'a': 2, 'b': 3}, 'id': 'call_1x7ZAmnlexQ2FjAZB02gLidg', 'type': 'tool_call'}, {'name': 'add', 'args': {}, 'id': 'call_BtxgCgKIV5YSae5hZj11AikN', 'type': 'tool_call'}], 'invalid_tool_calls': [], 'usage_metadata': None}])\n",
      "StreamPart(event='messages/partial', data=[{'content': '', 'additional_kwargs': {'tool_calls': [{'index': 0, 'id': 'call_1x7ZAmnlexQ2FjAZB02gLidg', 'function': {'arguments': '{\"a\": 2, \"b\": 3}', 'name': 'multiply'}, 'type': 'function'}, {'index': 1, 'id': 'call_BtxgCgKIV5YSae5hZj11AikN', 'function': {'arguments': '{\"a\": 6, ', 'name': 'add'}, 'type': 'function'}]}, 'response_metadata': {}, 'type': 'ai', 'name': None, 'id': 'run--77cbfeec-ff23-4e7a-a0da-cffb75897f9e', 'example': False, 'tool_calls': [{'name': 'multiply', 'args': {'a': 2, 'b': 3}, 'id': 'call_1x7ZAmnlexQ2FjAZB02gLidg', 'type': 'tool_call'}, {'name': 'add', 'args': {'a': 6}, 'id': 'call_BtxgCgKIV5YSae5hZj11AikN', 'type': 'tool_call'}], 'invalid_tool_calls': [], 'usage_metadata': None}])\n",
      "StreamPart(event='messages/partial', data=[{'content': '', 'additional_kwargs': {'tool_calls': [{'index': 0, 'id': 'call_1x7ZAmnlexQ2FjAZB02gLidg', 'function': {'arguments': '{\"a\": 2, \"b\": 3}', 'name': 'multiply'}, 'type': 'function'}, {'index': 1, 'id': 'call_BtxgCgKIV5YSae5hZj11AikN', 'function': {'arguments': '{\"a\": 6, \"b\": 3', 'name': 'add'}, 'type': 'function'}]}, 'response_metadata': {}, 'type': 'ai', 'name': None, 'id': 'run--77cbfeec-ff23-4e7a-a0da-cffb75897f9e', 'example': False, 'tool_calls': [{'name': 'multiply', 'args': {'a': 2, 'b': 3}, 'id': 'call_1x7ZAmnlexQ2FjAZB02gLidg', 'type': 'tool_call'}, {'name': 'add', 'args': {'a': 6, 'b': 3}, 'id': 'call_BtxgCgKIV5YSae5hZj11AikN', 'type': 'tool_call'}], 'invalid_tool_calls': [], 'usage_metadata': None}])\n",
      "StreamPart(event='messages/partial', data=[{'content': '', 'additional_kwargs': {'tool_calls': [{'index': 0, 'id': 'call_1x7ZAmnlexQ2FjAZB02gLidg', 'function': {'arguments': '{\"a\": 2, \"b\": 3}', 'name': 'multiply'}, 'type': 'function'}, {'index': 1, 'id': 'call_BtxgCgKIV5YSae5hZj11AikN', 'function': {'arguments': '{\"a\": 6, \"b\": 3}', 'name': 'add'}, 'type': 'function'}]}, 'response_metadata': {}, 'type': 'ai', 'name': None, 'id': 'run--77cbfeec-ff23-4e7a-a0da-cffb75897f9e', 'example': False, 'tool_calls': [{'name': 'multiply', 'args': {'a': 2, 'b': 3}, 'id': 'call_1x7ZAmnlexQ2FjAZB02gLidg', 'type': 'tool_call'}, {'name': 'add', 'args': {'a': 6, 'b': 3}, 'id': 'call_BtxgCgKIV5YSae5hZj11AikN', 'type': 'tool_call'}], 'invalid_tool_calls': [], 'usage_metadata': None}])\n",
      "StreamPart(event='messages/partial', data=[{'content': '', 'additional_kwargs': {'tool_calls': [{'index': 0, 'id': 'call_1x7ZAmnlexQ2FjAZB02gLidg', 'function': {'arguments': '{\"a\": 2, \"b\": 3}', 'name': 'multiply'}, 'type': 'function'}, {'index': 1, 'id': 'call_BtxgCgKIV5YSae5hZj11AikN', 'function': {'arguments': '{\"a\": 6, \"b\": 3}', 'name': 'add'}, 'type': 'function'}]}, 'response_metadata': {'finish_reason': 'tool_calls', 'model_name': 'gpt-4o-2024-08-06', 'system_fingerprint': 'fp_46bff0e0c8', 'service_tier': 'default'}, 'type': 'ai', 'name': None, 'id': 'run--77cbfeec-ff23-4e7a-a0da-cffb75897f9e', 'example': False, 'tool_calls': [{'name': 'multiply', 'args': {'a': 2, 'b': 3}, 'id': 'call_1x7ZAmnlexQ2FjAZB02gLidg', 'type': 'tool_call'}, {'name': 'add', 'args': {'a': 6, 'b': 3}, 'id': 'call_BtxgCgKIV5YSae5hZj11AikN', 'type': 'tool_call'}], 'invalid_tool_calls': [], 'usage_metadata': None}])\n",
      "StreamPart(event='messages/metadata', data={'9e802860-7b58-42e2-9786-bc885b27ac24': {'metadata': {'created_by': 'system', 'graph_id': 'agent', 'assistant_id': 'fe096781-5601-53d2-b2f6-0d3403f7e9ca', 'run_attempt': 1, 'langgraph_version': '0.6.6', 'langgraph_api_version': '0.3.0', 'langgraph_plan': 'developer', 'langgraph_host': 'self-hosted', 'langgraph_api_url': 'http://127.0.0.1:2024', 'host': '127.0.0.1:2024', 'accept-encoding': 'gzip, deflate, br, zstd', 'connection': 'keep-alive', 'user-agent': 'langgraph-sdk-py/0.2.2', 'x-api-key': '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', 'content-length': '285', 'content-type': 'application/json', 'accept': 'text/event-stream', 'cache-control': 'no-store', 'x-request-id': '7140f6be-098c-4366-99e0-9e348f46c92d', 'langgraph_auth_user_id': '', 'langgraph_request_id': '7140f6be-098c-4366-99e0-9e348f46c92d', 'run_id': '0198f6de-4380-74b4-a667-649a57dfa392', 'thread_id': '1e880710-82e0-4001-b15d-47b158f81d93', 'user_id': '', 'langgraph_step': 2, 'langgraph_node': 'tools', 'langgraph_triggers': ['branch:to:tools'], 'langgraph_path': ['__pregel_pull', 'tools'], 'langgraph_checkpoint_ns': 'tools:ec9c42c0-1962-f7e6-ac3a-302f0848f6e7', 'LANGSMITH_LANGGRAPH_API_VARIANT': 'local_dev'}}})\n",
      "StreamPart(event='messages/complete', data=[{'content': '6', 'additional_kwargs': {}, 'response_metadata': {}, 'type': 'tool', 'name': 'multiply', 'id': '9e802860-7b58-42e2-9786-bc885b27ac24', 'tool_call_id': 'call_1x7ZAmnlexQ2FjAZB02gLidg', 'artifact': None, 'status': 'success'}])\n",
      "StreamPart(event='messages/metadata', data={'57674850-13fa-4033-b334-8f27b251e18d': {'metadata': {'created_by': 'system', 'graph_id': 'agent', 'assistant_id': 'fe096781-5601-53d2-b2f6-0d3403f7e9ca', 'run_attempt': 1, 'langgraph_version': '0.6.6', 'langgraph_api_version': '0.3.0', 'langgraph_plan': 'developer', 'langgraph_host': 'self-hosted', 'langgraph_api_url': 'http://127.0.0.1:2024', 'host': '127.0.0.1:2024', 'accept-encoding': 'gzip, deflate, br, zstd', 'connection': 'keep-alive', 'user-agent': 'langgraph-sdk-py/0.2.2', 'x-api-key': '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', 'content-length': '285', 'content-type': 'application/json', 'accept': 'text/event-stream', 'cache-control': 'no-store', 'x-request-id': '7140f6be-098c-4366-99e0-9e348f46c92d', 'langgraph_auth_user_id': '', 'langgraph_request_id': '7140f6be-098c-4366-99e0-9e348f46c92d', 'run_id': '0198f6de-4380-74b4-a667-649a57dfa392', 'thread_id': '1e880710-82e0-4001-b15d-47b158f81d93', 'user_id': '', 'langgraph_step': 2, 'langgraph_node': 'tools', 'langgraph_triggers': ['branch:to:tools'], 'langgraph_path': ['__pregel_pull', 'tools'], 'langgraph_checkpoint_ns': 'tools:ec9c42c0-1962-f7e6-ac3a-302f0848f6e7', 'LANGSMITH_LANGGRAPH_API_VARIANT': 'local_dev'}}})\n",
      "StreamPart(event='messages/complete', data=[{'content': '9', 'additional_kwargs': {}, 'response_metadata': {}, 'type': 'tool', 'name': 'add', 'id': '57674850-13fa-4033-b334-8f27b251e18d', 'tool_call_id': 'call_BtxgCgKIV5YSae5hZj11AikN', 'artifact': None, 'status': 'success'}])\n",
      "StreamPart(event='messages/metadata', data={'run--d145ece3-931a-4506-a9b5-404b3b3d5a53': {'metadata': {'created_by': 'system', 'graph_id': 'agent', 'assistant_id': 'fe096781-5601-53d2-b2f6-0d3403f7e9ca', 'run_attempt': 1, 'langgraph_version': '0.6.6', 'langgraph_api_version': '0.3.0', 'langgraph_plan': 'developer', 'langgraph_host': 'self-hosted', 'langgraph_api_url': 'http://127.0.0.1:2024', 'host': '127.0.0.1:2024', 'accept-encoding': 'gzip, deflate, br, zstd', 'connection': 'keep-alive', 'user-agent': 'langgraph-sdk-py/0.2.2', 'x-api-key': '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', 'content-length': '285', 'content-type': 'application/json', 'accept': 'text/event-stream', 'cache-control': 'no-store', 'x-request-id': '7140f6be-098c-4366-99e0-9e348f46c92d', 'langgraph_auth_user_id': '', 'langgraph_request_id': '7140f6be-098c-4366-99e0-9e348f46c92d', 'run_id': '0198f6de-4380-74b4-a667-649a57dfa392', 'thread_id': '1e880710-82e0-4001-b15d-47b158f81d93', 'user_id': '', 'langgraph_step': 3, 'langgraph_node': 'assistant', 'langgraph_triggers': ['branch:to:assistant'], 'langgraph_path': ['__pregel_pull', 'assistant'], 'langgraph_checkpoint_ns': 'assistant:5506348f-e6ea-22d2-262b-2f5c48524fae', 'checkpoint_ns': 'assistant:5506348f-e6ea-22d2-262b-2f5c48524fae', 'ls_provider': 'openai', 'ls_model_name': 'gpt-4o', 'ls_model_type': 'chat', 'ls_temperature': None}}})\n",
      "StreamPart(event='messages/partial', data=[{'content': '', 'additional_kwargs': {'tool_calls': [{'index': 0, 'id': 'call_tfTHcIBHlATlw509Jt3HuWK7', 'function': {'arguments': '', 'name': 'divide'}, 'type': 'function'}]}, 'response_metadata': {}, 'type': 'ai', 'name': None, 'id': 'run--d145ece3-931a-4506-a9b5-404b3b3d5a53', 'example': False, 'tool_calls': [{'name': 'divide', 'args': {}, 'id': 'call_tfTHcIBHlATlw509Jt3HuWK7', 'type': 'tool_call'}], 'invalid_tool_calls': [], 'usage_metadata': None}])\n",
      "StreamPart(event='messages/partial', data=[{'content': '', 'additional_kwargs': {'tool_calls': [{'index': 0, 'id': 'call_tfTHcIBHlATlw509Jt3HuWK7', 'function': {'arguments': '{\"', 'name': 'divide'}, 'type': 'function'}]}, 'response_metadata': {}, 'type': 'ai', 'name': None, 'id': 'run--d145ece3-931a-4506-a9b5-404b3b3d5a53', 'example': False, 'tool_calls': [{'name': 'divide', 'args': {}, 'id': 'call_tfTHcIBHlATlw509Jt3HuWK7', 'type': 'tool_call'}], 'invalid_tool_calls': [], 'usage_metadata': None}])\n",
      "StreamPart(event='messages/partial', data=[{'content': '', 'additional_kwargs': {'tool_calls': [{'index': 0, 'id': 'call_tfTHcIBHlATlw509Jt3HuWK7', 'function': {'arguments': '{\"a', 'name': 'divide'}, 'type': 'function'}]}, 'response_metadata': {}, 'type': 'ai', 'name': None, 'id': 'run--d145ece3-931a-4506-a9b5-404b3b3d5a53', 'example': False, 'tool_calls': [{'name': 'divide', 'args': {}, 'id': 'call_tfTHcIBHlATlw509Jt3HuWK7', 'type': 'tool_call'}], 'invalid_tool_calls': [], 'usage_metadata': None}])\n",
      "StreamPart(event='messages/partial', data=[{'content': '', 'additional_kwargs': {'tool_calls': [{'index': 0, 'id': 'call_tfTHcIBHlATlw509Jt3HuWK7', 'function': {'arguments': '{\"a\":', 'name': 'divide'}, 'type': 'function'}]}, 'response_metadata': {}, 'type': 'ai', 'name': None, 'id': 'run--d145ece3-931a-4506-a9b5-404b3b3d5a53', 'example': False, 'tool_calls': [{'name': 'divide', 'args': {}, 'id': 'call_tfTHcIBHlATlw509Jt3HuWK7', 'type': 'tool_call'}], 'invalid_tool_calls': [], 'usage_metadata': None}])\n",
      "StreamPart(event='messages/partial', data=[{'content': '', 'additional_kwargs': {'tool_calls': [{'index': 0, 'id': 'call_tfTHcIBHlATlw509Jt3HuWK7', 'function': {'arguments': '{\"a\":9', 'name': 'divide'}, 'type': 'function'}]}, 'response_metadata': {}, 'type': 'ai', 'name': None, 'id': 'run--d145ece3-931a-4506-a9b5-404b3b3d5a53', 'example': False, 'tool_calls': [{'name': 'divide', 'args': {'a': 9}, 'id': 'call_tfTHcIBHlATlw509Jt3HuWK7', 'type': 'tool_call'}], 'invalid_tool_calls': [], 'usage_metadata': None}])\n",
      "StreamPart(event='messages/partial', data=[{'content': '', 'additional_kwargs': {'tool_calls': [{'index': 0, 'id': 'call_tfTHcIBHlATlw509Jt3HuWK7', 'function': {'arguments': '{\"a\":9,\"', 'name': 'divide'}, 'type': 'function'}]}, 'response_metadata': {}, 'type': 'ai', 'name': None, 'id': 'run--d145ece3-931a-4506-a9b5-404b3b3d5a53', 'example': False, 'tool_calls': [{'name': 'divide', 'args': {'a': 9}, 'id': 'call_tfTHcIBHlATlw509Jt3HuWK7', 'type': 'tool_call'}], 'invalid_tool_calls': [], 'usage_metadata': None}])\n",
      "StreamPart(event='messages/partial', data=[{'content': '', 'additional_kwargs': {'tool_calls': [{'index': 0, 'id': 'call_tfTHcIBHlATlw509Jt3HuWK7', 'function': {'arguments': '{\"a\":9,\"b', 'name': 'divide'}, 'type': 'function'}]}, 'response_metadata': {}, 'type': 'ai', 'name': None, 'id': 'run--d145ece3-931a-4506-a9b5-404b3b3d5a53', 'example': False, 'tool_calls': [{'name': 'divide', 'args': {'a': 9}, 'id': 'call_tfTHcIBHlATlw509Jt3HuWK7', 'type': 'tool_call'}], 'invalid_tool_calls': [], 'usage_metadata': None}])\n",
      "StreamPart(event='messages/partial', data=[{'content': '', 'additional_kwargs': {'tool_calls': [{'index': 0, 'id': 'call_tfTHcIBHlATlw509Jt3HuWK7', 'function': {'arguments': '{\"a\":9,\"b\":', 'name': 'divide'}, 'type': 'function'}]}, 'response_metadata': {}, 'type': 'ai', 'name': None, 'id': 'run--d145ece3-931a-4506-a9b5-404b3b3d5a53', 'example': False, 'tool_calls': [{'name': 'divide', 'args': {'a': 9}, 'id': 'call_tfTHcIBHlATlw509Jt3HuWK7', 'type': 'tool_call'}], 'invalid_tool_calls': [], 'usage_metadata': None}])\n",
      "StreamPart(event='messages/partial', data=[{'content': '', 'additional_kwargs': {'tool_calls': [{'index': 0, 'id': 'call_tfTHcIBHlATlw509Jt3HuWK7', 'function': {'arguments': '{\"a\":9,\"b\":2', 'name': 'divide'}, 'type': 'function'}]}, 'response_metadata': {}, 'type': 'ai', 'name': None, 'id': 'run--d145ece3-931a-4506-a9b5-404b3b3d5a53', 'example': False, 'tool_calls': [{'name': 'divide', 'args': {'a': 9, 'b': 2}, 'id': 'call_tfTHcIBHlATlw509Jt3HuWK7', 'type': 'tool_call'}], 'invalid_tool_calls': [], 'usage_metadata': None}])\n",
      "StreamPart(event='messages/partial', data=[{'content': '', 'additional_kwargs': {'tool_calls': [{'index': 0, 'id': 'call_tfTHcIBHlATlw509Jt3HuWK7', 'function': {'arguments': '{\"a\":9,\"b\":2}', 'name': 'divide'}, 'type': 'function'}]}, 'response_metadata': {}, 'type': 'ai', 'name': None, 'id': 'run--d145ece3-931a-4506-a9b5-404b3b3d5a53', 'example': False, 'tool_calls': [{'name': 'divide', 'args': {'a': 9, 'b': 2}, 'id': 'call_tfTHcIBHlATlw509Jt3HuWK7', 'type': 'tool_call'}], 'invalid_tool_calls': [], 'usage_metadata': None}])\n",
      "StreamPart(event='messages/partial', data=[{'content': '', 'additional_kwargs': {'tool_calls': [{'index': 0, 'id': 'call_tfTHcIBHlATlw509Jt3HuWK7', 'function': {'arguments': '{\"a\":9,\"b\":2}', 'name': 'divide'}, 'type': 'function'}]}, 'response_metadata': {'finish_reason': 'tool_calls', 'model_name': 'gpt-4o-2024-08-06', 'system_fingerprint': 'fp_46bff0e0c8', 'service_tier': 'default'}, 'type': 'ai', 'name': None, 'id': 'run--d145ece3-931a-4506-a9b5-404b3b3d5a53', 'example': False, 'tool_calls': [{'name': 'divide', 'args': {'a': 9, 'b': 2}, 'id': 'call_tfTHcIBHlATlw509Jt3HuWK7', 'type': 'tool_call'}], 'invalid_tool_calls': [], 'usage_metadata': None}])\n",
      "StreamPart(event='messages/metadata', data={'95765eb5-f5b0-4022-8bb3-7ed4000bf049': {'metadata': {'created_by': 'system', 'graph_id': 'agent', 'assistant_id': 'fe096781-5601-53d2-b2f6-0d3403f7e9ca', 'run_attempt': 1, 'langgraph_version': '0.6.6', 'langgraph_api_version': '0.3.0', 'langgraph_plan': 'developer', 'langgraph_host': 'self-hosted', 'langgraph_api_url': 'http://127.0.0.1:2024', 'host': '127.0.0.1:2024', 'accept-encoding': 'gzip, deflate, br, zstd', 'connection': 'keep-alive', 'user-agent': 'langgraph-sdk-py/0.2.2', 'x-api-key': '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', 'content-length': '285', 'content-type': 'application/json', 'accept': 'text/event-stream', 'cache-control': 'no-store', 'x-request-id': '7140f6be-098c-4366-99e0-9e348f46c92d', 'langgraph_auth_user_id': '', 'langgraph_request_id': '7140f6be-098c-4366-99e0-9e348f46c92d', 'run_id': '0198f6de-4380-74b4-a667-649a57dfa392', 'thread_id': '1e880710-82e0-4001-b15d-47b158f81d93', 'user_id': '', 'langgraph_step': 4, 'langgraph_node': 'tools', 'langgraph_triggers': ['branch:to:tools'], 'langgraph_path': ['__pregel_pull', 'tools'], 'langgraph_checkpoint_ns': 'tools:564ee1c8-1528-8186-8096-a2d85d5dc782', 'LANGSMITH_LANGGRAPH_API_VARIANT': 'local_dev'}}})\n",
      "StreamPart(event='messages/complete', data=[{'content': '4.5', 'additional_kwargs': {}, 'response_metadata': {}, 'type': 'tool', 'name': 'divide', 'id': '95765eb5-f5b0-4022-8bb3-7ed4000bf049', 'tool_call_id': 'call_tfTHcIBHlATlw509Jt3HuWK7', 'artifact': None, 'status': 'success'}])\n",
      "StreamPart(event='', data=None)\n",
      "StreamPart(event='messages/metadata', data={'run--04aa7248-31e5-44d1-88b9-be4faf78bb02': {'metadata': {'created_by': 'system', 'graph_id': 'agent', 'assistant_id': 'fe096781-5601-53d2-b2f6-0d3403f7e9ca', 'run_attempt': 1, 'langgraph_version': '0.6.6', 'langgraph_api_version': '0.3.0', 'langgraph_plan': 'developer', 'langgraph_host': 'self-hosted', 'langgraph_api_url': 'http://127.0.0.1:2024', 'host': '127.0.0.1:2024', 'accept-encoding': 'gzip, deflate, br, zstd', 'connection': 'keep-alive', 'user-agent': 'langgraph-sdk-py/0.2.2', 'x-api-key': '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', 'content-length': '285', 'content-type': 'application/json', 'accept': 'text/event-stream', 'cache-control': 'no-store', 'x-request-id': '7140f6be-098c-4366-99e0-9e348f46c92d', 'langgraph_auth_user_id': '', 'langgraph_request_id': '7140f6be-098c-4366-99e0-9e348f46c92d', 'run_id': '0198f6de-4380-74b4-a667-649a57dfa392', 'thread_id': '1e880710-82e0-4001-b15d-47b158f81d93', 'user_id': '', 'langgraph_step': 5, 'langgraph_node': 'assistant', 'langgraph_triggers': ['branch:to:assistant'], 'langgraph_path': ['__pregel_pull', 'assistant'], 'langgraph_checkpoint_ns': 'assistant:615298c5-aaa6-4977-32d0-33f5506c1061', 'checkpoint_ns': 'assistant:615298c5-aaa6-4977-32d0-33f5506c1061', 'ls_provider': 'openai', 'ls_model_name': 'gpt-4o', 'ls_model_type': 'chat', 'ls_temperature': None}}})\n",
      "StreamPart(event='messages/partial', data=[{'content': '', 'additional_kwargs': {}, 'response_metadata': {}, 'type': 'ai', 'name': None, 'id': 'run--04aa7248-31e5-44d1-88b9-be4faf78bb02', 'example': False, 'tool_calls': [], 'invalid_tool_calls': [], 'usage_metadata': None}])\n",
      "StreamPart(event='messages/partial', data=[{'content': 'The', 'additional_kwargs': {}, 'response_metadata': {}, 'type': 'ai', 'name': None, 'id': 'run--04aa7248-31e5-44d1-88b9-be4faf78bb02', 'example': False, 'tool_calls': [], 'invalid_tool_calls': [], 'usage_metadata': None}])\n",
      "StreamPart(event='messages/partial', data=[{'content': 'The result', 'additional_kwargs': {}, 'response_metadata': {}, 'type': 'ai', 'name': None, 'id': 'run--04aa7248-31e5-44d1-88b9-be4faf78bb02', 'example': False, 'tool_calls': [], 'invalid_tool_calls': [], 'usage_metadata': None}])\n",
      "StreamPart(event='messages/partial', data=[{'content': 'The result of', 'additional_kwargs': {}, 'response_metadata': {}, 'type': 'ai', 'name': None, 'id': 'run--04aa7248-31e5-44d1-88b9-be4faf78bb02', 'example': False, 'tool_calls': [], 'invalid_tool_calls': [], 'usage_metadata': None}])\n",
      "StreamPart(event='messages/partial', data=[{'content': 'The result of multiplying', 'additional_kwargs': {}, 'response_metadata': {}, 'type': 'ai', 'name': None, 'id': 'run--04aa7248-31e5-44d1-88b9-be4faf78bb02', 'example': False, 'tool_calls': [], 'invalid_tool_calls': [], 'usage_metadata': None}])\n",
      "StreamPart(event='messages/partial', data=[{'content': 'The result of multiplying ', 'additional_kwargs': {}, 'response_metadata': {}, 'type': 'ai', 'name': None, 'id': 'run--04aa7248-31e5-44d1-88b9-be4faf78bb02', 'example': False, 'tool_calls': [], 'invalid_tool_calls': [], 'usage_metadata': None}])\n",
      "StreamPart(event='messages/partial', data=[{'content': 'The result of multiplying 2', 'additional_kwargs': {}, 'response_metadata': {}, 'type': 'ai', 'name': None, 'id': 'run--04aa7248-31e5-44d1-88b9-be4faf78bb02', 'example': False, 'tool_calls': [], 'invalid_tool_calls': [], 'usage_metadata': None}])\n",
      "StreamPart(event='messages/partial', data=[{'content': 'The result of multiplying 2 and', 'additional_kwargs': {}, 'response_metadata': {}, 'type': 'ai', 'name': None, 'id': 'run--04aa7248-31e5-44d1-88b9-be4faf78bb02', 'example': False, 'tool_calls': [], 'invalid_tool_calls': [], 'usage_metadata': None}])\n",
      "StreamPart(event='messages/partial', data=[{'content': 'The result of multiplying 2 and ', 'additional_kwargs': {}, 'response_metadata': {}, 'type': 'ai', 'name': None, 'id': 'run--04aa7248-31e5-44d1-88b9-be4faf78bb02', 'example': False, 'tool_calls': [], 'invalid_tool_calls': [], 'usage_metadata': None}])\n",
      "StreamPart(event='messages/partial', data=[{'content': 'The result of multiplying 2 and 3', 'additional_kwargs': {}, 'response_metadata': {}, 'type': 'ai', 'name': None, 'id': 'run--04aa7248-31e5-44d1-88b9-be4faf78bb02', 'example': False, 'tool_calls': [], 'invalid_tool_calls': [], 'usage_metadata': None}])\n",
      "StreamPart(event='messages/partial', data=[{'content': 'The result of multiplying 2 and 3,', 'additional_kwargs': {}, 'response_metadata': {}, 'type': 'ai', 'name': None, 'id': 'run--04aa7248-31e5-44d1-88b9-be4faf78bb02', 'example': False, 'tool_calls': [], 'invalid_tool_calls': [], 'usage_metadata': None}])\n",
      "StreamPart(event='messages/partial', data=[{'content': 'The result of multiplying 2 and 3, then', 'additional_kwargs': {}, 'response_metadata': {}, 'type': 'ai', 'name': None, 'id': 'run--04aa7248-31e5-44d1-88b9-be4faf78bb02', 'example': False, 'tool_calls': [], 'invalid_tool_calls': [], 'usage_metadata': None}])\n",
      "StreamPart(event='messages/partial', data=[{'content': 'The result of multiplying 2 and 3, then adding', 'additional_kwargs': {}, 'response_metadata': {}, 'type': 'ai', 'name': None, 'id': 'run--04aa7248-31e5-44d1-88b9-be4faf78bb02', 'example': False, 'tool_calls': [], 'invalid_tool_calls': [], 'usage_metadata': None}])\n",
      "StreamPart(event='messages/partial', data=[{'content': 'The result of multiplying 2 and 3, then adding ', 'additional_kwargs': {}, 'response_metadata': {}, 'type': 'ai', 'name': None, 'id': 'run--04aa7248-31e5-44d1-88b9-be4faf78bb02', 'example': False, 'tool_calls': [], 'invalid_tool_calls': [], 'usage_metadata': None}])\n",
      "StreamPart(event='messages/partial', data=[{'content': 'The result of multiplying 2 and 3, then adding 3', 'additional_kwargs': {}, 'response_metadata': {}, 'type': 'ai', 'name': None, 'id': 'run--04aa7248-31e5-44d1-88b9-be4faf78bb02', 'example': False, 'tool_calls': [], 'invalid_tool_calls': [], 'usage_metadata': None}])\n",
      "StreamPart(event='messages/partial', data=[{'content': 'The result of multiplying 2 and 3, then adding 3,', 'additional_kwargs': {}, 'response_metadata': {}, 'type': 'ai', 'name': None, 'id': 'run--04aa7248-31e5-44d1-88b9-be4faf78bb02', 'example': False, 'tool_calls': [], 'invalid_tool_calls': [], 'usage_metadata': None}])\n",
      "StreamPart(event='messages/partial', data=[{'content': 'The result of multiplying 2 and 3, then adding 3, and', 'additional_kwargs': {}, 'response_metadata': {}, 'type': 'ai', 'name': None, 'id': 'run--04aa7248-31e5-44d1-88b9-be4faf78bb02', 'example': False, 'tool_calls': [], 'invalid_tool_calls': [], 'usage_metadata': None}])\n",
      "StreamPart(event='messages/partial', data=[{'content': 'The result of multiplying 2 and 3, then adding 3, and finally', 'additional_kwargs': {}, 'response_metadata': {}, 'type': 'ai', 'name': None, 'id': 'run--04aa7248-31e5-44d1-88b9-be4faf78bb02', 'example': False, 'tool_calls': [], 'invalid_tool_calls': [], 'usage_metadata': None}])\n",
      "StreamPart(event='messages/partial', data=[{'content': 'The result of multiplying 2 and 3, then adding 3, and finally dividing', 'additional_kwargs': {}, 'response_metadata': {}, 'type': 'ai', 'name': None, 'id': 'run--04aa7248-31e5-44d1-88b9-be4faf78bb02', 'example': False, 'tool_calls': [], 'invalid_tool_calls': [], 'usage_metadata': None}])\n",
      "StreamPart(event='messages/partial', data=[{'content': 'The result of multiplying 2 and 3, then adding 3, and finally dividing by', 'additional_kwargs': {}, 'response_metadata': {}, 'type': 'ai', 'name': None, 'id': 'run--04aa7248-31e5-44d1-88b9-be4faf78bb02', 'example': False, 'tool_calls': [], 'invalid_tool_calls': [], 'usage_metadata': None}])\n",
      "StreamPart(event='messages/partial', data=[{'content': 'The result of multiplying 2 and 3, then adding 3, and finally dividing by ', 'additional_kwargs': {}, 'response_metadata': {}, 'type': 'ai', 'name': None, 'id': 'run--04aa7248-31e5-44d1-88b9-be4faf78bb02', 'example': False, 'tool_calls': [], 'invalid_tool_calls': [], 'usage_metadata': None}])\n",
      "StreamPart(event='messages/partial', data=[{'content': 'The result of multiplying 2 and 3, then adding 3, and finally dividing by 2', 'additional_kwargs': {}, 'response_metadata': {}, 'type': 'ai', 'name': None, 'id': 'run--04aa7248-31e5-44d1-88b9-be4faf78bb02', 'example': False, 'tool_calls': [], 'invalid_tool_calls': [], 'usage_metadata': None}])\n",
      "StreamPart(event='messages/partial', data=[{'content': 'The result of multiplying 2 and 3, then adding 3, and finally dividing by 2 is', 'additional_kwargs': {}, 'response_metadata': {}, 'type': 'ai', 'name': None, 'id': 'run--04aa7248-31e5-44d1-88b9-be4faf78bb02', 'example': False, 'tool_calls': [], 'invalid_tool_calls': [], 'usage_metadata': None}])\n",
      "StreamPart(event='messages/partial', data=[{'content': 'The result of multiplying 2 and 3, then adding 3, and finally dividing by 2 is ', 'additional_kwargs': {}, 'response_metadata': {}, 'type': 'ai', 'name': None, 'id': 'run--04aa7248-31e5-44d1-88b9-be4faf78bb02', 'example': False, 'tool_calls': [], 'invalid_tool_calls': [], 'usage_metadata': None}])\n",
      "StreamPart(event='messages/partial', data=[{'content': 'The result of multiplying 2 and 3, then adding 3, and finally dividing by 2 is 4', 'additional_kwargs': {}, 'response_metadata': {}, 'type': 'ai', 'name': None, 'id': 'run--04aa7248-31e5-44d1-88b9-be4faf78bb02', 'example': False, 'tool_calls': [], 'invalid_tool_calls': [], 'usage_metadata': None}])\n",
      "StreamPart(event='messages/partial', data=[{'content': 'The result of multiplying 2 and 3, then adding 3, and finally dividing by 2 is 4.', 'additional_kwargs': {}, 'response_metadata': {}, 'type': 'ai', 'name': None, 'id': 'run--04aa7248-31e5-44d1-88b9-be4faf78bb02', 'example': False, 'tool_calls': [], 'invalid_tool_calls': [], 'usage_metadata': None}])\n",
      "StreamPart(event='messages/partial', data=[{'content': 'The result of multiplying 2 and 3, then adding 3, and finally dividing by 2 is 4.5', 'additional_kwargs': {}, 'response_metadata': {}, 'type': 'ai', 'name': None, 'id': 'run--04aa7248-31e5-44d1-88b9-be4faf78bb02', 'example': False, 'tool_calls': [], 'invalid_tool_calls': [], 'usage_metadata': None}])\n",
      "StreamPart(event='messages/partial', data=[{'content': 'The result of multiplying 2 and 3, then adding 3, and finally dividing by 2 is 4.5.', 'additional_kwargs': {}, 'response_metadata': {}, 'type': 'ai', 'name': None, 'id': 'run--04aa7248-31e5-44d1-88b9-be4faf78bb02', 'example': False, 'tool_calls': [], 'invalid_tool_calls': [], 'usage_metadata': None}])\n",
      "StreamPart(event='messages/partial', data=[{'content': 'The result of multiplying 2 and 3, then adding 3, and finally dividing by 2 is 4.5.', 'additional_kwargs': {}, 'response_metadata': {'finish_reason': 'stop', 'model_name': 'gpt-4o-2024-08-06', 'system_fingerprint': 'fp_46bff0e0c8', 'service_tier': 'default'}, 'type': 'ai', 'name': None, 'id': 'run--04aa7248-31e5-44d1-88b9-be4faf78bb02', 'example': False, 'tool_calls': [], 'invalid_tool_calls': [], 'usage_metadata': None}])\n"
     ]
    }
   ],
   "source": [
    "thread = await client.threads.create()\n",
    "input_message = HumanMessage(content=\"Multiply 2 and 3 then add with 3 then divide by 2\")\n",
    "async for event in client.runs.stream(thread[\"thread_id\"], \n",
    "                                      assistant_id=\"agent\", \n",
    "                                      input={\"messages\": [input_message]}, \n",
    "                                      stream_mode=\"messages\"):\n",
    "    print(event)"
   ]
  },
  {
   "cell_type": "markdown",
   "id": "6ba4d860",
   "metadata": {},
   "source": [
    "We can see a few events: \n",
    "\n",
    "* `metadata`: metadata about the run\n",
    "* `messages/complete`: fully formed message \n",
    "* `messages/partial`: chat model tokens\n",
    "\n",
    "More docs [here](https://langchain-ai.github.io/langgraph/cloud/concepts/api/#modemessages)."
   ]
  },
  {
   "cell_type": "code",
   "execution_count": 71,
   "id": "b83aa4f1",
   "metadata": {},
   "outputs": [
    {
     "name": "stdout",
     "output_type": "stream",
     "text": [
      "Metadata: Run ID - 0198f6e7-cead-755c-82c4-dca6d34e2906\n",
      "--------------------------------------------------\n",
      "Tool Calls:\n",
      "Tool Call ID: call_kDgwkSJ0oAqiEUtMKfqmJWkU, Function: multiply, Arguments: {}\n",
      "--------------------------------------------------\n",
      "Tool Calls:\n",
      "Tool Call ID: call_kDgwkSJ0oAqiEUtMKfqmJWkU, Function: multiply, Arguments: {}\n",
      "--------------------------------------------------\n",
      "Tool Calls:\n",
      "Tool Call ID: call_kDgwkSJ0oAqiEUtMKfqmJWkU, Function: multiply, Arguments: {}\n",
      "--------------------------------------------------\n",
      "Tool Calls:\n",
      "Tool Call ID: call_kDgwkSJ0oAqiEUtMKfqmJWkU, Function: multiply, Arguments: {}\n",
      "--------------------------------------------------\n",
      "Tool Calls:\n",
      "Tool Call ID: call_kDgwkSJ0oAqiEUtMKfqmJWkU, Function: multiply, Arguments: {'a': 2}\n",
      "--------------------------------------------------\n",
      "Tool Calls:\n",
      "Tool Call ID: call_kDgwkSJ0oAqiEUtMKfqmJWkU, Function: multiply, Arguments: {'a': 2}\n",
      "--------------------------------------------------\n",
      "Tool Calls:\n",
      "Tool Call ID: call_kDgwkSJ0oAqiEUtMKfqmJWkU, Function: multiply, Arguments: {'a': 2}\n",
      "--------------------------------------------------\n",
      "Tool Calls:\n",
      "Tool Call ID: call_kDgwkSJ0oAqiEUtMKfqmJWkU, Function: multiply, Arguments: {'a': 2}\n",
      "--------------------------------------------------\n",
      "Tool Calls:\n",
      "Tool Call ID: call_kDgwkSJ0oAqiEUtMKfqmJWkU, Function: multiply, Arguments: {'a': 2, 'b': 3}\n",
      "--------------------------------------------------\n",
      "Tool Calls:\n",
      "Tool Call ID: call_kDgwkSJ0oAqiEUtMKfqmJWkU, Function: multiply, Arguments: {'a': 2, 'b': 3}\n",
      "--------------------------------------------------\n",
      "Tool Calls:\n",
      "Tool Call ID: call_kDgwkSJ0oAqiEUtMKfqmJWkU, Function: multiply, Arguments: {'a': 2, 'b': 3}\n",
      "Response Metadata: Finish Reason - tool_calls\n",
      "--------------------------------------------------\n",
      "--------------------------------------------------\n",
      "AI: The\n",
      "--------------------------------------------------\n",
      "AI: The result\n",
      "--------------------------------------------------\n",
      "AI: The result of\n",
      "--------------------------------------------------\n",
      "AI: The result of multiplying\n",
      "--------------------------------------------------\n",
      "AI: The result of multiplying \n",
      "--------------------------------------------------\n",
      "AI: The result of multiplying 2\n",
      "--------------------------------------------------\n",
      "AI: The result of multiplying 2 and\n",
      "--------------------------------------------------\n",
      "AI: The result of multiplying 2 and \n",
      "--------------------------------------------------\n",
      "AI: The result of multiplying 2 and 3\n",
      "--------------------------------------------------\n",
      "AI: The result of multiplying 2 and 3 is\n",
      "--------------------------------------------------\n",
      "AI: The result of multiplying 2 and 3 is \n",
      "--------------------------------------------------\n",
      "AI: The result of multiplying 2 and 3 is 6\n",
      "--------------------------------------------------\n",
      "AI: The result of multiplying 2 and 3 is 6.\n",
      "--------------------------------------------------\n",
      "AI: The result of multiplying 2 and 3 is 6.\n",
      "Response Metadata: Finish Reason - stop\n",
      "--------------------------------------------------\n"
     ]
    }
   ],
   "source": [
    "thread = await client.threads.create()\n",
    "input_message = HumanMessage(content=\"Multiply 2 and 3\")\n",
    "\n",
    "def format_tool_calls(tool_calls):\n",
    "    \"\"\"\n",
    "    Format a list of tool calls into a readable string.\n",
    "\n",
    "    Args:\n",
    "        tool_calls (list): A list of dictionaries, each representing a tool call.\n",
    "            Each dictionary should have 'id', 'name', and 'args' keys.\n",
    "\n",
    "    Returns:\n",
    "        str: A formatted string of tool calls, or \"No tool calls\" if the list is empty.\n",
    "\n",
    "    \"\"\"\n",
    "\n",
    "    if tool_calls:\n",
    "        formatted_calls = []\n",
    "        for call in tool_calls:\n",
    "            formatted_calls.append(\n",
    "                f\"Tool Call ID: {call['id']}, Function: {call['name']}, Arguments: {call['args']}\"\n",
    "            )\n",
    "        return \"\\n\".join(formatted_calls)\n",
    "    return \"No tool calls\"\n",
    "\n",
    "async for event in client.runs.stream(\n",
    "    thread[\"thread_id\"],\n",
    "    assistant_id=\"agent\",\n",
    "    input={\"messages\": [input_message]},\n",
    "    stream_mode=\"messages\"):\n",
    "    \n",
    "    # Handle metadata events\n",
    "    if event.event == \"metadata\":\n",
    "        print(f\"Metadata: Run ID - {event.data['run_id']}\")\n",
    "        print(\"-\" * 50)\n",
    "    \n",
    "    # Handle partial message events\n",
    "    elif event.event == \"messages/partial\":\n",
    "        for data_item in event.data:\n",
    "            # Process user messages\n",
    "            if \"role\" in data_item and data_item[\"role\"] == \"user\":\n",
    "                print(f\"Human: {data_item['content']}\")\n",
    "            else:\n",
    "                # Extract relevant data from the event\n",
    "                tool_calls = data_item.get(\"tool_calls\", [])\n",
    "                invalid_tool_calls = data_item.get(\"invalid_tool_calls\", [])\n",
    "                content = data_item.get(\"content\", \"\")\n",
    "                response_metadata = data_item.get(\"response_metadata\", {})\n",
    "\n",
    "                if content:\n",
    "                    print(f\"AI: {content}\")\n",
    "\n",
    "                if tool_calls:\n",
    "                    print(\"Tool Calls:\")\n",
    "                    print(format_tool_calls(tool_calls))\n",
    "\n",
    "                if invalid_tool_calls:\n",
    "                    print(\"Invalid Tool Calls:\")\n",
    "                    print(format_tool_calls(invalid_tool_calls))\n",
    "\n",
    "                if response_metadata:\n",
    "                    finish_reason = response_metadata.get(\"finish_reason\", \"N/A\")\n",
    "                    print(f\"Response Metadata: Finish Reason - {finish_reason}\")\n",
    "                    \n",
    "        print(\"-\" * 50)"
   ]
  },
  {
   "cell_type": "markdown",
   "id": "ec1a519c",
   "metadata": {},
   "source": [
    "## Breakpoints"
   ]
  },
  {
   "cell_type": "code",
   "execution_count": 111,
   "id": "a0972a91",
   "metadata": {},
   "outputs": [],
   "source": [
    "def multiply(a: int | float, b: int | float) -> int | float:\n",
    "    \"\"\"Multiply a and b.\"\"\"\n",
    "    return a * b\n",
    "\n",
    "# This will be a tool\n",
    "def add(a: int | float, b: int | float) -> int | float:\n",
    "    \"\"\"Adds a and b.\"\"\"\n",
    "    return a + b\n",
    "\n",
    "def divide(a: int | float, b: int | float) -> int | float:\n",
    "    \"\"\"Divide a by b.\"\"\"\n",
    "    return a / b\n",
    "\n",
    "tools = [add, multiply, divide]\n",
    "llm = ChatOpenAI(model=\"gpt-4o\")\n",
    "llm_tools = llm.bind_tools(tools)"
   ]
  },
  {
   "cell_type": "code",
   "execution_count": 112,
   "id": "2f783aef",
   "metadata": {},
   "outputs": [
    {
     "data": {
      "image/png": "[encoded data removed]",
      "text/plain": [
       "<IPython.core.display.Image object>"
      ]
     },
     "metadata": {},
     "output_type": "display_data"
    }
   ],
   "source": [
    "sys_prompt = SystemMessage(content=\"You are a helpful assistant tasked with writing performing arithmetic on a set of inputs.\")\n",
    "\n",
    "def assistant(state: MessagesState):\n",
    "    return {\"messages\": [llm_tools.invoke([sys_prompt] + state[\"messages\"])]}\n",
    "\n",
    "\n",
    "builder = StateGraph(MessagesState)\n",
    "builder.add_node(\"assistant\", assistant)\n",
    "builder.add_node(\"tools\", ToolNode(tools))\n",
    "\n",
    "builder.add_edge(START, \"assistant\")\n",
    "builder.add_conditional_edges(\"assistant\", tools_condition)\n",
    "builder.add_edge(\"tools\", \"assistant\")\n",
    "builder.add_edge(\"assistant\", END)\n",
    "\n",
    "memory = MemorySaver()\n",
    "graph = builder.compile(interrupt_before=[\"tools\"] ,checkpointer=memory)\n",
    "display(Image(graph.get_graph().draw_mermaid_png()))"
   ]
  },
  {
   "cell_type": "code",
   "execution_count": 92,
   "id": "d1abc836",
   "metadata": {},
   "outputs": [],
   "source": [
    "config = {\"configurable\": {\"thread_id\": \"breakpoint\"}}"
   ]
  },
  {
   "cell_type": "code",
   "execution_count": 94,
   "id": "a7851510",
   "metadata": {},
   "outputs": [
    {
     "name": "stdout",
     "output_type": "stream",
     "text": [
      "================================\u001b[1m Human Message \u001b[0m=================================\n",
      "\n",
      "Multiply 2 and 3, then add the result with 5, then divide with 2\n",
      "==================================\u001b[1m Ai Message \u001b[0m==================================\n",
      "Tool Calls:\n",
      "  multiply (call_KvNcrZEudad2jYDTbPZO6OXI)\n",
      " Call ID: call_KvNcrZEudad2jYDTbPZO6OXI\n",
      "  Args:\n",
      "    a: 2\n",
      "    b: 3\n",
      "  add (call_h388DPgCbHqs2DpiO6HTTgDY)\n",
      " Call ID: call_h388DPgCbHqs2DpiO6HTTgDY\n",
      "  Args:\n",
      "    a: 6\n",
      "    b: 5\n",
      "  divide (call_keE2SAYV3kbOG9pF7sZF68yv)\n",
      " Call ID: call_keE2SAYV3kbOG9pF7sZF68yv\n",
      "  Args:\n",
      "    a: 11\n",
      "    b: 2\n"
     ]
    }
   ],
   "source": [
    "human = HumanMessage(content=\"Multiply 2 and 3, then add the result with 5, then divide with 2\")\n",
    "\n",
    "for event in graph.stream({\"messages\": [human]}, config=config, stream_mode=\"values\"):\n",
    "    event['messages'][-1].pretty_print()"
   ]
  },
  {
   "cell_type": "markdown",
   "id": "45f05078",
   "metadata": {},
   "source": [
    "As we see, the graph stop in Ai message step and don't continue to next tools step which means the graph has been interupted"
   ]
  },
  {
   "cell_type": "code",
   "execution_count": 79,
   "id": "2737f05d",
   "metadata": {},
   "outputs": [
    {
     "name": "stdout",
     "output_type": "stream",
     "text": [
      "StateSnapshot(values={'messages': [HumanMessage(content='Multiply 2 and 3 then add with 3 then divide by 2', additional_kwargs={}, response_metadata={}, id='ec7787a3-81da-4b43-8252-95de62843944'), AIMessage(content='', additional_kwargs={'tool_calls': [{'id': 'call_37lHkb3KgnnjsPPuRxqCEefL', 'function': {'arguments': '{\"a\": 2, \"b\": 3}', 'name': 'multiply'}, 'type': 'function'}, {'id': 'call_OPR1Q2j0bToes80JvkY6LDsa', 'function': {'arguments': '{\"a\": 3, \"b\": 3}', 'name': 'add'}, 'type': 'function'}], 'refusal': None}, response_metadata={'token_usage': {'completion_tokens': 50, 'prompt_tokens': 133, 'total_tokens': 183, 'completion_tokens_details': {'accepted_prediction_tokens': 0, 'audio_tokens': 0, 'reasoning_tokens': 0, 'rejected_prediction_tokens': 0}, 'prompt_tokens_details': {'audio_tokens': 0, 'cached_tokens': 0}}, 'model_name': 'gpt-4o-2024-08-06', 'system_fingerprint': 'fp_1827dd0c55', 'id': 'chatcmpl-CAIGYA3Pwkvt57YwKT6Q0iAWu5ii6', 'service_tier': 'default', 'finish_reason': 'tool_calls', 'logprobs': None}, id='run--8066d6d8-d065-4eab-85eb-06374943e874-0', tool_calls=[{'name': 'multiply', 'args': {'a': 2, 'b': 3}, 'id': 'call_37lHkb3KgnnjsPPuRxqCEefL', 'type': 'tool_call'}, {'name': 'add', 'args': {'a': 3, 'b': 3}, 'id': 'call_OPR1Q2j0bToes80JvkY6LDsa', 'type': 'tool_call'}], usage_metadata={'input_tokens': 133, 'output_tokens': 50, 'total_tokens': 183, 'input_token_details': {'audio': 0, 'cache_read': 0}, 'output_token_details': {'audio': 0, 'reasoning': 0}})]}, next=('tools',), config={'configurable': {'thread_id': 'breakpoint', 'checkpoint_ns': '', 'checkpoint_id': '1f085ba3-8a83-6c16-8001-c81243df271a'}}, metadata={'source': 'loop', 'step': 1, 'parents': {}}, created_at='2025-08-30T15:58:50.944616+00:00', parent_config={'configurable': {'thread_id': 'breakpoint', 'checkpoint_ns': '', 'checkpoint_id': '1f085ba3-7fae-66f9-8000-9ad037cfcdf2'}}, tasks=(PregelTask(id='fc5cbe28-cb16-949c-9271-e1583196297e', name='tools', path=('__pregel_pull', 'tools'), error=None, interrupts=(), state=None, result=None),), interrupts=())\n",
      "====================================================================================================\n",
      "('tools',)\n"
     ]
    }
   ],
   "source": [
    "state = graph.get_state(config)\n",
    "print(state)\n",
    "print(\"=====\" * 20)\n",
    "print(state.next)"
   ]
  },
  {
   "cell_type": "markdown",
   "id": "a10b5f53",
   "metadata": {},
   "source": [
    "![breakpoints.jpg](https://cdn.prod.website-files.com/65b8cd72835ceeacd4449a53/66dbae7985b747dfed67775d_breakpoints1.png)"
   ]
  },
  {
   "cell_type": "code",
   "execution_count": 95,
   "id": "e68e97b1",
   "metadata": {},
   "outputs": [
    {
     "name": "stdout",
     "output_type": "stream",
     "text": [
      "==================================\u001b[1m Ai Message \u001b[0m==================================\n",
      "Tool Calls:\n",
      "  multiply (call_KvNcrZEudad2jYDTbPZO6OXI)\n",
      " Call ID: call_KvNcrZEudad2jYDTbPZO6OXI\n",
      "  Args:\n",
      "    a: 2\n",
      "    b: 3\n",
      "  add (call_h388DPgCbHqs2DpiO6HTTgDY)\n",
      " Call ID: call_h388DPgCbHqs2DpiO6HTTgDY\n",
      "  Args:\n",
      "    a: 6\n",
      "    b: 5\n",
      "  divide (call_keE2SAYV3kbOG9pF7sZF68yv)\n",
      " Call ID: call_keE2SAYV3kbOG9pF7sZF68yv\n",
      "  Args:\n",
      "    a: 11\n",
      "    b: 2\n",
      "=================================\u001b[1m Tool Message \u001b[0m=================================\n",
      "Name: divide\n",
      "\n",
      "5.5\n",
      "==================================\u001b[1m Ai Message \u001b[0m==================================\n",
      "\n",
      "Here's how the calculations unfold:\n",
      "\n",
      "1. **Multiply 2 and 3**:\n",
      "   \\[\n",
      "   2 \\times 3 = 6\n",
      "   \\]\n",
      "\n",
      "2. **Add the result to 5**:\n",
      "   \\[\n",
      "   6 + 5 = 11\n",
      "   \\]\n",
      "\n",
      "3. **Divide by 2**:\n",
      "   \\[\n",
      "   \\frac{11}{2} = 5.5\n",
      "   \\]\n",
      "\n",
      "The final result is \\(5.5\\).\n"
     ]
    }
   ],
   "source": [
    "for event in graph.stream(None, config=config, stream_mode=\"values\"):\n",
    "    event['messages'][-1].pretty_print()"
   ]
  },
  {
   "cell_type": "markdown",
   "id": "b80dfe39",
   "metadata": {},
   "source": [
    "We can use user input to validate the graph should continue or not"
   ]
  },
  {
   "cell_type": "code",
   "execution_count": 113,
   "id": "dd41a283",
   "metadata": {},
   "outputs": [
    {
     "name": "stdout",
     "output_type": "stream",
     "text": [
      "================================\u001b[1m Human Message \u001b[0m=================================\n",
      "\n",
      "Multiply 2 and 3, then add the result with 5, then divide with 2\n",
      "==================================\u001b[1m Ai Message \u001b[0m==================================\n",
      "Tool Calls:\n",
      "  multiply (call_R4VPKbVC84z24vCIrkJNMP01)\n",
      " Call ID: call_R4VPKbVC84z24vCIrkJNMP01\n",
      "  Args:\n",
      "    a: 2\n",
      "    b: 3\n",
      "  add (call_arNBDmKgWwarC7rw1Lw1VCtu)\n",
      " Call ID: call_arNBDmKgWwarC7rw1Lw1VCtu\n",
      "  Args:\n",
      "    a: 6\n",
      "    b: 5\n",
      "==================================\u001b[1m Ai Message \u001b[0m==================================\n",
      "Tool Calls:\n",
      "  multiply (call_R4VPKbVC84z24vCIrkJNMP01)\n",
      " Call ID: call_R4VPKbVC84z24vCIrkJNMP01\n",
      "  Args:\n",
      "    a: 2\n",
      "    b: 3\n",
      "  add (call_arNBDmKgWwarC7rw1Lw1VCtu)\n",
      " Call ID: call_arNBDmKgWwarC7rw1Lw1VCtu\n",
      "  Args:\n",
      "    a: 6\n",
      "    b: 5\n",
      "=================================\u001b[1m Tool Message \u001b[0m=================================\n",
      "Name: add\n",
      "\n",
      "11\n",
      "==================================\u001b[1m Ai Message \u001b[0m==================================\n",
      "Tool Calls:\n",
      "  divide (call_RbTGUrwfNXQBUmRPjTdlZi9y)\n",
      " Call ID: call_RbTGUrwfNXQBUmRPjTdlZi9y\n",
      "  Args:\n",
      "    a: 11\n",
      "    b: 2\n"
     ]
    }
   ],
   "source": [
    "config = {\"configurable\": {\"thread_id\": \"breakpoint2\"}}\n",
    "\n",
    "human = HumanMessage(content=\"Multiply 2 and 3, then add the result with 5, then divide with 2\")\n",
    "for event in graph.stream({\"messages\": [human]}, config=config, stream_mode=\"values\"):\n",
    "    event['messages'][-1].pretty_print()\n",
    "    \n",
    "user_approval = input(\"Do you want to call the tool? (yes/no): \")\n",
    "\n",
    "# Check approval\n",
    "if user_approval.lower() == \"yes\":\n",
    "    \n",
    "    # If approved, continue the graph execution\n",
    "    for event in graph.stream(None, config=config, stream_mode=\"values\"):\n",
    "        event['messages'][-1].pretty_print()\n",
    "        \n",
    "else:\n",
    "    print(\"Operation cancelled by user.\")"
   ]
  },
  {
   "cell_type": "code",
   "execution_count": 121,
   "id": "de182f84",
   "metadata": {},
   "outputs": [
    {
     "name": "stdout",
     "output_type": "stream",
     "text": [
      "content='Multiply 2 and 3, then add the result with 5, then divide with 2' additional_kwargs={} response_metadata={} id='12042e76-a448-4d41-95c1-4913a36970b7'\n",
      "content='' additional_kwargs={'tool_calls': [{'id': 'call_R4VPKbVC84z24vCIrkJNMP01', 'function': {'arguments': '{\"a\": 2, \"b\": 3}', 'name': 'multiply'}, 'type': 'function'}, {'id': 'call_arNBDmKgWwarC7rw1Lw1VCtu', 'function': {'arguments': '{\"a\": 6, \"b\": 5}', 'name': 'add'}, 'type': 'function'}], 'refusal': None} response_metadata={'token_usage': {'completion_tokens': 50, 'prompt_tokens': 137, 'total_tokens': 187, 'completion_tokens_details': {'accepted_prediction_tokens': 0, 'audio_tokens': 0, 'reasoning_tokens': 0, 'rejected_prediction_tokens': 0}, 'prompt_tokens_details': {'audio_tokens': 0, 'cached_tokens': 0}}, 'model_name': 'gpt-4o-2024-08-06', 'system_fingerprint': 'fp_1827dd0c55', 'id': 'chatcmpl-CAIXM0sl5Vs3b4nYx4G3OzFboEb7Y', 'service_tier': 'default', 'finish_reason': 'tool_calls', 'logprobs': None} id='run--1ad7c4ab-7bbd-4a26-9f97-4911a8e5799d-0' tool_calls=[{'name': 'multiply', 'args': {'a': 2, 'b': 3}, 'id': 'call_R4VPKbVC84z24vCIrkJNMP01', 'type': 'tool_call'}, {'name': 'add', 'args': {'a': 6, 'b': 5}, 'id': 'call_arNBDmKgWwarC7rw1Lw1VCtu', 'type': 'tool_call'}] usage_metadata={'input_tokens': 137, 'output_tokens': 50, 'total_tokens': 187, 'input_token_details': {'audio': 0, 'cache_read': 0}, 'output_token_details': {'audio': 0, 'reasoning': 0}}\n",
      "content='6' name='multiply' id='71a6b825-ef50-4e9d-81de-03dac6a7e07d' tool_call_id='call_R4VPKbVC84z24vCIrkJNMP01'\n",
      "content='11' name='add' id='f2eea7b9-efdd-407b-a4d4-5e78202b8ded' tool_call_id='call_arNBDmKgWwarC7rw1Lw1VCtu'\n",
      "content='' additional_kwargs={'tool_calls': [{'id': 'call_RbTGUrwfNXQBUmRPjTdlZi9y', 'function': {'arguments': '{\"a\":11,\"b\":2}', 'name': 'divide'}, 'type': 'function'}], 'refusal': None} response_metadata={'token_usage': {'completion_tokens': 17, 'prompt_tokens': 203, 'total_tokens': 220, 'completion_tokens_details': {'accepted_prediction_tokens': 0, 'audio_tokens': 0, 'reasoning_tokens': 0, 'rejected_prediction_tokens': 0}, 'prompt_tokens_details': {'audio_tokens': 0, 'cached_tokens': 0}}, 'model_name': 'gpt-4o-2024-08-06', 'system_fingerprint': 'fp_1827dd0c55', 'id': 'chatcmpl-CAIXRogxlMT5929l950Oku06TUbbM', 'service_tier': 'default', 'finish_reason': 'tool_calls', 'logprobs': None} id='run--9cfc27cc-5ac0-4000-a565-67ab1f0eee1c-0' tool_calls=[{'name': 'divide', 'args': {'a': 11, 'b': 2}, 'id': 'call_RbTGUrwfNXQBUmRPjTdlZi9y', 'type': 'tool_call'}] usage_metadata={'input_tokens': 203, 'output_tokens': 17, 'total_tokens': 220, 'input_token_details': {'audio': 0, 'cache_read': 0}, 'output_token_details': {'audio': 0, 'reasoning': 0}}\n",
      "content='5.5' name='divide' id='96039219-9334-4fb1-a57a-0d8c84804c23' tool_call_id='call_RbTGUrwfNXQBUmRPjTdlZi9y'\n",
      "content='The result of multiplying 2 and 3, adding 5 to the result, and dividing by 2 is 5.5.' additional_kwargs={'refusal': None} response_metadata={'token_usage': {'completion_tokens': 29, 'prompt_tokens': 230, 'total_tokens': 259, 'completion_tokens_details': {'accepted_prediction_tokens': 0, 'audio_tokens': 0, 'reasoning_tokens': 0, 'rejected_prediction_tokens': 0}, 'prompt_tokens_details': {'audio_tokens': 0, 'cached_tokens': 0}}, 'model_name': 'gpt-4o-2024-08-06', 'system_fingerprint': 'fp_1827dd0c55', 'id': 'chatcmpl-CAIXdVCK9lRIdgp1Pc36KdgCIVLjS', 'service_tier': 'default', 'finish_reason': 'stop', 'logprobs': None} id='run--ef03750d-7523-45c6-9c27-31b2c28ef03d-0' usage_metadata={'input_tokens': 230, 'output_tokens': 29, 'total_tokens': 259, 'input_token_details': {'audio': 0, 'cache_read': 0}, 'output_token_details': {'audio': 0, 'reasoning': 0}}\n",
      "====================================================================================================\n",
      "()\n"
     ]
    }
   ],
   "source": [
    "state = graph.get_state(config)\n",
    "\n",
    "for message in state.values['messages']:\n",
    "    print(message)\n",
    "\n",
    "print(\"=====\" * 20)\n",
    "print(state.next)"
   ]
  },
  {
   "cell_type": "markdown",
   "id": "391a9d0e",
   "metadata": {},
   "source": [
    "### With langgraph API"
   ]
  },
  {
   "cell_type": "code",
   "execution_count": 154,
   "id": "4035205b",
   "metadata": {},
   "outputs": [],
   "source": [
    "client = get_client(url=\"http://127.0.0.1:2024\")\n",
    "thread = await client.threads.create()\n",
    "human = HumanMessage(content=\"Multiply 2 and 3, then add the result with 5, then divide with 2\")\n",
    "message_input = {\"messages\": [human]}"
   ]
  },
  {
   "cell_type": "code",
   "execution_count": 155,
   "id": "1ada727a",
   "metadata": {},
   "outputs": [
    {
     "name": "stdout",
     "output_type": "stream",
     "text": [
      "Running event type: metadata\n",
      "Running event type: values\n",
      "{'content': 'Multiply 2 and 3, then add the result with 5, then divide with 2', 'additional_kwargs': {}, 'response_metadata': {}, 'type': 'human', 'name': None, 'id': 'c3f420f1-6b38-47a8-9781-2afb8d697a8c', 'example': False}\n",
      "====================================================================================================\n",
      "Running event type: values\n",
      "{'content': '', 'additional_kwargs': {'tool_calls': [{'id': 'call_11scV8NkOyJtu9x4WY5Q9mO4', 'function': {'arguments': '{\"a\":2,\"b\":3}', 'name': 'multiply'}, 'type': 'function'}], 'refusal': None}, 'response_metadata': {'token_usage': {'completion_tokens': 17, 'prompt_tokens': 148, 'total_tokens': 165, 'completion_tokens_details': {'accepted_prediction_tokens': 0, 'audio_tokens': 0, 'reasoning_tokens': 0, 'rejected_prediction_tokens': 0}, 'prompt_tokens_details': {'audio_tokens': 0, 'cached_tokens': 0}}, 'model_name': 'gpt-4o-2024-08-06', 'system_fingerprint': 'fp_46bff0e0c8', 'id': 'chatcmpl-CAJAbgnLMVyLDTosqP8JtUNxLJ2Zu', 'service_tier': 'default', 'finish_reason': 'tool_calls', 'logprobs': None}, 'type': 'ai', 'name': None, 'id': 'run--d69a6e9d-e8b4-4410-a10b-afc42c48878d-0', 'example': False, 'tool_calls': [{'name': 'multiply', 'args': {'a': 2, 'b': 3}, 'id': 'call_11scV8NkOyJtu9x4WY5Q9mO4', 'type': 'tool_call'}], 'invalid_tool_calls': [], 'usage_metadata': {'input_tokens': 148, 'output_tokens': 17, 'total_tokens': 165, 'input_token_details': {'audio': 0, 'cache_read': 0}, 'output_token_details': {'audio': 0, 'reasoning': 0}}}\n",
      "====================================================================================================\n"
     ]
    }
   ],
   "source": [
    "async for chunk in client.runs.stream(\n",
    "    thread[\"thread_id\"],\n",
    "    assistant_id=\"agent\",\n",
    "    input = message_input,\n",
    "    stream_mode=\"values\",\n",
    "    interrupt_before=[\"tools\"]\n",
    "):\n",
    "    print(f\"Running event type: {chunk.event}\")\n",
    "    m = chunk.data.get(\"messages\", [])\n",
    "    if m:\n",
    "        print(m[-1])\n",
    "        print(\"=====\" * 20)\n"
   ]
  },
  {
   "cell_type": "markdown",
   "id": "d6cbd330",
   "metadata": {},
   "source": [
    "proceed the previous breakpoint by set the input with `None`"
   ]
  },
  {
   "cell_type": "code",
   "execution_count": 158,
   "id": "1146cca6",
   "metadata": {},
   "outputs": [
    {
     "name": "stdout",
     "output_type": "stream",
     "text": [
      "Running event type: metadata\n",
      "Running event type: values\n",
      "{'content': '', 'additional_kwargs': {'tool_calls': [{'id': 'call_sylXE53rAsP3aUjGuwXbpwQb', 'function': {'arguments': '{\"a\":11,\"b\":2}', 'name': 'divide'}, 'type': 'function'}], 'refusal': None}, 'response_metadata': {'token_usage': {'completion_tokens': 17, 'prompt_tokens': 198, 'total_tokens': 215, 'completion_tokens_details': {'accepted_prediction_tokens': 0, 'audio_tokens': 0, 'reasoning_tokens': 0, 'rejected_prediction_tokens': 0}, 'prompt_tokens_details': {'audio_tokens': 0, 'cached_tokens': 0}}, 'model_name': 'gpt-4o-2024-08-06', 'system_fingerprint': 'fp_46bff0e0c8', 'id': 'chatcmpl-CAJB1u4TLy9eNKSD1RjnkXz2A4e97', 'service_tier': 'default', 'finish_reason': 'tool_calls', 'logprobs': None}, 'type': 'ai', 'name': None, 'id': 'run--a9681911-a397-422a-a4a5-5961ce21719d-0', 'example': False, 'tool_calls': [{'name': 'divide', 'args': {'a': 11, 'b': 2}, 'id': 'call_sylXE53rAsP3aUjGuwXbpwQb', 'type': 'tool_call'}], 'invalid_tool_calls': [], 'usage_metadata': {'input_tokens': 198, 'output_tokens': 17, 'total_tokens': 215, 'input_token_details': {'audio': 0, 'cache_read': 0}, 'output_token_details': {'audio': 0, 'reasoning': 0}}}\n",
      "====================================================================================================\n",
      "Running event type: values\n",
      "{'content': '5.5', 'additional_kwargs': {}, 'response_metadata': {}, 'type': 'tool', 'name': 'divide', 'id': '106ec7c4-7739-4f65-b377-65cb67b492d5', 'tool_call_id': 'call_sylXE53rAsP3aUjGuwXbpwQb', 'artifact': None, 'status': 'success'}\n",
      "====================================================================================================\n",
      "Running event type: values\n",
      "{'content': 'The result of multiplying 2 and 3, adding 5, and then dividing by 2 is 5.5.', 'additional_kwargs': {'refusal': None}, 'response_metadata': {'token_usage': {'completion_tokens': 27, 'prompt_tokens': 225, 'total_tokens': 252, 'completion_tokens_details': {'accepted_prediction_tokens': 0, 'audio_tokens': 0, 'reasoning_tokens': 0, 'rejected_prediction_tokens': 0}, 'prompt_tokens_details': {'audio_tokens': 0, 'cached_tokens': 0}}, 'model_name': 'gpt-4o-2024-08-06', 'system_fingerprint': 'fp_46bff0e0c8', 'id': 'chatcmpl-CAJBAlSxUhlXAuRn4fr11uU4wHj8h', 'service_tier': 'default', 'finish_reason': 'stop', 'logprobs': None}, 'type': 'ai', 'name': None, 'id': 'run--424b7091-8822-4cc3-a34e-872799ce3405-0', 'example': False, 'tool_calls': [], 'invalid_tool_calls': [], 'usage_metadata': {'input_tokens': 225, 'output_tokens': 27, 'total_tokens': 252, 'input_token_details': {'audio': 0, 'cache_read': 0}, 'output_token_details': {'audio': 0, 'reasoning': 0}}}\n",
      "====================================================================================================\n"
     ]
    }
   ],
   "source": [
    "async for chunk in client.runs.stream(\n",
    "    thread[\"thread_id\"],\n",
    "    assistant_id=\"agent\",\n",
    "    input = None,\n",
    "    stream_mode=\"values\",\n",
    "    interrupt_before=[\"tools\"]\n",
    "):\n",
    "    print(f\"Running event type: {chunk.event}\")\n",
    "    m = chunk.data.get(\"messages\", [])\n",
    "    if m:\n",
    "        print(m[-1])\n",
    "        print(\"=====\" * 20)"
   ]
  },
  {
   "cell_type": "markdown",
   "id": "e2874e73",
   "metadata": {},
   "source": [
    "## Editing State and Human Feedback"
   ]
  },
  {
   "cell_type": "code",
   "execution_count": null,
   "id": "251cd01e",
   "metadata": {},
   "outputs": [],
   "source": []
  },
  {
   "cell_type": "code",
   "execution_count": null,
   "id": "32272144",
   "metadata": {},
   "outputs": [],
   "source": []
  }
 ],
 "metadata": {
  "kernelspec": {
   "display_name": "llms",
   "language": "python",
   "name": "python3"
  },
  "language_info": {
   "codemirror_mode": {
    "name": "ipython",
    "version": 3
   },
   "file_extension": ".py",
   "mimetype": "text/x-python",
   "name": "python",
   "nbconvert_exporter": "python",
   "pygments_lexer": "ipython3",
   "version": "3.11.13"
  }
 },
 "nbformat": 4,
 "nbformat_minor": 5
}
