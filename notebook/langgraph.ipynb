{
 "cells": [
  {
   "cell_type": "markdown",
   "id": "9817a7d4",
   "metadata": {},
   "source": [
    "## Import Libraries"
   ]
  },
  {
   "cell_type": "code",
   "execution_count": 4,
   "id": "24971ccd",
   "metadata": {},
   "outputs": [
    {
     "data": {
      "text/plain": [
       "True"
      ]
     },
     "execution_count": 4,
     "metadata": {},
     "output_type": "execute_result"
    }
   ],
   "source": [
    "from typing_extensions import TypedDict\n",
    "from typing import Literal\n",
    "\n",
    "from langchain_core.messages import AIMessage, HumanMessage, SystemMessage\n",
    "from langchain_openai import ChatOpenAI\n",
    "from langgraph.graph import StateGraph, START, END, MessagesState\n",
    "from langgraph.graph.message import add_messages\n",
    "from langgraph.checkpoint.memory import MemorySaver\n",
    "from langgraph.prebuilt import ToolNode, tools_condition\n",
    "\n",
    "\n",
    "import random\n",
    "from IPython.display import display, Image\n",
    "from dotenv import load_dotenv\n",
    "\n",
    "load_dotenv(override=True)"
   ]
  },
  {
   "cell_type": "markdown",
   "id": "f69492ae",
   "metadata": {},
   "source": [
    "## Simple Graph"
   ]
  },
  {
   "cell_type": "markdown",
   "id": "9acda7d4",
   "metadata": {},
   "source": [
    "### State"
   ]
  },
  {
   "cell_type": "markdown",
   "id": "b9946745",
   "metadata": {},
   "source": [
    "State are structured data flowing between edges\n",
    "Nodes are function that process and change state"
   ]
  },
  {
   "cell_type": "code",
   "execution_count": 8,
   "id": "f8c4233f",
   "metadata": {},
   "outputs": [],
   "source": [
    "class State(TypedDict):\n",
    "    graph_state: str"
   ]
  },
  {
   "cell_type": "code",
   "execution_count": 4,
   "id": "3f5f209f",
   "metadata": {},
   "outputs": [],
   "source": [
    "def node1(state: State) -> str:\n",
    "    print(\"=== Node 1 ===\")\n",
    "    return {\"graph_state\": state['graph_state'] + \" I invest in\"}\n",
    "\n",
    "def node2(state: State) -> str:\n",
    "    print(\"=== Node 2 ===\")\n",
    "    return {\"graph_state\": state['graph_state'] + \" Stocks\"}\n",
    "\n",
    "def node3(state: State) -> str:\n",
    "    print(\"=== Node 3 ===\")\n",
    "    return {\"graph_state\": state['graph_state'] + \" Crypto\"}"
   ]
  },
  {
   "cell_type": "markdown",
   "id": "ee75ddd5",
   "metadata": {},
   "source": [
    "### Edge"
   ]
  },
  {
   "cell_type": "markdown",
   "id": "1715e56f",
   "metadata": {},
   "source": [
    "Connecting state"
   ]
  },
  {
   "cell_type": "code",
   "execution_count": 5,
   "id": "374488bb",
   "metadata": {},
   "outputs": [],
   "source": [
    "# Conditional edge\n",
    "\n",
    "def decide_investment(state: State) -> Literal[\"node2\", \"node3\"]:\n",
    "    print(\"=== Decision Node ===\")\n",
    "    \n",
    "    input = state['graph_state']\n",
    "    \n",
    "    if random.random() < 0.5:\n",
    "        return \"node2\"\n",
    "    else:\n",
    "        return \"node3\""
   ]
  },
  {
   "cell_type": "markdown",
   "id": "67e4c0d2",
   "metadata": {},
   "source": [
    "### Graph"
   ]
  },
  {
   "cell_type": "code",
   "execution_count": 6,
   "id": "91e23a7c",
   "metadata": {},
   "outputs": [
    {
     "data": {
      "image/png": "[encoded data removed]",
      "text/plain": [
       "<IPython.core.display.Image object>"
      ]
     },
     "metadata": {},
     "output_type": "display_data"
    }
   ],
   "source": [
    "# Define the graph\n",
    "builder = StateGraph(State)\n",
    "builder.add_node(\"node1\", node1)\n",
    "builder.add_node(\"node2\", node2)\n",
    "builder.add_node(\"node3\", node3)\n",
    "\n",
    "# Set entrypoint\n",
    "# builder.set_entry_point(\"node1\")\n",
    "\n",
    "# Logic\n",
    "builder.add_edge(START, \"node1\")\n",
    "builder.add_conditional_edges(\"node1\", decide_investment)\n",
    "builder.add_edge(\"node2\", END)\n",
    "builder.add_edge(\"node3\", END)\n",
    "\n",
    "graph = builder.compile()\n",
    "display(Image(graph.get_graph().draw_mermaid_png()))"
   ]
  },
  {
   "cell_type": "code",
   "execution_count": 7,
   "id": "e0833615",
   "metadata": {},
   "outputs": [
    {
     "name": "stdout",
     "output_type": "stream",
     "text": [
      "=== Node 1 ===\n",
      "=== Decision Node ===\n",
      "=== Node 3 ===\n"
     ]
    },
    {
     "data": {
      "text/plain": [
       "{'graph_state': 'Hello,  I invest in Crypto'}"
      ]
     },
     "execution_count": 7,
     "metadata": {},
     "output_type": "execute_result"
    }
   ],
   "source": [
    "graph.invoke({\"graph_state\": \"Hello, \"})"
   ]
  },
  {
   "cell_type": "markdown",
   "id": "b8a1cebd",
   "metadata": {},
   "source": [
    "## Chain"
   ]
  },
  {
   "cell_type": "markdown",
   "id": "e1abac33",
   "metadata": {},
   "source": [
    "### Messages"
   ]
  },
  {
   "cell_type": "code",
   "execution_count": 2,
   "id": "70b250e3",
   "metadata": {},
   "outputs": [
    {
     "name": "stdout",
     "output_type": "stream",
     "text": [
      "==================================\u001b[1m Ai Message \u001b[0m==================================\n",
      "Name: Model\n",
      "\n",
      "Do you invest in Stock Market?\n",
      "================================\u001b[1m Human Message \u001b[0m=================================\n",
      "Name: Human\n",
      "\n",
      "Yes, that's right\n",
      "==================================\u001b[1m Ai Message \u001b[0m==================================\n",
      "Name: Model\n",
      "\n",
      "Nice, what would you like to learn\n",
      "================================\u001b[1m Human Message \u001b[0m=================================\n",
      "Name: Human\n",
      "\n",
      "I would like to learn about financial statement\n"
     ]
    }
   ],
   "source": [
    "messages = [\n",
    "    AIMessage(content=\"Do you invest in Stock Market?\", name=\"Model\"),\n",
    "    HumanMessage(content=\"Yes, that's right\", name=\"Human\"),\n",
    "    AIMessage(content=\"Nice, what would you like to learn\", name=\"Model\"),\n",
    "    HumanMessage(content=\"I would like to learn about financial statement\", name=\"Human\"),   \n",
    "]\n",
    "\n",
    "for m in messages:\n",
    "    m.pretty_print()"
   ]
  },
  {
   "cell_type": "markdown",
   "id": "d2f21328",
   "metadata": {},
   "source": [
    "### Chat Models"
   ]
  },
  {
   "cell_type": "code",
   "execution_count": 3,
   "id": "783c5c01",
   "metadata": {},
   "outputs": [
    {
     "data": {
      "text/plain": [
       "langchain_core.messages.ai.AIMessage"
      ]
     },
     "execution_count": 3,
     "metadata": {},
     "output_type": "execute_result"
    }
   ],
   "source": [
    "llm = ChatOpenAI(model=\"gpt-4o-mini\")\n",
    "result = llm.invoke(messages)\n",
    "type(result)"
   ]
  },
  {
   "cell_type": "code",
   "execution_count": 4,
   "id": "6b4fc41b",
   "metadata": {},
   "outputs": [
    {
     "name": "stdout",
     "output_type": "stream",
     "text": [
      "Financial statements are crucial for understanding a company's financial health and making informed investment decisions. Here are the three primary financial statements you should be familiar with:\n",
      "\n",
      "1. **Income Statement**: \n",
      "   - Also known as the profit and loss statement, it summarizes a company's revenues and expenses over a specific period, usually a quarter or a year.\n",
      "   - Key components:\n",
      "     - **Revenue**: The total income generated from sales of goods or services.\n",
      "     - **Cost of Goods Sold (COGS)**: The direct costs attributable to the production of the goods sold by the company.\n",
      "     - **Gross Profit**: Revenue minus COGS.\n",
      "     - **Operating Expenses**: Costs required to run the business (such as selling, general, and administrative expenses).\n",
      "     - **Net Income**: The profit after all expenses, taxes, and costs have been deducted from total revenue.\n",
      "\n",
      "2. **Balance Sheet**: \n",
      "   - A snapshot of a company's financial position at a specific point in time, detailing assets, liabilities, and equity.\n",
      "   - Key components:\n",
      "     - **Assets**: Resources owned by the company, categorized as current (cash, inventory) and non-current (property, equipment).\n",
      "     - **Liabilities**: Obligations the company owes to outside parties, also categorized as current (short-term debt) and long-term (bonds payable).\n",
      "     - **Equity**: The residual interest in the assets of the company after deducting liabilities, representing ownership (common stock, retained earnings).\n",
      "\n",
      "3. **Cash Flow Statement**: \n",
      "   - This statement shows how cash moves in and out of the company over a certain period and is divided into three sections: operating, investing, and financing activities.\n",
      "   - Key components:\n",
      "     - **Operating Activities**: Cash flows from the core business operations, including receipts from sales and payments for expenses.\n",
      "     - **Investing Activities**: Cash flows from buying or selling physical or financial assets, like purchasing equipment or investments.\n",
      "     - **Financing Activities**: Cash flows related to borrowing or repaying debt, and issuing or buying back stock.\n",
      "\n",
      "**Understanding Financial Ratios**: \n",
      "\n",
      "Once you have a grip on the financial statements, analyzing key ratios can give you insights into the company's performance:\n",
      "- **Profitability Ratios** (e.g., return on equity, net profit margin)\n",
      "- **Liquidity Ratios** (e.g., current ratio, quick ratio)\n",
      "- **Leverage Ratios** (e.g., debt-to-equity ratio)\n",
      "- **Efficiency Ratios** (e.g., inventory turnover, accounts receivable turnover)\n",
      "\n",
      "Would you like to explore any particular aspect of financial statements or ratios further?\n"
     ]
    }
   ],
   "source": [
    "print(result.content)"
   ]
  },
  {
   "cell_type": "code",
   "execution_count": 5,
   "id": "6275b080",
   "metadata": {},
   "outputs": [
    {
     "data": {
      "text/plain": [
       "{'token_usage': {'completion_tokens': 541,\n",
       "  'prompt_tokens': 54,\n",
       "  'total_tokens': 595,\n",
       "  'completion_tokens_details': {'accepted_prediction_tokens': 0,\n",
       "   'audio_tokens': 0,\n",
       "   'reasoning_tokens': 0,\n",
       "   'rejected_prediction_tokens': 0},\n",
       "  'prompt_tokens_details': {'audio_tokens': 0, 'cached_tokens': 0}},\n",
       " 'model_name': 'gpt-4o-mini-2024-07-18',\n",
       " 'system_fingerprint': 'fp_51db84afab',\n",
       " 'id': 'chatcmpl-C8ILNZYubVGo9zLQTmvZHVQ3NkHBf',\n",
       " 'service_tier': 'default',\n",
       " 'finish_reason': 'stop',\n",
       " 'logprobs': None}"
      ]
     },
     "execution_count": 5,
     "metadata": {},
     "output_type": "execute_result"
    }
   ],
   "source": [
    "result.response_metadata"
   ]
  },
  {
   "cell_type": "markdown",
   "id": "cbd73749",
   "metadata": {},
   "source": [
    "### Tools"
   ]
  },
  {
   "cell_type": "code",
   "execution_count": 6,
   "id": "63de5fa3",
   "metadata": {},
   "outputs": [],
   "source": [
    "# Simple tool function\n",
    "def multiply(a: int, b: int) -> int:\n",
    "    return a * b\n",
    "\n",
    "llm_tool = llm.bind_tools([multiply])"
   ]
  },
  {
   "cell_type": "code",
   "execution_count": 7,
   "id": "6ea47e68",
   "metadata": {},
   "outputs": [],
   "source": [
    "tool_call = llm_tool.invoke([HumanMessage(content=\"What is 50 x 12?\")])"
   ]
  },
  {
   "cell_type": "code",
   "execution_count": 8,
   "id": "a25578fe",
   "metadata": {},
   "outputs": [
    {
     "data": {
      "text/plain": [
       "[{'id': 'call_OfUsCwhME1AfcE4qfXgDAZXK',\n",
       "  'function': {'arguments': '{\"a\":50,\"b\":12}', 'name': 'multiply'},\n",
       "  'type': 'function'}]"
      ]
     },
     "execution_count": 8,
     "metadata": {},
     "output_type": "execute_result"
    }
   ],
   "source": [
    "tool_call.additional_kwargs['tool_calls']"
   ]
  },
  {
   "cell_type": "code",
   "execution_count": 9,
   "id": "2e98a068",
   "metadata": {},
   "outputs": [
    {
     "data": {
      "text/plain": [
       "[{'name': 'multiply',\n",
       "  'args': {'a': 50, 'b': 12},\n",
       "  'id': 'call_OfUsCwhME1AfcE4qfXgDAZXK',\n",
       "  'type': 'tool_call'}]"
      ]
     },
     "execution_count": 9,
     "metadata": {},
     "output_type": "execute_result"
    }
   ],
   "source": [
    "tool_call.tool_calls"
   ]
  },
  {
   "cell_type": "markdown",
   "id": "a589188d",
   "metadata": {},
   "source": [
    "### MessagesState + MemorySaver checkpoint"
   ]
  },
  {
   "cell_type": "code",
   "execution_count": null,
   "id": "73f8347c",
   "metadata": {},
   "outputs": [
    {
     "data": {
      "text/plain": [
       "[AIMessage(content='Hello! How can I assist you?', additional_kwargs={}, response_metadata={}, name='Model', id='e278be8e-e4a8-48a5-bc93-48e12712f88d'),\n",
       " HumanMessage(content=\"I'm looking for information on marine biology.\", additional_kwargs={}, response_metadata={}, name='Lance', id='8c3d28f0-73e1-402b-aff1-71dd2b38242e'),\n",
       " AIMessage(content='Sure, I can help with that. What specifically are you interested in?', additional_kwargs={}, response_metadata={}, name='Model', id='6882c5b8-e92a-4158-8039-1c48ec52d96c')]"
      ]
     },
     "execution_count": 10,
     "metadata": {},
     "output_type": "execute_result"
    }
   ],
   "source": [
    "# Example add_messages with langgraph.graph.messages\n",
    "initial_messages = [AIMessage(content=\"Hello! How can I assist you?\", name=\"Model\"),\n",
    "                    HumanMessage(content=\"I'm looking for information on marine biology.\", name=\"Lance\")]\n",
    "\n",
    "# New message to add\n",
    "new_message = AIMessage(content=\"Sure, I can help with that. What specifically are you interested in?\", name=\"Model\")\n",
    "\n",
    "# Test\n",
    "add_messages(initial_messages , new_message)"
   ]
  },
  {
   "cell_type": "code",
   "execution_count": 12,
   "id": "ddc5ecad",
   "metadata": {},
   "outputs": [],
   "source": [
    "class MessageState(MessagesState):\n",
    "    pass"
   ]
  },
  {
   "cell_type": "code",
   "execution_count": 30,
   "id": "1ed008b0",
   "metadata": {},
   "outputs": [
    {
     "data": {
      "image/png": "[encoded data removed]",
      "text/plain": [
       "<IPython.core.display.Image object>"
      ]
     },
     "metadata": {},
     "output_type": "display_data"
    }
   ],
   "source": [
    "memory = MemorySaver()\n",
    "\n",
    "def tooling_llm(state: MessageState):\n",
    "    return {\"messages\": [llm_tool.invoke(state[\"messages\"])]}\n",
    "\n",
    "builder = StateGraph(MessageState)\n",
    "builder.add_node(\"llm_tool\", tooling_llm)\n",
    "builder.add_edge(START, \"llm_tool\")\n",
    "builder.add_edge(\"llm_tool\", END)\n",
    "\n",
    "graph = builder.compile(checkpointer=memory)\n",
    "display(Image(graph.get_graph().draw_mermaid_png()))"
   ]
  },
  {
   "cell_type": "code",
   "execution_count": 31,
   "id": "37fe03f3",
   "metadata": {},
   "outputs": [],
   "source": [
    "config = {\"configurable\": {\"thread_id\": \"BangDer\"}}"
   ]
  },
  {
   "cell_type": "code",
   "execution_count": 32,
   "id": "24233a4a",
   "metadata": {},
   "outputs": [],
   "source": [
    "message = graph.invoke({\"messages\": [HumanMessage(content=\"Hello\")]}, config=config)"
   ]
  },
  {
   "cell_type": "code",
   "execution_count": 33,
   "id": "fc162180",
   "metadata": {},
   "outputs": [
    {
     "name": "stdout",
     "output_type": "stream",
     "text": [
      "Hello\n",
      "Hello! How can I assist you today?\n"
     ]
    }
   ],
   "source": [
    "for m in message['messages']:\n",
    "    print(m.content)"
   ]
  },
  {
   "cell_type": "code",
   "execution_count": 34,
   "id": "e07743ac",
   "metadata": {},
   "outputs": [],
   "source": [
    "message = graph.invoke({\"messages\": [HumanMessage(content=\"What is Jakarta most visited mall\")]}, config=config)"
   ]
  },
  {
   "cell_type": "code",
   "execution_count": 35,
   "id": "1b6f286a",
   "metadata": {},
   "outputs": [
    {
     "name": "stdout",
     "output_type": "stream",
     "text": [
      "Hello\n",
      "Hello! How can I assist you today?\n",
      "What is Jakarta most visited mall\n",
      "The most visited mall in Jakarta is often considered to be \"Grand Indonesia.\" It is a large shopping complex that offers a wide range of shopping, dining, and entertainment options. Grand Indonesia is known for its upscale brands, diverse food choices, and vibrant atmosphere, making it a popular destination for both locals and tourists. Other notable malls in Jakarta include Plaza Indonesia and Mall Taman Anggrek.\n"
     ]
    }
   ],
   "source": [
    "for m in message['messages']:\n",
    "    print(m.content)"
   ]
  },
  {
   "cell_type": "code",
   "execution_count": 46,
   "id": "3284e4ea",
   "metadata": {},
   "outputs": [
    {
     "name": "stdout",
     "output_type": "stream",
     "text": [
      "Hello\n",
      "Hello! How can I assist you today?\n",
      "What is Jakarta most visited mall\n",
      "The most visited mall in Jakarta is often considered to be \"Grand Indonesia.\" It is a large shopping complex that offers a wide range of shopping, dining, and entertainment options. Grand Indonesia is known for its upscale brands, diverse food choices, and vibrant atmosphere, making it a popular destination for both locals and tourists. Other notable malls in Jakarta include Plaza Indonesia and Mall Taman Anggrek.\n"
     ]
    }
   ],
   "source": [
    "state = graph.get_state(config=config)\n",
    "for message in state.values['messages']:\n",
    "    print(message.content)"
   ]
  },
  {
   "cell_type": "markdown",
   "id": "589eb836",
   "metadata": {},
   "source": [
    "## Router"
   ]
  },
  {
   "cell_type": "code",
   "execution_count": 19,
   "id": "fae96972",
   "metadata": {},
   "outputs": [],
   "source": [
    "class MessageState(MessagesState):\n",
    "    pass\n",
    "\n",
    "def multiply(a: int, b: int) -> int:\n",
    "    \"\"\"Multiply a and b\"\"\"\n",
    "    return a * b\n",
    "\n",
    "llm = ChatOpenAI(model=\"gpt-4o-mini\")\n",
    "llm_tool = llm.bind_tools([multiply])"
   ]
  },
  {
   "cell_type": "code",
   "execution_count": 27,
   "id": "58b13cc0",
   "metadata": {},
   "outputs": [
    {
     "data": {
      "image/png": "[encoded data removed]",
      "text/plain": [
       "<IPython.core.display.Image object>"
      ]
     },
     "metadata": {},
     "output_type": "display_data"
    }
   ],
   "source": [
    "def tool_with_llm(state: MessageState):\n",
    "    return {\"messages\": [llm_tool.invoke(state[\"messages\"])]}\n",
    "\n",
    "memory = MemorySaver()\n",
    "builder = StateGraph(MessageState)\n",
    "builder.add_node(\"llm_tool\", tool_with_llm)\n",
    "builder.add_node(\"tools\", ToolNode([multiply]))\n",
    "\n",
    "builder.add_edge(START, \"llm_tool\")\n",
    "builder.add_conditional_edges(\"llm_tool\", tools_condition)\n",
    "builder.add_edge(\"tools\", END)\n",
    "\n",
    "graph = builder.compile(checkpointer=memory)\n",
    "display(Image(graph.get_graph().draw_mermaid_png()))"
   ]
  },
  {
   "cell_type": "code",
   "execution_count": 32,
   "id": "37adf08d",
   "metadata": {},
   "outputs": [],
   "source": [
    "config = {\"configurable\": {\"thread_id\": \"User2\"}}"
   ]
  },
  {
   "cell_type": "code",
   "execution_count": null,
   "id": "32252797",
   "metadata": {},
   "outputs": [],
   "source": [
    "messages = [HumanMessage(content=\"What is 50 x 12?\")]\n",
    "result = graph.invoke({\"messages\": messages}, config=config)"
   ]
  },
  {
   "cell_type": "code",
   "execution_count": 36,
   "id": "64f97ba5",
   "metadata": {},
   "outputs": [],
   "source": [
    "messages = [HumanMessage(content=\"Explain multiplier for 5 years kids\")]\n",
    "result = graph.invoke({\"messages\": messages}, config=config)"
   ]
  },
  {
   "cell_type": "code",
   "execution_count": null,
   "id": "27a038a9",
   "metadata": {},
   "outputs": [
    {
     "name": "stdout",
     "output_type": "stream",
     "text": [
      "What is 50 x 12?\n",
      "\n",
      "600\n",
      "Explain multiplier for 5 years kids\n",
      "A multiplier is like a magic number that helps us add the same number many times. \n",
      "\n",
      "Imagine you have 5 groups of 2 apples. Instead of counting each apple one by one, you can use a multiplier to make it faster. If you say \"2 apples\" and then \"5 groups,\" you can find out how many apples there are in total by multiplying:\n",
      "\n",
      "- So, 2 apples in each group × 5 groups = 10 apples.\n",
      "\n",
      "This way, multiplying helps us find big numbers quickly without counting everything one by one!\n"
     ]
    }
   ],
   "source": [
    "for m in result['messages']:\n",
    "    print(m.content) "
   ]
  },
  {
   "cell_type": "markdown",
   "id": "616f264d",
   "metadata": {},
   "source": [
    "## Agent"
   ]
  },
  {
   "cell_type": "code",
   "execution_count": 5,
   "id": "856cec12",
   "metadata": {},
   "outputs": [],
   "source": [
    "def multiply(a: int, b: int) -> int:\n",
    "    \"\"\"Multiply a and b.\n",
    "\n",
    "    Args:\n",
    "        a: first int\n",
    "        b: second int\n",
    "    \"\"\"\n",
    "    return a * b\n",
    "\n",
    "# This will be a tool\n",
    "def add(a: int, b: int) -> int:\n",
    "    \"\"\"Adds a and b.\n",
    "\n",
    "    Args:\n",
    "        a: first int\n",
    "        b: second int\n",
    "    \"\"\"\n",
    "    return a + b\n",
    "\n",
    "def divide(a: int, b: int) -> float:\n",
    "    \"\"\"Divide a and b.\n",
    "\n",
    "    Args:\n",
    "        a: first int\n",
    "        b: second int\n",
    "    \"\"\"\n",
    "    return a / b\n",
    "\n",
    "tools = [add, multiply, divide]\n",
    "llm = ChatOpenAI(model=\"gpt-4o\")\n",
    "llm_tools = llm.bind_tools(tools)"
   ]
  },
  {
   "cell_type": "code",
   "execution_count": 7,
   "id": "7b1d4ab8",
   "metadata": {},
   "outputs": [],
   "source": [
    "sys_prompt = SystemMessage(content=\"You are a helpful assistant tasked with writing performing arithmetic on a set of inputs.\")\n",
    "def assistant(state: MessagesState):\n",
    "    return {\"messages\": [llm_tools.invoke([sys_prompt] + state[\"messages\"])]}"
   ]
  },
  {
   "cell_type": "markdown",
   "id": "17ab148a",
   "metadata": {},
   "source": [
    "The main idea of agent is we can node back to assistant node to process next tool if needed"
   ]
  },
  {
   "cell_type": "code",
   "execution_count": 33,
   "id": "d3c55eb1",
   "metadata": {},
   "outputs": [
    {
     "data": {
      "image/png": "[encoded data removed]",
      "text/plain": [
       "<IPython.core.display.Image object>"
      ]
     },
     "metadata": {},
     "output_type": "display_data"
    }
   ],
   "source": [
    "memory = MemorySaver()\n",
    "\n",
    "builder = StateGraph(MessagesState)\n",
    "builder.add_node(\"calculator\", assistant)\n",
    "builder.add_node(\"tools\", ToolNode(tools))\n",
    "\n",
    "builder.add_edge(START, \"calculator\")\n",
    "builder.add_conditional_edges(\"calculator\", tools_condition)\n",
    "builder.add_edge(\"tools\", \"calculator\")\n",
    "graph = builder.compile(checkpointer=memory)\n",
    "display(Image(graph.get_graph().draw_mermaid_png()))"
   ]
  },
  {
   "cell_type": "code",
   "execution_count": 34,
   "id": "e550f792",
   "metadata": {},
   "outputs": [],
   "source": [
    "config = {\"configurable\": {\"thread_id\": \"User3\"}}\n",
    "messages = [HumanMessage(content=\"Add 10 and 50 then multiply with 5 then divide with 2\")]\n",
    "result = graph.invoke({\"messages\": messages}, config=config)"
   ]
  },
  {
   "cell_type": "code",
   "execution_count": 35,
   "id": "10057c53",
   "metadata": {},
   "outputs": [
    {
     "name": "stdout",
     "output_type": "stream",
     "text": [
      "================================\u001b[1m Human Message \u001b[0m=================================\n",
      "\n",
      "Add 10 and 50 then multiply with 5 then divide with 2\n",
      "==================================\u001b[1m Ai Message \u001b[0m==================================\n",
      "Tool Calls:\n",
      "  add (call_OqduzNisLVGplpHUbkQKiR99)\n",
      " Call ID: call_OqduzNisLVGplpHUbkQKiR99\n",
      "  Args:\n",
      "    a: 10\n",
      "    b: 50\n",
      "  multiply (call_6mqcYBm7rjb6sTt2ZoDkHnUm)\n",
      " Call ID: call_6mqcYBm7rjb6sTt2ZoDkHnUm\n",
      "  Args:\n",
      "    a: 60\n",
      "    b: 5\n",
      "  divide (call_3pKIzfrWwRgcx4SYejpPh4fV)\n",
      " Call ID: call_3pKIzfrWwRgcx4SYejpPh4fV\n",
      "  Args:\n",
      "    a: 300\n",
      "    b: 2\n",
      "=================================\u001b[1m Tool Message \u001b[0m=================================\n",
      "Name: add\n",
      "\n",
      "60\n",
      "=================================\u001b[1m Tool Message \u001b[0m=================================\n",
      "Name: multiply\n",
      "\n",
      "300\n",
      "=================================\u001b[1m Tool Message \u001b[0m=================================\n",
      "Name: divide\n",
      "\n",
      "150.0\n",
      "==================================\u001b[1m Ai Message \u001b[0m==================================\n",
      "\n",
      "Here's the step-by-step calculation:\n",
      "\n",
      "1. Add 10 and 50: \\(10 + 50 = 60\\)\n",
      "2. Multiply the result by 5: \\(60 \\times 5 = 300\\)\n",
      "3. Divide the result by 2: \\(300 \\div 2 = 150.0\\)\n",
      "\n",
      "So the final result is \\(150.0\\).\n"
     ]
    }
   ],
   "source": [
    "for message in result[\"messages\"]:\n",
    "    message.pretty_print()"
   ]
  },
  {
   "cell_type": "code",
   "execution_count": 37,
   "id": "8347ad04",
   "metadata": {},
   "outputs": [],
   "source": [
    "messages = [HumanMessage(content=\"Give me some fact based on that number\")]\n",
    "result = graph.invoke({\"messages\": messages}, config=config)"
   ]
  },
  {
   "cell_type": "code",
   "execution_count": 38,
   "id": "76011e20",
   "metadata": {},
   "outputs": [
    {
     "name": "stdout",
     "output_type": "stream",
     "text": [
      "================================\u001b[1m Human Message \u001b[0m=================================\n",
      "\n",
      "Add 10 and 50 then multiply with 5 then divide with 2\n",
      "==================================\u001b[1m Ai Message \u001b[0m==================================\n",
      "Tool Calls:\n",
      "  add (call_OqduzNisLVGplpHUbkQKiR99)\n",
      " Call ID: call_OqduzNisLVGplpHUbkQKiR99\n",
      "  Args:\n",
      "    a: 10\n",
      "    b: 50\n",
      "  multiply (call_6mqcYBm7rjb6sTt2ZoDkHnUm)\n",
      " Call ID: call_6mqcYBm7rjb6sTt2ZoDkHnUm\n",
      "  Args:\n",
      "    a: 60\n",
      "    b: 5\n",
      "  divide (call_3pKIzfrWwRgcx4SYejpPh4fV)\n",
      " Call ID: call_3pKIzfrWwRgcx4SYejpPh4fV\n",
      "  Args:\n",
      "    a: 300\n",
      "    b: 2\n",
      "=================================\u001b[1m Tool Message \u001b[0m=================================\n",
      "Name: add\n",
      "\n",
      "60\n",
      "=================================\u001b[1m Tool Message \u001b[0m=================================\n",
      "Name: multiply\n",
      "\n",
      "300\n",
      "=================================\u001b[1m Tool Message \u001b[0m=================================\n",
      "Name: divide\n",
      "\n",
      "150.0\n",
      "==================================\u001b[1m Ai Message \u001b[0m==================================\n",
      "\n",
      "Here's the step-by-step calculation:\n",
      "\n",
      "1. Add 10 and 50: \\(10 + 50 = 60\\)\n",
      "2. Multiply the result by 5: \\(60 \\times 5 = 300\\)\n",
      "3. Divide the result by 2: \\(300 \\div 2 = 150.0\\)\n",
      "\n",
      "So the final result is \\(150.0\\).\n",
      "================================\u001b[1m Human Message \u001b[0m=================================\n",
      "\n",
      "Add with 5\n",
      "==================================\u001b[1m Ai Message \u001b[0m==================================\n",
      "Tool Calls:\n",
      "  add (call_2M0N9CBUD3MKYbBzlehTxMFw)\n",
      " Call ID: call_2M0N9CBUD3MKYbBzlehTxMFw\n",
      "  Args:\n",
      "    a: 150\n",
      "    b: 5\n",
      "=================================\u001b[1m Tool Message \u001b[0m=================================\n",
      "Name: add\n",
      "\n",
      "155\n",
      "================================\u001b[1m Human Message \u001b[0m=================================\n",
      "\n",
      "Give me some fact based on that number\n",
      "==================================\u001b[1m Ai Message \u001b[0m==================================\n",
      "\n",
      "Sure! Here are some interesting facts about the number 155:\n",
      "\n",
      "1. **Mathematical Properties:**\n",
      "   - **Odd Number**: 155 is an odd number.\n",
      "   - **Composite Number**: It is a composite number with divisors 1, 5, 31, and 155.\n",
      "   - **Prime Factorization**: The prime factorization of 155 is \\(5 \\times 31\\).\n",
      "\n",
      "2. **In History:**\n",
      "   - The year 155 AD was a common year starting on Thursday of the Julian calendar. This year marked the consulship of Verus and Quadratus in the Roman Empire.\n",
      "\n",
      "3. **In Geography:**\n",
      "   - In certain areas, the number 155 may be used as part of phone numbers or emergency services (though not universally).\n",
      "\n",
      "4. **In Technology:**\n",
      "   - Some internet routers or systems might use 155 as part of an IP address for specific subnetworks.\n",
      "\n",
      "5. **Interesting Tidbit:**\n",
      "   - If you sum the digits of 155 (1 + 5 + 5), you get 11, which is a prime number.\n",
      "\n",
      "These are just a few interesting insights regarding the number 155!\n"
     ]
    }
   ],
   "source": [
    "for message in result[\"messages\"]:\n",
    "    message.pretty_print()"
   ]
  },
  {
   "cell_type": "markdown",
   "id": "f5f677ec",
   "metadata": {},
   "source": [
    "## Tes"
   ]
  }
 ],
 "metadata": {
  "kernelspec": {
   "display_name": "llms",
   "language": "python",
   "name": "python3"
  },
  "language_info": {
   "codemirror_mode": {
    "name": "ipython",
    "version": 3
   },
   "file_extension": ".py",
   "mimetype": "text/x-python",
   "name": "python",
   "nbconvert_exporter": "python",
   "pygments_lexer": "ipython3",
   "version": "3.11.13"
  }
 },
 "nbformat": 4,
 "nbformat_minor": 5
}
