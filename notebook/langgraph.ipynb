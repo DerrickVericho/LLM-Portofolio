{
 "cells": [
  {
   "cell_type": "markdown",
   "id": "9817a7d4",
   "metadata": {},
   "source": [
    "## Import Libraries"
   ]
  },
  {
   "cell_type": "markdown",
   "id": "45363c4f",
   "metadata": {},
   "source": [
    "Code reference from langchain academy course"
   ]
  },
  {
   "cell_type": "code",
   "execution_count": 2,
   "id": "24971ccd",
   "metadata": {},
   "outputs": [
    {
     "data": {
      "text/plain": [
       "True"
      ]
     },
     "execution_count": 2,
     "metadata": {},
     "output_type": "execute_result"
    }
   ],
   "source": [
    "\n",
    "from typing_extensions import TypedDict\n",
    "from typing import Literal, Annotated\n",
    "\n",
    "from langchain_core.messages import AIMessage, HumanMessage, SystemMessage, RemoveMessage\n",
    "from langchain_core.pydantic_v1 import BaseModel, validator, ValidationError\n",
    "from langchain_openai import ChatOpenAI\n",
    "from langgraph.graph import StateGraph, START, END, MessagesState\n",
    "from langgraph.graph.message import add_messages\n",
    "from langgraph.checkpoint.memory import MemorySaver\n",
    "from langgraph.prebuilt import ToolNode, tools_condition\n",
    "from langgraph_sdk import get_client\n",
    "\n",
    "\n",
    "import random\n",
    "from operator import add\n",
    "from dataclasses import dataclass\n",
    "from IPython.display import display, Image\n",
    "from dotenv import load_dotenv\n",
    "\n",
    "load_dotenv(override=True)"
   ]
  },
  {
   "cell_type": "markdown",
   "id": "66bacc40",
   "metadata": {},
   "source": [
    "# Intro"
   ]
  },
  {
   "cell_type": "markdown",
   "id": "f69492ae",
   "metadata": {},
   "source": [
    "## Simple Graph"
   ]
  },
  {
   "cell_type": "markdown",
   "id": "9acda7d4",
   "metadata": {},
   "source": [
    "### State"
   ]
  },
  {
   "cell_type": "markdown",
   "id": "b9946745",
   "metadata": {},
   "source": [
    "State are structured data flowing between edges\n",
    "Nodes are function that process and change state"
   ]
  },
  {
   "cell_type": "code",
   "execution_count": 8,
   "id": "f8c4233f",
   "metadata": {},
   "outputs": [],
   "source": [
    "class State(TypedDict):\n",
    "    graph_state: str"
   ]
  },
  {
   "cell_type": "code",
   "execution_count": 4,
   "id": "3f5f209f",
   "metadata": {},
   "outputs": [],
   "source": [
    "def node1(state: State) -> str:\n",
    "    print(\"=== Node 1 ===\")\n",
    "    return {\"graph_state\": state['graph_state'] + \" I invest in\"}\n",
    "\n",
    "def node2(state: State) -> str:\n",
    "    print(\"=== Node 2 ===\")\n",
    "    return {\"graph_state\": state['graph_state'] + \" Stocks\"}\n",
    "\n",
    "def node3(state: State) -> str:\n",
    "    print(\"=== Node 3 ===\")\n",
    "    return {\"graph_state\": state['graph_state'] + \" Crypto\"}"
   ]
  },
  {
   "cell_type": "markdown",
   "id": "ee75ddd5",
   "metadata": {},
   "source": [
    "### Edge"
   ]
  },
  {
   "cell_type": "markdown",
   "id": "1715e56f",
   "metadata": {},
   "source": [
    "Connecting state"
   ]
  },
  {
   "cell_type": "code",
   "execution_count": 5,
   "id": "374488bb",
   "metadata": {},
   "outputs": [],
   "source": [
    "# Conditional edge\n",
    "\n",
    "def decide_investment(state: State) -> Literal[\"node2\", \"node3\"]:\n",
    "    print(\"=== Decision Node ===\")\n",
    "    \n",
    "    input = state['graph_state']\n",
    "    \n",
    "    if random.random() < 0.5:\n",
    "        return \"node2\"\n",
    "    else:\n",
    "        return \"node3\""
   ]
  },
  {
   "cell_type": "markdown",
   "id": "67e4c0d2",
   "metadata": {},
   "source": [
    "### Graph"
   ]
  },
  {
   "cell_type": "code",
   "execution_count": 6,
   "id": "91e23a7c",
   "metadata": {},
   "outputs": [
    {
     "data": {
      "image/png": "[encoded data removed]",
      "text/plain": [
       "<IPython.core.display.Image object>"
      ]
     },
     "metadata": {},
     "output_type": "display_data"
    }
   ],
   "source": [
    "# Define the graph\n",
    "builder = StateGraph(State)\n",
    "builder.add_node(\"node1\", node1)\n",
    "builder.add_node(\"node2\", node2)\n",
    "builder.add_node(\"node3\", node3)\n",
    "\n",
    "# Set entrypoint\n",
    "# builder.set_entry_point(\"node1\")\n",
    "\n",
    "# Logic\n",
    "builder.add_edge(START, \"node1\")\n",
    "builder.add_conditional_edges(\"node1\", decide_investment)\n",
    "builder.add_edge(\"node2\", END)\n",
    "builder.add_edge(\"node3\", END)\n",
    "\n",
    "graph = builder.compile()\n",
    "display(Image(graph.get_graph().draw_mermaid_png()))"
   ]
  },
  {
   "cell_type": "code",
   "execution_count": 7,
   "id": "e0833615",
   "metadata": {},
   "outputs": [
    {
     "name": "stdout",
     "output_type": "stream",
     "text": [
      "=== Node 1 ===\n",
      "=== Decision Node ===\n",
      "=== Node 3 ===\n"
     ]
    },
    {
     "data": {
      "text/plain": [
       "{'graph_state': 'Hello,  I invest in Crypto'}"
      ]
     },
     "execution_count": 7,
     "metadata": {},
     "output_type": "execute_result"
    }
   ],
   "source": [
    "graph.invoke({\"graph_state\": \"Hello, \"})"
   ]
  },
  {
   "cell_type": "markdown",
   "id": "b8a1cebd",
   "metadata": {},
   "source": [
    "## Chain"
   ]
  },
  {
   "cell_type": "markdown",
   "id": "e1abac33",
   "metadata": {},
   "source": [
    "### Messages"
   ]
  },
  {
   "cell_type": "code",
   "execution_count": 2,
   "id": "70b250e3",
   "metadata": {},
   "outputs": [
    {
     "name": "stdout",
     "output_type": "stream",
     "text": [
      "==================================\u001b[1m Ai Message \u001b[0m==================================\n",
      "Name: Model\n",
      "\n",
      "Do you invest in Stock Market?\n",
      "================================\u001b[1m Human Message \u001b[0m=================================\n",
      "Name: Human\n",
      "\n",
      "Yes, that's right\n",
      "==================================\u001b[1m Ai Message \u001b[0m==================================\n",
      "Name: Model\n",
      "\n",
      "Nice, what would you like to learn\n",
      "================================\u001b[1m Human Message \u001b[0m=================================\n",
      "Name: Human\n",
      "\n",
      "I would like to learn about financial statement\n"
     ]
    }
   ],
   "source": [
    "messages = [\n",
    "    AIMessage(content=\"Do you invest in Stock Market?\", name=\"Model\"),\n",
    "    HumanMessage(content=\"Yes, that's right\", name=\"Human\"),\n",
    "    AIMessage(content=\"Nice, what would you like to learn\", name=\"Model\"),\n",
    "    HumanMessage(content=\"I would like to learn about financial statement\", name=\"Human\"),   \n",
    "]\n",
    "\n",
    "for m in messages:\n",
    "    m.pretty_print()"
   ]
  },
  {
   "cell_type": "markdown",
   "id": "d2f21328",
   "metadata": {},
   "source": [
    "### Chat Models"
   ]
  },
  {
   "cell_type": "code",
   "execution_count": 3,
   "id": "783c5c01",
   "metadata": {},
   "outputs": [
    {
     "data": {
      "text/plain": [
       "langchain_core.messages.ai.AIMessage"
      ]
     },
     "execution_count": 3,
     "metadata": {},
     "output_type": "execute_result"
    }
   ],
   "source": [
    "llm = ChatOpenAI(model=\"gpt-4o-mini\")\n",
    "result = llm.invoke(messages)\n",
    "type(result)"
   ]
  },
  {
   "cell_type": "code",
   "execution_count": 4,
   "id": "6b4fc41b",
   "metadata": {},
   "outputs": [
    {
     "name": "stdout",
     "output_type": "stream",
     "text": [
      "Financial statements are crucial for understanding a company's financial health and making informed investment decisions. Here are the three primary financial statements you should be familiar with:\n",
      "\n",
      "1. **Income Statement**: \n",
      "   - Also known as the profit and loss statement, it summarizes a company's revenues and expenses over a specific period, usually a quarter or a year.\n",
      "   - Key components:\n",
      "     - **Revenue**: The total income generated from sales of goods or services.\n",
      "     - **Cost of Goods Sold (COGS)**: The direct costs attributable to the production of the goods sold by the company.\n",
      "     - **Gross Profit**: Revenue minus COGS.\n",
      "     - **Operating Expenses**: Costs required to run the business (such as selling, general, and administrative expenses).\n",
      "     - **Net Income**: The profit after all expenses, taxes, and costs have been deducted from total revenue.\n",
      "\n",
      "2. **Balance Sheet**: \n",
      "   - A snapshot of a company's financial position at a specific point in time, detailing assets, liabilities, and equity.\n",
      "   - Key components:\n",
      "     - **Assets**: Resources owned by the company, categorized as current (cash, inventory) and non-current (property, equipment).\n",
      "     - **Liabilities**: Obligations the company owes to outside parties, also categorized as current (short-term debt) and long-term (bonds payable).\n",
      "     - **Equity**: The residual interest in the assets of the company after deducting liabilities, representing ownership (common stock, retained earnings).\n",
      "\n",
      "3. **Cash Flow Statement**: \n",
      "   - This statement shows how cash moves in and out of the company over a certain period and is divided into three sections: operating, investing, and financing activities.\n",
      "   - Key components:\n",
      "     - **Operating Activities**: Cash flows from the core business operations, including receipts from sales and payments for expenses.\n",
      "     - **Investing Activities**: Cash flows from buying or selling physical or financial assets, like purchasing equipment or investments.\n",
      "     - **Financing Activities**: Cash flows related to borrowing or repaying debt, and issuing or buying back stock.\n",
      "\n",
      "**Understanding Financial Ratios**: \n",
      "\n",
      "Once you have a grip on the financial statements, analyzing key ratios can give you insights into the company's performance:\n",
      "- **Profitability Ratios** (e.g., return on equity, net profit margin)\n",
      "- **Liquidity Ratios** (e.g., current ratio, quick ratio)\n",
      "- **Leverage Ratios** (e.g., debt-to-equity ratio)\n",
      "- **Efficiency Ratios** (e.g., inventory turnover, accounts receivable turnover)\n",
      "\n",
      "Would you like to explore any particular aspect of financial statements or ratios further?\n"
     ]
    }
   ],
   "source": [
    "print(result.content)"
   ]
  },
  {
   "cell_type": "code",
   "execution_count": 5,
   "id": "6275b080",
   "metadata": {},
   "outputs": [
    {
     "data": {
      "text/plain": [
       "{'token_usage': {'completion_tokens': 541,\n",
       "  'prompt_tokens': 54,\n",
       "  'total_tokens': 595,\n",
       "  'completion_tokens_details': {'accepted_prediction_tokens': 0,\n",
       "   'audio_tokens': 0,\n",
       "   'reasoning_tokens': 0,\n",
       "   'rejected_prediction_tokens': 0},\n",
       "  'prompt_tokens_details': {'audio_tokens': 0, 'cached_tokens': 0}},\n",
       " 'model_name': 'gpt-4o-mini-2024-07-18',\n",
       " 'system_fingerprint': 'fp_51db84afab',\n",
       " 'id': 'chatcmpl-C8ILNZYubVGo9zLQTmvZHVQ3NkHBf',\n",
       " 'service_tier': 'default',\n",
       " 'finish_reason': 'stop',\n",
       " 'logprobs': None}"
      ]
     },
     "execution_count": 5,
     "metadata": {},
     "output_type": "execute_result"
    }
   ],
   "source": [
    "result.response_metadata"
   ]
  },
  {
   "cell_type": "markdown",
   "id": "cbd73749",
   "metadata": {},
   "source": [
    "### Tools"
   ]
  },
  {
   "cell_type": "code",
   "execution_count": 6,
   "id": "63de5fa3",
   "metadata": {},
   "outputs": [],
   "source": [
    "# Simple tool function\n",
    "def multiply(a: int, b: int) -> int:\n",
    "    return a * b\n",
    "\n",
    "llm_tool = llm.bind_tools([multiply])"
   ]
  },
  {
   "cell_type": "code",
   "execution_count": 7,
   "id": "6ea47e68",
   "metadata": {},
   "outputs": [],
   "source": [
    "tool_call = llm_tool.invoke([HumanMessage(content=\"What is 50 x 12?\")])"
   ]
  },
  {
   "cell_type": "code",
   "execution_count": 8,
   "id": "a25578fe",
   "metadata": {},
   "outputs": [
    {
     "data": {
      "text/plain": [
       "[{'id': 'call_OfUsCwhME1AfcE4qfXgDAZXK',\n",
       "  'function': {'arguments': '{\"a\":50,\"b\":12}', 'name': 'multiply'},\n",
       "  'type': 'function'}]"
      ]
     },
     "execution_count": 8,
     "metadata": {},
     "output_type": "execute_result"
    }
   ],
   "source": [
    "tool_call.additional_kwargs['tool_calls']"
   ]
  },
  {
   "cell_type": "code",
   "execution_count": 9,
   "id": "2e98a068",
   "metadata": {},
   "outputs": [
    {
     "data": {
      "text/plain": [
       "[{'name': 'multiply',\n",
       "  'args': {'a': 50, 'b': 12},\n",
       "  'id': 'call_OfUsCwhME1AfcE4qfXgDAZXK',\n",
       "  'type': 'tool_call'}]"
      ]
     },
     "execution_count": 9,
     "metadata": {},
     "output_type": "execute_result"
    }
   ],
   "source": [
    "tool_call.tool_calls"
   ]
  },
  {
   "cell_type": "markdown",
   "id": "a589188d",
   "metadata": {},
   "source": [
    "### MessagesState + MemorySaver checkpoint"
   ]
  },
  {
   "cell_type": "code",
   "execution_count": null,
   "id": "73f8347c",
   "metadata": {},
   "outputs": [
    {
     "data": {
      "text/plain": [
       "[AIMessage(content='Hello! How can I assist you?', additional_kwargs={}, response_metadata={}, name='Model', id='e278be8e-e4a8-48a5-bc93-48e12712f88d'),\n",
       " HumanMessage(content=\"I'm looking for information on marine biology.\", additional_kwargs={}, response_metadata={}, name='Lance', id='8c3d28f0-73e1-402b-aff1-71dd2b38242e'),\n",
       " AIMessage(content='Sure, I can help with that. What specifically are you interested in?', additional_kwargs={}, response_metadata={}, name='Model', id='6882c5b8-e92a-4158-8039-1c48ec52d96c')]"
      ]
     },
     "execution_count": 10,
     "metadata": {},
     "output_type": "execute_result"
    }
   ],
   "source": [
    "# Example add_messages with langgraph.graph.messages\n",
    "initial_messages = [AIMessage(content=\"Hello! How can I assist you?\", name=\"Model\"),\n",
    "                    HumanMessage(content=\"I'm looking for information on marine biology.\", name=\"Lance\")]\n",
    "\n",
    "# New message to add\n",
    "new_message = AIMessage(content=\"Sure, I can help with that. What specifically are you interested in?\", name=\"Model\")\n",
    "\n",
    "# Test\n",
    "add_messages(initial_messages , new_message)"
   ]
  },
  {
   "cell_type": "code",
   "execution_count": 12,
   "id": "ddc5ecad",
   "metadata": {},
   "outputs": [],
   "source": [
    "class MessageState(MessagesState):\n",
    "    pass"
   ]
  },
  {
   "cell_type": "code",
   "execution_count": 30,
   "id": "1ed008b0",
   "metadata": {},
   "outputs": [
    {
     "data": {
      "image/png": "[encoded data removed]",
      "text/plain": [
       "<IPython.core.display.Image object>"
      ]
     },
     "metadata": {},
     "output_type": "display_data"
    }
   ],
   "source": [
    "memory = MemorySaver()\n",
    "\n",
    "def tooling_llm(state: MessageState):\n",
    "    return {\"messages\": [llm_tool.invoke(state[\"messages\"])]}\n",
    "\n",
    "builder = StateGraph(MessageState)\n",
    "builder.add_node(\"llm_tool\", tooling_llm)\n",
    "builder.add_edge(START, \"llm_tool\")\n",
    "builder.add_edge(\"llm_tool\", END)\n",
    "\n",
    "graph = builder.compile(checkpointer=memory)\n",
    "display(Image(graph.get_graph().draw_mermaid_png()))"
   ]
  },
  {
   "cell_type": "code",
   "execution_count": 31,
   "id": "37fe03f3",
   "metadata": {},
   "outputs": [],
   "source": [
    "config = {\"configurable\": {\"thread_id\": \"BangDer\"}}"
   ]
  },
  {
   "cell_type": "code",
   "execution_count": 32,
   "id": "24233a4a",
   "metadata": {},
   "outputs": [],
   "source": [
    "message = graph.invoke({\"messages\": [HumanMessage(content=\"Hello\")]}, config=config)"
   ]
  },
  {
   "cell_type": "code",
   "execution_count": 33,
   "id": "fc162180",
   "metadata": {},
   "outputs": [
    {
     "name": "stdout",
     "output_type": "stream",
     "text": [
      "Hello\n",
      "Hello! How can I assist you today?\n"
     ]
    }
   ],
   "source": [
    "for m in message['messages']:\n",
    "    print(m.content)"
   ]
  },
  {
   "cell_type": "code",
   "execution_count": 34,
   "id": "e07743ac",
   "metadata": {},
   "outputs": [],
   "source": [
    "message = graph.invoke({\"messages\": [HumanMessage(content=\"What is Jakarta most visited mall\")]}, config=config)"
   ]
  },
  {
   "cell_type": "code",
   "execution_count": 35,
   "id": "1b6f286a",
   "metadata": {},
   "outputs": [
    {
     "name": "stdout",
     "output_type": "stream",
     "text": [
      "Hello\n",
      "Hello! How can I assist you today?\n",
      "What is Jakarta most visited mall\n",
      "The most visited mall in Jakarta is often considered to be \"Grand Indonesia.\" It is a large shopping complex that offers a wide range of shopping, dining, and entertainment options. Grand Indonesia is known for its upscale brands, diverse food choices, and vibrant atmosphere, making it a popular destination for both locals and tourists. Other notable malls in Jakarta include Plaza Indonesia and Mall Taman Anggrek.\n"
     ]
    }
   ],
   "source": [
    "for m in message['messages']:\n",
    "    print(m.content)"
   ]
  },
  {
   "cell_type": "code",
   "execution_count": 46,
   "id": "3284e4ea",
   "metadata": {},
   "outputs": [
    {
     "name": "stdout",
     "output_type": "stream",
     "text": [
      "Hello\n",
      "Hello! How can I assist you today?\n",
      "What is Jakarta most visited mall\n",
      "The most visited mall in Jakarta is often considered to be \"Grand Indonesia.\" It is a large shopping complex that offers a wide range of shopping, dining, and entertainment options. Grand Indonesia is known for its upscale brands, diverse food choices, and vibrant atmosphere, making it a popular destination for both locals and tourists. Other notable malls in Jakarta include Plaza Indonesia and Mall Taman Anggrek.\n"
     ]
    }
   ],
   "source": [
    "state = graph.get_state(config=config)\n",
    "for message in state.values['messages']:\n",
    "    print(message.content)"
   ]
  },
  {
   "cell_type": "markdown",
   "id": "589eb836",
   "metadata": {},
   "source": [
    "## Router"
   ]
  },
  {
   "cell_type": "code",
   "execution_count": 19,
   "id": "fae96972",
   "metadata": {},
   "outputs": [],
   "source": [
    "class MessageState(MessagesState):\n",
    "    pass\n",
    "\n",
    "def multiply(a: int, b: int) -> int:\n",
    "    \"\"\"Multiply a and b\"\"\"\n",
    "    return a * b\n",
    "\n",
    "llm = ChatOpenAI(model=\"gpt-4o-mini\")\n",
    "llm_tool = llm.bind_tools([multiply])"
   ]
  },
  {
   "cell_type": "code",
   "execution_count": 27,
   "id": "58b13cc0",
   "metadata": {},
   "outputs": [
    {
     "data": {
      "image/png": "[encoded data removed]",
      "text/plain": [
       "<IPython.core.display.Image object>"
      ]
     },
     "metadata": {},
     "output_type": "display_data"
    }
   ],
   "source": [
    "def tool_with_llm(state: MessageState):\n",
    "    return {\"messages\": [llm_tool.invoke(state[\"messages\"])]}\n",
    "\n",
    "memory = MemorySaver()\n",
    "builder = StateGraph(MessageState)\n",
    "builder.add_node(\"llm_tool\", tool_with_llm)\n",
    "builder.add_node(\"tools\", ToolNode([multiply]))\n",
    "\n",
    "builder.add_edge(START, \"llm_tool\")\n",
    "builder.add_conditional_edges(\"llm_tool\", tools_condition)\n",
    "builder.add_edge(\"tools\", END)\n",
    "\n",
    "graph = builder.compile(checkpointer=memory)\n",
    "display(Image(graph.get_graph().draw_mermaid_png()))"
   ]
  },
  {
   "cell_type": "code",
   "execution_count": 32,
   "id": "37adf08d",
   "metadata": {},
   "outputs": [],
   "source": [
    "config = {\"configurable\": {\"thread_id\": \"User2\"}}"
   ]
  },
  {
   "cell_type": "code",
   "execution_count": null,
   "id": "32252797",
   "metadata": {},
   "outputs": [],
   "source": [
    "messages = [HumanMessage(content=\"What is 50 x 12?\")]\n",
    "result = graph.invoke({\"messages\": messages}, config=config)"
   ]
  },
  {
   "cell_type": "code",
   "execution_count": 36,
   "id": "64f97ba5",
   "metadata": {},
   "outputs": [],
   "source": [
    "messages = [HumanMessage(content=\"Explain multiplier for 5 years kids\")]\n",
    "result = graph.invoke({\"messages\": messages}, config=config)"
   ]
  },
  {
   "cell_type": "code",
   "execution_count": null,
   "id": "27a038a9",
   "metadata": {},
   "outputs": [
    {
     "name": "stdout",
     "output_type": "stream",
     "text": [
      "What is 50 x 12?\n",
      "\n",
      "600\n",
      "Explain multiplier for 5 years kids\n",
      "A multiplier is like a magic number that helps us add the same number many times. \n",
      "\n",
      "Imagine you have 5 groups of 2 apples. Instead of counting each apple one by one, you can use a multiplier to make it faster. If you say \"2 apples\" and then \"5 groups,\" you can find out how many apples there are in total by multiplying:\n",
      "\n",
      "- So, 2 apples in each group × 5 groups = 10 apples.\n",
      "\n",
      "This way, multiplying helps us find big numbers quickly without counting everything one by one!\n"
     ]
    }
   ],
   "source": [
    "for m in result['messages']:\n",
    "    print(m.content) "
   ]
  },
  {
   "cell_type": "markdown",
   "id": "616f264d",
   "metadata": {},
   "source": [
    "## Agent"
   ]
  },
  {
   "cell_type": "code",
   "execution_count": 5,
   "id": "856cec12",
   "metadata": {},
   "outputs": [],
   "source": [
    "def multiply(a: int, b: int) -> int:\n",
    "    \"\"\"Multiply a and b.\n",
    "\n",
    "    Args:\n",
    "        a: first int\n",
    "        b: second int\n",
    "    \"\"\"\n",
    "    return a * b\n",
    "\n",
    "# This will be a tool\n",
    "def add(a: int, b: int) -> int:\n",
    "    \"\"\"Adds a and b.\n",
    "\n",
    "    Args:\n",
    "        a: first int\n",
    "        b: second int\n",
    "    \"\"\"\n",
    "    return a + b\n",
    "\n",
    "def divide(a: int, b: int) -> float:\n",
    "    \"\"\"Divide a and b.\n",
    "\n",
    "    Args:\n",
    "        a: first int\n",
    "        b: second int\n",
    "    \"\"\"\n",
    "    return a / b\n",
    "\n",
    "tools = [add, multiply, divide]\n",
    "llm = ChatOpenAI(model=\"gpt-4o\")\n",
    "llm_tools = llm.bind_tools(tools)"
   ]
  },
  {
   "cell_type": "code",
   "execution_count": 7,
   "id": "7b1d4ab8",
   "metadata": {},
   "outputs": [],
   "source": [
    "sys_prompt = SystemMessage(content=\"You are a helpful assistant tasked with writing performing arithmetic on a set of inputs.\")\n",
    "def assistant(state: MessagesState):\n",
    "    return {\"messages\": [llm_tools.invoke([sys_prompt] + state[\"messages\"])]}"
   ]
  },
  {
   "cell_type": "markdown",
   "id": "17ab148a",
   "metadata": {},
   "source": [
    "The main idea of agent is we can node back to assistant node to process next tool if needed"
   ]
  },
  {
   "cell_type": "code",
   "execution_count": 33,
   "id": "d3c55eb1",
   "metadata": {},
   "outputs": [
    {
     "data": {
      "image/png": "[encoded data removed]",
      "text/plain": [
       "<IPython.core.display.Image object>"
      ]
     },
     "metadata": {},
     "output_type": "display_data"
    }
   ],
   "source": [
    "memory = MemorySaver()\n",
    "\n",
    "builder = StateGraph(MessagesState)\n",
    "builder.add_node(\"calculator\", assistant)\n",
    "builder.add_node(\"tools\", ToolNode(tools))\n",
    "\n",
    "builder.add_edge(START, \"calculator\")\n",
    "builder.add_conditional_edges(\"calculator\", tools_condition)\n",
    "builder.add_edge(\"tools\", \"calculator\")\n",
    "graph = builder.compile(checkpointer=memory)\n",
    "display(Image(graph.get_graph().draw_mermaid_png()))"
   ]
  },
  {
   "cell_type": "code",
   "execution_count": 34,
   "id": "e550f792",
   "metadata": {},
   "outputs": [],
   "source": [
    "config = {\"configurable\": {\"thread_id\": \"User3\"}}\n",
    "messages = [HumanMessage(content=\"Add 10 and 50 then multiply with 5 then divide with 2\")]\n",
    "result = graph.invoke({\"messages\": messages}, config=config)"
   ]
  },
  {
   "cell_type": "code",
   "execution_count": 35,
   "id": "10057c53",
   "metadata": {},
   "outputs": [
    {
     "name": "stdout",
     "output_type": "stream",
     "text": [
      "================================\u001b[1m Human Message \u001b[0m=================================\n",
      "\n",
      "Add 10 and 50 then multiply with 5 then divide with 2\n",
      "==================================\u001b[1m Ai Message \u001b[0m==================================\n",
      "Tool Calls:\n",
      "  add (call_OqduzNisLVGplpHUbkQKiR99)\n",
      " Call ID: call_OqduzNisLVGplpHUbkQKiR99\n",
      "  Args:\n",
      "    a: 10\n",
      "    b: 50\n",
      "  multiply (call_6mqcYBm7rjb6sTt2ZoDkHnUm)\n",
      " Call ID: call_6mqcYBm7rjb6sTt2ZoDkHnUm\n",
      "  Args:\n",
      "    a: 60\n",
      "    b: 5\n",
      "  divide (call_3pKIzfrWwRgcx4SYejpPh4fV)\n",
      " Call ID: call_3pKIzfrWwRgcx4SYejpPh4fV\n",
      "  Args:\n",
      "    a: 300\n",
      "    b: 2\n",
      "=================================\u001b[1m Tool Message \u001b[0m=================================\n",
      "Name: add\n",
      "\n",
      "60\n",
      "=================================\u001b[1m Tool Message \u001b[0m=================================\n",
      "Name: multiply\n",
      "\n",
      "300\n",
      "=================================\u001b[1m Tool Message \u001b[0m=================================\n",
      "Name: divide\n",
      "\n",
      "150.0\n",
      "==================================\u001b[1m Ai Message \u001b[0m==================================\n",
      "\n",
      "Here's the step-by-step calculation:\n",
      "\n",
      "1. Add 10 and 50: \\(10 + 50 = 60\\)\n",
      "2. Multiply the result by 5: \\(60 \\times 5 = 300\\)\n",
      "3. Divide the result by 2: \\(300 \\div 2 = 150.0\\)\n",
      "\n",
      "So the final result is \\(150.0\\).\n"
     ]
    }
   ],
   "source": [
    "for message in result[\"messages\"]:\n",
    "    message.pretty_print()"
   ]
  },
  {
   "cell_type": "code",
   "execution_count": 37,
   "id": "8347ad04",
   "metadata": {},
   "outputs": [],
   "source": [
    "messages = [HumanMessage(content=\"Give me some fact based on that number\")]\n",
    "result = graph.invoke({\"messages\": messages}, config=config)"
   ]
  },
  {
   "cell_type": "code",
   "execution_count": 38,
   "id": "76011e20",
   "metadata": {},
   "outputs": [
    {
     "name": "stdout",
     "output_type": "stream",
     "text": [
      "================================\u001b[1m Human Message \u001b[0m=================================\n",
      "\n",
      "Add 10 and 50 then multiply with 5 then divide with 2\n",
      "==================================\u001b[1m Ai Message \u001b[0m==================================\n",
      "Tool Calls:\n",
      "  add (call_OqduzNisLVGplpHUbkQKiR99)\n",
      " Call ID: call_OqduzNisLVGplpHUbkQKiR99\n",
      "  Args:\n",
      "    a: 10\n",
      "    b: 50\n",
      "  multiply (call_6mqcYBm7rjb6sTt2ZoDkHnUm)\n",
      " Call ID: call_6mqcYBm7rjb6sTt2ZoDkHnUm\n",
      "  Args:\n",
      "    a: 60\n",
      "    b: 5\n",
      "  divide (call_3pKIzfrWwRgcx4SYejpPh4fV)\n",
      " Call ID: call_3pKIzfrWwRgcx4SYejpPh4fV\n",
      "  Args:\n",
      "    a: 300\n",
      "    b: 2\n",
      "=================================\u001b[1m Tool Message \u001b[0m=================================\n",
      "Name: add\n",
      "\n",
      "60\n",
      "=================================\u001b[1m Tool Message \u001b[0m=================================\n",
      "Name: multiply\n",
      "\n",
      "300\n",
      "=================================\u001b[1m Tool Message \u001b[0m=================================\n",
      "Name: divide\n",
      "\n",
      "150.0\n",
      "==================================\u001b[1m Ai Message \u001b[0m==================================\n",
      "\n",
      "Here's the step-by-step calculation:\n",
      "\n",
      "1. Add 10 and 50: \\(10 + 50 = 60\\)\n",
      "2. Multiply the result by 5: \\(60 \\times 5 = 300\\)\n",
      "3. Divide the result by 2: \\(300 \\div 2 = 150.0\\)\n",
      "\n",
      "So the final result is \\(150.0\\).\n",
      "================================\u001b[1m Human Message \u001b[0m=================================\n",
      "\n",
      "Add with 5\n",
      "==================================\u001b[1m Ai Message \u001b[0m==================================\n",
      "Tool Calls:\n",
      "  add (call_2M0N9CBUD3MKYbBzlehTxMFw)\n",
      " Call ID: call_2M0N9CBUD3MKYbBzlehTxMFw\n",
      "  Args:\n",
      "    a: 150\n",
      "    b: 5\n",
      "=================================\u001b[1m Tool Message \u001b[0m=================================\n",
      "Name: add\n",
      "\n",
      "155\n",
      "================================\u001b[1m Human Message \u001b[0m=================================\n",
      "\n",
      "Give me some fact based on that number\n",
      "==================================\u001b[1m Ai Message \u001b[0m==================================\n",
      "\n",
      "Sure! Here are some interesting facts about the number 155:\n",
      "\n",
      "1. **Mathematical Properties:**\n",
      "   - **Odd Number**: 155 is an odd number.\n",
      "   - **Composite Number**: It is a composite number with divisors 1, 5, 31, and 155.\n",
      "   - **Prime Factorization**: The prime factorization of 155 is \\(5 \\times 31\\).\n",
      "\n",
      "2. **In History:**\n",
      "   - The year 155 AD was a common year starting on Thursday of the Julian calendar. This year marked the consulship of Verus and Quadratus in the Roman Empire.\n",
      "\n",
      "3. **In Geography:**\n",
      "   - In certain areas, the number 155 may be used as part of phone numbers or emergency services (though not universally).\n",
      "\n",
      "4. **In Technology:**\n",
      "   - Some internet routers or systems might use 155 as part of an IP address for specific subnetworks.\n",
      "\n",
      "5. **Interesting Tidbit:**\n",
      "   - If you sum the digits of 155 (1 + 5 + 5), you get 11, which is a prime number.\n",
      "\n",
      "These are just a few interesting insights regarding the number 155!\n"
     ]
    }
   ],
   "source": [
    "for message in result[\"messages\"]:\n",
    "    message.pretty_print()"
   ]
  },
  {
   "cell_type": "markdown",
   "id": "f5f677ec",
   "metadata": {},
   "source": [
    "## Deployment"
   ]
  },
  {
   "cell_type": "code",
   "execution_count": 45,
   "id": "85636ad4",
   "metadata": {},
   "outputs": [
    {
     "data": {
      "text/plain": [
       "[{'assistant_id': 'fe096781-5601-53d2-b2f6-0d3403f7e9ca',\n",
       "  'graph_id': 'agent',\n",
       "  'config': {},\n",
       "  'context': {},\n",
       "  'metadata': {'created_by': 'system'},\n",
       "  'name': 'agent',\n",
       "  'created_at': '2025-08-26T09:51:25.429747+00:00',\n",
       "  'updated_at': '2025-08-26T09:51:25.429747+00:00',\n",
       "  'version': 1,\n",
       "  'description': None},\n",
       " {'assistant_id': '228f9934-0cdd-5383-92c8-ee8422522cc2',\n",
       "  'graph_id': 'router',\n",
       "  'config': {},\n",
       "  'context': {},\n",
       "  'metadata': {'created_by': 'system'},\n",
       "  'name': 'router',\n",
       "  'created_at': '2025-08-26T09:51:25.402920+00:00',\n",
       "  'updated_at': '2025-08-26T09:51:25.402920+00:00',\n",
       "  'version': 1,\n",
       "  'description': None},\n",
       " {'assistant_id': '28d99cab-ad6c-5342-aee5-400bd8dc9b8b',\n",
       "  'graph_id': 'simple_graph',\n",
       "  'config': {},\n",
       "  'context': {},\n",
       "  'metadata': {'created_by': 'system'},\n",
       "  'name': 'simple_graph',\n",
       "  'created_at': '2025-08-26T09:51:24.294212+00:00',\n",
       "  'updated_at': '2025-08-26T09:51:24.294212+00:00',\n",
       "  'version': 1,\n",
       "  'description': None}]"
      ]
     },
     "execution_count": 45,
     "metadata": {},
     "output_type": "execute_result"
    }
   ],
   "source": [
    "URL = \"http://127.0.0.1:2024\"\n",
    "client = get_client(url=URL)\n",
    "\n",
    "# Search all hosted graphs\n",
    "assistant = await client.assistants.search()\n",
    "assistant"
   ]
  },
  {
   "cell_type": "code",
   "execution_count": 48,
   "id": "3ef68b7e",
   "metadata": {},
   "outputs": [],
   "source": [
    "# We create a thread for tracking the state of our run\n",
    "thread = await client.threads.create()\n",
    "\n",
    "# Define the agent\n",
    "agent = assistant[0]"
   ]
  },
  {
   "cell_type": "code",
   "execution_count": 56,
   "id": "fcc43cd2",
   "metadata": {},
   "outputs": [
    {
     "name": "stdout",
     "output_type": "stream",
     "text": [
      "Add 5 and 50 then multiply by 3\n",
      "\n",
      "165\n",
      "The result of adding \\(5\\) and \\(50\\) is \\(55\\), and then multiplying that by \\(3\\) results in \\(165\\).\n"
     ]
    }
   ],
   "source": [
    "input = {\"messages\": [HumanMessage(content=\"Add 5 and 50 then multiply by 3\")]}\n",
    "\n",
    "# Stream\n",
    "async for chunk in client.runs.stream(\n",
    "        thread['thread_id'],\n",
    "        agent[\"assistant_id\"],\n",
    "        input=input,\n",
    "        stream_mode=\"values\",\n",
    "    ):\n",
    "    if chunk.data and chunk.event != \"metadata\":\n",
    "        print(chunk.data['messages'][-1]['content'])"
   ]
  },
  {
   "cell_type": "markdown",
   "id": "27c867c2",
   "metadata": {},
   "source": [
    "# State and Memory"
   ]
  },
  {
   "cell_type": "markdown",
   "id": "2f2b0c2e",
   "metadata": {},
   "source": [
    "## State Schema"
   ]
  },
  {
   "cell_type": "markdown",
   "id": "0eee8423",
   "metadata": {},
   "source": [
    "### Typed Dict"
   ]
  },
  {
   "cell_type": "code",
   "execution_count": 2,
   "id": "ae038a1a",
   "metadata": {},
   "outputs": [
    {
     "data": {
      "image/png": "[encoded data removed]",
      "text/plain": [
       "<IPython.core.display.Image object>"
      ]
     },
     "metadata": {},
     "output_type": "display_data"
    }
   ],
   "source": [
    "class TypedState(TypedDict):\n",
    "    name: str\n",
    "    asset: Literal[\"Stock\", \"Bonds\", \"Crypto\"]\n",
    "    \n",
    "def node1(state: TypedState):\n",
    "    print(\"===Node 1===\")\n",
    "    return {\"name\": state['name']}\n",
    "\n",
    "def node2(state: TypedState):\n",
    "    print(\"===Node 2===\")\n",
    "    return {\"asset\": \"Stock\"}\n",
    "\n",
    "def node3(state: TypedState):\n",
    "    print(\"===Node 2===\")\n",
    "    return {\"asset\": \"Bonds\"}\n",
    "\n",
    "def node4(state: TypedState):\n",
    "    print(\"===Node 3===\")\n",
    "    return {\"asset\": \"Crypto\"}\n",
    "\n",
    "\n",
    "def decide_asset(state: TypedState) -> Literal[\"node2\", \"node3\", \"node4\"]:\n",
    "    prob = random.random()\n",
    "    \n",
    "    if prob < 0.33:\n",
    "        return \"node2\"\n",
    "    \n",
    "    if prob < 0.67:\n",
    "        return \"node3\"\n",
    "    \n",
    "    return \"node4\"\n",
    "\n",
    "builder = StateGraph(TypedState)\n",
    "builder.add_node(\"node1\", node1)\n",
    "builder.add_node(\"node2\", node2)\n",
    "builder.add_node(\"node3\", node3)\n",
    "builder.add_node(\"node4\", node4)\n",
    "\n",
    "builder.add_edge(START, \"node1\")\n",
    "builder.add_conditional_edges(\"node1\", decide_asset)\n",
    "builder.add_edge(\"node2\", END)\n",
    "builder.add_edge(\"node3\", END)\n",
    "builder.add_edge(\"node4\", END)\n",
    "\n",
    "graph = builder.compile()\n",
    "display(Image(graph.get_graph().draw_mermaid_png()))"
   ]
  },
  {
   "cell_type": "code",
   "execution_count": 3,
   "id": "4531297c",
   "metadata": {},
   "outputs": [
    {
     "name": "stdout",
     "output_type": "stream",
     "text": [
      "===Node 1===\n",
      "===Node 2===\n"
     ]
    },
    {
     "data": {
      "text/plain": [
       "{'name': 'Bangder', 'asset': 'Stock'}"
      ]
     },
     "execution_count": 3,
     "metadata": {},
     "output_type": "execute_result"
    }
   ],
   "source": [
    "graph.invoke({\"name\": \"Bangder\"})"
   ]
  },
  {
   "cell_type": "markdown",
   "id": "500b7d63",
   "metadata": {},
   "source": [
    "### Dataclass"
   ]
  },
  {
   "cell_type": "code",
   "execution_count": 4,
   "id": "0b6dbc62",
   "metadata": {},
   "outputs": [
    {
     "data": {
      "image/png": "[encoded data removed]",
      "text/plain": [
       "<IPython.core.display.Image object>"
      ]
     },
     "metadata": {},
     "output_type": "display_data"
    }
   ],
   "source": [
    "@dataclass\n",
    "class ClassState:\n",
    "    name: str\n",
    "    asset: Literal[\"Stock\", \"Bonds\", \"Crypto\"] = \"Stock\"\n",
    "\n",
    "def node1(state: ClassState):\n",
    "    print(\"===Node 1===\")\n",
    "    return {\"name\": state.name}\n",
    "\n",
    "def node2(state: ClassState):\n",
    "    print(\"===Node 2===\")\n",
    "    return {\"asset\": \"Stock\"}\n",
    "\n",
    "def node3(state: ClassState):\n",
    "    print(\"===Node 2===\")\n",
    "    return {\"asset\": \"Bonds\"}\n",
    "\n",
    "def node4(state: ClassState):\n",
    "    print(\"===Node 3===\")\n",
    "    return {\"asset\": \"Crypto\"}\n",
    "\n",
    "\n",
    "def decide_asset(state: ClassState) -> Literal[\"node2\", \"node3\", \"node4\"]:\n",
    "    prob = random.random()\n",
    "    \n",
    "    if prob < 0.33:\n",
    "        return \"node2\"\n",
    "    \n",
    "    if prob < 0.67:\n",
    "        return \"node3\"\n",
    "    \n",
    "    return \"node4\"\n",
    "\n",
    "builder = StateGraph(ClassState)\n",
    "builder.add_node(\"node1\", node1)\n",
    "builder.add_node(\"node2\", node2)\n",
    "builder.add_node(\"node3\", node3)\n",
    "builder.add_node(\"node4\", node4)\n",
    "\n",
    "builder.add_edge(START, \"node1\")\n",
    "builder.add_conditional_edges(\"node1\", decide_asset)\n",
    "builder.add_edge(\"node2\", END)\n",
    "builder.add_edge(\"node3\", END)\n",
    "builder.add_edge(\"node4\", END)\n",
    "\n",
    "graph = builder.compile()\n",
    "display(Image(graph.get_graph().draw_mermaid_png()))"
   ]
  },
  {
   "cell_type": "code",
   "execution_count": 5,
   "id": "a69cc8c8",
   "metadata": {},
   "outputs": [
    {
     "name": "stdout",
     "output_type": "stream",
     "text": [
      "===Node 1===\n",
      "===Node 2===\n"
     ]
    },
    {
     "data": {
      "text/plain": [
       "{'name': 'Bangder', 'asset': 'Stock'}"
      ]
     },
     "execution_count": 5,
     "metadata": {},
     "output_type": "execute_result"
    }
   ],
   "source": [
    "graph.invoke({\"name\": \"Bangder\", \"asset\": \"Any\"})"
   ]
  },
  {
   "cell_type": "markdown",
   "id": "6a196faf",
   "metadata": {},
   "source": [
    "Dataclass provide type hint but they dont enforce type"
   ]
  },
  {
   "cell_type": "markdown",
   "id": "fe51cfa8",
   "metadata": {},
   "source": [
    "### Pydantic"
   ]
  },
  {
   "cell_type": "code",
   "execution_count": 6,
   "id": "5f32ea2f",
   "metadata": {},
   "outputs": [
    {
     "name": "stdout",
     "output_type": "stream",
     "text": [
      "Error:  1 validation error for PydanticState\n",
      "asset\n",
      "  unexpected value; permitted: 'Stock', 'Bonds', 'Crypto' (type=value_error.const; given=Any; permitted=('Stock', 'Bonds', 'Crypto'))\n"
     ]
    }
   ],
   "source": [
    "class PydanticState(BaseModel):\n",
    "    name: str\n",
    "    asset: Literal[\"Stock\", \"Bonds\", \"Crypto\"] = \"Stock\"\n",
    "    \n",
    "    @validator(\"asset\")\n",
    "    def validate_asset(cls, val):\n",
    "       if val not in [\"Stock\", \"Bonds\", \"Crypto\"]:\n",
    "           raise ValueError(\"Asset must be Stock, Bonds, or Crypto\") \n",
    "       return val\n",
    "   \n",
    "try:\n",
    "    state = PydanticState(name=\"Bangder\", asset=\"Any\")\n",
    "except Exception as e:\n",
    "    print(\"Error: \",e)"
   ]
  },
  {
   "cell_type": "code",
   "execution_count": 7,
   "id": "198c8d6f",
   "metadata": {},
   "outputs": [
    {
     "data": {
      "image/png": "[encoded data removed]",
      "text/plain": [
       "<IPython.core.display.Image object>"
      ]
     },
     "metadata": {},
     "output_type": "display_data"
    }
   ],
   "source": [
    "def node1(state: PydanticState):\n",
    "    print(\"===Node 1===\")\n",
    "    return {\"name\": state.name}\n",
    "\n",
    "def node2(state: PydanticState):\n",
    "    print(\"===Node 2===\")\n",
    "    return {\"asset\": \"Stock\"}\n",
    "\n",
    "def node3(state: PydanticState):\n",
    "    print(\"===Node 2===\")\n",
    "    return {\"asset\": \"Bonds\"}\n",
    "\n",
    "def node4(state: PydanticState):\n",
    "    print(\"===Node 3===\")\n",
    "    return {\"asset\": \"Crypto\"}\n",
    "\n",
    "\n",
    "def decide_asset(state: PydanticState) -> Literal[\"node2\", \"node3\", \"node4\"]:\n",
    "    prob = random.random()\n",
    "    \n",
    "    if prob < 0.33:\n",
    "        return \"node2\"\n",
    "    \n",
    "    if prob < 0.67:\n",
    "        return \"node3\"\n",
    "    \n",
    "    return \"node4\"\n",
    "\n",
    "builder = StateGraph(PydanticState)\n",
    "builder.add_node(\"node1\", node1)\n",
    "builder.add_node(\"node2\", node2)\n",
    "builder.add_node(\"node3\", node3)\n",
    "builder.add_node(\"node4\", node4)\n",
    "\n",
    "builder.add_edge(START, \"node1\")\n",
    "builder.add_conditional_edges(\"node1\", decide_asset)\n",
    "builder.add_edge(\"node2\", END)\n",
    "builder.add_edge(\"node3\", END)\n",
    "builder.add_edge(\"node4\", END)\n",
    "\n",
    "graph = builder.compile()\n",
    "display(Image(graph.get_graph().draw_mermaid_png()))"
   ]
  },
  {
   "cell_type": "code",
   "execution_count": 8,
   "id": "936b3337",
   "metadata": {},
   "outputs": [
    {
     "name": "stdout",
     "output_type": "stream",
     "text": [
      "===Node 1===\n",
      "===Node 2===\n"
     ]
    },
    {
     "data": {
      "text/plain": [
       "{'name': 'Bangder', 'asset': 'Bonds'}"
      ]
     },
     "execution_count": 8,
     "metadata": {},
     "output_type": "execute_result"
    }
   ],
   "source": [
    "graph.invoke({\"name\": \"Bangder\", \"asset\": \"Stock\"})"
   ]
  },
  {
   "cell_type": "markdown",
   "id": "f87fa320",
   "metadata": {},
   "source": [
    "## State Reducer"
   ]
  },
  {
   "cell_type": "markdown",
   "id": "7a0a8f2c",
   "metadata": {},
   "source": [
    "When a node branch into > 1 node and run in parallel, which means they run in the same step of graph, they both attempt to overwrite the state on the same step, this is why state reducer came"
   ]
  },
  {
   "cell_type": "markdown",
   "id": "d5cf9b73",
   "metadata": {},
   "source": [
    "### Reducer"
   ]
  },
  {
   "cell_type": "code",
   "execution_count": 9,
   "id": "6fb190bc",
   "metadata": {},
   "outputs": [
    {
     "data": {
      "image/png": "[encoded data removed]",
      "text/plain": [
       "<IPython.core.display.Image object>"
      ]
     },
     "metadata": {},
     "output_type": "display_data"
    }
   ],
   "source": [
    "# Example Branching graph\n",
    "class ReducerState(TypedDict):\n",
    "    counter: Annotated[list[int], add]\n",
    "    \n",
    "def node_1(state: ReducerState):\n",
    "    print(\"---Node 1---\")\n",
    "    return {\"counter\": [state['counter'][-1] + 1]}\n",
    "\n",
    "def node_2(state: ReducerState):\n",
    "    print(\"---Node 2---\")\n",
    "    return {\"counter\": [state['counter'][-1] + 2]}\n",
    "\n",
    "def node_3(state: ReducerState):\n",
    "    print(\"---Node 3---\")\n",
    "    return {\"counter\": [state['counter'][-1] + 3]}\n",
    "\n",
    "\n",
    "builder = StateGraph(ReducerState)\n",
    "builder.add_node(\"node_1\", node_1)\n",
    "builder.add_node(\"node_2\", node_2)\n",
    "builder.add_node(\"node_3\", node_3)\n",
    "\n",
    "builder.add_edge(START, \"node_1\")\n",
    "builder.add_edge(\"node_1\", \"node_2\")\n",
    "builder.add_edge(\"node_1\", \"node_3\")\n",
    "builder.add_edge(\"node_2\", END)\n",
    "builder.add_edge(\"node_3\", END)\n",
    "\n",
    "graph = builder.compile()\n",
    "display(Image(graph.get_graph().draw_mermaid_png()))"
   ]
  },
  {
   "cell_type": "code",
   "execution_count": 10,
   "id": "b61b2e38",
   "metadata": {},
   "outputs": [
    {
     "name": "stdout",
     "output_type": "stream",
     "text": [
      "---Node 1---\n",
      "---Node 2---\n",
      "---Node 3---\n"
     ]
    },
    {
     "data": {
      "text/plain": [
       "{'counter': [1, 2, 4, 5]}"
      ]
     },
     "execution_count": 10,
     "metadata": {},
     "output_type": "execute_result"
    }
   ],
   "source": [
    "graph.invoke({\"counter\": [1]})"
   ]
  },
  {
   "cell_type": "code",
   "execution_count": 11,
   "id": "2b46c28e",
   "metadata": {},
   "outputs": [
    {
     "name": "stdout",
     "output_type": "stream",
     "text": [
      "Error:  can only concatenate list (not \"NoneType\") to list\n"
     ]
    }
   ],
   "source": [
    "try:\n",
    "    graph.invoke({\"counter\": None})\n",
    "except Exception as e:\n",
    "    print(\"Error: \",e)"
   ]
  },
  {
   "cell_type": "markdown",
   "id": "4ac883b0",
   "metadata": {},
   "source": [
    "Sometimes we need to input None to the node but it leave with error, so we have to make custom reducer instead of using add"
   ]
  },
  {
   "cell_type": "markdown",
   "id": "562dfc5c",
   "metadata": {},
   "source": [
    "### Custom Reducer"
   ]
  },
  {
   "cell_type": "code",
   "execution_count": 16,
   "id": "196ee144",
   "metadata": {},
   "outputs": [],
   "source": [
    "def reduce_list(old_state: list | None, new_state: list | None) -> list:\n",
    "    \"\"\"Safely combine two lists, handling cases where either or both inputs might be None.\n",
    "\n",
    "    Args:\n",
    "        old_state (list | None): The first list to combine, or None.\n",
    "        new_state (list | None): The second list to combine, or None.\n",
    "\n",
    "    Returns:\n",
    "        list: A new list containing all elements from both input lists.\n",
    "               If an input is None, it's treated as an empty list.\n",
    "    \"\"\"\n",
    "    if not old_state:\n",
    "        old_state = []\n",
    "    if not new_state:\n",
    "        new_state = []\n",
    "    return old_state + new_state\n",
    "\n",
    "class DefaultState(TypedDict):\n",
    "    counter: Annotated[list[int], add]\n",
    "\n",
    "class CustomReducerState(TypedDict):\n",
    "    counter: Annotated[list[int], reduce_list]\n",
    "    messages: Annotated[list[str], reduce_list]"
   ]
  },
  {
   "cell_type": "code",
   "execution_count": 13,
   "id": "da4eb82c",
   "metadata": {},
   "outputs": [
    {
     "data": {
      "image/png": "[encoded data removed]",
      "text/plain": [
       "<IPython.core.display.Image object>"
      ]
     },
     "metadata": {},
     "output_type": "display_data"
    },
    {
     "name": "stdout",
     "output_type": "stream",
     "text": [
      "TypeError occurred: can only concatenate list (not \"NoneType\") to list\n"
     ]
    }
   ],
   "source": [
    "def node_1(state: DefaultState):\n",
    "    print(\"---Node 1---\")\n",
    "    return {\"counter\": [2]}\n",
    "\n",
    "# Build graph\n",
    "builder = StateGraph(DefaultState)\n",
    "builder.add_node(\"node_1\", node_1)\n",
    "\n",
    "# Logic\n",
    "builder.add_edge(START, \"node_1\")\n",
    "builder.add_edge(\"node_1\", END)\n",
    "\n",
    "# Add\n",
    "graph = builder.compile()\n",
    "\n",
    "# View\n",
    "display(Image(graph.get_graph().draw_mermaid_png()))\n",
    "\n",
    "try:\n",
    "    print(graph.invoke({\"counter\" : None}))\n",
    "except TypeError as e:\n",
    "    print(f\"TypeError occurred: {e}\")"
   ]
  },
  {
   "cell_type": "code",
   "execution_count": 22,
   "id": "2ff428db",
   "metadata": {},
   "outputs": [
    {
     "data": {
      "image/png": "[encoded data removed]",
      "text/plain": [
       "<IPython.core.display.Image object>"
      ]
     },
     "metadata": {},
     "output_type": "display_data"
    },
    {
     "name": "stdout",
     "output_type": "stream",
     "text": [
      "---Node 1---\n",
      "{'counter': [2], 'messages': ['Bro', 'hi']}\n"
     ]
    }
   ],
   "source": [
    "# Build graph\n",
    "def node_1(state: CustomReducerState):\n",
    "    print(\"---Node 1---\")\n",
    "    return {\"counter\": [2], \"messages\": [\"hi\"]}\n",
    "\n",
    "builder = StateGraph(CustomReducerState)\n",
    "builder.add_node(\"node_1\", node_1)\n",
    "\n",
    "# Logic\n",
    "builder.add_edge(START, \"node_1\")\n",
    "builder.add_edge(\"node_1\", END)\n",
    "\n",
    "# Add\n",
    "graph = builder.compile()\n",
    "\n",
    "# View\n",
    "display(Image(graph.get_graph().draw_mermaid_png()))\n",
    "\n",
    "try:\n",
    "    print(graph.invoke({\"counter\" : None, \"messages\": [\"Bro\"]}))\n",
    "except TypeError as e:\n",
    "    print(f\"TypeError occurred: {e}\")"
   ]
  },
  {
   "cell_type": "markdown",
   "id": "4427e6b1",
   "metadata": {},
   "source": [
    "### Messages"
   ]
  },
  {
   "cell_type": "code",
   "execution_count": null,
   "id": "8233a9f5",
   "metadata": {},
   "outputs": [],
   "source": [
    "# Both work the same things, add_messages works as reducer for messages\n",
    "class CustomMessagesState(TypedDict):\n",
    "    messages: Annotated[list[str], add_messages]\n",
    "    key_1: str\n",
    "    key_2: str\n",
    "    \n",
    "class ExtendedMessagesState(MessagesState):\n",
    "    key_1: str\n",
    "    key_2: str\n"
   ]
  },
  {
   "cell_type": "code",
   "execution_count": 24,
   "id": "ab23b770",
   "metadata": {},
   "outputs": [
    {
     "data": {
      "text/plain": [
       "[AIMessage(content='Hello! How can I assist you?', additional_kwargs={}, response_metadata={}, name='Model', id='2f3b1c40-f235-4cfd-bdd4-af2db7e16427'),\n",
       " HumanMessage(content=\"I'm looking for information on marine biology.\", additional_kwargs={}, response_metadata={}, name='Lance', id='5107b1bd-6334-4fc7-99c6-608bea39f6a2'),\n",
       " AIMessage(content='Sure, I can help with that. What specifically are you interested in?', additional_kwargs={}, response_metadata={}, name='Model', id='1c68186b-178f-4e65-84fb-791f2b2460a8')]"
      ]
     },
     "execution_count": 24,
     "metadata": {},
     "output_type": "execute_result"
    }
   ],
   "source": [
    "# add messages example\n",
    "initial_messages = [AIMessage(content=\"Hello! How can I assist you?\", name=\"Model\"),\n",
    "                    HumanMessage(content=\"I'm looking for information on US Stock Market.\", name=\"User\")]\n",
    "\n",
    "new_message = AIMessage(content=\"Sure, I can help with that. Which asset are you interested in?\", name=\"Model\")\n",
    "add_messages(initial_messages , new_message)"
   ]
  },
  {
   "cell_type": "code",
   "execution_count": 25,
   "id": "3e6069ff",
   "metadata": {},
   "outputs": [
    {
     "data": {
      "text/plain": [
       "[AIMessage(content='Hello! How can I assist you?', additional_kwargs={}, response_metadata={}, name='Model', id='1'),\n",
       " HumanMessage(content=\"I'm looking for information on Indo Stockk\", additional_kwargs={}, response_metadata={}, name='User', id='2')]"
      ]
     },
     "execution_count": 25,
     "metadata": {},
     "output_type": "execute_result"
    }
   ],
   "source": [
    "# We also can overwrite the message with ID\n",
    "initial_messages = [AIMessage(content=\"Hello! How can I assist you?\", name=\"Model\", id=\"1\"),\n",
    "                    HumanMessage(content=\"I'm looking for information on US Stock.\", name=\"User\", id=\"2\")]\n",
    "\n",
    "# New message to add\n",
    "new_message = HumanMessage(content=\"I'm looking for information on Indo Stockk\", name=\"User\", id=\"2\")\n",
    "\n",
    "# Test\n",
    "add_messages(initial_messages , new_message)"
   ]
  },
  {
   "cell_type": "code",
   "execution_count": null,
   "id": "7d3d815d",
   "metadata": {},
   "outputs": [
    {
     "name": "stdout",
     "output_type": "stream",
     "text": [
      "content='Do you invest in Stock Market?' additional_kwargs={} response_metadata={} name='Model' id='1'\n",
      "content=\"Yes, that's right\" additional_kwargs={} response_metadata={} name='Human' id='2'\n",
      "content='Nice, what would you like to learn' additional_kwargs={} response_metadata={} name='Model' id='3'\n",
      "content='I would like to learn about financial statement' additional_kwargs={} response_metadata={} name='Human' id='4'\n",
      "\n",
      "\n",
      "================================================================================================================================================================\n",
      "\n",
      "\n",
      "content='Nice, what would you like to learn' additional_kwargs={} response_metadata={} name='Model' id='3'\n",
      "content='I would like to learn about financial statement' additional_kwargs={} response_metadata={} name='Human' id='4'\n"
     ]
    }
   ],
   "source": [
    "messages = [\n",
    "    AIMessage(content=\"Do you invest in Stock Market?\", name=\"Model\", id=\"1\"),\n",
    "    HumanMessage(content=\"Yes, that's right\", name=\"Human\", id=\"2\"),\n",
    "    AIMessage(content=\"Nice, what would you like to learn\", name=\"Model\", id=\"3\"),\n",
    "    HumanMessage(content=\"I would like to learn about financial statement\", name=\"Human\", id=\"4\"),\n",
    "]\n",
    "\n",
    "# Delete 2 recent message\n",
    "delete_messages = [RemoveMessage(id = message.id) for message in messages[:-2]]\n",
    "\n",
    "for m in messages:\n",
    "    print(m)\n",
    "    \n",
    "print(\"\\n\")\n",
    "print(\"====\" * 40)\n",
    "print(\"\\n\")\n",
    "\n",
    "deleted_message = add_messages(messages, delete_messages)\n",
    "for d in deleted_message:\n",
    "    print(d)"
   ]
  },
  {
   "cell_type": "markdown",
   "id": "1a346a60",
   "metadata": {},
   "source": [
    "## Multiple Schemas"
   ]
  },
  {
   "cell_type": "markdown",
   "id": "865f97a7",
   "metadata": {},
   "source": [
    "**Private State & Input Output Schema**\n",
    "\n",
    "Somehow our data only accessible for some nodes (not for client side nor output node), think about internal nodes that pass information that isn't required in input / output nodes\n",
    "\n",
    "Sometimes we also want to use different schemas for input and output"
   ]
  },
  {
   "cell_type": "code",
   "execution_count": 5,
   "id": "838837f9",
   "metadata": {},
   "outputs": [
    {
     "data": {
      "image/png": "[encoded data removed]",
      "text/plain": [
       "<IPython.core.display.Image object>"
      ]
     },
     "metadata": {},
     "output_type": "display_data"
    }
   ],
   "source": [
    "# Private State\n",
    "\n",
    "class PublicState(TypedDict):\n",
    "    public_num: int\n",
    "    \n",
    "class PrivateState(TypedDict):\n",
    "    _private_num: int\n",
    "    \n",
    "def public_node(state: PublicState) -> PrivateState:\n",
    "    return {\"_private_num\": state[\"public_num\"] * 2}\n",
    "\n",
    "def private_node(state: PrivateState) -> PublicState:\n",
    "    return {\"public_num\": state[\"_private_num\"] + 1}\n",
    "\n",
    "builder = StateGraph(PublicState)\n",
    "builder.add_node(\"public_node\", public_node)\n",
    "builder.add_node(\"private_node\", private_node)\n",
    "\n",
    "builder.add_edge(START, \"public_node\")\n",
    "builder.add_edge(\"public_node\", \"private_node\")\n",
    "builder.add_edge(\"private_node\", END)\n",
    "\n",
    "graph = builder.compile()\n",
    "display(Image(graph.get_graph().draw_mermaid_png()))"
   ]
  },
  {
   "cell_type": "code",
   "execution_count": 4,
   "id": "38666423",
   "metadata": {},
   "outputs": [
    {
     "data": {
      "text/plain": [
       "{'public_num': 5}"
      ]
     },
     "execution_count": 4,
     "metadata": {},
     "output_type": "execute_result"
    }
   ],
   "source": [
    "graph.invoke({\"public_num\": 2})"
   ]
  },
  {
   "cell_type": "markdown",
   "id": "b03a2e80",
   "metadata": {},
   "source": [
    "Only public data expose outside graph, private num don't expose outsite graph unless we return it to public"
   ]
  },
  {
   "cell_type": "code",
   "execution_count": 8,
   "id": "de7abdf3",
   "metadata": {},
   "outputs": [
    {
     "data": {
      "image/png": "[encoded data removed]",
      "text/plain": [
       "<IPython.core.display.Image object>"
      ]
     },
     "metadata": {},
     "output_type": "display_data"
    }
   ],
   "source": [
    "class InputState(TypedDict):\n",
    "    question: str\n",
    "    \n",
    "class OutputState(TypedDict):\n",
    "    answer: str\n",
    "    \n",
    "class InternalState(TypedDict):\n",
    "    question: str\n",
    "    answer: str\n",
    "    notes: str\n",
    "    \n",
    "def thinking_node(state: InputState) -> InternalState:\n",
    "    return {\"question\": state[\"question\"], \"answer\": \"Hi, may i help you?\", \"notes\": \"... thinking\"}\n",
    "\n",
    "def output_node(state: InternalState) -> OutputState:\n",
    "    return {\"answer\": state[\"answer\"]}\n",
    "\n",
    "builder = StateGraph(InternalState, input_schema=InputState, output_schema=OutputState)\n",
    "builder.add_node(\"thinking_node\", thinking_node)\n",
    "builder.add_node(\"output_node\", output_node)\n",
    "\n",
    "builder.add_edge(START, \"thinking_node\")\n",
    "builder.add_edge(\"thinking_node\", \"output_node\")\n",
    "builder.add_edge(\"output_node\", END)\n",
    "\n",
    "graph = builder.compile()\n",
    "display(Image(graph.get_graph().draw_mermaid_png()))"
   ]
  },
  {
   "cell_type": "code",
   "execution_count": 9,
   "id": "9a2c1351",
   "metadata": {},
   "outputs": [
    {
     "data": {
      "text/plain": [
       "{'answer': 'Hi, may i help you?'}"
      ]
     },
     "execution_count": 9,
     "metadata": {},
     "output_type": "execute_result"
    }
   ],
   "source": [
    "graph.invoke({\"question\": \"Hi, how are you?\"})"
   ]
  },
  {
   "cell_type": "markdown",
   "id": "814283b8",
   "metadata": {},
   "source": [
    "Here we can customize input and output format and protect the internal state from being expose"
   ]
  },
  {
   "cell_type": "markdown",
   "id": "7ee00c4e",
   "metadata": {},
   "source": [
    "## Trim and Filter Messages"
   ]
  },
  {
   "cell_type": "code",
   "execution_count": null,
   "id": "32a13b51",
   "metadata": {},
   "outputs": [],
   "source": []
  },
  {
   "cell_type": "code",
   "execution_count": null,
   "id": "58b3136b",
   "metadata": {},
   "outputs": [],
   "source": []
  }
 ],
 "metadata": {
  "kernelspec": {
   "display_name": "llms",
   "language": "python",
   "name": "python3"
  },
  "language_info": {
   "codemirror_mode": {
    "name": "ipython",
    "version": 3
   },
   "file_extension": ".py",
   "mimetype": "text/x-python",
   "name": "python",
   "nbconvert_exporter": "python",
   "pygments_lexer": "ipython3",
   "version": "3.11.13"
  }
 },
 "nbformat": 4,
 "nbformat_minor": 5
}
